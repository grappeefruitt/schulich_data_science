{
 "cells": [
  {
   "cell_type": "code",
   "execution_count": 167,
   "metadata": {},
   "outputs": [],
   "source": [
    "import pandas as pd\n",
    "import numpy as np\n",
    "import matplotlib.pyplot as plt\n",
    "import seaborn as sns\n",
    "from sklearn.model_selection import train_test_split, cross_val_score, GridSearchCV, RandomizedSearchCV\n",
    "from sklearn.preprocessing import StandardScaler, OneHotEncoder\n",
    "from sklearn.compose import ColumnTransformer\n",
    "from sklearn.naive_bayes import GaussianNB\n",
    "from sklearn.neighbors import KNeighborsClassifier\n",
    "from sklearn.metrics import confusion_matrix, accuracy_score, precision_score, recall_score, f1_score, roc_curve, auc, precision_recall_curve\n",
    "from sklearn.pipeline import Pipeline\n",
    "from sklearn.linear_model import LogisticRegression"
   ]
  },
  {
   "cell_type": "code",
   "execution_count": 168,
   "metadata": {},
   "outputs": [],
   "source": [
    "df = pd.read_csv('/Users/youziya/OneDrive - York University/MBAN 6100 DATA SCIENCE I/Dataset/RAW_recipes.csv')"
   ]
  },
  {
   "cell_type": "code",
   "execution_count": 169,
   "metadata": {},
   "outputs": [
    {
     "name": "stdout",
     "output_type": "stream",
     "text": [
      "<class 'pandas.core.frame.DataFrame'>\n",
      "RangeIndex: 231637 entries, 0 to 231636\n",
      "Data columns (total 12 columns):\n",
      " #   Column          Non-Null Count   Dtype \n",
      "---  ------          --------------   ----- \n",
      " 0   name            231636 non-null  object\n",
      " 1   id              231637 non-null  int64 \n",
      " 2   minutes         231637 non-null  int64 \n",
      " 3   contributor_id  231637 non-null  int64 \n",
      " 4   submitted       231637 non-null  object\n",
      " 5   tags            231637 non-null  object\n",
      " 6   nutrition       231637 non-null  object\n",
      " 7   n_steps         231637 non-null  int64 \n",
      " 8   steps           231637 non-null  object\n",
      " 9   description     226658 non-null  object\n",
      " 10  ingredients     231637 non-null  object\n",
      " 11  n_ingredients   231637 non-null  int64 \n",
      "dtypes: int64(5), object(7)\n",
      "memory usage: 21.2+ MB\n"
     ]
    }
   ],
   "source": [
    "df.info()"
   ]
  },
  {
   "cell_type": "code",
   "execution_count": 170,
   "metadata": {},
   "outputs": [
    {
     "data": {
      "text/html": [
       "<div>\n",
       "<style scoped>\n",
       "    .dataframe tbody tr th:only-of-type {\n",
       "        vertical-align: middle;\n",
       "    }\n",
       "\n",
       "    .dataframe tbody tr th {\n",
       "        vertical-align: top;\n",
       "    }\n",
       "\n",
       "    .dataframe thead th {\n",
       "        text-align: right;\n",
       "    }\n",
       "</style>\n",
       "<table border=\"1\" class=\"dataframe\">\n",
       "  <thead>\n",
       "    <tr style=\"text-align: right;\">\n",
       "      <th></th>\n",
       "      <th>name</th>\n",
       "      <th>id</th>\n",
       "      <th>minutes</th>\n",
       "      <th>contributor_id</th>\n",
       "      <th>submitted</th>\n",
       "      <th>tags</th>\n",
       "      <th>nutrition</th>\n",
       "      <th>n_steps</th>\n",
       "      <th>steps</th>\n",
       "      <th>description</th>\n",
       "      <th>ingredients</th>\n",
       "      <th>n_ingredients</th>\n",
       "    </tr>\n",
       "  </thead>\n",
       "  <tbody>\n",
       "    <tr>\n",
       "      <th>count</th>\n",
       "      <td>231636</td>\n",
       "      <td>231637.000000</td>\n",
       "      <td>2.316370e+05</td>\n",
       "      <td>2.316370e+05</td>\n",
       "      <td>231637</td>\n",
       "      <td>231637</td>\n",
       "      <td>231637</td>\n",
       "      <td>231637.000000</td>\n",
       "      <td>231637</td>\n",
       "      <td>226658</td>\n",
       "      <td>231637</td>\n",
       "      <td>231637.000000</td>\n",
       "    </tr>\n",
       "    <tr>\n",
       "      <th>unique</th>\n",
       "      <td>230185</td>\n",
       "      <td>NaN</td>\n",
       "      <td>NaN</td>\n",
       "      <td>NaN</td>\n",
       "      <td>5090</td>\n",
       "      <td>209115</td>\n",
       "      <td>229318</td>\n",
       "      <td>NaN</td>\n",
       "      <td>231074</td>\n",
       "      <td>222668</td>\n",
       "      <td>230475</td>\n",
       "      <td>NaN</td>\n",
       "    </tr>\n",
       "    <tr>\n",
       "      <th>top</th>\n",
       "      <td>crock pot lemon garlic chicken</td>\n",
       "      <td>NaN</td>\n",
       "      <td>NaN</td>\n",
       "      <td>NaN</td>\n",
       "      <td>2000-03-06</td>\n",
       "      <td>['15-minutes-or-less', 'time-to-make', 'course...</td>\n",
       "      <td>[69.4, 0.0, 0.0, 0.0, 0.0, 0.0, 0.0]</td>\n",
       "      <td>NaN</td>\n",
       "      <td>['blend all ingredients until smooth']</td>\n",
       "      <td>yum</td>\n",
       "      <td>['eggs', 'water']</td>\n",
       "      <td>NaN</td>\n",
       "    </tr>\n",
       "    <tr>\n",
       "      <th>freq</th>\n",
       "      <td>3</td>\n",
       "      <td>NaN</td>\n",
       "      <td>NaN</td>\n",
       "      <td>NaN</td>\n",
       "      <td>470</td>\n",
       "      <td>397</td>\n",
       "      <td>36</td>\n",
       "      <td>NaN</td>\n",
       "      <td>20</td>\n",
       "      <td>153</td>\n",
       "      <td>10</td>\n",
       "      <td>NaN</td>\n",
       "    </tr>\n",
       "    <tr>\n",
       "      <th>mean</th>\n",
       "      <td>NaN</td>\n",
       "      <td>222014.708984</td>\n",
       "      <td>9.398546e+03</td>\n",
       "      <td>5.534885e+06</td>\n",
       "      <td>NaN</td>\n",
       "      <td>NaN</td>\n",
       "      <td>NaN</td>\n",
       "      <td>9.765499</td>\n",
       "      <td>NaN</td>\n",
       "      <td>NaN</td>\n",
       "      <td>NaN</td>\n",
       "      <td>9.051153</td>\n",
       "    </tr>\n",
       "    <tr>\n",
       "      <th>std</th>\n",
       "      <td>NaN</td>\n",
       "      <td>141206.635626</td>\n",
       "      <td>4.461963e+06</td>\n",
       "      <td>9.979141e+07</td>\n",
       "      <td>NaN</td>\n",
       "      <td>NaN</td>\n",
       "      <td>NaN</td>\n",
       "      <td>5.995128</td>\n",
       "      <td>NaN</td>\n",
       "      <td>NaN</td>\n",
       "      <td>NaN</td>\n",
       "      <td>3.734796</td>\n",
       "    </tr>\n",
       "    <tr>\n",
       "      <th>min</th>\n",
       "      <td>NaN</td>\n",
       "      <td>38.000000</td>\n",
       "      <td>0.000000e+00</td>\n",
       "      <td>2.700000e+01</td>\n",
       "      <td>NaN</td>\n",
       "      <td>NaN</td>\n",
       "      <td>NaN</td>\n",
       "      <td>0.000000</td>\n",
       "      <td>NaN</td>\n",
       "      <td>NaN</td>\n",
       "      <td>NaN</td>\n",
       "      <td>1.000000</td>\n",
       "    </tr>\n",
       "    <tr>\n",
       "      <th>25%</th>\n",
       "      <td>NaN</td>\n",
       "      <td>99944.000000</td>\n",
       "      <td>2.000000e+01</td>\n",
       "      <td>5.690500e+04</td>\n",
       "      <td>NaN</td>\n",
       "      <td>NaN</td>\n",
       "      <td>NaN</td>\n",
       "      <td>6.000000</td>\n",
       "      <td>NaN</td>\n",
       "      <td>NaN</td>\n",
       "      <td>NaN</td>\n",
       "      <td>6.000000</td>\n",
       "    </tr>\n",
       "    <tr>\n",
       "      <th>50%</th>\n",
       "      <td>NaN</td>\n",
       "      <td>207249.000000</td>\n",
       "      <td>4.000000e+01</td>\n",
       "      <td>1.736140e+05</td>\n",
       "      <td>NaN</td>\n",
       "      <td>NaN</td>\n",
       "      <td>NaN</td>\n",
       "      <td>9.000000</td>\n",
       "      <td>NaN</td>\n",
       "      <td>NaN</td>\n",
       "      <td>NaN</td>\n",
       "      <td>9.000000</td>\n",
       "    </tr>\n",
       "    <tr>\n",
       "      <th>75%</th>\n",
       "      <td>NaN</td>\n",
       "      <td>333816.000000</td>\n",
       "      <td>6.500000e+01</td>\n",
       "      <td>3.982750e+05</td>\n",
       "      <td>NaN</td>\n",
       "      <td>NaN</td>\n",
       "      <td>NaN</td>\n",
       "      <td>12.000000</td>\n",
       "      <td>NaN</td>\n",
       "      <td>NaN</td>\n",
       "      <td>NaN</td>\n",
       "      <td>11.000000</td>\n",
       "    </tr>\n",
       "    <tr>\n",
       "      <th>max</th>\n",
       "      <td>NaN</td>\n",
       "      <td>537716.000000</td>\n",
       "      <td>2.147484e+09</td>\n",
       "      <td>2.002290e+09</td>\n",
       "      <td>NaN</td>\n",
       "      <td>NaN</td>\n",
       "      <td>NaN</td>\n",
       "      <td>145.000000</td>\n",
       "      <td>NaN</td>\n",
       "      <td>NaN</td>\n",
       "      <td>NaN</td>\n",
       "      <td>43.000000</td>\n",
       "    </tr>\n",
       "  </tbody>\n",
       "</table>\n",
       "</div>"
      ],
      "text/plain": [
       "                                  name             id       minutes  \\\n",
       "count                           231636  231637.000000  2.316370e+05   \n",
       "unique                          230185            NaN           NaN   \n",
       "top     crock pot lemon garlic chicken            NaN           NaN   \n",
       "freq                                 3            NaN           NaN   \n",
       "mean                               NaN  222014.708984  9.398546e+03   \n",
       "std                                NaN  141206.635626  4.461963e+06   \n",
       "min                                NaN      38.000000  0.000000e+00   \n",
       "25%                                NaN   99944.000000  2.000000e+01   \n",
       "50%                                NaN  207249.000000  4.000000e+01   \n",
       "75%                                NaN  333816.000000  6.500000e+01   \n",
       "max                                NaN  537716.000000  2.147484e+09   \n",
       "\n",
       "        contributor_id   submitted  \\\n",
       "count     2.316370e+05      231637   \n",
       "unique             NaN        5090   \n",
       "top                NaN  2000-03-06   \n",
       "freq               NaN         470   \n",
       "mean      5.534885e+06         NaN   \n",
       "std       9.979141e+07         NaN   \n",
       "min       2.700000e+01         NaN   \n",
       "25%       5.690500e+04         NaN   \n",
       "50%       1.736140e+05         NaN   \n",
       "75%       3.982750e+05         NaN   \n",
       "max       2.002290e+09         NaN   \n",
       "\n",
       "                                                     tags  \\\n",
       "count                                              231637   \n",
       "unique                                             209115   \n",
       "top     ['15-minutes-or-less', 'time-to-make', 'course...   \n",
       "freq                                                  397   \n",
       "mean                                                  NaN   \n",
       "std                                                   NaN   \n",
       "min                                                   NaN   \n",
       "25%                                                   NaN   \n",
       "50%                                                   NaN   \n",
       "75%                                                   NaN   \n",
       "max                                                   NaN   \n",
       "\n",
       "                                   nutrition        n_steps  \\\n",
       "count                                 231637  231637.000000   \n",
       "unique                                229318            NaN   \n",
       "top     [69.4, 0.0, 0.0, 0.0, 0.0, 0.0, 0.0]            NaN   \n",
       "freq                                      36            NaN   \n",
       "mean                                     NaN       9.765499   \n",
       "std                                      NaN       5.995128   \n",
       "min                                      NaN       0.000000   \n",
       "25%                                      NaN       6.000000   \n",
       "50%                                      NaN       9.000000   \n",
       "75%                                      NaN      12.000000   \n",
       "max                                      NaN     145.000000   \n",
       "\n",
       "                                         steps description        ingredients  \\\n",
       "count                                   231637      226658             231637   \n",
       "unique                                  231074      222668             230475   \n",
       "top     ['blend all ingredients until smooth']         yum  ['eggs', 'water']   \n",
       "freq                                        20         153                 10   \n",
       "mean                                       NaN         NaN                NaN   \n",
       "std                                        NaN         NaN                NaN   \n",
       "min                                        NaN         NaN                NaN   \n",
       "25%                                        NaN         NaN                NaN   \n",
       "50%                                        NaN         NaN                NaN   \n",
       "75%                                        NaN         NaN                NaN   \n",
       "max                                        NaN         NaN                NaN   \n",
       "\n",
       "        n_ingredients  \n",
       "count   231637.000000  \n",
       "unique            NaN  \n",
       "top               NaN  \n",
       "freq              NaN  \n",
       "mean         9.051153  \n",
       "std          3.734796  \n",
       "min          1.000000  \n",
       "25%          6.000000  \n",
       "50%          9.000000  \n",
       "75%         11.000000  \n",
       "max         43.000000  "
      ]
     },
     "execution_count": 170,
     "metadata": {},
     "output_type": "execute_result"
    }
   ],
   "source": [
    "df.describe(include='all')"
   ]
  },
  {
   "cell_type": "code",
   "execution_count": 171,
   "metadata": {},
   "outputs": [],
   "source": [
    "# description, steps and submitted are not necessary for the analysis therefore we're dropping the description column.\n",
    "df.drop(['description', 'steps', 'submitted'], axis=1, inplace=True)"
   ]
  },
  {
   "cell_type": "code",
   "execution_count": 172,
   "metadata": {},
   "outputs": [
    {
     "data": {
      "text/html": [
       "<div>\n",
       "<style scoped>\n",
       "    .dataframe tbody tr th:only-of-type {\n",
       "        vertical-align: middle;\n",
       "    }\n",
       "\n",
       "    .dataframe tbody tr th {\n",
       "        vertical-align: top;\n",
       "    }\n",
       "\n",
       "    .dataframe thead th {\n",
       "        text-align: right;\n",
       "    }\n",
       "</style>\n",
       "<table border=\"1\" class=\"dataframe\">\n",
       "  <thead>\n",
       "    <tr style=\"text-align: right;\">\n",
       "      <th></th>\n",
       "      <th>name</th>\n",
       "      <th>id</th>\n",
       "      <th>minutes</th>\n",
       "      <th>contributor_id</th>\n",
       "      <th>tags</th>\n",
       "      <th>nutrition</th>\n",
       "      <th>n_steps</th>\n",
       "      <th>ingredients</th>\n",
       "      <th>n_ingredients</th>\n",
       "    </tr>\n",
       "  </thead>\n",
       "  <tbody>\n",
       "    <tr>\n",
       "      <th>0</th>\n",
       "      <td>arriba   baked winter squash mexican style</td>\n",
       "      <td>137739</td>\n",
       "      <td>55</td>\n",
       "      <td>47892</td>\n",
       "      <td>['60-minutes-or-less', 'time-to-make', 'course...</td>\n",
       "      <td>[51.5, 0.0, 13.0, 0.0, 2.0, 0.0, 4.0]</td>\n",
       "      <td>11</td>\n",
       "      <td>['winter squash', 'mexican seasoning', 'mixed ...</td>\n",
       "      <td>7</td>\n",
       "    </tr>\n",
       "    <tr>\n",
       "      <th>1</th>\n",
       "      <td>a bit different  breakfast pizza</td>\n",
       "      <td>31490</td>\n",
       "      <td>30</td>\n",
       "      <td>26278</td>\n",
       "      <td>['30-minutes-or-less', 'time-to-make', 'course...</td>\n",
       "      <td>[173.4, 18.0, 0.0, 17.0, 22.0, 35.0, 1.0]</td>\n",
       "      <td>9</td>\n",
       "      <td>['prepared pizza crust', 'sausage patty', 'egg...</td>\n",
       "      <td>6</td>\n",
       "    </tr>\n",
       "    <tr>\n",
       "      <th>2</th>\n",
       "      <td>all in the kitchen  chili</td>\n",
       "      <td>112140</td>\n",
       "      <td>130</td>\n",
       "      <td>196586</td>\n",
       "      <td>['time-to-make', 'course', 'preparation', 'mai...</td>\n",
       "      <td>[269.8, 22.0, 32.0, 48.0, 39.0, 27.0, 5.0]</td>\n",
       "      <td>6</td>\n",
       "      <td>['ground beef', 'yellow onions', 'diced tomato...</td>\n",
       "      <td>13</td>\n",
       "    </tr>\n",
       "    <tr>\n",
       "      <th>3</th>\n",
       "      <td>alouette  potatoes</td>\n",
       "      <td>59389</td>\n",
       "      <td>45</td>\n",
       "      <td>68585</td>\n",
       "      <td>['60-minutes-or-less', 'time-to-make', 'course...</td>\n",
       "      <td>[368.1, 17.0, 10.0, 2.0, 14.0, 8.0, 20.0]</td>\n",
       "      <td>11</td>\n",
       "      <td>['spreadable cheese with garlic and herbs', 'n...</td>\n",
       "      <td>11</td>\n",
       "    </tr>\n",
       "    <tr>\n",
       "      <th>4</th>\n",
       "      <td>amish  tomato ketchup  for canning</td>\n",
       "      <td>44061</td>\n",
       "      <td>190</td>\n",
       "      <td>41706</td>\n",
       "      <td>['weeknight', 'time-to-make', 'course', 'main-...</td>\n",
       "      <td>[352.9, 1.0, 337.0, 23.0, 3.0, 0.0, 28.0]</td>\n",
       "      <td>5</td>\n",
       "      <td>['tomato juice', 'apple cider vinegar', 'sugar...</td>\n",
       "      <td>8</td>\n",
       "    </tr>\n",
       "  </tbody>\n",
       "</table>\n",
       "</div>"
      ],
      "text/plain": [
       "                                         name      id  minutes  \\\n",
       "0  arriba   baked winter squash mexican style  137739       55   \n",
       "1            a bit different  breakfast pizza   31490       30   \n",
       "2                   all in the kitchen  chili  112140      130   \n",
       "3                          alouette  potatoes   59389       45   \n",
       "4          amish  tomato ketchup  for canning   44061      190   \n",
       "\n",
       "   contributor_id                                               tags  \\\n",
       "0           47892  ['60-minutes-or-less', 'time-to-make', 'course...   \n",
       "1           26278  ['30-minutes-or-less', 'time-to-make', 'course...   \n",
       "2          196586  ['time-to-make', 'course', 'preparation', 'mai...   \n",
       "3           68585  ['60-minutes-or-less', 'time-to-make', 'course...   \n",
       "4           41706  ['weeknight', 'time-to-make', 'course', 'main-...   \n",
       "\n",
       "                                    nutrition  n_steps  \\\n",
       "0       [51.5, 0.0, 13.0, 0.0, 2.0, 0.0, 4.0]       11   \n",
       "1   [173.4, 18.0, 0.0, 17.0, 22.0, 35.0, 1.0]        9   \n",
       "2  [269.8, 22.0, 32.0, 48.0, 39.0, 27.0, 5.0]        6   \n",
       "3   [368.1, 17.0, 10.0, 2.0, 14.0, 8.0, 20.0]       11   \n",
       "4   [352.9, 1.0, 337.0, 23.0, 3.0, 0.0, 28.0]        5   \n",
       "\n",
       "                                         ingredients  n_ingredients  \n",
       "0  ['winter squash', 'mexican seasoning', 'mixed ...              7  \n",
       "1  ['prepared pizza crust', 'sausage patty', 'egg...              6  \n",
       "2  ['ground beef', 'yellow onions', 'diced tomato...             13  \n",
       "3  ['spreadable cheese with garlic and herbs', 'n...             11  \n",
       "4  ['tomato juice', 'apple cider vinegar', 'sugar...              8  "
      ]
     },
     "execution_count": 172,
     "metadata": {},
     "output_type": "execute_result"
    }
   ],
   "source": [
    "# Checking and making sure the description, steps and submitted columns are gone\n",
    "df.head()"
   ]
  },
  {
   "cell_type": "code",
   "execution_count": 173,
   "metadata": {},
   "outputs": [
    {
     "data": {
      "text/plain": [
       "name              1\n",
       "id                0\n",
       "minutes           0\n",
       "contributor_id    0\n",
       "tags              0\n",
       "nutrition         0\n",
       "n_steps           0\n",
       "ingredients       0\n",
       "n_ingredients     0\n",
       "dtype: int64"
      ]
     },
     "execution_count": 173,
     "metadata": {},
     "output_type": "execute_result"
    }
   ],
   "source": [
    "df.isnull().sum()"
   ]
  },
  {
   "cell_type": "code",
   "execution_count": 174,
   "metadata": {},
   "outputs": [],
   "source": [
    "df2 = df.dropna()"
   ]
  },
  {
   "cell_type": "code",
   "execution_count": 175,
   "metadata": {},
   "outputs": [
    {
     "name": "stderr",
     "output_type": "stream",
     "text": [
      "/var/folders/5v/b37q3lz15lq75f7xfjzshd900000gn/T/ipykernel_884/4053744037.py:2: FutureWarning: The default value of regex will change from True to False in a future version. In addition, single character regular expressions will *not* be treated as literal strings when regex=True.\n",
      "  df2['nutrition'] = df2['nutrition'].str.replace('[', '').str.replace(']', '')\n",
      "/var/folders/5v/b37q3lz15lq75f7xfjzshd900000gn/T/ipykernel_884/4053744037.py:2: SettingWithCopyWarning: \n",
      "A value is trying to be set on a copy of a slice from a DataFrame.\n",
      "Try using .loc[row_indexer,col_indexer] = value instead\n",
      "\n",
      "See the caveats in the documentation: https://pandas.pydata.org/pandas-docs/stable/user_guide/indexing.html#returning-a-view-versus-a-copy\n",
      "  df2['nutrition'] = df2['nutrition'].str.replace('[', '').str.replace(']', '')\n"
     ]
    }
   ],
   "source": [
    "#seperate the information from nutrition column\n",
    "df2['nutrition'] = df2['nutrition'].str.replace('[', '').str.replace(']', '')"
   ]
  },
  {
   "cell_type": "code",
   "execution_count": 176,
   "metadata": {},
   "outputs": [],
   "source": [
    "NutriList=['Calories', 'Total_fat', 'Sugar', 'Sodium', 'Protein', 'Saturated_fat', 'Carbs']"
   ]
  },
  {
   "cell_type": "code",
   "execution_count": 177,
   "metadata": {},
   "outputs": [],
   "source": [
    "NutriList_Columns = pd.DataFrame(df2['nutrition'].apply(eval).to_list(), index=df2.index, columns=NutriList)"
   ]
  },
  {
   "cell_type": "code",
   "execution_count": 178,
   "metadata": {},
   "outputs": [],
   "source": [
    "df2 = df2.join(NutriList_Columns)"
   ]
  },
  {
   "cell_type": "code",
   "execution_count": 179,
   "metadata": {},
   "outputs": [
    {
     "data": {
      "text/html": [
       "<div>\n",
       "<style scoped>\n",
       "    .dataframe tbody tr th:only-of-type {\n",
       "        vertical-align: middle;\n",
       "    }\n",
       "\n",
       "    .dataframe tbody tr th {\n",
       "        vertical-align: top;\n",
       "    }\n",
       "\n",
       "    .dataframe thead th {\n",
       "        text-align: right;\n",
       "    }\n",
       "</style>\n",
       "<table border=\"1\" class=\"dataframe\">\n",
       "  <thead>\n",
       "    <tr style=\"text-align: right;\">\n",
       "      <th></th>\n",
       "      <th>name</th>\n",
       "      <th>id</th>\n",
       "      <th>minutes</th>\n",
       "      <th>contributor_id</th>\n",
       "      <th>tags</th>\n",
       "      <th>nutrition</th>\n",
       "      <th>n_steps</th>\n",
       "      <th>ingredients</th>\n",
       "      <th>n_ingredients</th>\n",
       "      <th>Calories</th>\n",
       "      <th>Total_fat</th>\n",
       "      <th>Sugar</th>\n",
       "      <th>Sodium</th>\n",
       "      <th>Protein</th>\n",
       "      <th>Saturated_fat</th>\n",
       "      <th>Carbs</th>\n",
       "    </tr>\n",
       "  </thead>\n",
       "  <tbody>\n",
       "    <tr>\n",
       "      <th>0</th>\n",
       "      <td>arriba   baked winter squash mexican style</td>\n",
       "      <td>137739</td>\n",
       "      <td>55</td>\n",
       "      <td>47892</td>\n",
       "      <td>['60-minutes-or-less', 'time-to-make', 'course...</td>\n",
       "      <td>51.5, 0.0, 13.0, 0.0, 2.0, 0.0, 4.0</td>\n",
       "      <td>11</td>\n",
       "      <td>['winter squash', 'mexican seasoning', 'mixed ...</td>\n",
       "      <td>7</td>\n",
       "      <td>51.5</td>\n",
       "      <td>0.0</td>\n",
       "      <td>13.0</td>\n",
       "      <td>0.0</td>\n",
       "      <td>2.0</td>\n",
       "      <td>0.0</td>\n",
       "      <td>4.0</td>\n",
       "    </tr>\n",
       "    <tr>\n",
       "      <th>1</th>\n",
       "      <td>a bit different  breakfast pizza</td>\n",
       "      <td>31490</td>\n",
       "      <td>30</td>\n",
       "      <td>26278</td>\n",
       "      <td>['30-minutes-or-less', 'time-to-make', 'course...</td>\n",
       "      <td>173.4, 18.0, 0.0, 17.0, 22.0, 35.0, 1.0</td>\n",
       "      <td>9</td>\n",
       "      <td>['prepared pizza crust', 'sausage patty', 'egg...</td>\n",
       "      <td>6</td>\n",
       "      <td>173.4</td>\n",
       "      <td>18.0</td>\n",
       "      <td>0.0</td>\n",
       "      <td>17.0</td>\n",
       "      <td>22.0</td>\n",
       "      <td>35.0</td>\n",
       "      <td>1.0</td>\n",
       "    </tr>\n",
       "    <tr>\n",
       "      <th>2</th>\n",
       "      <td>all in the kitchen  chili</td>\n",
       "      <td>112140</td>\n",
       "      <td>130</td>\n",
       "      <td>196586</td>\n",
       "      <td>['time-to-make', 'course', 'preparation', 'mai...</td>\n",
       "      <td>269.8, 22.0, 32.0, 48.0, 39.0, 27.0, 5.0</td>\n",
       "      <td>6</td>\n",
       "      <td>['ground beef', 'yellow onions', 'diced tomato...</td>\n",
       "      <td>13</td>\n",
       "      <td>269.8</td>\n",
       "      <td>22.0</td>\n",
       "      <td>32.0</td>\n",
       "      <td>48.0</td>\n",
       "      <td>39.0</td>\n",
       "      <td>27.0</td>\n",
       "      <td>5.0</td>\n",
       "    </tr>\n",
       "    <tr>\n",
       "      <th>3</th>\n",
       "      <td>alouette  potatoes</td>\n",
       "      <td>59389</td>\n",
       "      <td>45</td>\n",
       "      <td>68585</td>\n",
       "      <td>['60-minutes-or-less', 'time-to-make', 'course...</td>\n",
       "      <td>368.1, 17.0, 10.0, 2.0, 14.0, 8.0, 20.0</td>\n",
       "      <td>11</td>\n",
       "      <td>['spreadable cheese with garlic and herbs', 'n...</td>\n",
       "      <td>11</td>\n",
       "      <td>368.1</td>\n",
       "      <td>17.0</td>\n",
       "      <td>10.0</td>\n",
       "      <td>2.0</td>\n",
       "      <td>14.0</td>\n",
       "      <td>8.0</td>\n",
       "      <td>20.0</td>\n",
       "    </tr>\n",
       "    <tr>\n",
       "      <th>4</th>\n",
       "      <td>amish  tomato ketchup  for canning</td>\n",
       "      <td>44061</td>\n",
       "      <td>190</td>\n",
       "      <td>41706</td>\n",
       "      <td>['weeknight', 'time-to-make', 'course', 'main-...</td>\n",
       "      <td>352.9, 1.0, 337.0, 23.0, 3.0, 0.0, 28.0</td>\n",
       "      <td>5</td>\n",
       "      <td>['tomato juice', 'apple cider vinegar', 'sugar...</td>\n",
       "      <td>8</td>\n",
       "      <td>352.9</td>\n",
       "      <td>1.0</td>\n",
       "      <td>337.0</td>\n",
       "      <td>23.0</td>\n",
       "      <td>3.0</td>\n",
       "      <td>0.0</td>\n",
       "      <td>28.0</td>\n",
       "    </tr>\n",
       "  </tbody>\n",
       "</table>\n",
       "</div>"
      ],
      "text/plain": [
       "                                         name      id  minutes  \\\n",
       "0  arriba   baked winter squash mexican style  137739       55   \n",
       "1            a bit different  breakfast pizza   31490       30   \n",
       "2                   all in the kitchen  chili  112140      130   \n",
       "3                          alouette  potatoes   59389       45   \n",
       "4          amish  tomato ketchup  for canning   44061      190   \n",
       "\n",
       "   contributor_id                                               tags  \\\n",
       "0           47892  ['60-minutes-or-less', 'time-to-make', 'course...   \n",
       "1           26278  ['30-minutes-or-less', 'time-to-make', 'course...   \n",
       "2          196586  ['time-to-make', 'course', 'preparation', 'mai...   \n",
       "3           68585  ['60-minutes-or-less', 'time-to-make', 'course...   \n",
       "4           41706  ['weeknight', 'time-to-make', 'course', 'main-...   \n",
       "\n",
       "                                  nutrition  n_steps  \\\n",
       "0       51.5, 0.0, 13.0, 0.0, 2.0, 0.0, 4.0       11   \n",
       "1   173.4, 18.0, 0.0, 17.0, 22.0, 35.0, 1.0        9   \n",
       "2  269.8, 22.0, 32.0, 48.0, 39.0, 27.0, 5.0        6   \n",
       "3   368.1, 17.0, 10.0, 2.0, 14.0, 8.0, 20.0       11   \n",
       "4   352.9, 1.0, 337.0, 23.0, 3.0, 0.0, 28.0        5   \n",
       "\n",
       "                                         ingredients  n_ingredients  Calories  \\\n",
       "0  ['winter squash', 'mexican seasoning', 'mixed ...              7      51.5   \n",
       "1  ['prepared pizza crust', 'sausage patty', 'egg...              6     173.4   \n",
       "2  ['ground beef', 'yellow onions', 'diced tomato...             13     269.8   \n",
       "3  ['spreadable cheese with garlic and herbs', 'n...             11     368.1   \n",
       "4  ['tomato juice', 'apple cider vinegar', 'sugar...              8     352.9   \n",
       "\n",
       "   Total_fat  Sugar  Sodium  Protein  Saturated_fat  Carbs  \n",
       "0        0.0   13.0     0.0      2.0            0.0    4.0  \n",
       "1       18.0    0.0    17.0     22.0           35.0    1.0  \n",
       "2       22.0   32.0    48.0     39.0           27.0    5.0  \n",
       "3       17.0   10.0     2.0     14.0            8.0   20.0  \n",
       "4        1.0  337.0    23.0      3.0            0.0   28.0  "
      ]
     },
     "execution_count": 179,
     "metadata": {},
     "output_type": "execute_result"
    }
   ],
   "source": [
    "df2.head(5)"
   ]
  },
  {
   "cell_type": "code",
   "execution_count": 180,
   "metadata": {},
   "outputs": [],
   "source": [
    "#converting the nutrition columns to float as there are numbers such as 51.5, interger data type is not compatiable.\n",
    "df2['nutrition'] = df2['nutrition'].str.split(',').apply(lambda x: [float(val) for val in x])\n"
   ]
  },
  {
   "cell_type": "code",
   "execution_count": 181,
   "metadata": {},
   "outputs": [],
   "source": [
    "#Continuing seperating data from nutrition column\n",
    "df2[['Calories', 'Total_fat', 'Sugar', 'Sodium', 'Protein', 'Saturated_fat', 'Carbs']] = pd.DataFrame(df2['nutrition'].tolist(), index=df2.index) "
   ]
  },
  {
   "cell_type": "code",
   "execution_count": 182,
   "metadata": {},
   "outputs": [
    {
     "data": {
      "text/html": [
       "<div>\n",
       "<style scoped>\n",
       "    .dataframe tbody tr th:only-of-type {\n",
       "        vertical-align: middle;\n",
       "    }\n",
       "\n",
       "    .dataframe tbody tr th {\n",
       "        vertical-align: top;\n",
       "    }\n",
       "\n",
       "    .dataframe thead th {\n",
       "        text-align: right;\n",
       "    }\n",
       "</style>\n",
       "<table border=\"1\" class=\"dataframe\">\n",
       "  <thead>\n",
       "    <tr style=\"text-align: right;\">\n",
       "      <th></th>\n",
       "      <th>name</th>\n",
       "      <th>id</th>\n",
       "      <th>minutes</th>\n",
       "      <th>contributor_id</th>\n",
       "      <th>tags</th>\n",
       "      <th>nutrition</th>\n",
       "      <th>n_steps</th>\n",
       "      <th>ingredients</th>\n",
       "      <th>n_ingredients</th>\n",
       "      <th>Calories</th>\n",
       "      <th>Total_fat</th>\n",
       "      <th>Sugar</th>\n",
       "      <th>Sodium</th>\n",
       "      <th>Protein</th>\n",
       "      <th>Saturated_fat</th>\n",
       "      <th>Carbs</th>\n",
       "    </tr>\n",
       "  </thead>\n",
       "  <tbody>\n",
       "    <tr>\n",
       "      <th>0</th>\n",
       "      <td>arriba   baked winter squash mexican style</td>\n",
       "      <td>137739</td>\n",
       "      <td>55</td>\n",
       "      <td>47892</td>\n",
       "      <td>['60-minutes-or-less', 'time-to-make', 'course...</td>\n",
       "      <td>[51.5, 0.0, 13.0, 0.0, 2.0, 0.0, 4.0]</td>\n",
       "      <td>11</td>\n",
       "      <td>['winter squash', 'mexican seasoning', 'mixed ...</td>\n",
       "      <td>7</td>\n",
       "      <td>51.5</td>\n",
       "      <td>0.0</td>\n",
       "      <td>13.0</td>\n",
       "      <td>0.0</td>\n",
       "      <td>2.0</td>\n",
       "      <td>0.0</td>\n",
       "      <td>4.0</td>\n",
       "    </tr>\n",
       "    <tr>\n",
       "      <th>1</th>\n",
       "      <td>a bit different  breakfast pizza</td>\n",
       "      <td>31490</td>\n",
       "      <td>30</td>\n",
       "      <td>26278</td>\n",
       "      <td>['30-minutes-or-less', 'time-to-make', 'course...</td>\n",
       "      <td>[173.4, 18.0, 0.0, 17.0, 22.0, 35.0, 1.0]</td>\n",
       "      <td>9</td>\n",
       "      <td>['prepared pizza crust', 'sausage patty', 'egg...</td>\n",
       "      <td>6</td>\n",
       "      <td>173.4</td>\n",
       "      <td>18.0</td>\n",
       "      <td>0.0</td>\n",
       "      <td>17.0</td>\n",
       "      <td>22.0</td>\n",
       "      <td>35.0</td>\n",
       "      <td>1.0</td>\n",
       "    </tr>\n",
       "    <tr>\n",
       "      <th>2</th>\n",
       "      <td>all in the kitchen  chili</td>\n",
       "      <td>112140</td>\n",
       "      <td>130</td>\n",
       "      <td>196586</td>\n",
       "      <td>['time-to-make', 'course', 'preparation', 'mai...</td>\n",
       "      <td>[269.8, 22.0, 32.0, 48.0, 39.0, 27.0, 5.0]</td>\n",
       "      <td>6</td>\n",
       "      <td>['ground beef', 'yellow onions', 'diced tomato...</td>\n",
       "      <td>13</td>\n",
       "      <td>269.8</td>\n",
       "      <td>22.0</td>\n",
       "      <td>32.0</td>\n",
       "      <td>48.0</td>\n",
       "      <td>39.0</td>\n",
       "      <td>27.0</td>\n",
       "      <td>5.0</td>\n",
       "    </tr>\n",
       "    <tr>\n",
       "      <th>3</th>\n",
       "      <td>alouette  potatoes</td>\n",
       "      <td>59389</td>\n",
       "      <td>45</td>\n",
       "      <td>68585</td>\n",
       "      <td>['60-minutes-or-less', 'time-to-make', 'course...</td>\n",
       "      <td>[368.1, 17.0, 10.0, 2.0, 14.0, 8.0, 20.0]</td>\n",
       "      <td>11</td>\n",
       "      <td>['spreadable cheese with garlic and herbs', 'n...</td>\n",
       "      <td>11</td>\n",
       "      <td>368.1</td>\n",
       "      <td>17.0</td>\n",
       "      <td>10.0</td>\n",
       "      <td>2.0</td>\n",
       "      <td>14.0</td>\n",
       "      <td>8.0</td>\n",
       "      <td>20.0</td>\n",
       "    </tr>\n",
       "    <tr>\n",
       "      <th>4</th>\n",
       "      <td>amish  tomato ketchup  for canning</td>\n",
       "      <td>44061</td>\n",
       "      <td>190</td>\n",
       "      <td>41706</td>\n",
       "      <td>['weeknight', 'time-to-make', 'course', 'main-...</td>\n",
       "      <td>[352.9, 1.0, 337.0, 23.0, 3.0, 0.0, 28.0]</td>\n",
       "      <td>5</td>\n",
       "      <td>['tomato juice', 'apple cider vinegar', 'sugar...</td>\n",
       "      <td>8</td>\n",
       "      <td>352.9</td>\n",
       "      <td>1.0</td>\n",
       "      <td>337.0</td>\n",
       "      <td>23.0</td>\n",
       "      <td>3.0</td>\n",
       "      <td>0.0</td>\n",
       "      <td>28.0</td>\n",
       "    </tr>\n",
       "  </tbody>\n",
       "</table>\n",
       "</div>"
      ],
      "text/plain": [
       "                                         name      id  minutes  \\\n",
       "0  arriba   baked winter squash mexican style  137739       55   \n",
       "1            a bit different  breakfast pizza   31490       30   \n",
       "2                   all in the kitchen  chili  112140      130   \n",
       "3                          alouette  potatoes   59389       45   \n",
       "4          amish  tomato ketchup  for canning   44061      190   \n",
       "\n",
       "   contributor_id                                               tags  \\\n",
       "0           47892  ['60-minutes-or-less', 'time-to-make', 'course...   \n",
       "1           26278  ['30-minutes-or-less', 'time-to-make', 'course...   \n",
       "2          196586  ['time-to-make', 'course', 'preparation', 'mai...   \n",
       "3           68585  ['60-minutes-or-less', 'time-to-make', 'course...   \n",
       "4           41706  ['weeknight', 'time-to-make', 'course', 'main-...   \n",
       "\n",
       "                                    nutrition  n_steps  \\\n",
       "0       [51.5, 0.0, 13.0, 0.0, 2.0, 0.0, 4.0]       11   \n",
       "1   [173.4, 18.0, 0.0, 17.0, 22.0, 35.0, 1.0]        9   \n",
       "2  [269.8, 22.0, 32.0, 48.0, 39.0, 27.0, 5.0]        6   \n",
       "3   [368.1, 17.0, 10.0, 2.0, 14.0, 8.0, 20.0]       11   \n",
       "4   [352.9, 1.0, 337.0, 23.0, 3.0, 0.0, 28.0]        5   \n",
       "\n",
       "                                         ingredients  n_ingredients  Calories  \\\n",
       "0  ['winter squash', 'mexican seasoning', 'mixed ...              7      51.5   \n",
       "1  ['prepared pizza crust', 'sausage patty', 'egg...              6     173.4   \n",
       "2  ['ground beef', 'yellow onions', 'diced tomato...             13     269.8   \n",
       "3  ['spreadable cheese with garlic and herbs', 'n...             11     368.1   \n",
       "4  ['tomato juice', 'apple cider vinegar', 'sugar...              8     352.9   \n",
       "\n",
       "   Total_fat  Sugar  Sodium  Protein  Saturated_fat  Carbs  \n",
       "0        0.0   13.0     0.0      2.0            0.0    4.0  \n",
       "1       18.0    0.0    17.0     22.0           35.0    1.0  \n",
       "2       22.0   32.0    48.0     39.0           27.0    5.0  \n",
       "3       17.0   10.0     2.0     14.0            8.0   20.0  \n",
       "4        1.0  337.0    23.0      3.0            0.0   28.0  "
      ]
     },
     "execution_count": 182,
     "metadata": {},
     "output_type": "execute_result"
    }
   ],
   "source": [
    "df2.head()"
   ]
  },
  {
   "cell_type": "code",
   "execution_count": 183,
   "metadata": {},
   "outputs": [
    {
     "name": "stdout",
     "output_type": "stream",
     "text": [
      "<class 'pandas.core.frame.DataFrame'>\n",
      "Int64Index: 231636 entries, 0 to 231636\n",
      "Data columns (total 16 columns):\n",
      " #   Column          Non-Null Count   Dtype  \n",
      "---  ------          --------------   -----  \n",
      " 0   name            231636 non-null  object \n",
      " 1   id              231636 non-null  int64  \n",
      " 2   minutes         231636 non-null  int64  \n",
      " 3   contributor_id  231636 non-null  int64  \n",
      " 4   tags            231636 non-null  object \n",
      " 5   nutrition       231636 non-null  object \n",
      " 6   n_steps         231636 non-null  int64  \n",
      " 7   ingredients     231636 non-null  object \n",
      " 8   n_ingredients   231636 non-null  int64  \n",
      " 9   Calories        231636 non-null  float64\n",
      " 10  Total_fat       231636 non-null  float64\n",
      " 11  Sugar           231636 non-null  float64\n",
      " 12  Sodium          231636 non-null  float64\n",
      " 13  Protein         231636 non-null  float64\n",
      " 14  Saturated_fat   231636 non-null  float64\n",
      " 15  Carbs           231636 non-null  float64\n",
      "dtypes: float64(7), int64(5), object(4)\n",
      "memory usage: 38.1+ MB\n"
     ]
    }
   ],
   "source": [
    "df2.info()"
   ]
  },
  {
   "cell_type": "code",
   "execution_count": 184,
   "metadata": {},
   "outputs": [],
   "source": [
    "df2.drop('nutrition', axis=1, inplace=True)"
   ]
  },
  {
   "cell_type": "code",
   "execution_count": 185,
   "metadata": {},
   "outputs": [
    {
     "data": {
      "text/html": [
       "<div>\n",
       "<style scoped>\n",
       "    .dataframe tbody tr th:only-of-type {\n",
       "        vertical-align: middle;\n",
       "    }\n",
       "\n",
       "    .dataframe tbody tr th {\n",
       "        vertical-align: top;\n",
       "    }\n",
       "\n",
       "    .dataframe thead th {\n",
       "        text-align: right;\n",
       "    }\n",
       "</style>\n",
       "<table border=\"1\" class=\"dataframe\">\n",
       "  <thead>\n",
       "    <tr style=\"text-align: right;\">\n",
       "      <th></th>\n",
       "      <th>name</th>\n",
       "      <th>id</th>\n",
       "      <th>minutes</th>\n",
       "      <th>contributor_id</th>\n",
       "      <th>tags</th>\n",
       "      <th>n_steps</th>\n",
       "      <th>ingredients</th>\n",
       "      <th>n_ingredients</th>\n",
       "      <th>Calories</th>\n",
       "      <th>Total_fat</th>\n",
       "      <th>Sugar</th>\n",
       "      <th>Sodium</th>\n",
       "      <th>Protein</th>\n",
       "      <th>Saturated_fat</th>\n",
       "      <th>Carbs</th>\n",
       "    </tr>\n",
       "  </thead>\n",
       "  <tbody>\n",
       "    <tr>\n",
       "      <th>0</th>\n",
       "      <td>arriba   baked winter squash mexican style</td>\n",
       "      <td>137739</td>\n",
       "      <td>55</td>\n",
       "      <td>47892</td>\n",
       "      <td>['60-minutes-or-less', 'time-to-make', 'course...</td>\n",
       "      <td>11</td>\n",
       "      <td>['winter squash', 'mexican seasoning', 'mixed ...</td>\n",
       "      <td>7</td>\n",
       "      <td>51.5</td>\n",
       "      <td>0.0</td>\n",
       "      <td>13.0</td>\n",
       "      <td>0.0</td>\n",
       "      <td>2.0</td>\n",
       "      <td>0.0</td>\n",
       "      <td>4.0</td>\n",
       "    </tr>\n",
       "    <tr>\n",
       "      <th>1</th>\n",
       "      <td>a bit different  breakfast pizza</td>\n",
       "      <td>31490</td>\n",
       "      <td>30</td>\n",
       "      <td>26278</td>\n",
       "      <td>['30-minutes-or-less', 'time-to-make', 'course...</td>\n",
       "      <td>9</td>\n",
       "      <td>['prepared pizza crust', 'sausage patty', 'egg...</td>\n",
       "      <td>6</td>\n",
       "      <td>173.4</td>\n",
       "      <td>18.0</td>\n",
       "      <td>0.0</td>\n",
       "      <td>17.0</td>\n",
       "      <td>22.0</td>\n",
       "      <td>35.0</td>\n",
       "      <td>1.0</td>\n",
       "    </tr>\n",
       "    <tr>\n",
       "      <th>2</th>\n",
       "      <td>all in the kitchen  chili</td>\n",
       "      <td>112140</td>\n",
       "      <td>130</td>\n",
       "      <td>196586</td>\n",
       "      <td>['time-to-make', 'course', 'preparation', 'mai...</td>\n",
       "      <td>6</td>\n",
       "      <td>['ground beef', 'yellow onions', 'diced tomato...</td>\n",
       "      <td>13</td>\n",
       "      <td>269.8</td>\n",
       "      <td>22.0</td>\n",
       "      <td>32.0</td>\n",
       "      <td>48.0</td>\n",
       "      <td>39.0</td>\n",
       "      <td>27.0</td>\n",
       "      <td>5.0</td>\n",
       "    </tr>\n",
       "    <tr>\n",
       "      <th>3</th>\n",
       "      <td>alouette  potatoes</td>\n",
       "      <td>59389</td>\n",
       "      <td>45</td>\n",
       "      <td>68585</td>\n",
       "      <td>['60-minutes-or-less', 'time-to-make', 'course...</td>\n",
       "      <td>11</td>\n",
       "      <td>['spreadable cheese with garlic and herbs', 'n...</td>\n",
       "      <td>11</td>\n",
       "      <td>368.1</td>\n",
       "      <td>17.0</td>\n",
       "      <td>10.0</td>\n",
       "      <td>2.0</td>\n",
       "      <td>14.0</td>\n",
       "      <td>8.0</td>\n",
       "      <td>20.0</td>\n",
       "    </tr>\n",
       "    <tr>\n",
       "      <th>4</th>\n",
       "      <td>amish  tomato ketchup  for canning</td>\n",
       "      <td>44061</td>\n",
       "      <td>190</td>\n",
       "      <td>41706</td>\n",
       "      <td>['weeknight', 'time-to-make', 'course', 'main-...</td>\n",
       "      <td>5</td>\n",
       "      <td>['tomato juice', 'apple cider vinegar', 'sugar...</td>\n",
       "      <td>8</td>\n",
       "      <td>352.9</td>\n",
       "      <td>1.0</td>\n",
       "      <td>337.0</td>\n",
       "      <td>23.0</td>\n",
       "      <td>3.0</td>\n",
       "      <td>0.0</td>\n",
       "      <td>28.0</td>\n",
       "    </tr>\n",
       "  </tbody>\n",
       "</table>\n",
       "</div>"
      ],
      "text/plain": [
       "                                         name      id  minutes  \\\n",
       "0  arriba   baked winter squash mexican style  137739       55   \n",
       "1            a bit different  breakfast pizza   31490       30   \n",
       "2                   all in the kitchen  chili  112140      130   \n",
       "3                          alouette  potatoes   59389       45   \n",
       "4          amish  tomato ketchup  for canning   44061      190   \n",
       "\n",
       "   contributor_id                                               tags  n_steps  \\\n",
       "0           47892  ['60-minutes-or-less', 'time-to-make', 'course...       11   \n",
       "1           26278  ['30-minutes-or-less', 'time-to-make', 'course...        9   \n",
       "2          196586  ['time-to-make', 'course', 'preparation', 'mai...        6   \n",
       "3           68585  ['60-minutes-or-less', 'time-to-make', 'course...       11   \n",
       "4           41706  ['weeknight', 'time-to-make', 'course', 'main-...        5   \n",
       "\n",
       "                                         ingredients  n_ingredients  Calories  \\\n",
       "0  ['winter squash', 'mexican seasoning', 'mixed ...              7      51.5   \n",
       "1  ['prepared pizza crust', 'sausage patty', 'egg...              6     173.4   \n",
       "2  ['ground beef', 'yellow onions', 'diced tomato...             13     269.8   \n",
       "3  ['spreadable cheese with garlic and herbs', 'n...             11     368.1   \n",
       "4  ['tomato juice', 'apple cider vinegar', 'sugar...              8     352.9   \n",
       "\n",
       "   Total_fat  Sugar  Sodium  Protein  Saturated_fat  Carbs  \n",
       "0        0.0   13.0     0.0      2.0            0.0    4.0  \n",
       "1       18.0    0.0    17.0     22.0           35.0    1.0  \n",
       "2       22.0   32.0    48.0     39.0           27.0    5.0  \n",
       "3       17.0   10.0     2.0     14.0            8.0   20.0  \n",
       "4        1.0  337.0    23.0      3.0            0.0   28.0  "
      ]
     },
     "execution_count": 185,
     "metadata": {},
     "output_type": "execute_result"
    }
   ],
   "source": [
    "df2.head()"
   ]
  },
  {
   "cell_type": "code",
   "execution_count": 186,
   "metadata": {},
   "outputs": [
    {
     "name": "stdout",
     "output_type": "stream",
     "text": [
      "<class 'pandas.core.frame.DataFrame'>\n",
      "Int64Index: 231636 entries, 0 to 231636\n",
      "Data columns (total 15 columns):\n",
      " #   Column          Non-Null Count   Dtype  \n",
      "---  ------          --------------   -----  \n",
      " 0   name            231636 non-null  object \n",
      " 1   id              231636 non-null  int64  \n",
      " 2   minutes         231636 non-null  int64  \n",
      " 3   contributor_id  231636 non-null  int64  \n",
      " 4   tags            231636 non-null  object \n",
      " 5   n_steps         231636 non-null  int64  \n",
      " 6   ingredients     231636 non-null  object \n",
      " 7   n_ingredients   231636 non-null  int64  \n",
      " 8   Calories        231636 non-null  float64\n",
      " 9   Total_fat       231636 non-null  float64\n",
      " 10  Sugar           231636 non-null  float64\n",
      " 11  Sodium          231636 non-null  float64\n",
      " 12  Protein         231636 non-null  float64\n",
      " 13  Saturated_fat   231636 non-null  float64\n",
      " 14  Carbs           231636 non-null  float64\n",
      "dtypes: float64(7), int64(5), object(3)\n",
      "memory usage: 36.3+ MB\n"
     ]
    }
   ],
   "source": [
    "df2.info()"
   ]
  },
  {
   "cell_type": "code",
   "execution_count": 187,
   "metadata": {},
   "outputs": [],
   "source": [
    "# Check for duplicate rows, excluding the 'id' column as 'id' column is a unique identifier for each recipe\n",
    "duplicate_rows = df2.duplicated(subset=df2.columns.difference(['id'])) "
   ]
  },
  {
   "cell_type": "code",
   "execution_count": 188,
   "metadata": {},
   "outputs": [
    {
     "data": {
      "text/plain": [
       "0"
      ]
     },
     "execution_count": 188,
     "metadata": {},
     "output_type": "execute_result"
    }
   ],
   "source": [
    "# Count the number of duplicate rows and there is no duplicate rows. No need to drop duplicatets\n",
    "num_duplicate_rows = duplicate_rows.sum() \n",
    "num_duplicate_rows"
   ]
  },
  {
   "cell_type": "code",
   "execution_count": 189,
   "metadata": {},
   "outputs": [],
   "source": [
    "numeric_columns = ['minutes', 'n_steps', 'n_ingredients', 'Calories', 'Total_fat', 'Sugar', 'Sodium', 'Protein', 'Saturated_fat', 'Carbs']"
   ]
  },
  {
   "cell_type": "code",
   "execution_count": 190,
   "metadata": {},
   "outputs": [
    {
     "data": {
      "image/png": "[encoded data removed]",
      "text/plain": [
       "<Figure size 1080x720 with 10 Axes>"
      ]
     },
     "metadata": {},
     "output_type": "display_data"
    }
   ],
   "source": [
    "import matplotlib.pyplot as plt\n",
    "import seaborn as sns\n",
    "\n",
    "# Assuming you have already defined numeric_columns and df2\n",
    "\n",
    "plt.style.use('ggplot')\n",
    "fig, axis = plt.subplots(2, 5, figsize=(15, 10))\n",
    "axis = axis.ravel()\n",
    "\n",
    "for i, ax in enumerate(axis):\n",
    "    df3 = df2[numeric_columns[i]].values\n",
    "    sns.boxplot(data=df3, ax=ax)\n",
    "    ax.set(title=numeric_columns[i])\n",
    "\n",
    "plt.show()\n"
   ]
  },
  {
   "cell_type": "code",
   "execution_count": 191,
   "metadata": {},
   "outputs": [],
   "source": [
    "#we will drop the outlier from all the nurtition columns, we'll drop minutes after dropping all the nutrition segments\n",
    "drop_minutes_outliers = df2[df2['minutes']>130].index\n",
    "drop_minutes_outliers\n",
    "df2.drop(drop_minutes_outliers, inplace=True)\n",
    "\n",
    "\n",
    "drop_n_steps_outliers = df2[df2['n_steps']>25].index\n",
    "drop_n_steps_outliers\n",
    "df2.drop(drop_n_steps_outliers, inplace=True)\n",
    "\n",
    "drop_n_ingredients_outliers = df2[df2['n_ingredients']>20].index\n",
    "drop_n_ingredients_outliers\n",
    "df2.drop(drop_n_ingredients_outliers, inplace=True)\n",
    "\n",
    "drop_Calories_outliers = df2[df2['Calories']>1000].index\n",
    "drop_Calories_outliers\n",
    "df2.drop(drop_Calories_outliers, inplace=True)\n",
    "\n",
    "drop_Total_fat_outliers = df2[df2['Total_fat']>70].index\n",
    "drop_Total_fat_outliers\n",
    "df2.drop(drop_Total_fat_outliers, inplace=True)\n",
    "\n",
    "drop_Sugar_outliers = df2[df2['Sugar']>110].index\n",
    "drop_Sugar_outliers\n",
    "df2.drop(drop_Sugar_outliers, inplace=True)\n",
    "\n",
    "drop_Sodium_outliers = df2[df2['Sodium']>60].index\n",
    "drop_Sodium_outliers\n",
    "df2.drop(drop_Sodium_outliers, inplace=True)\n",
    "\n",
    "drop_Protein_outliers = df2[df2['Protein']>90].index\n",
    "drop_Protein_outliers\n",
    "df2.drop(drop_Protein_outliers, inplace=True)\n",
    "\n",
    "drop_Saturated_fat_outliers = df2[df2['Saturated_fat']>90].index\n",
    "drop_Saturated_fat_outliers\n",
    "df2.drop(drop_Saturated_fat_outliers, inplace=True)\n",
    "\n",
    "drop_Carbs_outliers = df2[df2['Carbs']>30].index\n",
    "drop_Carbs_outliers\n",
    "df2.drop(drop_Carbs_outliers, inplace=True)"
   ]
  },
  {
   "cell_type": "code",
   "execution_count": 192,
   "metadata": {},
   "outputs": [
    {
     "data": {
      "image/png": "[encoded data removed]",
      "text/plain": [
       "<Figure size 1080x720 with 10 Axes>"
      ]
     },
     "metadata": {},
     "output_type": "display_data"
    }
   ],
   "source": [
    "# give another look at the dataset distribution after removing outliers\n",
    "plt.style.use('ggplot')\n",
    "fig, axis = plt.subplots(2, 5, figsize=(15, 10))\n",
    "axis = axis.ravel()\n",
    "\n",
    "for i, ax in enumerate(axis):\n",
    "    df3 = df2[numeric_columns[i]].values\n",
    "    sns.boxplot(data=df3, ax=ax)\n",
    "    ax.set(title=numeric_columns[i])\n",
    "\n",
    "plt.show()"
   ]
  },
  {
   "cell_type": "code",
   "execution_count": 193,
   "metadata": {},
   "outputs": [
    {
     "name": "stdout",
     "output_type": "stream",
     "text": [
      "<class 'pandas.core.frame.DataFrame'>\n",
      "Int64Index: 140959 entries, 0 to 231636\n",
      "Data columns (total 15 columns):\n",
      " #   Column          Non-Null Count   Dtype  \n",
      "---  ------          --------------   -----  \n",
      " 0   name            140959 non-null  object \n",
      " 1   id              140959 non-null  int64  \n",
      " 2   minutes         140959 non-null  int64  \n",
      " 3   contributor_id  140959 non-null  int64  \n",
      " 4   tags            140959 non-null  object \n",
      " 5   n_steps         140959 non-null  int64  \n",
      " 6   ingredients     140959 non-null  object \n",
      " 7   n_ingredients   140959 non-null  int64  \n",
      " 8   Calories        140959 non-null  float64\n",
      " 9   Total_fat       140959 non-null  float64\n",
      " 10  Sugar           140959 non-null  float64\n",
      " 11  Sodium          140959 non-null  float64\n",
      " 12  Protein         140959 non-null  float64\n",
      " 13  Saturated_fat   140959 non-null  float64\n",
      " 14  Carbs           140959 non-null  float64\n",
      "dtypes: float64(7), int64(5), object(3)\n",
      "memory usage: 17.2+ MB\n"
     ]
    }
   ],
   "source": [
    "df2.info()"
   ]
  },
  {
   "cell_type": "code",
   "execution_count": 195,
   "metadata": {},
   "outputs": [
    {
     "name": "stdout",
     "output_type": "stream",
     "text": [
      "1.0841467654317023\n",
      "0.8264048528688916\n",
      "0.48092838587990017\n"
     ]
    }
   ],
   "source": [
    "# skewness helps us understand how the data is distributed. \n",
    "#Skewness of 'minutes' is 1.0841 indicates that it's a positively skewed distribution, there might be a few instances with higher 'minutes,' but most of the data is lower minutes and time-saving.\n",
    "#Skewness of 'n_steps' is 0.1558 means the distribution is nearly symmetrical. It's normal distribution meaning that the dataset involve all kinds of steps.\n",
    "#Skewness of 'n_ingredients' is 0.6749 indicates that it is moderately skewed. It's amlomost noraml distributiom but tend to be less ingredients.\n",
    "from scipy import stats\n",
    "print(stats.skew(df2['minutes']))\n",
    "print(stats.skew(df2['n_steps']))\n",
    "print(stats.skew(df2['n_ingredients']))"
   ]
  },
  {
   "cell_type": "code",
   "execution_count": 196,
   "metadata": {},
   "outputs": [
    {
     "name": "stdout",
     "output_type": "stream",
     "text": [
      "1.1558867811501647\n",
      "0.5431585483459309\n",
      "-0.015443810921659917\n"
     ]
    }
   ],
   "source": [
    "# Kurtosis of 'minutes' is 1.1559 means that there might be some outliers compared to a normal distribution. This suggests that there are extreme values in the dataset, but mostly normal distribution.\n",
    "# Kurtosis of 'n_steps': A kurtosis value of -0.8006 for the 'n_steps' column suggests that the distribution has lighter tails and is slightly less peaked compared to a normal distribution. This indicates that the 'n_steps' data is less extreme and has a flatter peak compared to a standard normal distribution.\n",
    "# Kurtosis of 'n_ingredients' is 0.8180 and suggests that the distribution is moderately peaked compared to a normal distribution. This indicates that the 'n_ingredients' data has some outliers or extreme values, but not too many.\n",
    "\n",
    "print(stats.kurtosis(df2['minutes']))\n",
    "print(stats.kurtosis(df2['n_steps']))\n",
    "print(stats.kurtosis(df2['n_ingredients']))"
   ]
  },
  {
   "cell_type": "code",
   "execution_count": 197,
   "metadata": {},
   "outputs": [
    {
     "name": "stdout",
     "output_type": "stream",
     "text": [
      "<class 'pandas.core.frame.DataFrame'>\n",
      "Int64Index: 140959 entries, 0 to 231636\n",
      "Data columns (total 15 columns):\n",
      " #   Column          Non-Null Count   Dtype  \n",
      "---  ------          --------------   -----  \n",
      " 0   name            140959 non-null  object \n",
      " 1   id              140959 non-null  int64  \n",
      " 2   minutes         140959 non-null  int64  \n",
      " 3   contributor_id  140959 non-null  int64  \n",
      " 4   tags            140959 non-null  object \n",
      " 5   n_steps         140959 non-null  int64  \n",
      " 6   ingredients     140959 non-null  object \n",
      " 7   n_ingredients   140959 non-null  int64  \n",
      " 8   Calories        140959 non-null  float64\n",
      " 9   Total_fat       140959 non-null  float64\n",
      " 10  Sugar           140959 non-null  float64\n",
      " 11  Sodium          140959 non-null  float64\n",
      " 12  Protein         140959 non-null  float64\n",
      " 13  Saturated_fat   140959 non-null  float64\n",
      " 14  Carbs           140959 non-null  float64\n",
      "dtypes: float64(7), int64(5), object(3)\n",
      "memory usage: 17.2+ MB\n"
     ]
    }
   ],
   "source": [
    "df2.info()"
   ]
  },
  {
   "cell_type": "code",
   "execution_count": 198,
   "metadata": {},
   "outputs": [],
   "source": [
    "numeric_columns = df2.select_dtypes(include=np.number).columns\n",
    "corr = df2[numeric_columns].corr()['n_steps'].sort_values()"
   ]
  },
  {
   "cell_type": "code",
   "execution_count": 199,
   "metadata": {},
   "outputs": [
    {
     "data": {
      "text/plain": [
       "contributor_id    0.021430\n",
       "Sugar             0.036877\n",
       "id                0.048049\n",
       "Sodium            0.106709\n",
       "Carbs             0.158475\n",
       "Total_fat         0.165560\n",
       "Protein           0.167827\n",
       "Saturated_fat     0.176438\n",
       "Calories          0.210358\n",
       "minutes           0.373295\n",
       "n_ingredients     0.410865\n",
       "n_steps           1.000000\n",
       "Name: n_steps, dtype: float64"
      ]
     },
     "execution_count": 199,
     "metadata": {},
     "output_type": "execute_result"
    }
   ],
   "source": [
    "corr"
   ]
  },
  {
   "cell_type": "code",
   "execution_count": 200,
   "metadata": {},
   "outputs": [],
   "source": [
    "numeric_columns = df2.select_dtypes(include=np.number).columns\n",
    "corr = df2[numeric_columns].corr()['n_ingredients'].sort_values()"
   ]
  },
  {
   "cell_type": "code",
   "execution_count": 201,
   "metadata": {},
   "outputs": [
    {
     "data": {
      "text/plain": [
       "contributor_id    0.007980\n",
       "id                0.028214\n",
       "Sugar             0.058580\n",
       "Saturated_fat     0.117728\n",
       "Total_fat         0.208688\n",
       "Carbs             0.228806\n",
       "Sodium            0.264751\n",
       "Protein           0.270037\n",
       "Calories          0.295028\n",
       "minutes           0.332106\n",
       "n_steps           0.410865\n",
       "n_ingredients     1.000000\n",
       "Name: n_ingredients, dtype: float64"
      ]
     },
     "execution_count": 201,
     "metadata": {},
     "output_type": "execute_result"
    }
   ],
   "source": [
    "corr"
   ]
  },
  {
   "cell_type": "code",
   "execution_count": 204,
   "metadata": {},
   "outputs": [],
   "source": [
    "numeric_columns = df2.select_dtypes(include=np.number).columns\n",
    "corr = df2[numeric_columns].corr()['minutes'].sort_values()"
   ]
  },
  {
   "cell_type": "code",
   "execution_count": 205,
   "metadata": {},
   "outputs": [
    {
     "data": {
      "text/plain": [
       "id               -0.033467\n",
       "contributor_id    0.002390\n",
       "Sugar             0.051889\n",
       "Carbs             0.163215\n",
       "Sodium            0.163986\n",
       "Total_fat         0.165580\n",
       "Saturated_fat     0.176883\n",
       "Protein           0.179131\n",
       "Calories          0.213715\n",
       "n_ingredients     0.332106\n",
       "n_steps           0.373295\n",
       "minutes           1.000000\n",
       "Name: minutes, dtype: float64"
      ]
     },
     "execution_count": 205,
     "metadata": {},
     "output_type": "execute_result"
    }
   ],
   "source": [
    "corr"
   ]
  },
  {
   "cell_type": "code",
   "execution_count": 206,
   "metadata": {},
   "outputs": [],
   "source": [
    "#Caluclating the confusion matrix to see if there's strong correlation between each other\n",
    "correlation_matrix = df2.corr()"
   ]
  },
  {
   "cell_type": "code",
   "execution_count": 207,
   "metadata": {},
   "outputs": [
    {
     "name": "stdout",
     "output_type": "stream",
     "text": [
      "Correlation Matrix:\n",
      "                      id   minutes  contributor_id   n_steps  n_ingredients  \\\n",
      "id              1.000000 -0.033467        0.105110  0.048049       0.028214   \n",
      "minutes        -0.033467  1.000000        0.002390  0.373295       0.332106   \n",
      "contributor_id  0.105110  0.002390        1.000000  0.021430       0.007980   \n",
      "n_steps         0.048049  0.373295        0.021430  1.000000       0.410865   \n",
      "n_ingredients   0.028214  0.332106        0.007980  0.410865       1.000000   \n",
      "Calories        0.005738  0.213715        0.004553  0.210358       0.295028   \n",
      "Total_fat       0.002042  0.165580        0.006463  0.165560       0.208688   \n",
      "Sugar          -0.014612  0.051889        0.002019  0.036877       0.058580   \n",
      "Sodium          0.004674  0.163986        0.006147  0.106709       0.264751   \n",
      "Protein        -0.003632  0.179131        0.001242  0.167827       0.270037   \n",
      "Saturated_fat  -0.020979  0.176883        0.003580  0.176438       0.117728   \n",
      "Carbs           0.008819  0.163215        0.002190  0.158475       0.228806   \n",
      "\n",
      "                Calories  Total_fat     Sugar    Sodium   Protein  \\\n",
      "id              0.005738   0.002042 -0.014612  0.004674 -0.003632   \n",
      "minutes         0.213715   0.165580  0.051889  0.163986  0.179131   \n",
      "contributor_id  0.004553   0.006463  0.002019  0.006147  0.001242   \n",
      "n_steps         0.210358   0.165560  0.036877  0.106709  0.167827   \n",
      "n_ingredients   0.295028   0.208688  0.058580  0.264751  0.270037   \n",
      "Calories        1.000000   0.808884  0.096033  0.541917  0.708649   \n",
      "Total_fat       0.808884   1.000000 -0.029463  0.439707  0.515871   \n",
      "Sugar           0.096033  -0.029463  1.000000 -0.100710 -0.152865   \n",
      "Sodium          0.541917   0.439707 -0.100710  1.000000  0.534807   \n",
      "Protein         0.708649   0.515871 -0.152865  0.534807  1.000000   \n",
      "Saturated_fat   0.667234   0.827843 -0.010070  0.378944  0.417180   \n",
      "Carbs           0.649489   0.200750  0.349133  0.287102  0.230963   \n",
      "\n",
      "                Saturated_fat     Carbs  \n",
      "id                  -0.020979  0.008819  \n",
      "minutes              0.176883  0.163215  \n",
      "contributor_id       0.003580  0.002190  \n",
      "n_steps              0.176438  0.158475  \n",
      "n_ingredients        0.117728  0.228806  \n",
      "Calories             0.667234  0.649489  \n",
      "Total_fat            0.827843  0.200750  \n",
      "Sugar               -0.010070  0.349133  \n",
      "Sodium               0.378944  0.287102  \n",
      "Protein              0.417180  0.230963  \n",
      "Saturated_fat        1.000000  0.157108  \n",
      "Carbs                0.157108  1.000000  \n"
     ]
    }
   ],
   "source": [
    "print(\"Correlation Matrix:\")\n",
    "print(correlation_matrix)"
   ]
  },
  {
   "cell_type": "code",
   "execution_count": 208,
   "metadata": {},
   "outputs": [],
   "source": [
    "#From here, we will see correlations between minutes, n_steps and n_ingredients\n",
    "variable1 = 'minutes'\n",
    "variable2 = 'n_steps'\n",
    "pearsons_corr = df2['minutes'].corr(df2['n_steps'])"
   ]
  },
  {
   "cell_type": "code",
   "execution_count": 209,
   "metadata": {},
   "outputs": [
    {
     "name": "stdout",
     "output_type": "stream",
     "text": [
      "0.3732951911224487\n"
     ]
    }
   ],
   "source": [
    "print(pearsons_corr)"
   ]
  },
  {
   "cell_type": "code",
   "execution_count": 210,
   "metadata": {},
   "outputs": [],
   "source": [
    "variable3 = 'n_ingredients'\n",
    "variable4 = 'n_steps'\n",
    "pearsons_corr = df2['n_ingredients'].corr(df2['n_steps'])"
   ]
  },
  {
   "cell_type": "code",
   "execution_count": 211,
   "metadata": {},
   "outputs": [
    {
     "name": "stdout",
     "output_type": "stream",
     "text": [
      "0.4108649885734997\n"
     ]
    }
   ],
   "source": [
    "print(pearsons_corr)"
   ]
  },
  {
   "cell_type": "code",
   "execution_count": 212,
   "metadata": {},
   "outputs": [],
   "source": [
    "variable5 = 'minutes'\n",
    "variable6 = 'n_ingredients'\n",
    "pearsons_corr = df2['minutes'].corr(df2['n_ingredients'])"
   ]
  },
  {
   "cell_type": "code",
   "execution_count": 213,
   "metadata": {},
   "outputs": [
    {
     "name": "stdout",
     "output_type": "stream",
     "text": [
      "0.33210611625275077\n"
     ]
    }
   ],
   "source": [
    "print(pearsons_corr)"
   ]
  },
  {
   "cell_type": "code",
   "execution_count": 214,
   "metadata": {},
   "outputs": [],
   "source": [
    "#From the Pearsons correlation score, we can conclude that n_steps and n_ingredients have the strongest correlation as their score is the highest."
   ]
  },
  {
   "cell_type": "code",
   "execution_count": 215,
   "metadata": {},
   "outputs": [],
   "source": [
    "#From here, we will calculate the VIF score\n",
    "from statsmodels.stats.outliers_influence import variance_inflation_factor \n",
    "from statsmodels.tools.tools import add_constant \n",
    "df_with_constant = add_constant(df2) "
   ]
  },
  {
   "cell_type": "code",
   "execution_count": 216,
   "metadata": {},
   "outputs": [],
   "source": [
    "numeric_cols = df_with_constant.select_dtypes(include=[np.number]) "
   ]
  },
  {
   "cell_type": "code",
   "execution_count": 217,
   "metadata": {},
   "outputs": [
    {
     "name": "stdout",
     "output_type": "stream",
     "text": [
      "         variables        VIF\n",
      "0            const  12.754115\n",
      "1               id   1.019133\n",
      "2          minutes   1.248221\n",
      "3   contributor_id   1.011529\n",
      "4          n_steps   1.335239\n",
      "5    n_ingredients   1.393266\n",
      "6         Calories  37.786063\n",
      "7        Total_fat  14.764736\n",
      "8            Sugar   1.244291\n",
      "9           Sodium   1.585984\n",
      "10         Protein   5.598435\n",
      "11   Saturated_fat   3.311773\n",
      "12           Carbs   9.713134\n"
     ]
    }
   ],
   "source": [
    "vif = pd.DataFrame() \n",
    "vif[\"variables\"] = numeric_cols.columns \n",
    "vif[\"VIF\"] = [variance_inflation_factor(numeric_cols.values, i) for i in range(numeric_cols.shape[1])] \n",
    "print(vif)"
   ]
  },
  {
   "cell_type": "code",
   "execution_count": 218,
   "metadata": {},
   "outputs": [],
   "source": [
    "#Explanation of the VIF scores\n",
    "#id: The VIF of 1.01 suggests that this variable is not correlated with the other variables.\n",
    "#minutes: The VIF of 7.05 indicates that this variable has a moderate level of multicollinearity with the other variables.\n",
    "#contributor_id: The VIF of 1.01 suggests that this variable is not correlated with the other variables.\n",
    "#n_steps: The VIF of 1.22 suggests that this variable has a low corrleation with other variables\n",
    "#n_ingredients: The VIF of 1.22 suggests that this variable has a low correlation with other variables.\n",
    "#sqrt_minutes: The VIF of 7.38 suggests that this variable has a moderate correlation with other variables."
   ]
  },
  {
   "cell_type": "code",
   "execution_count": 219,
   "metadata": {},
   "outputs": [],
   "source": [
    "#From here, we will begin t test and p value calcuation\n",
    "median_steps = df['n_steps'].median()\n"
   ]
  },
  {
   "cell_type": "code",
   "execution_count": 220,
   "metadata": {},
   "outputs": [],
   "source": [
    "# Preparing for the test by dividing the dataset into two categories based on the median of n_steps\n",
    "# Note to AJ and Rhaul: you can change this setting if you want. I did this bc i'm not sure what exactly feature you want\n",
    "easy_to_cook = df[df['n_steps'] <= median_steps]['n_ingredients']\n",
    "hard_to_cook = df[df['n_steps'] > median_steps]['n_ingredients']"
   ]
  },
  {
   "cell_type": "code",
   "execution_count": 221,
   "metadata": {},
   "outputs": [
    {
     "data": {
      "text/plain": [
       "(-184.60593341555162, 0.0)"
      ]
     },
     "execution_count": 221,
     "metadata": {},
     "output_type": "execute_result"
    }
   ],
   "source": [
    "# The t-statistic is -184.61 represents the significant difference between the two groups. \n",
    "# Since the p-value 0 and less than 0.05 means there's statistically significant difference between \"easy to cook\" and \"hard to cook\".\n",
    "# As t-statistic is negative, the \"easy to cook\" have fewer ingredients than the \"hard to cook\".\n",
    "t_stat, p_value = stats.ttest_ind(easy_to_cook, hard_to_cook, equal_var=False)\n",
    "\n",
    "t_stat, p_value"
   ]
  },
  {
   "cell_type": "code",
   "execution_count": null,
   "metadata": {},
   "outputs": [],
   "source": []
  }
 ],
 "metadata": {
  "kernelspec": {
   "display_name": "base",
   "language": "python",
   "name": "python3"
  },
  "language_info": {
   "codemirror_mode": {
    "name": "ipython",
    "version": 3
   },
   "file_extension": ".py",
   "mimetype": "text/x-python",
   "name": "python",
   "nbconvert_exporter": "python",
   "pygments_lexer": "ipython3",
   "version": "3.9.12"
  },
  "orig_nbformat": 4
 },
 "nbformat": 4,
 "nbformat_minor": 2
}
