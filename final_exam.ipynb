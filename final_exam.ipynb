{
 "cells": [
  {
   "cell_type": "markdown",
   "metadata": {},
   "source": [
    "##What are the characteristics of users who convert (behavioural and demographic)"
   ]
  },
  {
   "cell_type": "code",
   "execution_count": 160,
   "metadata": {},
   "outputs": [],
   "source": [
    "import pandas as pd\n",
    "import numpy as np\n",
    "from sklearn.preprocessing import OneHotEncoder, StandardScaler\n",
    "from sklearn.model_selection import train_test_split, cross_val_score, RandomizedSearchCV\n",
    "from sklearn.naive_bayes import GaussianNB\n",
    "from sklearn.neighbors import KNeighborsClassifier\n",
    "from sklearn.linear_model import LogisticRegression\n",
    "from sklearn.metrics import f1_score, recall_score, precision_recall_curve, precision_score, roc_auc_score, roc_curve, accuracy_score\n",
    "import matplotlib.pyplot as plt\n",
    "import seaborn as sns\n",
    "from sklearn.model_selection import train_test_split, cross_val_score, GridSearchCV, RandomizedSearchCV\n",
    "from sklearn.preprocessing import StandardScaler, OneHotEncoder\n",
    "from sklearn.compose import ColumnTransformer\n",
    "from sklearn.naive_bayes import GaussianNB\n",
    "from sklearn.neighbors import KNeighborsClassifier\n",
    "from sklearn.linear_model import LogisticRegression\n",
    "from sklearn.svm import SVC\n",
    "from sklearn.metrics import confusion_matrix, accuracy_score, precision_score, recall_score, f1_score, roc_curve, auc, precision_recall_curve\n",
    "from sklearn.pipeline import Pipeline\n"
   ]
  },
  {
   "cell_type": "code",
   "execution_count": 161,
   "metadata": {},
   "outputs": [],
   "source": [
    "import pandas as pd\n",
    "import numpy as np\n",
    "import matplotlib.pyplot as plt\n",
    "import seaborn as sns\n",
    "from sklearn.model_selection import train_test_split, cross_val_score, GridSearchCV, RandomizedSearchCV\n",
    "from sklearn.preprocessing import StandardScaler, OneHotEncoder\n",
    "from sklearn.compose import ColumnTransformer\n",
    "from sklearn.naive_bayes import GaussianNB\n",
    "from sklearn.neighbors import KNeighborsClassifier\n",
    "from sklearn.metrics import confusion_matrix, accuracy_score, precision_score, recall_score, f1_score, roc_curve, auc, precision_recall_curve\n",
    "from sklearn.pipeline import Pipeline\n",
    "from sklearn.linear_model import LogisticRegression\n",
    "from scipy.stats import zscore\n",
    "from scipy.stats import skew, kurtosis\n",
    "from sklearn.svm import SVC"
   ]
  },
  {
   "cell_type": "code",
   "execution_count": 162,
   "metadata": {},
   "outputs": [],
   "source": [
    "df = pd.read_csv('/Users/youziya/Downloads/conversion_data.csv')"
   ]
  },
  {
   "cell_type": "code",
   "execution_count": 163,
   "metadata": {},
   "outputs": [
    {
     "data": {
      "text/html": [
       "<div>\n",
       "<style scoped>\n",
       "    .dataframe tbody tr th:only-of-type {\n",
       "        vertical-align: middle;\n",
       "    }\n",
       "\n",
       "    .dataframe tbody tr th {\n",
       "        vertical-align: top;\n",
       "    }\n",
       "\n",
       "    .dataframe thead th {\n",
       "        text-align: right;\n",
       "    }\n",
       "</style>\n",
       "<table border=\"1\" class=\"dataframe\">\n",
       "  <thead>\n",
       "    <tr style=\"text-align: right;\">\n",
       "      <th></th>\n",
       "      <th>Unnamed: 0</th>\n",
       "      <th>visitor_id</th>\n",
       "      <th>visitor_location</th>\n",
       "      <th>marketing_channel</th>\n",
       "      <th>gender</th>\n",
       "      <th>product_views_Mon</th>\n",
       "      <th>product_views_Tue</th>\n",
       "      <th>product_views_Wed</th>\n",
       "      <th>product_views_Thu</th>\n",
       "      <th>product_views_Fri</th>\n",
       "      <th>...</th>\n",
       "      <th>time_on_site_Tue</th>\n",
       "      <th>time_on_site_Wed</th>\n",
       "      <th>time_on_site_Thu</th>\n",
       "      <th>time_on_site_Fri</th>\n",
       "      <th>pages_visited_Mon</th>\n",
       "      <th>pages_visited_Tue</th>\n",
       "      <th>pages_visited_Wed</th>\n",
       "      <th>pages_visited_Thu</th>\n",
       "      <th>pages_visited_Fri</th>\n",
       "      <th>converted_Fri</th>\n",
       "    </tr>\n",
       "  </thead>\n",
       "  <tbody>\n",
       "    <tr>\n",
       "      <th>0</th>\n",
       "      <td>0</td>\n",
       "      <td>1</td>\n",
       "      <td>North America</td>\n",
       "      <td>youtube</td>\n",
       "      <td>M</td>\n",
       "      <td>4</td>\n",
       "      <td>5</td>\n",
       "      <td>2</td>\n",
       "      <td>1</td>\n",
       "      <td>2</td>\n",
       "      <td>...</td>\n",
       "      <td>33</td>\n",
       "      <td>23</td>\n",
       "      <td>46</td>\n",
       "      <td>57</td>\n",
       "      <td>4</td>\n",
       "      <td>5</td>\n",
       "      <td>5</td>\n",
       "      <td>4</td>\n",
       "      <td>6</td>\n",
       "      <td>1</td>\n",
       "    </tr>\n",
       "    <tr>\n",
       "      <th>1</th>\n",
       "      <td>1</td>\n",
       "      <td>2</td>\n",
       "      <td>South America</td>\n",
       "      <td>organic</td>\n",
       "      <td>F</td>\n",
       "      <td>2</td>\n",
       "      <td>5</td>\n",
       "      <td>0</td>\n",
       "      <td>1</td>\n",
       "      <td>5</td>\n",
       "      <td>...</td>\n",
       "      <td>28</td>\n",
       "      <td>39</td>\n",
       "      <td>24</td>\n",
       "      <td>51</td>\n",
       "      <td>5</td>\n",
       "      <td>6</td>\n",
       "      <td>7</td>\n",
       "      <td>6</td>\n",
       "      <td>2</td>\n",
       "      <td>0</td>\n",
       "    </tr>\n",
       "    <tr>\n",
       "      <th>2</th>\n",
       "      <td>2</td>\n",
       "      <td>3</td>\n",
       "      <td>Australia</td>\n",
       "      <td>instagram</td>\n",
       "      <td>M</td>\n",
       "      <td>3</td>\n",
       "      <td>4</td>\n",
       "      <td>0</td>\n",
       "      <td>-3</td>\n",
       "      <td>5</td>\n",
       "      <td>...</td>\n",
       "      <td>34</td>\n",
       "      <td>22</td>\n",
       "      <td>34</td>\n",
       "      <td>31</td>\n",
       "      <td>1</td>\n",
       "      <td>3</td>\n",
       "      <td>3</td>\n",
       "      <td>2</td>\n",
       "      <td>3</td>\n",
       "      <td>1</td>\n",
       "    </tr>\n",
       "    <tr>\n",
       "      <th>3</th>\n",
       "      <td>3</td>\n",
       "      <td>4</td>\n",
       "      <td>North America</td>\n",
       "      <td>facebook</td>\n",
       "      <td>M</td>\n",
       "      <td>1</td>\n",
       "      <td>0</td>\n",
       "      <td>0</td>\n",
       "      <td>5</td>\n",
       "      <td>0</td>\n",
       "      <td>...</td>\n",
       "      <td>26</td>\n",
       "      <td>43</td>\n",
       "      <td>22</td>\n",
       "      <td>39</td>\n",
       "      <td>3</td>\n",
       "      <td>4</td>\n",
       "      <td>7</td>\n",
       "      <td>7</td>\n",
       "      <td>1</td>\n",
       "      <td>0</td>\n",
       "    </tr>\n",
       "    <tr>\n",
       "      <th>4</th>\n",
       "      <td>4</td>\n",
       "      <td>5</td>\n",
       "      <td>Asia</td>\n",
       "      <td>instagram</td>\n",
       "      <td>F</td>\n",
       "      <td>1</td>\n",
       "      <td>5</td>\n",
       "      <td>2</td>\n",
       "      <td>2</td>\n",
       "      <td>3</td>\n",
       "      <td>...</td>\n",
       "      <td>54</td>\n",
       "      <td>30</td>\n",
       "      <td>47</td>\n",
       "      <td>57</td>\n",
       "      <td>6</td>\n",
       "      <td>6</td>\n",
       "      <td>5</td>\n",
       "      <td>2</td>\n",
       "      <td>4</td>\n",
       "      <td>1</td>\n",
       "    </tr>\n",
       "  </tbody>\n",
       "</table>\n",
       "<p>5 rows × 31 columns</p>\n",
       "</div>"
      ],
      "text/plain": [
       "   Unnamed: 0  visitor_id visitor_location marketing_channel gender  \\\n",
       "0           0           1    North America           youtube      M   \n",
       "1           1           2    South America           organic      F   \n",
       "2           2           3        Australia         instagram      M   \n",
       "3           3           4    North America          facebook      M   \n",
       "4           4           5             Asia         instagram      F   \n",
       "\n",
       "   product_views_Mon  product_views_Tue  product_views_Wed  product_views_Thu  \\\n",
       "0                  4                  5                  2                  1   \n",
       "1                  2                  5                  0                  1   \n",
       "2                  3                  4                  0                 -3   \n",
       "3                  1                  0                  0                  5   \n",
       "4                  1                  5                  2                  2   \n",
       "\n",
       "   product_views_Fri  ...  time_on_site_Tue  time_on_site_Wed  \\\n",
       "0                  2  ...                33                23   \n",
       "1                  5  ...                28                39   \n",
       "2                  5  ...                34                22   \n",
       "3                  0  ...                26                43   \n",
       "4                  3  ...                54                30   \n",
       "\n",
       "   time_on_site_Thu  time_on_site_Fri  pages_visited_Mon  pages_visited_Tue  \\\n",
       "0                46                57                  4                  5   \n",
       "1                24                51                  5                  6   \n",
       "2                34                31                  1                  3   \n",
       "3                22                39                  3                  4   \n",
       "4                47                57                  6                  6   \n",
       "\n",
       "   pages_visited_Wed  pages_visited_Thu  pages_visited_Fri  converted_Fri  \n",
       "0                  5                  4                  6              1  \n",
       "1                  7                  6                  2              0  \n",
       "2                  3                  2                  3              1  \n",
       "3                  7                  7                  1              0  \n",
       "4                  5                  2                  4              1  \n",
       "\n",
       "[5 rows x 31 columns]"
      ]
     },
     "execution_count": 163,
     "metadata": {},
     "output_type": "execute_result"
    }
   ],
   "source": [
    "df.head()"
   ]
  },
  {
   "cell_type": "code",
   "execution_count": 164,
   "metadata": {},
   "outputs": [
    {
     "name": "stdout",
     "output_type": "stream",
     "text": [
      "<class 'pandas.core.frame.DataFrame'>\n",
      "RangeIndex: 2000 entries, 0 to 1999\n",
      "Data columns (total 31 columns):\n",
      " #   Column             Non-Null Count  Dtype  \n",
      "---  ------             --------------  -----  \n",
      " 0   Unnamed: 0         2000 non-null   int64  \n",
      " 1   visitor_id         2000 non-null   int64  \n",
      " 2   visitor_location   2000 non-null   object \n",
      " 3   marketing_channel  2000 non-null   object \n",
      " 4   gender             2000 non-null   object \n",
      " 5   product_views_Mon  2000 non-null   int64  \n",
      " 6   product_views_Tue  2000 non-null   int64  \n",
      " 7   product_views_Wed  2000 non-null   int64  \n",
      " 8   product_views_Thu  2000 non-null   int64  \n",
      " 9   product_views_Fri  2000 non-null   int64  \n",
      " 10  avg_rating_Mon     2000 non-null   float64\n",
      " 11  avg_rating_Tue     2000 non-null   float64\n",
      " 12  avg_rating_Wed     2000 non-null   float64\n",
      " 13  avg_rating_Thu     2000 non-null   float64\n",
      " 14  avg_rating_Fri     2000 non-null   float64\n",
      " 15  avg_price_Mon      2000 non-null   float64\n",
      " 16  avg_price_Tue      2000 non-null   float64\n",
      " 17  avg_price_Wed      2000 non-null   float64\n",
      " 18  avg_price_Thu      2000 non-null   float64\n",
      " 19  avg_price_Fri      2000 non-null   float64\n",
      " 20  time_on_site_Mon   2000 non-null   int64  \n",
      " 21  time_on_site_Tue   2000 non-null   int64  \n",
      " 22  time_on_site_Wed   2000 non-null   int64  \n",
      " 23  time_on_site_Thu   2000 non-null   int64  \n",
      " 24  time_on_site_Fri   2000 non-null   int64  \n",
      " 25  pages_visited_Mon  2000 non-null   int64  \n",
      " 26  pages_visited_Tue  2000 non-null   int64  \n",
      " 27  pages_visited_Wed  2000 non-null   int64  \n",
      " 28  pages_visited_Thu  2000 non-null   int64  \n",
      " 29  pages_visited_Fri  2000 non-null   int64  \n",
      " 30  converted_Fri      2000 non-null   int64  \n",
      "dtypes: float64(10), int64(18), object(3)\n",
      "memory usage: 484.5+ KB\n"
     ]
    }
   ],
   "source": [
    "df.info()"
   ]
  },
  {
   "cell_type": "code",
   "execution_count": 192,
   "metadata": {},
   "outputs": [
    {
     "data": {
      "text/html": [
       "<div>\n",
       "<style scoped>\n",
       "    .dataframe tbody tr th:only-of-type {\n",
       "        vertical-align: middle;\n",
       "    }\n",
       "\n",
       "    .dataframe tbody tr th {\n",
       "        vertical-align: top;\n",
       "    }\n",
       "\n",
       "    .dataframe thead th {\n",
       "        text-align: right;\n",
       "    }\n",
       "</style>\n",
       "<table border=\"1\" class=\"dataframe\">\n",
       "  <thead>\n",
       "    <tr style=\"text-align: right;\">\n",
       "      <th></th>\n",
       "      <th>visitor_id</th>\n",
       "      <th>visitor_location</th>\n",
       "      <th>marketing_channel</th>\n",
       "      <th>gender</th>\n",
       "      <th>product_views_Mon</th>\n",
       "      <th>product_views_Tue</th>\n",
       "      <th>product_views_Wed</th>\n",
       "      <th>product_views_Thu</th>\n",
       "      <th>product_views_Fri</th>\n",
       "      <th>avg_rating_Mon</th>\n",
       "      <th>...</th>\n",
       "      <th>time_on_site_Tue</th>\n",
       "      <th>time_on_site_Wed</th>\n",
       "      <th>time_on_site_Thu</th>\n",
       "      <th>time_on_site_Fri</th>\n",
       "      <th>pages_visited_Mon</th>\n",
       "      <th>pages_visited_Tue</th>\n",
       "      <th>pages_visited_Wed</th>\n",
       "      <th>pages_visited_Thu</th>\n",
       "      <th>pages_visited_Fri</th>\n",
       "      <th>converted_Fri</th>\n",
       "    </tr>\n",
       "  </thead>\n",
       "  <tbody>\n",
       "    <tr>\n",
       "      <th>0</th>\n",
       "      <td>1</td>\n",
       "      <td>North America</td>\n",
       "      <td>youtube</td>\n",
       "      <td>M</td>\n",
       "      <td>4</td>\n",
       "      <td>5</td>\n",
       "      <td>2</td>\n",
       "      <td>1</td>\n",
       "      <td>2</td>\n",
       "      <td>3.90</td>\n",
       "      <td>...</td>\n",
       "      <td>33</td>\n",
       "      <td>23</td>\n",
       "      <td>46</td>\n",
       "      <td>57</td>\n",
       "      <td>4</td>\n",
       "      <td>5</td>\n",
       "      <td>5</td>\n",
       "      <td>4</td>\n",
       "      <td>6</td>\n",
       "      <td>1</td>\n",
       "    </tr>\n",
       "    <tr>\n",
       "      <th>1</th>\n",
       "      <td>2</td>\n",
       "      <td>South America</td>\n",
       "      <td>organic</td>\n",
       "      <td>F</td>\n",
       "      <td>2</td>\n",
       "      <td>5</td>\n",
       "      <td>0</td>\n",
       "      <td>1</td>\n",
       "      <td>5</td>\n",
       "      <td>1.31</td>\n",
       "      <td>...</td>\n",
       "      <td>28</td>\n",
       "      <td>39</td>\n",
       "      <td>24</td>\n",
       "      <td>51</td>\n",
       "      <td>5</td>\n",
       "      <td>6</td>\n",
       "      <td>7</td>\n",
       "      <td>6</td>\n",
       "      <td>2</td>\n",
       "      <td>0</td>\n",
       "    </tr>\n",
       "    <tr>\n",
       "      <th>2</th>\n",
       "      <td>3</td>\n",
       "      <td>Australia</td>\n",
       "      <td>instagram</td>\n",
       "      <td>M</td>\n",
       "      <td>3</td>\n",
       "      <td>4</td>\n",
       "      <td>0</td>\n",
       "      <td>-3</td>\n",
       "      <td>5</td>\n",
       "      <td>3.26</td>\n",
       "      <td>...</td>\n",
       "      <td>34</td>\n",
       "      <td>22</td>\n",
       "      <td>34</td>\n",
       "      <td>31</td>\n",
       "      <td>1</td>\n",
       "      <td>3</td>\n",
       "      <td>3</td>\n",
       "      <td>2</td>\n",
       "      <td>3</td>\n",
       "      <td>1</td>\n",
       "    </tr>\n",
       "    <tr>\n",
       "      <th>3</th>\n",
       "      <td>4</td>\n",
       "      <td>North America</td>\n",
       "      <td>facebook</td>\n",
       "      <td>M</td>\n",
       "      <td>1</td>\n",
       "      <td>0</td>\n",
       "      <td>0</td>\n",
       "      <td>5</td>\n",
       "      <td>0</td>\n",
       "      <td>2.66</td>\n",
       "      <td>...</td>\n",
       "      <td>26</td>\n",
       "      <td>43</td>\n",
       "      <td>22</td>\n",
       "      <td>39</td>\n",
       "      <td>3</td>\n",
       "      <td>4</td>\n",
       "      <td>7</td>\n",
       "      <td>7</td>\n",
       "      <td>1</td>\n",
       "      <td>0</td>\n",
       "    </tr>\n",
       "    <tr>\n",
       "      <th>4</th>\n",
       "      <td>5</td>\n",
       "      <td>Asia</td>\n",
       "      <td>instagram</td>\n",
       "      <td>F</td>\n",
       "      <td>1</td>\n",
       "      <td>5</td>\n",
       "      <td>2</td>\n",
       "      <td>2</td>\n",
       "      <td>3</td>\n",
       "      <td>2.76</td>\n",
       "      <td>...</td>\n",
       "      <td>54</td>\n",
       "      <td>30</td>\n",
       "      <td>47</td>\n",
       "      <td>57</td>\n",
       "      <td>6</td>\n",
       "      <td>6</td>\n",
       "      <td>5</td>\n",
       "      <td>2</td>\n",
       "      <td>4</td>\n",
       "      <td>1</td>\n",
       "    </tr>\n",
       "    <tr>\n",
       "      <th>...</th>\n",
       "      <td>...</td>\n",
       "      <td>...</td>\n",
       "      <td>...</td>\n",
       "      <td>...</td>\n",
       "      <td>...</td>\n",
       "      <td>...</td>\n",
       "      <td>...</td>\n",
       "      <td>...</td>\n",
       "      <td>...</td>\n",
       "      <td>...</td>\n",
       "      <td>...</td>\n",
       "      <td>...</td>\n",
       "      <td>...</td>\n",
       "      <td>...</td>\n",
       "      <td>...</td>\n",
       "      <td>...</td>\n",
       "      <td>...</td>\n",
       "      <td>...</td>\n",
       "      <td>...</td>\n",
       "      <td>...</td>\n",
       "      <td>...</td>\n",
       "    </tr>\n",
       "    <tr>\n",
       "      <th>1995</th>\n",
       "      <td>1996</td>\n",
       "      <td>Europe</td>\n",
       "      <td>organic</td>\n",
       "      <td>F</td>\n",
       "      <td>3</td>\n",
       "      <td>0</td>\n",
       "      <td>0</td>\n",
       "      <td>4</td>\n",
       "      <td>2</td>\n",
       "      <td>4.80</td>\n",
       "      <td>...</td>\n",
       "      <td>22</td>\n",
       "      <td>51</td>\n",
       "      <td>44</td>\n",
       "      <td>29</td>\n",
       "      <td>5</td>\n",
       "      <td>1</td>\n",
       "      <td>5</td>\n",
       "      <td>7</td>\n",
       "      <td>7</td>\n",
       "      <td>0</td>\n",
       "    </tr>\n",
       "    <tr>\n",
       "      <th>1996</th>\n",
       "      <td>1997</td>\n",
       "      <td>South America</td>\n",
       "      <td>google</td>\n",
       "      <td>M</td>\n",
       "      <td>1</td>\n",
       "      <td>2</td>\n",
       "      <td>0</td>\n",
       "      <td>4</td>\n",
       "      <td>1</td>\n",
       "      <td>1.34</td>\n",
       "      <td>...</td>\n",
       "      <td>54</td>\n",
       "      <td>33</td>\n",
       "      <td>59</td>\n",
       "      <td>38</td>\n",
       "      <td>1</td>\n",
       "      <td>6</td>\n",
       "      <td>6</td>\n",
       "      <td>7</td>\n",
       "      <td>6</td>\n",
       "      <td>0</td>\n",
       "    </tr>\n",
       "    <tr>\n",
       "      <th>1997</th>\n",
       "      <td>1998</td>\n",
       "      <td>Asia</td>\n",
       "      <td>facebook</td>\n",
       "      <td>M</td>\n",
       "      <td>2</td>\n",
       "      <td>3</td>\n",
       "      <td>0</td>\n",
       "      <td>0</td>\n",
       "      <td>8</td>\n",
       "      <td>2.56</td>\n",
       "      <td>...</td>\n",
       "      <td>32</td>\n",
       "      <td>30</td>\n",
       "      <td>48</td>\n",
       "      <td>38</td>\n",
       "      <td>2</td>\n",
       "      <td>1</td>\n",
       "      <td>7</td>\n",
       "      <td>6</td>\n",
       "      <td>4</td>\n",
       "      <td>0</td>\n",
       "    </tr>\n",
       "    <tr>\n",
       "      <th>1998</th>\n",
       "      <td>1999</td>\n",
       "      <td>South America</td>\n",
       "      <td>youtube</td>\n",
       "      <td>F</td>\n",
       "      <td>2</td>\n",
       "      <td>2</td>\n",
       "      <td>2</td>\n",
       "      <td>5</td>\n",
       "      <td>5</td>\n",
       "      <td>4.49</td>\n",
       "      <td>...</td>\n",
       "      <td>21</td>\n",
       "      <td>51</td>\n",
       "      <td>41</td>\n",
       "      <td>56</td>\n",
       "      <td>6</td>\n",
       "      <td>4</td>\n",
       "      <td>2</td>\n",
       "      <td>2</td>\n",
       "      <td>3</td>\n",
       "      <td>1</td>\n",
       "    </tr>\n",
       "    <tr>\n",
       "      <th>1999</th>\n",
       "      <td>2000</td>\n",
       "      <td>North America</td>\n",
       "      <td>instagram</td>\n",
       "      <td>F</td>\n",
       "      <td>2</td>\n",
       "      <td>1</td>\n",
       "      <td>1</td>\n",
       "      <td>5</td>\n",
       "      <td>1</td>\n",
       "      <td>3.95</td>\n",
       "      <td>...</td>\n",
       "      <td>21</td>\n",
       "      <td>45</td>\n",
       "      <td>59</td>\n",
       "      <td>21</td>\n",
       "      <td>4</td>\n",
       "      <td>5</td>\n",
       "      <td>7</td>\n",
       "      <td>3</td>\n",
       "      <td>1</td>\n",
       "      <td>1</td>\n",
       "    </tr>\n",
       "  </tbody>\n",
       "</table>\n",
       "<p>2000 rows × 30 columns</p>\n",
       "</div>"
      ],
      "text/plain": [
       "      visitor_id visitor_location marketing_channel gender  product_views_Mon  \\\n",
       "0              1    North America           youtube      M                  4   \n",
       "1              2    South America           organic      F                  2   \n",
       "2              3        Australia         instagram      M                  3   \n",
       "3              4    North America          facebook      M                  1   \n",
       "4              5             Asia         instagram      F                  1   \n",
       "...          ...              ...               ...    ...                ...   \n",
       "1995        1996           Europe           organic      F                  3   \n",
       "1996        1997    South America            google      M                  1   \n",
       "1997        1998             Asia          facebook      M                  2   \n",
       "1998        1999    South America           youtube      F                  2   \n",
       "1999        2000    North America         instagram      F                  2   \n",
       "\n",
       "      product_views_Tue  product_views_Wed  product_views_Thu  \\\n",
       "0                     5                  2                  1   \n",
       "1                     5                  0                  1   \n",
       "2                     4                  0                 -3   \n",
       "3                     0                  0                  5   \n",
       "4                     5                  2                  2   \n",
       "...                 ...                ...                ...   \n",
       "1995                  0                  0                  4   \n",
       "1996                  2                  0                  4   \n",
       "1997                  3                  0                  0   \n",
       "1998                  2                  2                  5   \n",
       "1999                  1                  1                  5   \n",
       "\n",
       "      product_views_Fri  avg_rating_Mon  ...  time_on_site_Tue  \\\n",
       "0                     2            3.90  ...                33   \n",
       "1                     5            1.31  ...                28   \n",
       "2                     5            3.26  ...                34   \n",
       "3                     0            2.66  ...                26   \n",
       "4                     3            2.76  ...                54   \n",
       "...                 ...             ...  ...               ...   \n",
       "1995                  2            4.80  ...                22   \n",
       "1996                  1            1.34  ...                54   \n",
       "1997                  8            2.56  ...                32   \n",
       "1998                  5            4.49  ...                21   \n",
       "1999                  1            3.95  ...                21   \n",
       "\n",
       "      time_on_site_Wed  time_on_site_Thu  time_on_site_Fri  pages_visited_Mon  \\\n",
       "0                   23                46                57                  4   \n",
       "1                   39                24                51                  5   \n",
       "2                   22                34                31                  1   \n",
       "3                   43                22                39                  3   \n",
       "4                   30                47                57                  6   \n",
       "...                ...               ...               ...                ...   \n",
       "1995                51                44                29                  5   \n",
       "1996                33                59                38                  1   \n",
       "1997                30                48                38                  2   \n",
       "1998                51                41                56                  6   \n",
       "1999                45                59                21                  4   \n",
       "\n",
       "      pages_visited_Tue  pages_visited_Wed  pages_visited_Thu  \\\n",
       "0                     5                  5                  4   \n",
       "1                     6                  7                  6   \n",
       "2                     3                  3                  2   \n",
       "3                     4                  7                  7   \n",
       "4                     6                  5                  2   \n",
       "...                 ...                ...                ...   \n",
       "1995                  1                  5                  7   \n",
       "1996                  6                  6                  7   \n",
       "1997                  1                  7                  6   \n",
       "1998                  4                  2                  2   \n",
       "1999                  5                  7                  3   \n",
       "\n",
       "      pages_visited_Fri  converted_Fri  \n",
       "0                     6              1  \n",
       "1                     2              0  \n",
       "2                     3              1  \n",
       "3                     1              0  \n",
       "4                     4              1  \n",
       "...                 ...            ...  \n",
       "1995                  7              0  \n",
       "1996                  6              0  \n",
       "1997                  4              0  \n",
       "1998                  3              1  \n",
       "1999                  1              1  \n",
       "\n",
       "[2000 rows x 30 columns]"
      ]
     },
     "execution_count": 192,
     "metadata": {},
     "output_type": "execute_result"
    }
   ],
   "source": [
    "df"
   ]
  },
  {
   "cell_type": "code",
   "execution_count": 165,
   "metadata": {},
   "outputs": [
    {
     "data": {
      "text/html": [
       "<div>\n",
       "<style scoped>\n",
       "    .dataframe tbody tr th:only-of-type {\n",
       "        vertical-align: middle;\n",
       "    }\n",
       "\n",
       "    .dataframe tbody tr th {\n",
       "        vertical-align: top;\n",
       "    }\n",
       "\n",
       "    .dataframe thead th {\n",
       "        text-align: right;\n",
       "    }\n",
       "</style>\n",
       "<table border=\"1\" class=\"dataframe\">\n",
       "  <thead>\n",
       "    <tr style=\"text-align: right;\">\n",
       "      <th></th>\n",
       "      <th>Unnamed: 0</th>\n",
       "      <th>visitor_id</th>\n",
       "      <th>visitor_location</th>\n",
       "      <th>marketing_channel</th>\n",
       "      <th>gender</th>\n",
       "      <th>product_views_Mon</th>\n",
       "      <th>product_views_Tue</th>\n",
       "      <th>product_views_Wed</th>\n",
       "      <th>product_views_Thu</th>\n",
       "      <th>product_views_Fri</th>\n",
       "      <th>...</th>\n",
       "      <th>time_on_site_Tue</th>\n",
       "      <th>time_on_site_Wed</th>\n",
       "      <th>time_on_site_Thu</th>\n",
       "      <th>time_on_site_Fri</th>\n",
       "      <th>pages_visited_Mon</th>\n",
       "      <th>pages_visited_Tue</th>\n",
       "      <th>pages_visited_Wed</th>\n",
       "      <th>pages_visited_Thu</th>\n",
       "      <th>pages_visited_Fri</th>\n",
       "      <th>converted_Fri</th>\n",
       "    </tr>\n",
       "  </thead>\n",
       "  <tbody>\n",
       "    <tr>\n",
       "      <th>count</th>\n",
       "      <td>2000.000000</td>\n",
       "      <td>2000.000000</td>\n",
       "      <td>2000</td>\n",
       "      <td>2000</td>\n",
       "      <td>2000</td>\n",
       "      <td>2000.000000</td>\n",
       "      <td>2000.000000</td>\n",
       "      <td>2000.000000</td>\n",
       "      <td>2000.000000</td>\n",
       "      <td>2000.000000</td>\n",
       "      <td>...</td>\n",
       "      <td>2000.000000</td>\n",
       "      <td>2000.000000</td>\n",
       "      <td>2000.000000</td>\n",
       "      <td>2000.000000</td>\n",
       "      <td>2000.000000</td>\n",
       "      <td>2000.000000</td>\n",
       "      <td>2000.000000</td>\n",
       "      <td>2000.000000</td>\n",
       "      <td>2000.000000</td>\n",
       "      <td>2000.000000</td>\n",
       "    </tr>\n",
       "    <tr>\n",
       "      <th>unique</th>\n",
       "      <td>NaN</td>\n",
       "      <td>NaN</td>\n",
       "      <td>5</td>\n",
       "      <td>5</td>\n",
       "      <td>2</td>\n",
       "      <td>NaN</td>\n",
       "      <td>NaN</td>\n",
       "      <td>NaN</td>\n",
       "      <td>NaN</td>\n",
       "      <td>NaN</td>\n",
       "      <td>...</td>\n",
       "      <td>NaN</td>\n",
       "      <td>NaN</td>\n",
       "      <td>NaN</td>\n",
       "      <td>NaN</td>\n",
       "      <td>NaN</td>\n",
       "      <td>NaN</td>\n",
       "      <td>NaN</td>\n",
       "      <td>NaN</td>\n",
       "      <td>NaN</td>\n",
       "      <td>NaN</td>\n",
       "    </tr>\n",
       "    <tr>\n",
       "      <th>top</th>\n",
       "      <td>NaN</td>\n",
       "      <td>NaN</td>\n",
       "      <td>South America</td>\n",
       "      <td>instagram</td>\n",
       "      <td>F</td>\n",
       "      <td>NaN</td>\n",
       "      <td>NaN</td>\n",
       "      <td>NaN</td>\n",
       "      <td>NaN</td>\n",
       "      <td>NaN</td>\n",
       "      <td>...</td>\n",
       "      <td>NaN</td>\n",
       "      <td>NaN</td>\n",
       "      <td>NaN</td>\n",
       "      <td>NaN</td>\n",
       "      <td>NaN</td>\n",
       "      <td>NaN</td>\n",
       "      <td>NaN</td>\n",
       "      <td>NaN</td>\n",
       "      <td>NaN</td>\n",
       "      <td>NaN</td>\n",
       "    </tr>\n",
       "    <tr>\n",
       "      <th>freq</th>\n",
       "      <td>NaN</td>\n",
       "      <td>NaN</td>\n",
       "      <td>433</td>\n",
       "      <td>431</td>\n",
       "      <td>1093</td>\n",
       "      <td>NaN</td>\n",
       "      <td>NaN</td>\n",
       "      <td>NaN</td>\n",
       "      <td>NaN</td>\n",
       "      <td>NaN</td>\n",
       "      <td>...</td>\n",
       "      <td>NaN</td>\n",
       "      <td>NaN</td>\n",
       "      <td>NaN</td>\n",
       "      <td>NaN</td>\n",
       "      <td>NaN</td>\n",
       "      <td>NaN</td>\n",
       "      <td>NaN</td>\n",
       "      <td>NaN</td>\n",
       "      <td>NaN</td>\n",
       "      <td>NaN</td>\n",
       "    </tr>\n",
       "    <tr>\n",
       "      <th>mean</th>\n",
       "      <td>999.500000</td>\n",
       "      <td>1000.500000</td>\n",
       "      <td>NaN</td>\n",
       "      <td>NaN</td>\n",
       "      <td>NaN</td>\n",
       "      <td>2.541500</td>\n",
       "      <td>2.440500</td>\n",
       "      <td>2.441000</td>\n",
       "      <td>2.256500</td>\n",
       "      <td>2.354000</td>\n",
       "      <td>...</td>\n",
       "      <td>39.776500</td>\n",
       "      <td>40.155500</td>\n",
       "      <td>40.417000</td>\n",
       "      <td>40.028500</td>\n",
       "      <td>3.946000</td>\n",
       "      <td>4.071000</td>\n",
       "      <td>4.092500</td>\n",
       "      <td>3.921000</td>\n",
       "      <td>4.089500</td>\n",
       "      <td>0.372000</td>\n",
       "    </tr>\n",
       "    <tr>\n",
       "      <th>std</th>\n",
       "      <td>577.494589</td>\n",
       "      <td>577.494589</td>\n",
       "      <td>NaN</td>\n",
       "      <td>NaN</td>\n",
       "      <td>NaN</td>\n",
       "      <td>1.704914</td>\n",
       "      <td>1.715206</td>\n",
       "      <td>2.343345</td>\n",
       "      <td>2.370974</td>\n",
       "      <td>2.335682</td>\n",
       "      <td>...</td>\n",
       "      <td>11.855624</td>\n",
       "      <td>11.757399</td>\n",
       "      <td>11.892638</td>\n",
       "      <td>11.664207</td>\n",
       "      <td>2.010001</td>\n",
       "      <td>2.012209</td>\n",
       "      <td>2.002985</td>\n",
       "      <td>2.023316</td>\n",
       "      <td>2.026954</td>\n",
       "      <td>0.483459</td>\n",
       "    </tr>\n",
       "    <tr>\n",
       "      <th>min</th>\n",
       "      <td>0.000000</td>\n",
       "      <td>1.000000</td>\n",
       "      <td>NaN</td>\n",
       "      <td>NaN</td>\n",
       "      <td>NaN</td>\n",
       "      <td>0.000000</td>\n",
       "      <td>0.000000</td>\n",
       "      <td>0.000000</td>\n",
       "      <td>-4.000000</td>\n",
       "      <td>-3.000000</td>\n",
       "      <td>...</td>\n",
       "      <td>20.000000</td>\n",
       "      <td>20.000000</td>\n",
       "      <td>20.000000</td>\n",
       "      <td>20.000000</td>\n",
       "      <td>1.000000</td>\n",
       "      <td>1.000000</td>\n",
       "      <td>1.000000</td>\n",
       "      <td>1.000000</td>\n",
       "      <td>1.000000</td>\n",
       "      <td>0.000000</td>\n",
       "    </tr>\n",
       "    <tr>\n",
       "      <th>25%</th>\n",
       "      <td>499.750000</td>\n",
       "      <td>500.750000</td>\n",
       "      <td>NaN</td>\n",
       "      <td>NaN</td>\n",
       "      <td>NaN</td>\n",
       "      <td>1.000000</td>\n",
       "      <td>1.000000</td>\n",
       "      <td>0.000000</td>\n",
       "      <td>0.000000</td>\n",
       "      <td>0.000000</td>\n",
       "      <td>...</td>\n",
       "      <td>29.000000</td>\n",
       "      <td>30.000000</td>\n",
       "      <td>30.000000</td>\n",
       "      <td>30.000000</td>\n",
       "      <td>2.000000</td>\n",
       "      <td>2.000000</td>\n",
       "      <td>2.000000</td>\n",
       "      <td>2.000000</td>\n",
       "      <td>2.000000</td>\n",
       "      <td>0.000000</td>\n",
       "    </tr>\n",
       "    <tr>\n",
       "      <th>50%</th>\n",
       "      <td>999.500000</td>\n",
       "      <td>1000.500000</td>\n",
       "      <td>NaN</td>\n",
       "      <td>NaN</td>\n",
       "      <td>NaN</td>\n",
       "      <td>3.000000</td>\n",
       "      <td>2.000000</td>\n",
       "      <td>2.000000</td>\n",
       "      <td>2.000000</td>\n",
       "      <td>2.000000</td>\n",
       "      <td>...</td>\n",
       "      <td>40.000000</td>\n",
       "      <td>40.000000</td>\n",
       "      <td>40.500000</td>\n",
       "      <td>40.000000</td>\n",
       "      <td>4.000000</td>\n",
       "      <td>4.000000</td>\n",
       "      <td>4.000000</td>\n",
       "      <td>4.000000</td>\n",
       "      <td>4.000000</td>\n",
       "      <td>0.000000</td>\n",
       "    </tr>\n",
       "    <tr>\n",
       "      <th>75%</th>\n",
       "      <td>1499.250000</td>\n",
       "      <td>1500.250000</td>\n",
       "      <td>NaN</td>\n",
       "      <td>NaN</td>\n",
       "      <td>NaN</td>\n",
       "      <td>4.000000</td>\n",
       "      <td>4.000000</td>\n",
       "      <td>4.000000</td>\n",
       "      <td>5.000000</td>\n",
       "      <td>5.000000</td>\n",
       "      <td>...</td>\n",
       "      <td>50.000000</td>\n",
       "      <td>50.000000</td>\n",
       "      <td>51.000000</td>\n",
       "      <td>50.000000</td>\n",
       "      <td>6.000000</td>\n",
       "      <td>6.000000</td>\n",
       "      <td>6.000000</td>\n",
       "      <td>6.000000</td>\n",
       "      <td>6.000000</td>\n",
       "      <td>1.000000</td>\n",
       "    </tr>\n",
       "    <tr>\n",
       "      <th>max</th>\n",
       "      <td>1999.000000</td>\n",
       "      <td>2000.000000</td>\n",
       "      <td>NaN</td>\n",
       "      <td>NaN</td>\n",
       "      <td>NaN</td>\n",
       "      <td>5.000000</td>\n",
       "      <td>5.000000</td>\n",
       "      <td>9.000000</td>\n",
       "      <td>8.000000</td>\n",
       "      <td>8.000000</td>\n",
       "      <td>...</td>\n",
       "      <td>60.000000</td>\n",
       "      <td>60.000000</td>\n",
       "      <td>60.000000</td>\n",
       "      <td>60.000000</td>\n",
       "      <td>7.000000</td>\n",
       "      <td>7.000000</td>\n",
       "      <td>7.000000</td>\n",
       "      <td>7.000000</td>\n",
       "      <td>7.000000</td>\n",
       "      <td>1.000000</td>\n",
       "    </tr>\n",
       "  </tbody>\n",
       "</table>\n",
       "<p>11 rows × 31 columns</p>\n",
       "</div>"
      ],
      "text/plain": [
       "         Unnamed: 0   visitor_id visitor_location marketing_channel gender  \\\n",
       "count   2000.000000  2000.000000             2000              2000   2000   \n",
       "unique          NaN          NaN                5                 5      2   \n",
       "top             NaN          NaN    South America         instagram      F   \n",
       "freq            NaN          NaN              433               431   1093   \n",
       "mean     999.500000  1000.500000              NaN               NaN    NaN   \n",
       "std      577.494589   577.494589              NaN               NaN    NaN   \n",
       "min        0.000000     1.000000              NaN               NaN    NaN   \n",
       "25%      499.750000   500.750000              NaN               NaN    NaN   \n",
       "50%      999.500000  1000.500000              NaN               NaN    NaN   \n",
       "75%     1499.250000  1500.250000              NaN               NaN    NaN   \n",
       "max     1999.000000  2000.000000              NaN               NaN    NaN   \n",
       "\n",
       "        product_views_Mon  product_views_Tue  product_views_Wed  \\\n",
       "count         2000.000000        2000.000000        2000.000000   \n",
       "unique                NaN                NaN                NaN   \n",
       "top                   NaN                NaN                NaN   \n",
       "freq                  NaN                NaN                NaN   \n",
       "mean             2.541500           2.440500           2.441000   \n",
       "std              1.704914           1.715206           2.343345   \n",
       "min              0.000000           0.000000           0.000000   \n",
       "25%              1.000000           1.000000           0.000000   \n",
       "50%              3.000000           2.000000           2.000000   \n",
       "75%              4.000000           4.000000           4.000000   \n",
       "max              5.000000           5.000000           9.000000   \n",
       "\n",
       "        product_views_Thu  product_views_Fri  ...  time_on_site_Tue  \\\n",
       "count         2000.000000        2000.000000  ...       2000.000000   \n",
       "unique                NaN                NaN  ...               NaN   \n",
       "top                   NaN                NaN  ...               NaN   \n",
       "freq                  NaN                NaN  ...               NaN   \n",
       "mean             2.256500           2.354000  ...         39.776500   \n",
       "std              2.370974           2.335682  ...         11.855624   \n",
       "min             -4.000000          -3.000000  ...         20.000000   \n",
       "25%              0.000000           0.000000  ...         29.000000   \n",
       "50%              2.000000           2.000000  ...         40.000000   \n",
       "75%              5.000000           5.000000  ...         50.000000   \n",
       "max              8.000000           8.000000  ...         60.000000   \n",
       "\n",
       "        time_on_site_Wed  time_on_site_Thu  time_on_site_Fri  \\\n",
       "count        2000.000000       2000.000000       2000.000000   \n",
       "unique               NaN               NaN               NaN   \n",
       "top                  NaN               NaN               NaN   \n",
       "freq                 NaN               NaN               NaN   \n",
       "mean           40.155500         40.417000         40.028500   \n",
       "std            11.757399         11.892638         11.664207   \n",
       "min            20.000000         20.000000         20.000000   \n",
       "25%            30.000000         30.000000         30.000000   \n",
       "50%            40.000000         40.500000         40.000000   \n",
       "75%            50.000000         51.000000         50.000000   \n",
       "max            60.000000         60.000000         60.000000   \n",
       "\n",
       "        pages_visited_Mon  pages_visited_Tue  pages_visited_Wed  \\\n",
       "count         2000.000000        2000.000000        2000.000000   \n",
       "unique                NaN                NaN                NaN   \n",
       "top                   NaN                NaN                NaN   \n",
       "freq                  NaN                NaN                NaN   \n",
       "mean             3.946000           4.071000           4.092500   \n",
       "std              2.010001           2.012209           2.002985   \n",
       "min              1.000000           1.000000           1.000000   \n",
       "25%              2.000000           2.000000           2.000000   \n",
       "50%              4.000000           4.000000           4.000000   \n",
       "75%              6.000000           6.000000           6.000000   \n",
       "max              7.000000           7.000000           7.000000   \n",
       "\n",
       "        pages_visited_Thu  pages_visited_Fri  converted_Fri  \n",
       "count         2000.000000        2000.000000    2000.000000  \n",
       "unique                NaN                NaN            NaN  \n",
       "top                   NaN                NaN            NaN  \n",
       "freq                  NaN                NaN            NaN  \n",
       "mean             3.921000           4.089500       0.372000  \n",
       "std              2.023316           2.026954       0.483459  \n",
       "min              1.000000           1.000000       0.000000  \n",
       "25%              2.000000           2.000000       0.000000  \n",
       "50%              4.000000           4.000000       0.000000  \n",
       "75%              6.000000           6.000000       1.000000  \n",
       "max              7.000000           7.000000       1.000000  \n",
       "\n",
       "[11 rows x 31 columns]"
      ]
     },
     "execution_count": 165,
     "metadata": {},
     "output_type": "execute_result"
    }
   ],
   "source": [
    "df.describe(include='all')"
   ]
  },
  {
   "cell_type": "markdown",
   "metadata": {},
   "source": [
    "Data cleaning\n",
    "There are no missing data. There is no null value observed and no duplicates observed. \n",
    "There is one wrong data type, I converted the converted_Fri from object type to int type.\n",
    "There are no outliers. I used the boxplot and histogram to draw graphs. Then calcualted the skeness and kurtosis. As there are many columns, I used z score to drop outliers. After dropping the outliers, the df.info remain unchanged which means most data are normally distrubuted.\n",
    "From the analysis above, we can note that exclude the visitor_location, marketing_channel, and gender column, all other columns are not object values. \n",
    "We can furthure divided these columns into numerical columns and categroical columns.\n",
    "categorical values: product views, pages visited, converted_Fri\n",
    "numerical values: avg_rating, avg_price, time_on_site\n",
    "objects but will be categorical values: location, marketing channel, and gender\n"
   ]
  },
  {
   "cell_type": "code",
   "execution_count": 188,
   "metadata": {},
   "outputs": [
    {
     "ename": "KeyError",
     "evalue": "\"['Unnamed: 0'] not found in axis\"",
     "output_type": "error",
     "traceback": [
      "\u001b[0;31m---------------------------------------------------------------------------\u001b[0m",
      "\u001b[0;31mKeyError\u001b[0m                                  Traceback (most recent call last)",
      "\u001b[1;32m/grappeefruitt/schulich_data_science/final_exam.ipynb Cell 10\u001b[0m in \u001b[0;36m<cell line: 2>\u001b[0;34m()\u001b[0m\n\u001b[1;32m      <a href='vscode-notebook-cell://github/grappeefruitt/schulich_data_science/final_exam.ipynb#Y115sdnNjb2RlLXZmcw%3D%3D?line=0'>1</a>\u001b[0m \u001b[39m# this column is not necessary for analysing\u001b[39;00m\n\u001b[0;32m----> <a href='vscode-notebook-cell://github/grappeefruitt/schulich_data_science/final_exam.ipynb#Y115sdnNjb2RlLXZmcw%3D%3D?line=1'>2</a>\u001b[0m df\u001b[39m.\u001b[39;49mdrop([\u001b[39m'\u001b[39;49m\u001b[39mUnnamed: 0\u001b[39;49m\u001b[39m'\u001b[39;49m], axis\u001b[39m=\u001b[39;49m\u001b[39m1\u001b[39;49m, inplace\u001b[39m=\u001b[39;49m\u001b[39mTrue\u001b[39;49;00m)\n",
      "File \u001b[0;32m/opt/anaconda3/lib/python3.9/site-packages/pandas/util/_decorators.py:311\u001b[0m, in \u001b[0;36mdeprecate_nonkeyword_arguments.<locals>.decorate.<locals>.wrapper\u001b[0;34m(*args, **kwargs)\u001b[0m\n\u001b[1;32m    305\u001b[0m \u001b[39mif\u001b[39;00m \u001b[39mlen\u001b[39m(args) \u001b[39m>\u001b[39m num_allow_args:\n\u001b[1;32m    306\u001b[0m     warnings\u001b[39m.\u001b[39mwarn(\n\u001b[1;32m    307\u001b[0m         msg\u001b[39m.\u001b[39mformat(arguments\u001b[39m=\u001b[39marguments),\n\u001b[1;32m    308\u001b[0m         \u001b[39mFutureWarning\u001b[39;00m,\n\u001b[1;32m    309\u001b[0m         stacklevel\u001b[39m=\u001b[39mstacklevel,\n\u001b[1;32m    310\u001b[0m     )\n\u001b[0;32m--> 311\u001b[0m \u001b[39mreturn\u001b[39;00m func(\u001b[39m*\u001b[39;49margs, \u001b[39m*\u001b[39;49m\u001b[39m*\u001b[39;49mkwargs)\n",
      "File \u001b[0;32m/opt/anaconda3/lib/python3.9/site-packages/pandas/core/frame.py:4954\u001b[0m, in \u001b[0;36mDataFrame.drop\u001b[0;34m(self, labels, axis, index, columns, level, inplace, errors)\u001b[0m\n\u001b[1;32m   4806\u001b[0m \u001b[39m@deprecate_nonkeyword_arguments\u001b[39m(version\u001b[39m=\u001b[39m\u001b[39mNone\u001b[39;00m, allowed_args\u001b[39m=\u001b[39m[\u001b[39m\"\u001b[39m\u001b[39mself\u001b[39m\u001b[39m\"\u001b[39m, \u001b[39m\"\u001b[39m\u001b[39mlabels\u001b[39m\u001b[39m\"\u001b[39m])\n\u001b[1;32m   4807\u001b[0m \u001b[39mdef\u001b[39;00m \u001b[39mdrop\u001b[39m(\n\u001b[1;32m   4808\u001b[0m     \u001b[39mself\u001b[39m,\n\u001b[0;32m   (...)\u001b[0m\n\u001b[1;32m   4815\u001b[0m     errors: \u001b[39mstr\u001b[39m \u001b[39m=\u001b[39m \u001b[39m\"\u001b[39m\u001b[39mraise\u001b[39m\u001b[39m\"\u001b[39m,\n\u001b[1;32m   4816\u001b[0m ):\n\u001b[1;32m   4817\u001b[0m     \u001b[39m\"\"\"\u001b[39;00m\n\u001b[1;32m   4818\u001b[0m \u001b[39m    Drop specified labels from rows or columns.\u001b[39;00m\n\u001b[1;32m   4819\u001b[0m \n\u001b[0;32m   (...)\u001b[0m\n\u001b[1;32m   4952\u001b[0m \u001b[39m            weight  1.0     0.8\u001b[39;00m\n\u001b[1;32m   4953\u001b[0m \u001b[39m    \"\"\"\u001b[39;00m\n\u001b[0;32m-> 4954\u001b[0m     \u001b[39mreturn\u001b[39;00m \u001b[39msuper\u001b[39;49m()\u001b[39m.\u001b[39;49mdrop(\n\u001b[1;32m   4955\u001b[0m         labels\u001b[39m=\u001b[39;49mlabels,\n\u001b[1;32m   4956\u001b[0m         axis\u001b[39m=\u001b[39;49maxis,\n\u001b[1;32m   4957\u001b[0m         index\u001b[39m=\u001b[39;49mindex,\n\u001b[1;32m   4958\u001b[0m         columns\u001b[39m=\u001b[39;49mcolumns,\n\u001b[1;32m   4959\u001b[0m         level\u001b[39m=\u001b[39;49mlevel,\n\u001b[1;32m   4960\u001b[0m         inplace\u001b[39m=\u001b[39;49minplace,\n\u001b[1;32m   4961\u001b[0m         errors\u001b[39m=\u001b[39;49merrors,\n\u001b[1;32m   4962\u001b[0m     )\n",
      "File \u001b[0;32m/opt/anaconda3/lib/python3.9/site-packages/pandas/core/generic.py:4267\u001b[0m, in \u001b[0;36mNDFrame.drop\u001b[0;34m(self, labels, axis, index, columns, level, inplace, errors)\u001b[0m\n\u001b[1;32m   4265\u001b[0m \u001b[39mfor\u001b[39;00m axis, labels \u001b[39min\u001b[39;00m axes\u001b[39m.\u001b[39mitems():\n\u001b[1;32m   4266\u001b[0m     \u001b[39mif\u001b[39;00m labels \u001b[39mis\u001b[39;00m \u001b[39mnot\u001b[39;00m \u001b[39mNone\u001b[39;00m:\n\u001b[0;32m-> 4267\u001b[0m         obj \u001b[39m=\u001b[39m obj\u001b[39m.\u001b[39;49m_drop_axis(labels, axis, level\u001b[39m=\u001b[39;49mlevel, errors\u001b[39m=\u001b[39;49merrors)\n\u001b[1;32m   4269\u001b[0m \u001b[39mif\u001b[39;00m inplace:\n\u001b[1;32m   4270\u001b[0m     \u001b[39mself\u001b[39m\u001b[39m.\u001b[39m_update_inplace(obj)\n",
      "File \u001b[0;32m/opt/anaconda3/lib/python3.9/site-packages/pandas/core/generic.py:4311\u001b[0m, in \u001b[0;36mNDFrame._drop_axis\u001b[0;34m(self, labels, axis, level, errors, consolidate, only_slice)\u001b[0m\n\u001b[1;32m   4309\u001b[0m         new_axis \u001b[39m=\u001b[39m axis\u001b[39m.\u001b[39mdrop(labels, level\u001b[39m=\u001b[39mlevel, errors\u001b[39m=\u001b[39merrors)\n\u001b[1;32m   4310\u001b[0m     \u001b[39melse\u001b[39;00m:\n\u001b[0;32m-> 4311\u001b[0m         new_axis \u001b[39m=\u001b[39m axis\u001b[39m.\u001b[39;49mdrop(labels, errors\u001b[39m=\u001b[39;49merrors)\n\u001b[1;32m   4312\u001b[0m     indexer \u001b[39m=\u001b[39m axis\u001b[39m.\u001b[39mget_indexer(new_axis)\n\u001b[1;32m   4314\u001b[0m \u001b[39m# Case for non-unique axis\u001b[39;00m\n\u001b[1;32m   4315\u001b[0m \u001b[39melse\u001b[39;00m:\n",
      "File \u001b[0;32m/opt/anaconda3/lib/python3.9/site-packages/pandas/core/indexes/base.py:6644\u001b[0m, in \u001b[0;36mIndex.drop\u001b[0;34m(self, labels, errors)\u001b[0m\n\u001b[1;32m   6642\u001b[0m \u001b[39mif\u001b[39;00m mask\u001b[39m.\u001b[39many():\n\u001b[1;32m   6643\u001b[0m     \u001b[39mif\u001b[39;00m errors \u001b[39m!=\u001b[39m \u001b[39m\"\u001b[39m\u001b[39mignore\u001b[39m\u001b[39m\"\u001b[39m:\n\u001b[0;32m-> 6644\u001b[0m         \u001b[39mraise\u001b[39;00m \u001b[39mKeyError\u001b[39;00m(\u001b[39mf\u001b[39m\u001b[39m\"\u001b[39m\u001b[39m{\u001b[39;00m\u001b[39mlist\u001b[39m(labels[mask])\u001b[39m}\u001b[39;00m\u001b[39m not found in axis\u001b[39m\u001b[39m\"\u001b[39m)\n\u001b[1;32m   6645\u001b[0m     indexer \u001b[39m=\u001b[39m indexer[\u001b[39m~\u001b[39mmask]\n\u001b[1;32m   6646\u001b[0m \u001b[39mreturn\u001b[39;00m \u001b[39mself\u001b[39m\u001b[39m.\u001b[39mdelete(indexer)\n",
      "\u001b[0;31mKeyError\u001b[0m: \"['Unnamed: 0'] not found in axis\""
     ]
    }
   ],
   "source": [
    "# this column is not necessary for analysing\n",
    "df.drop(['Unnamed: 0'], axis=1, inplace=True) = df2\n",
    "df2.columns"
   ]
  },
  {
   "cell_type": "code",
   "execution_count": 167,
   "metadata": {},
   "outputs": [
    {
     "data": {
      "text/plain": [
       "visitor_id           0\n",
       "visitor_location     0\n",
       "marketing_channel    0\n",
       "gender               0\n",
       "product_views_Mon    0\n",
       "product_views_Tue    0\n",
       "product_views_Wed    0\n",
       "product_views_Thu    0\n",
       "product_views_Fri    0\n",
       "avg_rating_Mon       0\n",
       "avg_rating_Tue       0\n",
       "avg_rating_Wed       0\n",
       "avg_rating_Thu       0\n",
       "avg_rating_Fri       0\n",
       "avg_price_Mon        0\n",
       "avg_price_Tue        0\n",
       "avg_price_Wed        0\n",
       "avg_price_Thu        0\n",
       "avg_price_Fri        0\n",
       "time_on_site_Mon     0\n",
       "time_on_site_Tue     0\n",
       "time_on_site_Wed     0\n",
       "time_on_site_Thu     0\n",
       "time_on_site_Fri     0\n",
       "pages_visited_Mon    0\n",
       "pages_visited_Tue    0\n",
       "pages_visited_Wed    0\n",
       "pages_visited_Thu    0\n",
       "pages_visited_Fri    0\n",
       "converted_Fri        0\n",
       "dtype: int64"
      ]
     },
     "execution_count": 167,
     "metadata": {},
     "output_type": "execute_result"
    }
   ],
   "source": [
    "#no columns have null value\n",
    "df.isnull().sum()"
   ]
  },
  {
   "cell_type": "code",
   "execution_count": 190,
   "metadata": {},
   "outputs": [
    {
     "name": "stdout",
     "output_type": "stream",
     "text": [
      "Unnamed: 0             int64\n",
      "visitor_id             int64\n",
      "visitor_location      object\n",
      "marketing_channel     object\n",
      "gender                object\n",
      "product_views_Mon      int64\n",
      "product_views_Tue      int64\n",
      "product_views_Wed      int64\n",
      "product_views_Thu      int64\n",
      "product_views_Fri      int64\n",
      "avg_rating_Mon       float64\n",
      "avg_rating_Tue       float64\n",
      "avg_rating_Wed       float64\n",
      "avg_rating_Thu       float64\n",
      "avg_rating_Fri       float64\n",
      "avg_price_Mon        float64\n",
      "avg_price_Tue        float64\n",
      "avg_price_Wed        float64\n",
      "avg_price_Thu        float64\n",
      "avg_price_Fri        float64\n",
      "time_on_site_Mon       int64\n",
      "time_on_site_Tue       int64\n",
      "time_on_site_Wed       int64\n",
      "time_on_site_Thu       int64\n",
      "time_on_site_Fri       int64\n",
      "pages_visited_Mon      int64\n",
      "pages_visited_Tue      int64\n",
      "pages_visited_Wed      int64\n",
      "pages_visited_Thu      int64\n",
      "pages_visited_Fri      int64\n",
      "converted_Fri          int64\n",
      "dtype: object\n",
      "      Unnamed: 0  visitor_id visitor_location marketing_channel gender  \\\n",
      "0              0           1              NaN           youtube      M   \n",
      "1              1           2              NaN           organic      F   \n",
      "2              2           3              NaN         instagram      M   \n",
      "3              3           4              NaN          facebook      M   \n",
      "4              4           5              NaN         instagram      F   \n",
      "...          ...         ...              ...               ...    ...   \n",
      "1995        1995        1996              NaN           organic      F   \n",
      "1996        1996        1997              NaN            google      M   \n",
      "1997        1997        1998              NaN          facebook      M   \n",
      "1998        1998        1999              NaN           youtube      F   \n",
      "1999        1999        2000              NaN         instagram      F   \n",
      "\n",
      "      product_views_Mon  product_views_Tue  product_views_Wed  \\\n",
      "0                     4                  5                  2   \n",
      "1                     2                  5                  0   \n",
      "2                     3                  4                  0   \n",
      "3                     1                  0                  0   \n",
      "4                     1                  5                  2   \n",
      "...                 ...                ...                ...   \n",
      "1995                  3                  0                  0   \n",
      "1996                  1                  2                  0   \n",
      "1997                  2                  3                  0   \n",
      "1998                  2                  2                  2   \n",
      "1999                  2                  1                  1   \n",
      "\n",
      "      product_views_Thu  product_views_Fri  ...  time_on_site_Tue  \\\n",
      "0                     1                  2  ...                33   \n",
      "1                     1                  5  ...                28   \n",
      "2                    -3                  5  ...                34   \n",
      "3                     5                  0  ...                26   \n",
      "4                     2                  3  ...                54   \n",
      "...                 ...                ...  ...               ...   \n",
      "1995                  4                  2  ...                22   \n",
      "1996                  4                  1  ...                54   \n",
      "1997                  0                  8  ...                32   \n",
      "1998                  5                  5  ...                21   \n",
      "1999                  5                  1  ...                21   \n",
      "\n",
      "      time_on_site_Wed  time_on_site_Thu  time_on_site_Fri  pages_visited_Mon  \\\n",
      "0                   23                46                57                  4   \n",
      "1                   39                24                51                  5   \n",
      "2                   22                34                31                  1   \n",
      "3                   43                22                39                  3   \n",
      "4                   30                47                57                  6   \n",
      "...                ...               ...               ...                ...   \n",
      "1995                51                44                29                  5   \n",
      "1996                33                59                38                  1   \n",
      "1997                30                48                38                  2   \n",
      "1998                51                41                56                  6   \n",
      "1999                45                59                21                  4   \n",
      "\n",
      "      pages_visited_Tue  pages_visited_Wed  pages_visited_Thu  \\\n",
      "0                     5                  5                  4   \n",
      "1                     6                  7                  6   \n",
      "2                     3                  3                  2   \n",
      "3                     4                  7                  7   \n",
      "4                     6                  5                  2   \n",
      "...                 ...                ...                ...   \n",
      "1995                  1                  5                  7   \n",
      "1996                  6                  6                  7   \n",
      "1997                  1                  7                  6   \n",
      "1998                  4                  2                  2   \n",
      "1999                  5                  7                  3   \n",
      "\n",
      "      pages_visited_Fri  converted_Fri  \n",
      "0                     6              1  \n",
      "1                     2              0  \n",
      "2                     3              1  \n",
      "3                     1              0  \n",
      "4                     4              1  \n",
      "...                 ...            ...  \n",
      "1995                  7              0  \n",
      "1996                  6              0  \n",
      "1997                  4              0  \n",
      "1998                  3              1  \n",
      "1999                  1              1  \n",
      "\n",
      "[2000 rows x 31 columns]\n"
     ]
    }
   ],
   "source": [
    "df2['converted_Fri'] = df2['converted_Fri'].astype(int)\n"
   ]
  },
  {
   "cell_type": "code",
   "execution_count": 191,
   "metadata": {},
   "outputs": [
    {
     "name": "stdout",
     "output_type": "stream",
     "text": [
      "<class 'pandas.core.frame.DataFrame'>\n",
      "Int64Index: 2000 entries, 0 to 1999\n",
      "Data columns (total 31 columns):\n",
      " #   Column             Non-Null Count  Dtype  \n",
      "---  ------             --------------  -----  \n",
      " 0   Unnamed: 0         2000 non-null   int64  \n",
      " 1   visitor_id         2000 non-null   int64  \n",
      " 2   visitor_location   0 non-null      object \n",
      " 3   marketing_channel  2000 non-null   object \n",
      " 4   gender             2000 non-null   object \n",
      " 5   product_views_Mon  2000 non-null   int64  \n",
      " 6   product_views_Tue  2000 non-null   int64  \n",
      " 7   product_views_Wed  2000 non-null   int64  \n",
      " 8   product_views_Thu  2000 non-null   int64  \n",
      " 9   product_views_Fri  2000 non-null   int64  \n",
      " 10  avg_rating_Mon     2000 non-null   float64\n",
      " 11  avg_rating_Tue     2000 non-null   float64\n",
      " 12  avg_rating_Wed     2000 non-null   float64\n",
      " 13  avg_rating_Thu     2000 non-null   float64\n",
      " 14  avg_rating_Fri     2000 non-null   float64\n",
      " 15  avg_price_Mon      2000 non-null   float64\n",
      " 16  avg_price_Tue      2000 non-null   float64\n",
      " 17  avg_price_Wed      2000 non-null   float64\n",
      " 18  avg_price_Thu      2000 non-null   float64\n",
      " 19  avg_price_Fri      2000 non-null   float64\n",
      " 20  time_on_site_Mon   2000 non-null   int64  \n",
      " 21  time_on_site_Tue   2000 non-null   int64  \n",
      " 22  time_on_site_Wed   2000 non-null   int64  \n",
      " 23  time_on_site_Thu   2000 non-null   int64  \n",
      " 24  time_on_site_Fri   2000 non-null   int64  \n",
      " 25  pages_visited_Mon  2000 non-null   int64  \n",
      " 26  pages_visited_Tue  2000 non-null   int64  \n",
      " 27  pages_visited_Wed  2000 non-null   int64  \n",
      " 28  pages_visited_Thu  2000 non-null   int64  \n",
      " 29  pages_visited_Fri  2000 non-null   int64  \n",
      " 30  converted_Fri      2000 non-null   int64  \n",
      "dtypes: float64(10), int64(18), object(3)\n",
      "memory usage: 500.0+ KB\n"
     ]
    }
   ],
   "source": [
    "df2.info()"
   ]
  },
  {
   "cell_type": "code",
   "execution_count": 168,
   "metadata": {},
   "outputs": [
    {
     "name": "stdout",
     "output_type": "stream",
     "text": [
      "Empty DataFrame\n",
      "Columns: [Unnamed: 0, visitor_id, visitor_location, marketing_channel, gender, product_views_Mon, product_views_Tue, product_views_Wed, product_views_Thu, product_views_Fri, avg_rating_Mon, avg_rating_Tue, avg_rating_Wed, avg_rating_Thu, avg_rating_Fri, avg_price_Mon, avg_price_Tue, avg_price_Wed, avg_price_Thu, avg_price_Fri, time_on_site_Mon, time_on_site_Tue, time_on_site_Wed, time_on_site_Thu, time_on_site_Fri, pages_visited_Mon, pages_visited_Tue, pages_visited_Wed, pages_visited_Thu, pages_visited_Fri, converted_Fri]\n",
      "Index: []\n",
      "\n",
      "[0 rows x 31 columns]\n",
      "      Unnamed: 0  visitor_id visitor_location marketing_channel gender  \\\n",
      "0              0           1    North America           youtube      M   \n",
      "1              1           2    South America           organic      F   \n",
      "2              2           3        Australia         instagram      M   \n",
      "3              3           4    North America          facebook      M   \n",
      "4              4           5             Asia         instagram      F   \n",
      "...          ...         ...              ...               ...    ...   \n",
      "1995        1995        1996           Europe           organic      F   \n",
      "1996        1996        1997    South America            google      M   \n",
      "1997        1997        1998             Asia          facebook      M   \n",
      "1998        1998        1999    South America           youtube      F   \n",
      "1999        1999        2000    North America         instagram      F   \n",
      "\n",
      "      product_views_Mon  product_views_Tue  product_views_Wed  \\\n",
      "0                     4                  5                  2   \n",
      "1                     2                  5                  0   \n",
      "2                     3                  4                  0   \n",
      "3                     1                  0                  0   \n",
      "4                     1                  5                  2   \n",
      "...                 ...                ...                ...   \n",
      "1995                  3                  0                  0   \n",
      "1996                  1                  2                  0   \n",
      "1997                  2                  3                  0   \n",
      "1998                  2                  2                  2   \n",
      "1999                  2                  1                  1   \n",
      "\n",
      "      product_views_Thu  product_views_Fri  ...  time_on_site_Tue  \\\n",
      "0                     1                  2  ...                33   \n",
      "1                     1                  5  ...                28   \n",
      "2                    -3                  5  ...                34   \n",
      "3                     5                  0  ...                26   \n",
      "4                     2                  3  ...                54   \n",
      "...                 ...                ...  ...               ...   \n",
      "1995                  4                  2  ...                22   \n",
      "1996                  4                  1  ...                54   \n",
      "1997                  0                  8  ...                32   \n",
      "1998                  5                  5  ...                21   \n",
      "1999                  5                  1  ...                21   \n",
      "\n",
      "      time_on_site_Wed  time_on_site_Thu  time_on_site_Fri  pages_visited_Mon  \\\n",
      "0                   23                46                57                  4   \n",
      "1                   39                24                51                  5   \n",
      "2                   22                34                31                  1   \n",
      "3                   43                22                39                  3   \n",
      "4                   30                47                57                  6   \n",
      "...                ...               ...               ...                ...   \n",
      "1995                51                44                29                  5   \n",
      "1996                33                59                38                  1   \n",
      "1997                30                48                38                  2   \n",
      "1998                51                41                56                  6   \n",
      "1999                45                59                21                  4   \n",
      "\n",
      "      pages_visited_Tue  pages_visited_Wed  pages_visited_Thu  \\\n",
      "0                     5                  5                  4   \n",
      "1                     6                  7                  6   \n",
      "2                     3                  3                  2   \n",
      "3                     4                  7                  7   \n",
      "4                     6                  5                  2   \n",
      "...                 ...                ...                ...   \n",
      "1995                  1                  5                  7   \n",
      "1996                  6                  6                  7   \n",
      "1997                  1                  7                  6   \n",
      "1998                  4                  2                  2   \n",
      "1999                  5                  7                  3   \n",
      "\n",
      "      pages_visited_Fri  converted_Fri  \n",
      "0                     6              1  \n",
      "1                     2              0  \n",
      "2                     3              1  \n",
      "3                     1              0  \n",
      "4                     4              1  \n",
      "...                 ...            ...  \n",
      "1995                  7              0  \n",
      "1996                  6              0  \n",
      "1997                  4              0  \n",
      "1998                  3              1  \n",
      "1999                  1              1  \n",
      "\n",
      "[2000 rows x 31 columns]\n"
     ]
    }
   ],
   "source": [
    "import pandas as pd\n",
    "\n",
    "try:\n",
    "    df2 = pd.read_csv(\"/Users/youziya/Downloads/conversion_data.csv\")  # Replace with your actual data file\n",
    "except Exception as e:\n",
    "    print(\"Error loading data:\", e)\n",
    "\n",
    "if df2 is not None:\n",
    "    duplicate_rows = df2.duplicated(subset=df2.columns)\n",
    "    print(df2[duplicate_rows])\n",
    "    df2_cleaned = df2[~duplicate_rows]\n",
    "    print(df2_cleaned)"
   ]
  },
  {
   "cell_type": "code",
   "execution_count": 169,
   "metadata": {},
   "outputs": [],
   "source": [
    "duplicate_rows = df2.duplicated(subset=df2.columns)"
   ]
  },
  {
   "cell_type": "code",
   "execution_count": 170,
   "metadata": {},
   "outputs": [
    {
     "data": {
      "text/plain": [
       "0"
      ]
     },
     "execution_count": 170,
     "metadata": {},
     "output_type": "execute_result"
    }
   ],
   "source": [
    "num_duplicate_rows = duplicate_rows.sum() \n",
    "num_duplicate_rows"
   ]
  },
  {
   "cell_type": "code",
   "execution_count": 186,
   "metadata": {},
   "outputs": [
    {
     "data": {
      "text/plain": [
       "Index(['Unnamed: 0', 'visitor_id', 'visitor_location', 'marketing_channel',\n",
       "       'gender', 'product_views_Mon', 'product_views_Tue', 'product_views_Wed',\n",
       "       'product_views_Thu', 'product_views_Fri', 'avg_rating_Mon',\n",
       "       'avg_rating_Tue', 'avg_rating_Wed', 'avg_rating_Thu', 'avg_rating_Fri',\n",
       "       'avg_price_Mon', 'avg_price_Tue', 'avg_price_Wed', 'avg_price_Thu',\n",
       "       'avg_price_Fri', 'time_on_site_Mon', 'time_on_site_Tue',\n",
       "       'time_on_site_Wed', 'time_on_site_Thu', 'time_on_site_Fri',\n",
       "       'pages_visited_Mon', 'pages_visited_Tue', 'pages_visited_Wed',\n",
       "       'pages_visited_Thu', 'pages_visited_Fri', 'converted_Fri'],\n",
       "      dtype='object')"
      ]
     },
     "execution_count": 186,
     "metadata": {},
     "output_type": "execute_result"
    }
   ],
   "source": [
    "df2.columns"
   ]
  },
  {
   "cell_type": "code",
   "execution_count": 172,
   "metadata": {},
   "outputs": [],
   "source": [
    "numerical_columns = ['product_views_Mon', 'product_views_Tue', 'product_views_Wed',\n",
    "       'product_views_Thu', 'product_views_Fri', 'avg_rating_Mon',\n",
    "       'avg_rating_Tue', 'avg_rating_Wed', 'avg_rating_Thu', 'avg_rating_Fri',\n",
    "       'avg_price_Mon', 'avg_price_Tue', 'avg_price_Wed', 'avg_price_Thu',\n",
    "       'avg_price_Fri', 'time_on_site_Mon', 'time_on_site_Tue',\n",
    "       'time_on_site_Wed', 'time_on_site_Thu', 'time_on_site_Fri',\n",
    "       'pages_visited_Mon', 'pages_visited_Tue', 'pages_visited_Wed',\n",
    "       'pages_visited_Thu', 'pages_visited_Fri']"
   ]
  },
  {
   "cell_type": "markdown",
   "metadata": {},
   "source": [
    "#'time_on_site_Mon', 'time_on_site_Tue',\n",
    "       'time_on_site_Wed', 'time_on_site_Thu', 'time_on_site_Fri',\n",
    "       'pages_visited_Mon', 'pages_visited_Tue', 'pages_visited_Wed',\n",
    "       'pages_visited_Thu', 'pages_visited_Fri'"
   ]
  },
  {
   "cell_type": "code",
   "execution_count": 173,
   "metadata": {},
   "outputs": [
    {
     "data": {
      "image/png": "[encoded data removed]",
      "text/plain": [
       "<Figure size 576x432 with 1 Axes>"
      ]
     },
     "metadata": {
      "needs_background": "light"
     },
     "output_type": "display_data"
    },
    {
     "data": {
      "image/png": "[encoded data removed]",
      "text/plain": [
       "<Figure size 576x432 with 1 Axes>"
      ]
     },
     "metadata": {
      "needs_background": "light"
     },
     "output_type": "display_data"
    },
    {
     "data": {
      "image/png": "[encoded data removed]",
      "text/plain": [
       "<Figure size 576x432 with 1 Axes>"
      ]
     },
     "metadata": {
      "needs_background": "light"
     },
     "output_type": "display_data"
    },
    {
     "data": {
      "image/png": "[encoded data removed]",
      "text/plain": [
       "<Figure size 576x432 with 1 Axes>"
      ]
     },
     "metadata": {
      "needs_background": "light"
     },
     "output_type": "display_data"
    },
    {
     "data": {
      "image/png": "[encoded data removed]",
      "text/plain": [
       "<Figure size 576x432 with 1 Axes>"
      ]
     },
     "metadata": {
      "needs_background": "light"
     },
     "output_type": "display_data"
    },
    {
     "data": {
      "image/png": "[encoded data removed]",
      "text/plain": [
       "<Figure size 576x432 with 1 Axes>"
      ]
     },
     "metadata": {
      "needs_background": "light"
     },
     "output_type": "display_data"
    },
    {
     "data": {
      "image/png": "[encoded data removed]",
      "text/plain": [
       "<Figure size 576x432 with 1 Axes>"
      ]
     },
     "metadata": {
      "needs_background": "light"
     },
     "output_type": "display_data"
    },
    {
     "data": {
      "image/png": "[encoded data removed]",
      "text/plain": [
       "<Figure size 576x432 with 1 Axes>"
      ]
     },
     "metadata": {
      "needs_background": "light"
     },
     "output_type": "display_data"
    },
    {
     "data": {
      "image/png": "[encoded data removed]",
      "text/plain": [
       "<Figure size 576x432 with 1 Axes>"
      ]
     },
     "metadata": {
      "needs_background": "light"
     },
     "output_type": "display_data"
    },
    {
     "data": {
      "image/png": "[encoded data removed]",
      "text/plain": [
       "<Figure size 576x432 with 1 Axes>"
      ]
     },
     "metadata": {
      "needs_background": "light"
     },
     "output_type": "display_data"
    },
    {
     "data": {
      "image/png": "[encoded data removed]",
      "text/plain": [
       "<Figure size 576x432 with 1 Axes>"
      ]
     },
     "metadata": {
      "needs_background": "light"
     },
     "output_type": "display_data"
    },
    {
     "data": {
      "image/png": "[encoded data removed]",
      "text/plain": [
       "<Figure size 576x432 with 1 Axes>"
      ]
     },
     "metadata": {
      "needs_background": "light"
     },
     "output_type": "display_data"
    },
    {
     "data": {
      "image/png": "[encoded data removed]",
      "text/plain": [
       "<Figure size 576x432 with 1 Axes>"
      ]
     },
     "metadata": {
      "needs_background": "light"
     },
     "output_type": "display_data"
    },
    {
     "data": {
      "image/png": "[encoded data removed]",
      "text/plain": [
       "<Figure size 576x432 with 1 Axes>"
      ]
     },
     "metadata": {
      "needs_background": "light"
     },
     "output_type": "display_data"
    },
    {
     "data": {
      "image/png": "[encoded data removed]",
      "text/plain": [
       "<Figure size 576x432 with 1 Axes>"
      ]
     },
     "metadata": {
      "needs_background": "light"
     },
     "output_type": "display_data"
    },
    {
     "data": {
      "image/png": "[encoded data removed]",
      "text/plain": [
       "<Figure size 576x432 with 1 Axes>"
      ]
     },
     "metadata": {
      "needs_background": "light"
     },
     "output_type": "display_data"
    },
    {
     "data": {
      "image/png": "[encoded data removed]",
      "text/plain": [
       "<Figure size 576x432 with 1 Axes>"
      ]
     },
     "metadata": {
      "needs_background": "light"
     },
     "output_type": "display_data"
    },
    {
     "data": {
      "image/png": "[encoded data removed]",
      "text/plain": [
       "<Figure size 576x432 with 1 Axes>"
      ]
     },
     "metadata": {
      "needs_background": "light"
     },
     "output_type": "display_data"
    },
    {
     "data": {
      "image/png": "[encoded data removed]",
      "text/plain": [
       "<Figure size 576x432 with 1 Axes>"
      ]
     },
     "metadata": {
      "needs_background": "light"
     },
     "output_type": "display_data"
    },
    {
     "data": {
      "image/png": "[encoded data removed]",
      "text/plain": [
       "<Figure size 576x432 with 1 Axes>"
      ]
     },
     "metadata": {
      "needs_background": "light"
     },
     "output_type": "display_data"
    },
    {
     "data": {
      "image/png": "[encoded data removed]",
      "text/plain": [
       "<Figure size 576x432 with 1 Axes>"
      ]
     },
     "metadata": {
      "needs_background": "light"
     },
     "output_type": "display_data"
    },
    {
     "data": {
      "image/png": "[encoded data removed]",
      "text/plain": [
       "<Figure size 576x432 with 1 Axes>"
      ]
     },
     "metadata": {
      "needs_background": "light"
     },
     "output_type": "display_data"
    },
    {
     "data": {
      "image/png": "[encoded data removed]",
      "text/plain": [
       "<Figure size 576x432 with 1 Axes>"
      ]
     },
     "metadata": {
      "needs_background": "light"
     },
     "output_type": "display_data"
    },
    {
     "data": {
      "image/png": "[encoded data removed]",
      "text/plain": [
       "<Figure size 576x432 with 1 Axes>"
      ]
     },
     "metadata": {
      "needs_background": "light"
     },
     "output_type": "display_data"
    },
    {
     "data": {
      "image/png": "[encoded data removed]",
      "text/plain": [
       "<Figure size 576x432 with 1 Axes>"
      ]
     },
     "metadata": {
      "needs_background": "light"
     },
     "output_type": "display_data"
    }
   ],
   "source": [
    "# plot the histogram for each numerical columns\n",
    "\n",
    "num_bins = 20\n",
    "\n",
    "for column in numerical_columns:\n",
    "    plt.figure(figsize=(8, 6))  # Adjust the figure size as per your preference\n",
    "    plt.hist(df2[column], bins=num_bins, edgecolor='black', alpha=0.7)\n",
    "    plt.title(f'Histogram of {column}')\n",
    "    plt.xlabel(column)\n",
    "    plt.ylabel('Frequency')\n",
    "    plt.show()"
   ]
  },
  {
   "cell_type": "code",
   "execution_count": null,
   "metadata": {},
   "outputs": [],
   "source": [
    "#for product views\n",
    "fig, (ax1, ax2, ax3,ax4,ax5) = plt.subplots(1,5, figsize=(15,5))\n",
    "sns.boxplot(x='converted_Fri',y='product_views_Mon', data=df2, ax=ax1)\n",
    "sns.boxplot(x='converted_Fri',y='product_views_Tue',data=df2, ax=ax2)\n",
    "sns.boxplot(x='converted_Fri',y='product_views_Wed', data=df2, ax=ax3)\n",
    "sns.boxplot(x='converted_Fri',y='product_views_Thu',data=df2, ax=ax4)\n",
    "sns.boxplot(x='converted_Fri',y='product_views_Fri', data=df2, ax=ax5)\n"
   ]
  },
  {
   "cell_type": "code",
   "execution_count": null,
   "metadata": {},
   "outputs": [],
   "source": [
    "#for average rating\n",
    "fig, (ax1, ax2, ax3,ax4,ax5) = plt.subplots(1,5, figsize=(15,5))\n",
    "sns.boxplot(x='converted_Fri',y='avg_rating_Mon', data=df2, ax=ax1)\n",
    "sns.boxplot(x='converted_Fri',y='avg_rating_Tue',data=df2, ax=ax2)\n",
    "sns.boxplot(x='converted_Fri',y='avg_rating_Wed', data=df2, ax=ax3)\n",
    "sns.boxplot(x='converted_Fri',y='avg_rating_Thu',data=df2, ax=ax4)\n",
    "sns.boxplot(x='converted_Fri',y='avg_rating_Fri', data=df2, ax=ax5)\n",
    "\n",
    "      "
   ]
  },
  {
   "cell_type": "code",
   "execution_count": null,
   "metadata": {},
   "outputs": [],
   "source": [
    "#for average price\n",
    "fig, (ax1, ax2, ax3,ax4,ax5) = plt.subplots(1,5, figsize=(15,5))\n",
    "sns.boxplot(x='converted_Fri',y='avg_price_Mon', data=df2, ax=ax1)\n",
    "sns.boxplot(x='converted_Fri',y='avg_price_Tue',data=df2, ax=ax2)\n",
    "sns.boxplot(x='converted_Fri',y='avg_price_Wed', data=df2, ax=ax3)\n",
    "sns.boxplot(x='converted_Fri',y='avg_price_Thu',data=df2, ax=ax4)\n",
    "sns.boxplot(x='converted_Fri',y='avg_price_Fri', data=df2, ax=ax5)"
   ]
  },
  {
   "cell_type": "code",
   "execution_count": null,
   "metadata": {},
   "outputs": [],
   "source": [
    "#for product views\n",
    "fig, (ax1, ax2, ax3,ax4,ax5) = plt.subplots(1,5, figsize=(15,5))\n",
    "sns.boxplot(x='converted_Fri',y='time_on_site_Mon', data=df2, ax=ax1)\n",
    "sns.boxplot(x='converted_Fri',y='time_on_site_Tue',data=df2, ax=ax2)\n",
    "sns.boxplot(x='converted_Fri',y='time_on_site_Wed', data=df2, ax=ax3)\n",
    "sns.boxplot(x='converted_Fri',y='time_on_site_Thu',data=df2, ax=ax4)\n",
    "sns.boxplot(x='converted_Fri',y='time_on_site_Fri', data=df2, ax=ax5)\n"
   ]
  },
  {
   "cell_type": "code",
   "execution_count": null,
   "metadata": {},
   "outputs": [],
   "source": [
    "#for product views\n",
    "fig, (ax1, ax2, ax3,ax4,ax5) = plt.subplots(1,5, figsize=(15,5))\n",
    "sns.boxplot(x='converted_Fri',y='pages_visited_Mon', data=df2, ax=ax1)\n",
    "sns.boxplot(x='converted_Fri',y='pages_visited_Tue',data=df2, ax=ax2)\n",
    "sns.boxplot(x='converted_Fri',y='pages_visited_Wed', data=df2, ax=ax3)\n",
    "sns.boxplot(x='converted_Fri',y='pages_visited_Thu',data=df2, ax=ax4)\n",
    "sns.boxplot(x='converted_Fri',y='pages_visited_Fri', data=df2, ax=ax5)\n"
   ]
  },
  {
   "cell_type": "code",
   "execution_count": null,
   "metadata": {},
   "outputs": [],
   "source": [
    "df_anaemia = df.groupby(['DEATH_EVENT','anaemia'])[['sex']].count().unstack()\n",
    "df_anaemia['total'] = df_anaemia['sex'][0] + df_anaemia['sex'][1]\n",
    "df_anaemia['percent_0'] = df_anaemia['sex'][0] / df_anaemia['total']\n",
    "df_anaemia['percent_1'] = df_anaemia['sex'][1] / df_anaemia['total']\n",
    "df_anaemia"
   ]
  },
  {
   "cell_type": "code",
   "execution_count": 174,
   "metadata": {},
   "outputs": [
    {
     "name": "stdout",
     "output_type": "stream",
     "text": [
      "product_views_Mon: skewness = -0.04339723992227179, kurtosis = -1.2595334694359583\n",
      "product_views_Tue: skewness = 0.05239895534857225, kurtosis = -1.278349926686584\n",
      "product_views_Wed: skewness = 0.7078649532941341, kurtosis = -0.35422487943281133\n",
      "product_views_Thu: skewness = 0.18508333245295, kurtosis = -1.019154529926297\n",
      "product_views_Fri: skewness = 0.19578852072874067, kurtosis = -1.230292770208432\n",
      "avg_rating_Mon: skewness = -0.036569401570234646, kurtosis = -1.2192260019428236\n",
      "avg_rating_Tue: skewness = -0.04306188757167769, kurtosis = -1.192970789047595\n",
      "avg_rating_Wed: skewness = 0.04108520953174745, kurtosis = -1.175952222375065\n",
      "avg_rating_Thu: skewness = -0.021059652207191585, kurtosis = -1.1665255431135517\n",
      "avg_rating_Fri: skewness = 0.0011903008781474437, kurtosis = -1.2093578638463074\n",
      "avg_price_Mon: skewness = 0.04475490871743474, kurtosis = -1.2066916544930508\n",
      "avg_price_Tue: skewness = 0.02480764664794289, kurtosis = -1.2566830578426142\n",
      "avg_price_Wed: skewness = -0.011190086926561342, kurtosis = -1.2246138048981183\n",
      "avg_price_Thu: skewness = -0.0024596812160298524, kurtosis = -1.2119026843095375\n",
      "avg_price_Fri: skewness = -0.05371918441986527, kurtosis = -1.198569783783552\n",
      "time_on_site_Mon: skewness = 0.00775495824309856, kurtosis = -1.1834401349813246\n",
      "time_on_site_Tue: skewness = 0.026756044875422436, kurtosis = -1.207058766468054\n",
      "time_on_site_Wed: skewness = -0.015447072259302247, kurtosis = -1.1803177181842908\n",
      "time_on_site_Thu: skewness = -0.03831454993741832, kurtosis = -1.2159987351900767\n",
      "time_on_site_Fri: skewness = -0.017671746155822867, kurtosis = -1.1569427471748976\n",
      "pages_visited_Mon: skewness = 0.020743925582318426, kurtosis = -1.28170676296405\n",
      "pages_visited_Tue: skewness = -0.05187878034716231, kurtosis = -1.265005879533023\n",
      "pages_visited_Wed: skewness = -0.04085392039165272, kurtosis = -1.2579255723955745\n",
      "pages_visited_Thu: skewness = 0.07143296575137245, kurtosis = -1.253809925247334\n",
      "pages_visited_Fri: skewness = -0.024852162916737724, kurtosis = -1.2714425982291206\n"
     ]
    }
   ],
   "source": [
    "# calcualte skeness to better drop outliers\n",
    "for column in numerical_columns:\n",
    "    skewness_values = []\n",
    "    s = skew(df2[column])\n",
    "    k = kurtosis(df2[column])\n",
    "    print(f'{column}: skewness = {s}, kurtosis = {k}')"
   ]
  },
  {
   "cell_type": "code",
   "execution_count": 175,
   "metadata": {},
   "outputs": [],
   "source": [
    "#as there are too many numerical columns, use z socre to remove outliers\n",
    "if abs(s) > 1:\n",
    "        df2[column] = df2[column].apply(lambda x: np.log(x + 1))\n",
    "z_scores = zscore(df2[numerical_columns])\n",
    "threshold = 3\n",
    "df2 = df2[(np.abs(z_scores) < threshold).all(axis=1)]"
   ]
  },
  {
   "cell_type": "markdown",
   "metadata": {},
   "source": [
    "didn't drop any outliers as these columns are normally distributed as you can see on the graph and through skewness. the df2 info number remain the same"
   ]
  },
  {
   "cell_type": "code",
   "execution_count": 176,
   "metadata": {},
   "outputs": [
    {
     "name": "stdout",
     "output_type": "stream",
     "text": [
      "<class 'pandas.core.frame.DataFrame'>\n",
      "Int64Index: 2000 entries, 0 to 1999\n",
      "Data columns (total 31 columns):\n",
      " #   Column             Non-Null Count  Dtype  \n",
      "---  ------             --------------  -----  \n",
      " 0   Unnamed: 0         2000 non-null   int64  \n",
      " 1   visitor_id         2000 non-null   int64  \n",
      " 2   visitor_location   2000 non-null   object \n",
      " 3   marketing_channel  2000 non-null   object \n",
      " 4   gender             2000 non-null   object \n",
      " 5   product_views_Mon  2000 non-null   int64  \n",
      " 6   product_views_Tue  2000 non-null   int64  \n",
      " 7   product_views_Wed  2000 non-null   int64  \n",
      " 8   product_views_Thu  2000 non-null   int64  \n",
      " 9   product_views_Fri  2000 non-null   int64  \n",
      " 10  avg_rating_Mon     2000 non-null   float64\n",
      " 11  avg_rating_Tue     2000 non-null   float64\n",
      " 12  avg_rating_Wed     2000 non-null   float64\n",
      " 13  avg_rating_Thu     2000 non-null   float64\n",
      " 14  avg_rating_Fri     2000 non-null   float64\n",
      " 15  avg_price_Mon      2000 non-null   float64\n",
      " 16  avg_price_Tue      2000 non-null   float64\n",
      " 17  avg_price_Wed      2000 non-null   float64\n",
      " 18  avg_price_Thu      2000 non-null   float64\n",
      " 19  avg_price_Fri      2000 non-null   float64\n",
      " 20  time_on_site_Mon   2000 non-null   int64  \n",
      " 21  time_on_site_Tue   2000 non-null   int64  \n",
      " 22  time_on_site_Wed   2000 non-null   int64  \n",
      " 23  time_on_site_Thu   2000 non-null   int64  \n",
      " 24  time_on_site_Fri   2000 non-null   int64  \n",
      " 25  pages_visited_Mon  2000 non-null   int64  \n",
      " 26  pages_visited_Tue  2000 non-null   int64  \n",
      " 27  pages_visited_Wed  2000 non-null   int64  \n",
      " 28  pages_visited_Thu  2000 non-null   int64  \n",
      " 29  pages_visited_Fri  2000 non-null   int64  \n",
      " 30  converted_Fri      2000 non-null   int64  \n",
      "dtypes: float64(10), int64(18), object(3)\n",
      "memory usage: 500.0+ KB\n"
     ]
    }
   ],
   "source": [
    "#didn't drop any outliers as these columns are normally distributed as you can see on the graph and through skewness\n",
    "df2.info()"
   ]
  },
  {
   "cell_type": "code",
   "execution_count": 177,
   "metadata": {},
   "outputs": [
    {
     "name": "stdout",
     "output_type": "stream",
     "text": [
      "        Unnamed: 0   visitor_id  product_views_Mon  product_views_Tue  \\\n",
      "count  2000.000000  2000.000000        2000.000000        2000.000000   \n",
      "mean    999.500000  1000.500000           2.541500           2.440500   \n",
      "std     577.494589   577.494589           1.704914           1.715206   \n",
      "min       0.000000     1.000000           0.000000           0.000000   \n",
      "25%     499.750000   500.750000           1.000000           1.000000   \n",
      "50%     999.500000  1000.500000           3.000000           2.000000   \n",
      "75%    1499.250000  1500.250000           4.000000           4.000000   \n",
      "max    1999.000000  2000.000000           5.000000           5.000000   \n",
      "\n",
      "       product_views_Wed  product_views_Thu  product_views_Fri  \\\n",
      "count        2000.000000        2000.000000        2000.000000   \n",
      "mean            2.441000           2.256500           2.354000   \n",
      "std             2.343345           2.370974           2.335682   \n",
      "min             0.000000          -4.000000          -3.000000   \n",
      "25%             0.000000           0.000000           0.000000   \n",
      "50%             2.000000           2.000000           2.000000   \n",
      "75%             4.000000           5.000000           5.000000   \n",
      "max             9.000000           8.000000           8.000000   \n",
      "\n",
      "       avg_rating_Mon  avg_rating_Tue  avg_rating_Wed  ...  time_on_site_Tue  \\\n",
      "count     2000.000000     2000.000000     2000.000000  ...       2000.000000   \n",
      "mean         3.023990        3.042760        2.970885  ...         39.776500   \n",
      "std          1.151037        1.154019        1.148805  ...         11.855624   \n",
      "min          1.000000        1.000000        1.000000  ...         20.000000   \n",
      "25%          2.017500        2.057500        1.970000  ...         29.000000   \n",
      "50%          3.055000        3.080000        2.965000  ...         40.000000   \n",
      "75%          4.022500        4.030000        3.960000  ...         50.000000   \n",
      "max          5.000000        5.000000        4.990000  ...         60.000000   \n",
      "\n",
      "       time_on_site_Wed  time_on_site_Thu  time_on_site_Fri  \\\n",
      "count       2000.000000       2000.000000       2000.000000   \n",
      "mean          40.155500         40.417000         40.028500   \n",
      "std           11.757399         11.892638         11.664207   \n",
      "min           20.000000         20.000000         20.000000   \n",
      "25%           30.000000         30.000000         30.000000   \n",
      "50%           40.000000         40.500000         40.000000   \n",
      "75%           50.000000         51.000000         50.000000   \n",
      "max           60.000000         60.000000         60.000000   \n",
      "\n",
      "       pages_visited_Mon  pages_visited_Tue  pages_visited_Wed  \\\n",
      "count        2000.000000        2000.000000        2000.000000   \n",
      "mean            3.946000           4.071000           4.092500   \n",
      "std             2.010001           2.012209           2.002985   \n",
      "min             1.000000           1.000000           1.000000   \n",
      "25%             2.000000           2.000000           2.000000   \n",
      "50%             4.000000           4.000000           4.000000   \n",
      "75%             6.000000           6.000000           6.000000   \n",
      "max             7.000000           7.000000           7.000000   \n",
      "\n",
      "       pages_visited_Thu  pages_visited_Fri  converted_Fri  \n",
      "count        2000.000000        2000.000000    2000.000000  \n",
      "mean            3.921000           4.089500       0.372000  \n",
      "std             2.023316           2.026954       0.483459  \n",
      "min             1.000000           1.000000       0.000000  \n",
      "25%             2.000000           2.000000       0.000000  \n",
      "50%             4.000000           4.000000       0.000000  \n",
      "75%             6.000000           6.000000       1.000000  \n",
      "max             7.000000           7.000000       1.000000  \n",
      "\n",
      "[8 rows x 28 columns]\n"
     ]
    }
   ],
   "source": [
    "descriptive_stats = df2.describe()\n",
    "print(descriptive_stats)"
   ]
  },
  {
   "cell_type": "markdown",
   "metadata": {},
   "source": [
    "Feature enginnering to convert object into dummy variables"
   ]
  },
  {
   "cell_type": "code",
   "execution_count": 178,
   "metadata": {},
   "outputs": [
    {
     "data": {
      "text/plain": [
       "array(['North America', 'South America', 'Australia', 'Asia', 'Europe'],\n",
       "      dtype=object)"
      ]
     },
     "execution_count": 178,
     "metadata": {},
     "output_type": "execute_result"
    }
   ],
   "source": [
    "df2['visitor_location'].unique()"
   ]
  },
  {
   "cell_type": "code",
   "execution_count": 179,
   "metadata": {},
   "outputs": [],
   "source": [
    "location_mapping = {1:'North America', 2:'South America', 3:'Australia', 4:'Asia', 5:'Europe'}\n",
    "df2['visitor_location'] = df2['visitor_location'].map(location_mapping)"
   ]
  },
  {
   "cell_type": "code",
   "execution_count": 180,
   "metadata": {},
   "outputs": [],
   "source": [
    "location_dummies = pd.get_dummies(df2['visitor_location'], dtype=int)"
   ]
  },
  {
   "cell_type": "code",
   "execution_count": 181,
   "metadata": {},
   "outputs": [
    {
     "data": {
      "text/html": [
       "<div>\n",
       "<style scoped>\n",
       "    .dataframe tbody tr th:only-of-type {\n",
       "        vertical-align: middle;\n",
       "    }\n",
       "\n",
       "    .dataframe tbody tr th {\n",
       "        vertical-align: top;\n",
       "    }\n",
       "\n",
       "    .dataframe thead th {\n",
       "        text-align: right;\n",
       "    }\n",
       "</style>\n",
       "<table border=\"1\" class=\"dataframe\">\n",
       "  <thead>\n",
       "    <tr style=\"text-align: right;\">\n",
       "      <th></th>\n",
       "    </tr>\n",
       "  </thead>\n",
       "  <tbody>\n",
       "    <tr>\n",
       "      <th>0</th>\n",
       "    </tr>\n",
       "    <tr>\n",
       "      <th>1</th>\n",
       "    </tr>\n",
       "    <tr>\n",
       "      <th>2</th>\n",
       "    </tr>\n",
       "    <tr>\n",
       "      <th>3</th>\n",
       "    </tr>\n",
       "    <tr>\n",
       "      <th>4</th>\n",
       "    </tr>\n",
       "  </tbody>\n",
       "</table>\n",
       "</div>"
      ],
      "text/plain": [
       "Empty DataFrame\n",
       "Columns: []\n",
       "Index: [0, 1, 2, 3, 4]"
      ]
     },
     "execution_count": 181,
     "metadata": {},
     "output_type": "execute_result"
    }
   ],
   "source": [
    "location_dummies.head()"
   ]
  },
  {
   "cell_type": "code",
   "execution_count": 182,
   "metadata": {},
   "outputs": [],
   "source": [
    "df2 = pd.concat([df2,location_dummies], axis=1)"
   ]
  },
  {
   "cell_type": "code",
   "execution_count": 185,
   "metadata": {},
   "outputs": [
    {
     "data": {
      "text/html": [
       "<div>\n",
       "<style scoped>\n",
       "    .dataframe tbody tr th:only-of-type {\n",
       "        vertical-align: middle;\n",
       "    }\n",
       "\n",
       "    .dataframe tbody tr th {\n",
       "        vertical-align: top;\n",
       "    }\n",
       "\n",
       "    .dataframe thead th {\n",
       "        text-align: right;\n",
       "    }\n",
       "</style>\n",
       "<table border=\"1\" class=\"dataframe\">\n",
       "  <thead>\n",
       "    <tr style=\"text-align: right;\">\n",
       "      <th></th>\n",
       "      <th>Unnamed: 0</th>\n",
       "      <th>visitor_id</th>\n",
       "      <th>visitor_location</th>\n",
       "      <th>marketing_channel</th>\n",
       "      <th>gender</th>\n",
       "      <th>product_views_Mon</th>\n",
       "      <th>product_views_Tue</th>\n",
       "      <th>product_views_Wed</th>\n",
       "      <th>product_views_Thu</th>\n",
       "      <th>product_views_Fri</th>\n",
       "      <th>...</th>\n",
       "      <th>time_on_site_Tue</th>\n",
       "      <th>time_on_site_Wed</th>\n",
       "      <th>time_on_site_Thu</th>\n",
       "      <th>time_on_site_Fri</th>\n",
       "      <th>pages_visited_Mon</th>\n",
       "      <th>pages_visited_Tue</th>\n",
       "      <th>pages_visited_Wed</th>\n",
       "      <th>pages_visited_Thu</th>\n",
       "      <th>pages_visited_Fri</th>\n",
       "      <th>converted_Fri</th>\n",
       "    </tr>\n",
       "  </thead>\n",
       "  <tbody>\n",
       "    <tr>\n",
       "      <th>0</th>\n",
       "      <td>0</td>\n",
       "      <td>1</td>\n",
       "      <td>NaN</td>\n",
       "      <td>youtube</td>\n",
       "      <td>M</td>\n",
       "      <td>4</td>\n",
       "      <td>5</td>\n",
       "      <td>2</td>\n",
       "      <td>1</td>\n",
       "      <td>2</td>\n",
       "      <td>...</td>\n",
       "      <td>33</td>\n",
       "      <td>23</td>\n",
       "      <td>46</td>\n",
       "      <td>57</td>\n",
       "      <td>4</td>\n",
       "      <td>5</td>\n",
       "      <td>5</td>\n",
       "      <td>4</td>\n",
       "      <td>6</td>\n",
       "      <td>1</td>\n",
       "    </tr>\n",
       "    <tr>\n",
       "      <th>1</th>\n",
       "      <td>1</td>\n",
       "      <td>2</td>\n",
       "      <td>NaN</td>\n",
       "      <td>organic</td>\n",
       "      <td>F</td>\n",
       "      <td>2</td>\n",
       "      <td>5</td>\n",
       "      <td>0</td>\n",
       "      <td>1</td>\n",
       "      <td>5</td>\n",
       "      <td>...</td>\n",
       "      <td>28</td>\n",
       "      <td>39</td>\n",
       "      <td>24</td>\n",
       "      <td>51</td>\n",
       "      <td>5</td>\n",
       "      <td>6</td>\n",
       "      <td>7</td>\n",
       "      <td>6</td>\n",
       "      <td>2</td>\n",
       "      <td>0</td>\n",
       "    </tr>\n",
       "    <tr>\n",
       "      <th>2</th>\n",
       "      <td>2</td>\n",
       "      <td>3</td>\n",
       "      <td>NaN</td>\n",
       "      <td>instagram</td>\n",
       "      <td>M</td>\n",
       "      <td>3</td>\n",
       "      <td>4</td>\n",
       "      <td>0</td>\n",
       "      <td>-3</td>\n",
       "      <td>5</td>\n",
       "      <td>...</td>\n",
       "      <td>34</td>\n",
       "      <td>22</td>\n",
       "      <td>34</td>\n",
       "      <td>31</td>\n",
       "      <td>1</td>\n",
       "      <td>3</td>\n",
       "      <td>3</td>\n",
       "      <td>2</td>\n",
       "      <td>3</td>\n",
       "      <td>1</td>\n",
       "    </tr>\n",
       "    <tr>\n",
       "      <th>3</th>\n",
       "      <td>3</td>\n",
       "      <td>4</td>\n",
       "      <td>NaN</td>\n",
       "      <td>facebook</td>\n",
       "      <td>M</td>\n",
       "      <td>1</td>\n",
       "      <td>0</td>\n",
       "      <td>0</td>\n",
       "      <td>5</td>\n",
       "      <td>0</td>\n",
       "      <td>...</td>\n",
       "      <td>26</td>\n",
       "      <td>43</td>\n",
       "      <td>22</td>\n",
       "      <td>39</td>\n",
       "      <td>3</td>\n",
       "      <td>4</td>\n",
       "      <td>7</td>\n",
       "      <td>7</td>\n",
       "      <td>1</td>\n",
       "      <td>0</td>\n",
       "    </tr>\n",
       "    <tr>\n",
       "      <th>4</th>\n",
       "      <td>4</td>\n",
       "      <td>5</td>\n",
       "      <td>NaN</td>\n",
       "      <td>instagram</td>\n",
       "      <td>F</td>\n",
       "      <td>1</td>\n",
       "      <td>5</td>\n",
       "      <td>2</td>\n",
       "      <td>2</td>\n",
       "      <td>3</td>\n",
       "      <td>...</td>\n",
       "      <td>54</td>\n",
       "      <td>30</td>\n",
       "      <td>47</td>\n",
       "      <td>57</td>\n",
       "      <td>6</td>\n",
       "      <td>6</td>\n",
       "      <td>5</td>\n",
       "      <td>2</td>\n",
       "      <td>4</td>\n",
       "      <td>1</td>\n",
       "    </tr>\n",
       "  </tbody>\n",
       "</table>\n",
       "<p>5 rows × 31 columns</p>\n",
       "</div>"
      ],
      "text/plain": [
       "   Unnamed: 0  visitor_id visitor_location marketing_channel gender  \\\n",
       "0           0           1              NaN           youtube      M   \n",
       "1           1           2              NaN           organic      F   \n",
       "2           2           3              NaN         instagram      M   \n",
       "3           3           4              NaN          facebook      M   \n",
       "4           4           5              NaN         instagram      F   \n",
       "\n",
       "   product_views_Mon  product_views_Tue  product_views_Wed  product_views_Thu  \\\n",
       "0                  4                  5                  2                  1   \n",
       "1                  2                  5                  0                  1   \n",
       "2                  3                  4                  0                 -3   \n",
       "3                  1                  0                  0                  5   \n",
       "4                  1                  5                  2                  2   \n",
       "\n",
       "   product_views_Fri  ...  time_on_site_Tue  time_on_site_Wed  \\\n",
       "0                  2  ...                33                23   \n",
       "1                  5  ...                28                39   \n",
       "2                  5  ...                34                22   \n",
       "3                  0  ...                26                43   \n",
       "4                  3  ...                54                30   \n",
       "\n",
       "   time_on_site_Thu  time_on_site_Fri  pages_visited_Mon  pages_visited_Tue  \\\n",
       "0                46                57                  4                  5   \n",
       "1                24                51                  5                  6   \n",
       "2                34                31                  1                  3   \n",
       "3                22                39                  3                  4   \n",
       "4                47                57                  6                  6   \n",
       "\n",
       "   pages_visited_Wed  pages_visited_Thu  pages_visited_Fri  converted_Fri  \n",
       "0                  5                  4                  6              1  \n",
       "1                  7                  6                  2              0  \n",
       "2                  3                  2                  3              1  \n",
       "3                  7                  7                  1              0  \n",
       "4                  5                  2                  4              1  \n",
       "\n",
       "[5 rows x 31 columns]"
      ]
     },
     "execution_count": 185,
     "metadata": {},
     "output_type": "execute_result"
    }
   ],
   "source": [
    "df2.head()"
   ]
  },
  {
   "cell_type": "code",
   "execution_count": 184,
   "metadata": {},
   "outputs": [
    {
     "ename": "NameError",
     "evalue": "name 'season' is not defined",
     "output_type": "error",
     "traceback": [
      "\u001b[0;31m---------------------------------------------------------------------------\u001b[0m",
      "\u001b[0;31mNameError\u001b[0m                                 Traceback (most recent call last)",
      "\u001b[1;32m/grappeefruitt/schulich_data_science/final_exam.ipynb Cell 31\u001b[0m in \u001b[0;36m<cell line: 1>\u001b[0;34m()\u001b[0m\n\u001b[0;32m----> <a href='vscode-notebook-cell://github/grappeefruitt/schulich_data_science/final_exam.ipynb#Y225sdnNjb2RlLXZmcw%3D%3D?line=0'>1</a>\u001b[0m season\n",
      "\u001b[0;31mNameError\u001b[0m: name 'season' is not defined"
     ]
    }
   ],
   "source": [
    "season"
   ]
  },
  {
   "cell_type": "code",
   "execution_count": null,
   "metadata": {},
   "outputs": [
    {
     "data": {
      "text/plain": [
       "array(['youtube', 'organic', 'instagram', 'facebook', 'google'],\n",
       "      dtype=object)"
      ]
     },
     "execution_count": 147,
     "metadata": {},
     "output_type": "execute_result"
    }
   ],
   "source": [
    "df2['marketing_channel'].unique()"
   ]
  },
  {
   "cell_type": "code",
   "execution_count": null,
   "metadata": {},
   "outputs": [],
   "source": [
    "season_dummies.head()"
   ]
  },
  {
   "cell_type": "code",
   "execution_count": null,
   "metadata": {},
   "outputs": [],
   "source": [
    "channel_mapping = {1:'youtube', 2:'organic', 3:'instagram', 4:'facebook', 5:'google'}\n",
    "df2['marketing_channel'] = df2['marketing_channel'].map(channel_mapping)"
   ]
  },
  {
   "cell_type": "code",
   "execution_count": null,
   "metadata": {},
   "outputs": [],
   "source": [
    "location_dummies = pd.get_dummies(df2['visitor_location'], dtype=int)"
   ]
  },
  {
   "cell_type": "code",
   "execution_count": null,
   "metadata": {},
   "outputs": [],
   "source": [
    "channel_dummies = pd.get_dummies(df2['marketing_channel'], dtype=int)"
   ]
  },
  {
   "cell_type": "code",
   "execution_count": null,
   "metadata": {},
   "outputs": [],
   "source": [
    "gender_dummies = pd.get_dummies(df2['gender'], dtype=int)"
   ]
  },
  {
   "cell_type": "code",
   "execution_count": null,
   "metadata": {},
   "outputs": [
    {
     "data": {
      "text/html": [
       "<div>\n",
       "<style scoped>\n",
       "    .dataframe tbody tr th:only-of-type {\n",
       "        vertical-align: middle;\n",
       "    }\n",
       "\n",
       "    .dataframe tbody tr th {\n",
       "        vertical-align: top;\n",
       "    }\n",
       "\n",
       "    .dataframe thead th {\n",
       "        text-align: right;\n",
       "    }\n",
       "</style>\n",
       "<table border=\"1\" class=\"dataframe\">\n",
       "  <thead>\n",
       "    <tr style=\"text-align: right;\">\n",
       "      <th></th>\n",
       "    </tr>\n",
       "  </thead>\n",
       "  <tbody>\n",
       "    <tr>\n",
       "      <th>0</th>\n",
       "    </tr>\n",
       "    <tr>\n",
       "      <th>1</th>\n",
       "    </tr>\n",
       "    <tr>\n",
       "      <th>2</th>\n",
       "    </tr>\n",
       "    <tr>\n",
       "      <th>3</th>\n",
       "    </tr>\n",
       "    <tr>\n",
       "      <th>4</th>\n",
       "    </tr>\n",
       "  </tbody>\n",
       "</table>\n",
       "</div>"
      ],
      "text/plain": [
       "Empty DataFrame\n",
       "Columns: []\n",
       "Index: [0, 1, 2, 3, 4]"
      ]
     },
     "execution_count": 152,
     "metadata": {},
     "output_type": "execute_result"
    }
   ],
   "source": [
    "location_dummies.head()"
   ]
  },
  {
   "cell_type": "code",
   "execution_count": null,
   "metadata": {},
   "outputs": [],
   "source": [
    "df2 = pd.concat([df2,location_dummies], axis=1)"
   ]
  },
  {
   "cell_type": "code",
   "execution_count": null,
   "metadata": {},
   "outputs": [],
   "source": [
    "df2 = pd.concat([df2,channel_dummies], axis=1)"
   ]
  },
  {
   "cell_type": "code",
   "execution_count": null,
   "metadata": {},
   "outputs": [],
   "source": [
    "df2 = pd.concat([df2,gender_dummies], axis=1)"
   ]
  },
  {
   "cell_type": "markdown",
   "metadata": {},
   "source": [
    "drop these three object columns as I already created dummy variables for them, also remaining columns are all numberical, dropping these \\\n",
    "three object columns help with furthur analysis\n",
    "df2.drop(['visitor_location', 'marketing_channel', 'gender'], axis=1, inplace=True)"
   ]
  },
  {
   "cell_type": "code",
   "execution_count": null,
   "metadata": {},
   "outputs": [
    {
     "data": {
      "text/html": [
       "<div>\n",
       "<style scoped>\n",
       "    .dataframe tbody tr th:only-of-type {\n",
       "        vertical-align: middle;\n",
       "    }\n",
       "\n",
       "    .dataframe tbody tr th {\n",
       "        vertical-align: top;\n",
       "    }\n",
       "\n",
       "    .dataframe thead th {\n",
       "        text-align: right;\n",
       "    }\n",
       "</style>\n",
       "<table border=\"1\" class=\"dataframe\">\n",
       "  <thead>\n",
       "    <tr style=\"text-align: right;\">\n",
       "      <th></th>\n",
       "      <th>Unnamed: 0</th>\n",
       "      <th>visitor_id</th>\n",
       "      <th>product_views_Mon</th>\n",
       "      <th>product_views_Tue</th>\n",
       "      <th>product_views_Wed</th>\n",
       "      <th>product_views_Thu</th>\n",
       "      <th>product_views_Fri</th>\n",
       "      <th>avg_rating_Mon</th>\n",
       "      <th>avg_rating_Tue</th>\n",
       "      <th>avg_rating_Wed</th>\n",
       "      <th>...</th>\n",
       "      <th>time_on_site_Thu</th>\n",
       "      <th>time_on_site_Fri</th>\n",
       "      <th>pages_visited_Mon</th>\n",
       "      <th>pages_visited_Tue</th>\n",
       "      <th>pages_visited_Wed</th>\n",
       "      <th>pages_visited_Thu</th>\n",
       "      <th>pages_visited_Fri</th>\n",
       "      <th>converted_Fri</th>\n",
       "      <th>F</th>\n",
       "      <th>M</th>\n",
       "    </tr>\n",
       "  </thead>\n",
       "  <tbody>\n",
       "    <tr>\n",
       "      <th>0</th>\n",
       "      <td>0</td>\n",
       "      <td>1</td>\n",
       "      <td>4</td>\n",
       "      <td>5</td>\n",
       "      <td>2</td>\n",
       "      <td>1</td>\n",
       "      <td>2</td>\n",
       "      <td>3.90</td>\n",
       "      <td>2.19</td>\n",
       "      <td>4.87</td>\n",
       "      <td>...</td>\n",
       "      <td>46</td>\n",
       "      <td>57</td>\n",
       "      <td>4</td>\n",
       "      <td>5</td>\n",
       "      <td>5</td>\n",
       "      <td>4</td>\n",
       "      <td>6</td>\n",
       "      <td>1</td>\n",
       "      <td>0</td>\n",
       "      <td>1</td>\n",
       "    </tr>\n",
       "    <tr>\n",
       "      <th>1</th>\n",
       "      <td>1</td>\n",
       "      <td>2</td>\n",
       "      <td>2</td>\n",
       "      <td>5</td>\n",
       "      <td>0</td>\n",
       "      <td>1</td>\n",
       "      <td>5</td>\n",
       "      <td>1.31</td>\n",
       "      <td>2.16</td>\n",
       "      <td>1.98</td>\n",
       "      <td>...</td>\n",
       "      <td>24</td>\n",
       "      <td>51</td>\n",
       "      <td>5</td>\n",
       "      <td>6</td>\n",
       "      <td>7</td>\n",
       "      <td>6</td>\n",
       "      <td>2</td>\n",
       "      <td>0</td>\n",
       "      <td>1</td>\n",
       "      <td>0</td>\n",
       "    </tr>\n",
       "    <tr>\n",
       "      <th>2</th>\n",
       "      <td>2</td>\n",
       "      <td>3</td>\n",
       "      <td>3</td>\n",
       "      <td>4</td>\n",
       "      <td>0</td>\n",
       "      <td>-3</td>\n",
       "      <td>5</td>\n",
       "      <td>3.26</td>\n",
       "      <td>4.79</td>\n",
       "      <td>3.12</td>\n",
       "      <td>...</td>\n",
       "      <td>34</td>\n",
       "      <td>31</td>\n",
       "      <td>1</td>\n",
       "      <td>3</td>\n",
       "      <td>3</td>\n",
       "      <td>2</td>\n",
       "      <td>3</td>\n",
       "      <td>1</td>\n",
       "      <td>0</td>\n",
       "      <td>1</td>\n",
       "    </tr>\n",
       "    <tr>\n",
       "      <th>3</th>\n",
       "      <td>3</td>\n",
       "      <td>4</td>\n",
       "      <td>1</td>\n",
       "      <td>0</td>\n",
       "      <td>0</td>\n",
       "      <td>5</td>\n",
       "      <td>0</td>\n",
       "      <td>2.66</td>\n",
       "      <td>4.79</td>\n",
       "      <td>3.41</td>\n",
       "      <td>...</td>\n",
       "      <td>22</td>\n",
       "      <td>39</td>\n",
       "      <td>3</td>\n",
       "      <td>4</td>\n",
       "      <td>7</td>\n",
       "      <td>7</td>\n",
       "      <td>1</td>\n",
       "      <td>0</td>\n",
       "      <td>0</td>\n",
       "      <td>1</td>\n",
       "    </tr>\n",
       "    <tr>\n",
       "      <th>4</th>\n",
       "      <td>4</td>\n",
       "      <td>5</td>\n",
       "      <td>1</td>\n",
       "      <td>5</td>\n",
       "      <td>2</td>\n",
       "      <td>2</td>\n",
       "      <td>3</td>\n",
       "      <td>2.76</td>\n",
       "      <td>2.38</td>\n",
       "      <td>3.32</td>\n",
       "      <td>...</td>\n",
       "      <td>47</td>\n",
       "      <td>57</td>\n",
       "      <td>6</td>\n",
       "      <td>6</td>\n",
       "      <td>5</td>\n",
       "      <td>2</td>\n",
       "      <td>4</td>\n",
       "      <td>1</td>\n",
       "      <td>1</td>\n",
       "      <td>0</td>\n",
       "    </tr>\n",
       "  </tbody>\n",
       "</table>\n",
       "<p>5 rows × 30 columns</p>\n",
       "</div>"
      ],
      "text/plain": [
       "   Unnamed: 0  visitor_id  product_views_Mon  product_views_Tue  \\\n",
       "0           0           1                  4                  5   \n",
       "1           1           2                  2                  5   \n",
       "2           2           3                  3                  4   \n",
       "3           3           4                  1                  0   \n",
       "4           4           5                  1                  5   \n",
       "\n",
       "   product_views_Wed  product_views_Thu  product_views_Fri  avg_rating_Mon  \\\n",
       "0                  2                  1                  2            3.90   \n",
       "1                  0                  1                  5            1.31   \n",
       "2                  0                 -3                  5            3.26   \n",
       "3                  0                  5                  0            2.66   \n",
       "4                  2                  2                  3            2.76   \n",
       "\n",
       "   avg_rating_Tue  avg_rating_Wed  ...  time_on_site_Thu  time_on_site_Fri  \\\n",
       "0            2.19            4.87  ...                46                57   \n",
       "1            2.16            1.98  ...                24                51   \n",
       "2            4.79            3.12  ...                34                31   \n",
       "3            4.79            3.41  ...                22                39   \n",
       "4            2.38            3.32  ...                47                57   \n",
       "\n",
       "   pages_visited_Mon  pages_visited_Tue  pages_visited_Wed  pages_visited_Thu  \\\n",
       "0                  4                  5                  5                  4   \n",
       "1                  5                  6                  7                  6   \n",
       "2                  1                  3                  3                  2   \n",
       "3                  3                  4                  7                  7   \n",
       "4                  6                  6                  5                  2   \n",
       "\n",
       "   pages_visited_Fri  converted_Fri  F  M  \n",
       "0                  6              1  0  1  \n",
       "1                  2              0  1  0  \n",
       "2                  3              1  0  1  \n",
       "3                  1              0  0  1  \n",
       "4                  4              1  1  0  \n",
       "\n",
       "[5 rows x 30 columns]"
      ]
     },
     "execution_count": 157,
     "metadata": {},
     "output_type": "execute_result"
    }
   ],
   "source": [
    "df2.head()"
   ]
  },
  {
   "cell_type": "code",
   "execution_count": null,
   "metadata": {},
   "outputs": [
    {
     "data": {
      "text/plain": [
       "Index(['Unnamed: 0', 'visitor_id', 'product_views_Mon', 'product_views_Tue',\n",
       "       'product_views_Wed', 'product_views_Thu', 'product_views_Fri',\n",
       "       'avg_rating_Mon', 'avg_rating_Tue', 'avg_rating_Wed', 'avg_rating_Thu',\n",
       "       'avg_rating_Fri', 'avg_price_Mon', 'avg_price_Tue', 'avg_price_Wed',\n",
       "       'avg_price_Thu', 'avg_price_Fri', 'time_on_site_Mon',\n",
       "       'time_on_site_Tue', 'time_on_site_Wed', 'time_on_site_Thu',\n",
       "       'time_on_site_Fri', 'pages_visited_Mon', 'pages_visited_Tue',\n",
       "       'pages_visited_Wed', 'pages_visited_Thu', 'pages_visited_Fri',\n",
       "       'converted_Fri', 'F', 'M'],\n",
       "      dtype='object')"
      ]
     },
     "execution_count": 158,
     "metadata": {},
     "output_type": "execute_result"
    }
   ],
   "source": [
    "df2.columns"
   ]
  },
  {
   "cell_type": "code",
   "execution_count": null,
   "metadata": {},
   "outputs": [],
   "source": [
    "df2.groupby('visitor_location').describe()"
   ]
  },
  {
   "cell_type": "code",
   "execution_count": null,
   "metadata": {},
   "outputs": [],
   "source": [
    "df.groupby(['Gender','Converted_Fir'])['ID'].count().unstack()"
   ]
  },
  {
   "cell_type": "code",
   "execution_count": null,
   "metadata": {},
   "outputs": [],
   "source": [
    "df.groupby(['_location','Segmentation'])['ID'].count().unstack()"
   ]
  },
  {
   "cell_type": "code",
   "execution_count": null,
   "metadata": {},
   "outputs": [],
   "source": [
    "df.groupby(['Graduated','Segmentation'])['ID'].count().unstack()"
   ]
  },
  {
   "cell_type": "code",
   "execution_count": null,
   "metadata": {},
   "outputs": [],
   "source": [
    "for i in ['Gender', 'Ever_Married','Graduated', 'Profession','Spending_Score']:\n",
    "    print(df.groupby([i,'Segmentation'])['ID'].count().unstack())"
   ]
  },
  {
   "cell_type": "code",
   "execution_count": null,
   "metadata": {},
   "outputs": [],
   "source": [
    "df['Converted_Fir'].unique()"
   ]
  },
  {
   "cell_type": "code",
   "execution_count": null,
   "metadata": {},
   "outputs": [],
   "source": [
    "df[df['Segmentation']=='D'].describe(include='all')"
   ]
  },
  {
   "cell_type": "code",
   "execution_count": null,
   "metadata": {},
   "outputs": [],
   "source": [
    "gender = pd.get_dummies(df['Gender'], dtype=int )"
   ]
  },
  {
   "cell_type": "code",
   "execution_count": null,
   "metadata": {},
   "outputs": [],
   "source": [
    "Ever_Married = pd.get_dummies(df['Ever_Married'], dtype=int)\n",
    "Ever_Married.rename(columns={'Yes':\"Married\", \"No\":'Not_Married'})\n",
    "Graduated = pd.get_dummies(df['Graduated'], dtype=int)\n",
    "Graduated.rename(columns={\"Yes\":\"Graduated\", \"No\":\"Not_Graduated\"})\n",
    "Profession = pd.get_dummies(df['Profession'], dtype=int)"
   ]
  },
  {
   "cell_type": "code",
   "execution_count": null,
   "metadata": {},
   "outputs": [],
   "source": [
    "new_df = pd.concat([df[['Age','Work_Experience','Family_Size']],gender,Ever_Married, Graduated, Profession, Spending_score, df['Segmentation']], axis=1)"
   ]
  },
  {
   "cell_type": "code",
   "execution_count": null,
   "metadata": {},
   "outputs": [],
   "source": [
    "new_df.dropna(inplace=True)"
   ]
  },
  {
   "cell_type": "code",
   "execution_count": null,
   "metadata": {},
   "outputs": [],
   "source": [
    "new_df.columns"
   ]
  },
  {
   "cell_type": "code",
   "execution_count": null,
   "metadata": {},
   "outputs": [],
   "source": [
    "knn = KNeighborsClassifier(n_neighbors=50)\n",
    "knn.fit(np.array(new_df.iloc[:,:21]), np.array(new_df.iloc[:,21]))"
   ]
  },
  {
   "cell_type": "code",
   "execution_count": null,
   "metadata": {},
   "outputs": [],
   "source": [
    "pred = knn.predict(np.array(new_df.iloc[:,:21]))"
   ]
  },
  {
   "cell_type": "code",
   "execution_count": null,
   "metadata": {},
   "outputs": [],
   "source": [
    "print(accuracy_score(pred, new_df.iloc[:,21]))\n",
    "print(f1_score(pred, new_df.iloc[:,21]))\n",
    "print(recall_score(pred, new_df.iloc[:,21]))\n",
    "print(precision_score(pred, new_df.iloc[:,21]))"
   ]
  },
  {
   "cell_type": "code",
   "execution_count": null,
   "metadata": {},
   "outputs": [],
   "source": [
    "log = LogisticRegression()\n",
    "nb = GaussianNB()\n",
    "knn = KNeighborsClassifier()\n",
    "svc = SVC()"
   ]
  },
  {
   "cell_type": "code",
   "execution_count": null,
   "metadata": {},
   "outputs": [],
   "source": [
    "X_train, X_test, y_train, y_test = train_test_split(np.array(new_df.iloc[:,:21]), np.array(new_df.iloc[:,21]), test_size=0.2, random_state=123)"
   ]
  },
  {
   "cell_type": "code",
   "execution_count": null,
   "metadata": {},
   "outputs": [],
   "source": [
    "log.fit(X_train, y_train)\n",
    "nb.fit(X_train, y_train)\n",
    "knn.fit(X_train, y_train)\n",
    "svc.fit(X_train, y_train)"
   ]
  },
  {
   "cell_type": "code",
   "execution_count": null,
   "metadata": {},
   "outputs": [],
   "source": [
    "pred_l = log.predict(X_test)\n",
    "pred_nb = nb.predict(X_test)\n",
    "pred_knn = knn.predict(X_test)\n",
    "pred_svc = svc.predict(X_test)"
   ]
  },
  {
   "cell_type": "code",
   "execution_count": null,
   "metadata": {},
   "outputs": [],
   "source": [
    "print(f1_score(pred_l, y_test))\n",
    "print(f1_score(pred_nb, y_test))\n",
    "print(f1_score(pred_knn, y_test))\n",
    "print(f1_score(pred_svc, y_test))"
   ]
  },
  {
   "cell_type": "code",
   "execution_count": null,
   "metadata": {},
   "outputs": [],
   "source": [
    "pred_l_prob = log.predict_proba(X_test)\n"
   ]
  },
  {
   "cell_type": "code",
   "execution_count": null,
   "metadata": {},
   "outputs": [],
   "source": [
    "fpr, tpr, thresholds = roc_curve(y_test, pred_l_prob[:,1])"
   ]
  },
  {
   "cell_type": "code",
   "execution_count": null,
   "metadata": {},
   "outputs": [],
   "source": [
    "plt.plot(fpr, tpr)"
   ]
  },
  {
   "cell_type": "code",
   "execution_count": null,
   "metadata": {},
   "outputs": [],
   "source": [
    "gmeans = np.sqrt(tpr*(1-fpr))\n",
    "gmeans"
   ]
  },
  {
   "cell_type": "code",
   "execution_count": null,
   "metadata": {},
   "outputs": [],
   "source": [
    "thresholds[np.argmax(gmeans)]"
   ]
  },
  {
   "cell_type": "code",
   "execution_count": null,
   "metadata": {},
   "outputs": [],
   "source": [
    "knn_params = {'n_neighbors':range(50,300)}\n",
    "\n",
    "rs_knn = RandomizedSearchCV(knn, knn_params, n_iter=10, cv=5, scoring='f1')\n",
    "rs_knn.fit(X_train,y_train)\n",
    "rs_knn.best_estimator_"
   ]
  },
  {
   "cell_type": "code",
   "execution_count": null,
   "metadata": {},
   "outputs": [],
   "source": [
    "svc_params = {'kernel':['linear','poly','rbf']}\n",
    "\n",
    "rs_svc = RandomizedSearchCV(svc, svc_params, n_iter=3, cv=5, scoring='f1')\n",
    "rs_svc.fit(X_train, y_train)\n",
    "rs_svc.best_estimator_"
   ]
  },
  {
   "cell_type": "code",
   "execution_count": null,
   "metadata": {},
   "outputs": [],
   "source": [
    "svc_best = SVC(kernel='linear')\n",
    "knn_best = KNeighborsClassifier(n_neighbors=72)\n",
    "\n",
    "svc_best.fit(X_train,y_train)\n",
    "knn_best.fit(X_train,y_train)\n",
    "\n",
    "pred_svc_best = svc_best.predict(X_test)\n",
    "pred_knn_best = knn_best.predict(X_test)\n",
    "\n",
    "print(f1_score(pred_svc_best, y_test))\n",
    "print(f1_score(pred_knn_best, y_test))"
   ]
  },
  {
   "cell_type": "code",
   "execution_count": null,
   "metadata": {},
   "outputs": [],
   "source": [
    "print(f1_score(pred_l, y_test))\n"
   ]
  }
 ],
 "metadata": {
  "kernelspec": {
   "display_name": "base",
   "language": "python",
   "name": "python3"
  },
  "language_info": {
   "codemirror_mode": {
    "name": "ipython",
    "version": 3
   },
   "file_extension": ".py",
   "mimetype": "text/x-python",
   "name": "python",
   "nbconvert_exporter": "python",
   "pygments_lexer": "ipython3",
   "version": "3.9.12"
  },
  "orig_nbformat": 4
 },
 "nbformat": 4,
 "nbformat_minor": 2
}
