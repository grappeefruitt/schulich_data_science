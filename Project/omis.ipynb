{
 "cells": [
  {
   "cell_type": "code",
   "execution_count": 50,
   "metadata": {},
   "outputs": [],
   "source": [
    "import pandas as pd\n",
    "from scipy.optimize import linprog\n",
    "import numpy as np\n",
    "from gurobipy import GRB\n",
    "import gurobipy as gb\n",
    "from gurobipy import Model, GRB, quicksum\n",
    "import pandas as pd\n",
    "from pulp import LpProblem, LpMinimize, LpVariable, lpSum\n"
   ]
  },
  {
   "cell_type": "code",
   "execution_count": 35,
   "metadata": {},
   "outputs": [
    {
     "name": "stdout",
     "output_type": "stream",
     "text": [
      "Collecting pulp\n",
      "  Downloading PuLP-2.8.0-py3-none-any.whl (17.7 MB)\n",
      "\u001b[2K     \u001b[90m━━━━━━━━━━━━━━━━━━━━━━━━━━━━━━━━━━━━━━━━\u001b[0m \u001b[32m17.7/17.7 MB\u001b[0m \u001b[31m38.9 MB/s\u001b[0m eta \u001b[36m0:00:00\u001b[0m00:01\u001b[0m00:01\u001b[0m\n",
      "\u001b[?25hInstalling collected packages: pulp\n",
      "Successfully installed pulp-2.8.0\n",
      "\u001b[33mWARNING: You are using pip version 22.0.4; however, version 23.3.2 is available.\n",
      "You should consider upgrading via the '/opt/anaconda3/bin/python -m pip install --upgrade pip' command.\u001b[0m\u001b[33m\n",
      "\u001b[0mNote: you may need to restart the kernel to use updated packages.\n"
     ]
    }
   ],
   "source": [
    "pip install pulp"
   ]
  },
  {
   "cell_type": "code",
   "execution_count": 19,
   "metadata": {},
   "outputs": [],
   "source": [
    "import gurobipy"
   ]
  },
  {
   "cell_type": "code",
   "execution_count": null,
   "metadata": {},
   "outputs": [],
   "source": [
    "pip install gurobipy"
   ]
  },
  {
   "cell_type": "code",
   "execution_count": 25,
   "metadata": {},
   "outputs": [],
   "source": [
    "df_direct_production_capacity = pd.read_csv('/Users/youziya/Downloads/Capacity_for_Direct_Production_Facilities.csv')\n",
    "df_transship_production_capacity = pd.read_csv('/Users/youziya/Downloads/Capacity_for_Transship_Production_Facilities.csv')\n",
    "df_transship_distribution_capacity = pd.read_csv('/Users/youziya/Downloads/Capacity_for_Transship_Distribution_Centers.csv')\n",
    "df_cost_production_to_refinement = pd.read_csv('/Users/youziya/Downloads/Cost_Production_to_Refinement.csv')\n",
    "df_cost_production_to_transshipment = pd.read_csv('/Users/youziya/Downloads/Cost_Production_to_Transshipment.csv')\n",
    "df_cost_transshipment_to_refinement = pd.read_csv('/Users/youziya/Downloads/Cost_Transshipment_to_Refinement.csv')\n",
    "df_refinement_demand = pd.read_csv('/Users/youziya/Downloads/Refinement_Demand.csv')\n"
   ]
  },
  {
   "cell_type": "code",
   "execution_count": null,
   "metadata": {},
   "outputs": [],
   "source": [
    "df_refinement_demand.info()"
   ]
  },
  {
   "cell_type": "code",
   "execution_count": 26,
   "metadata": {},
   "outputs": [
    {
     "data": {
      "text/plain": [
       "{'Direct Production Capacity':     ProductionFacility  Capacity\n",
       " 0                    1       462\n",
       " 1                    2       103\n",
       " 2                    3       460\n",
       " 3                    4       325\n",
       " 4                    5       227\n",
       " 5                    6       217\n",
       " 6                    7       205\n",
       " 7                    8       521\n",
       " 8                    9       548\n",
       " 9                   10       191\n",
       " 10                  11       361\n",
       " 11                  12       411\n",
       " 12                  13       104\n",
       " 13                  14       155\n",
       " 14                  15       285\n",
       " 15                  16       109\n",
       " 16                  17       422\n",
       " 17                  18       438\n",
       " 18                  19       501\n",
       " 19                  20       139\n",
       " 20                  21       462\n",
       " 21                  22       504\n",
       " 22                  23       106\n",
       " 23                  24       132\n",
       " 24                  25       298,\n",
       " 'Transship Production Capacity':     ProductionFacility  Capacity\n",
       " 0                    1       374\n",
       " 1                    2       444\n",
       " 2                    3       395\n",
       " 3                    4       245\n",
       " 4                    5       378\n",
       " 5                    6       408\n",
       " 6                    7       435\n",
       " 7                    8       175\n",
       " 8                    9       415\n",
       " 9                   10       503\n",
       " 10                  11       184\n",
       " 11                  12       297\n",
       " 12                  13       450\n",
       " 13                  14       169\n",
       " 14                  15       365,\n",
       " 'Transship Distribution Capacity':    TransshipmentHub  Capacity\n",
       " 0                 1      1317\n",
       " 1                 2      1453,\n",
       " 'Cost Production to Refinement':      ProductionFacility  RefinementCenter      Cost\n",
       " 0                     1                 1  4.252733\n",
       " 1                     1                 2  4.567726\n",
       " 2                     1                 3  4.696484\n",
       " 3                     1                 4  2.678741\n",
       " 4                     1                 5  4.272451\n",
       " ..                  ...               ...       ...\n",
       " 120                  25                 1  4.384176\n",
       " 121                  25                 2  5.943448\n",
       " 122                  25                 3  4.999220\n",
       " 123                  25                 4  4.154833\n",
       " 124                  25                 5  5.075280\n",
       " \n",
       " [125 rows x 3 columns],\n",
       " 'Cost Production to Transshipment':     ProductionFacility  TransshipmentHub      Cost\n",
       " 0                    1                 1  2.378826\n",
       " 1                    1                 2  0.863842\n",
       " 2                    2                 1  1.666982\n",
       " 3                    2                 2  2.119488\n",
       " 4                    3                 1  2.174880\n",
       " 5                    3                 2  0.948184\n",
       " 6                    4                 1  2.677416\n",
       " 7                    4                 2  0.592420\n",
       " 8                    5                 1  2.820248\n",
       " 9                    5                 2  0.972329\n",
       " 10                   6                 1  2.853890\n",
       " 11                   6                 2  2.694343\n",
       " 12                   7                 1  1.407028\n",
       " 13                   7                 2  1.428325\n",
       " 14                   8                 1  2.484999\n",
       " 15                   8                 2  0.953477\n",
       " 16                   9                 1  1.786372\n",
       " 17                   9                 2  0.636700\n",
       " 18                  10                 1  0.688528\n",
       " 19                  10                 2  2.259703\n",
       " 20                  11                 1  2.401286\n",
       " 21                  11                 2  1.800107\n",
       " 22                  12                 1  0.564350\n",
       " 23                  12                 2  2.124842\n",
       " 24                  13                 1  1.986070\n",
       " 25                  13                 2  2.347180\n",
       " 26                  14                 1  1.639969\n",
       " 27                  14                 2  1.619281\n",
       " 28                  15                 1  0.649047\n",
       " 29                  15                 2  1.968812,\n",
       " 'Cost Transshipment to Refinement':    TransshipmentHub  RefinementCenter      Cost\n",
       " 0                 1                 1  1.572329\n",
       " 1                 1                 2  3.465474\n",
       " 2                 1                 3  2.244062\n",
       " 3                 1                 4  3.773839\n",
       " 4                 1                 5  3.262652\n",
       " 5                 2                 1  1.900425\n",
       " 6                 2                 2  1.613123\n",
       " 7                 2                 3  1.707232\n",
       " 8                 2                 4  2.705396\n",
       " 9                 2                 5  2.257428,\n",
       " 'Refinement Demand':    RefinementCenter  Demand\n",
       " 0                 1    1537\n",
       " 1                 2    1748\n",
       " 2                 3    1940\n",
       " 3                 4    1838\n",
       " 4                 5    1665}"
      ]
     },
     "execution_count": 26,
     "metadata": {},
     "output_type": "execute_result"
    }
   ],
   "source": [
    "dfs = {\n",
    "    'Direct Production Capacity': df_direct_production_capacity,\n",
    "    'Transship Production Capacity': df_transship_production_capacity,\n",
    "    'Transship Distribution Capacity': df_transship_distribution_capacity,\n",
    "    'Cost Production to Refinement': df_cost_production_to_refinement,\n",
    "    'Cost Production to Transshipment': df_cost_production_to_transshipment,\n",
    "    'Cost Transshipment to Refinement': df_cost_transshipment_to_refinement,\n",
    "    'Refinement Demand': df_refinement_demand\n",
    "}\n",
    "\n",
    "dfs\n"
   ]
  },
  {
   "cell_type": "code",
   "execution_count": 47,
   "metadata": {},
   "outputs": [
    {
     "name": "stdout",
     "output_type": "stream",
     "text": [
      "Welcome to the CBC MILP Solver \n",
      "Version: 2.10.3 \n",
      "Build Date: Dec 15 2019 \n",
      "\n",
      "command line - /opt/anaconda3/lib/python3.9/site-packages/pulp/solverdir/cbc/osx/64/cbc /var/folders/5v/b37q3lz15lq75f7xfjzshd900000gn/T/53cbf74c9aab4e2da470763b65e8a23e-pulp.mps -timeMode elapsed -branch -printingOptions all -solution /var/folders/5v/b37q3lz15lq75f7xfjzshd900000gn/T/53cbf74c9aab4e2da470763b65e8a23e-pulp.sol (default strategy 1)\n",
      "At line 2 NAME          MODEL\n",
      "At line 3 ROWS\n",
      "At line 54 COLUMNS\n",
      "At line 550 RHS\n",
      "At line 600 BOUNDS\n",
      "At line 601 ENDATA\n",
      "Problem MODEL has 49 rows, 165 columns and 330 elements\n",
      "Coin0008I MODEL read with 0 errors\n",
      "Option for timeMode changed from cpu to elapsed\n",
      "Presolve 32 (-17) rows, 135 (-30) columns and 270 (-60) elements\n",
      "0  Obj 0 Primal inf 8728 (5)\n",
      "31  Obj 22093.677 Primal inf 0.699993 (7)\n",
      "38  Obj 22094.007\n",
      "Optimal - objective value 22094.007\n",
      "After Postsolve, objective 22094.007, infeasibilities - dual 0 (0), primal 0 (0)\n",
      "Optimal objective 22094.00717 - 38 iterations time 0.002, Presolve 0.00\n",
      "Option for printingOptions changed from normal to all\n",
      "Total time (CPU seconds):       0.00   (Wallclock seconds):       0.01\n",
      "\n",
      "Solution Status: 1\n",
      "Total Minimized Cost: 22094.007168097058\n"
     ]
    }
   ],
   "source": [
    "\n",
    "# Create the optimization model\n",
    "model = LpProblem(\"Can2Oil_Optimization\", LpMinimize)\n",
    "\n",
    "# Helper function to create a dictionary from DataFrame for easy access\n",
    "def create_dict_from_df(df, index_cols, value_col):\n",
    "    return {(row[index_cols[0]], row[index_cols[1]]): row[value_col] for _, row in df.iterrows()}\n",
    "\n",
    "# Decision Variables\n",
    "# x_ij: oil shipped directly from production facility i to refinement center j\n",
    "# y_ik: oil shipped from transship production facility i to transshipment hub k\n",
    "# z_kj: oil shipped from transshipment hub k to refinement center j\n",
    "\n",
    "# Extracting facilities and centers\n",
    "direct_prod_facilities = df_direct_production_capacity['ProductionFacility'].unique()\n",
    "transship_prod_facilities = df_transship_production_capacity['ProductionFacility'].unique()\n",
    "refinement_centers = df_refinement_demand['RefinementCenter'].unique()\n",
    "transshipment_hubs = df_transship_distribution_capacity['TransshipmentHub'].unique()\n",
    "\n",
    "# Creating variables\n",
    "x = LpVariable.dicts(\"x\", [(i, j) for i in direct_prod_facilities for j in refinement_centers], lowBound=0)\n",
    "y = LpVariable.dicts(\"y\", [(i, k) for i in transship_prod_facilities for k in transshipment_hubs], lowBound=0)\n",
    "z = LpVariable.dicts(\"z\", [(k, j) for k in transshipment_hubs for j in refinement_centers], lowBound=0)\n",
    "\n",
    "# Costs dictionaries\n",
    "cost_direct = create_dict_from_df(df_cost_production_to_refinement, ['ProductionFacility', 'RefinementCenter'], 'Cost')\n",
    "cost_transship = create_dict_from_df(df_cost_production_to_transshipment, ['ProductionFacility', 'TransshipmentHub'], 'Cost')\n",
    "cost_trans_to_refine = create_dict_from_df(df_cost_transshipment_to_refinement, ['TransshipmentHub', 'RefinementCenter'], 'Cost')\n",
    "\n",
    "# Capacities dictionaries\n",
    "capacity_direct = df_direct_production_capacity.set_index('ProductionFacility')['Capacity'].to_dict()\n",
    "capacity_transship = df_transship_production_capacity.set_index('ProductionFacility')['Capacity'].to_dict()\n",
    "capacity_transship_hub = df_transship_distribution_capacity.set_index('TransshipmentHub')['Capacity'].to_dict()\n",
    "demand_refine = df_refinement_demand.set_index('RefinementCenter')['Demand'].to_dict()\n",
    "\n",
    "# Objective Function\n",
    "model += (lpSum([cost_direct[i, j] * x[i, j] for i in direct_prod_facilities for j in refinement_centers]) +\n",
    "          lpSum([cost_transship[i, k] * y[i, k] for i in transship_prod_facilities for k in transshipment_hubs]) +\n",
    "          lpSum([cost_trans_to_refine[k, j] * z[k, j] for k in transshipment_hubs for j in refinement_centers]))\n",
    "\n",
    "# Constraints\n",
    "# Production capacity constraints for direct production facilities\n",
    "for i in direct_prod_facilities:\n",
    "    model += lpSum([x[i, j] for j in refinement_centers]) <= capacity_direct[i]\n",
    "\n",
    "# Production capacity constraints for transshipment production facilities\n",
    "for i in transship_prod_facilities:\n",
    "    model += lpSum([y[i, k] for k in transshipment_hubs]) <= capacity_transship[i]\n",
    "\n",
    "# Transshipment hub capacity constraints\n",
    "for k in transshipment_hubs:\n",
    "    model += lpSum([y[i, k] for i in transship_prod_facilities]) <= capacity_transship_hub[k]\n",
    "    model += lpSum([z[k, j] for j in refinement_centers]) <= capacity_transship_hub[k]\n",
    "\n",
    "# Refinement center demand constraints\n",
    "for j in refinement_centers:\n",
    "    model += lpSum([x[i, j] for i in direct_prod_facilities]) + lpSum([z[k, j] for k in transshipment_hubs]) == demand_refine[j]\n",
    "\n",
    "# Solve the model\n",
    "model.solve()\n",
    "\n",
    "# Output results\n",
    "solution_status = model.status\n",
    "total_cost = model.objective.value()\n",
    "\n",
    "# Corrected output\n",
    "print(\"Solution Status:\", solution_status)\n",
    "print(\"Total Minimized Cost:\", total_cost)\n",
    "\n"
   ]
  },
  {
   "cell_type": "markdown",
   "metadata": {},
   "source": [
    "### Using GRB"
   ]
  },
  {
   "cell_type": "code",
   "execution_count": 52,
   "metadata": {},
   "outputs": [
    {
     "name": "stdout",
     "output_type": "stream",
     "text": [
      "Gurobi Optimizer version 11.0.0 build v11.0.0rc2 (mac64[x86] - Darwin 23.3.0 23D56)\n",
      "\n",
      "CPU model: Intel(R) Core(TM) i5-8210Y CPU @ 1.60GHz\n",
      "Thread count: 2 physical cores, 4 logical processors, using up to 4 threads\n",
      "\n",
      "Optimize a model with 49 rows, 165 columns and 330 nonzeros\n",
      "Model fingerprint: 0x6abe2a2f\n",
      "Coefficient statistics:\n",
      "  Matrix range     [1e+00, 1e+00]\n",
      "  Objective range  [6e-01, 6e+00]\n",
      "  Bounds range     [0e+00, 0e+00]\n",
      "  RHS range        [1e+02, 2e+03]\n",
      "Presolve removed 17 rows and 30 columns\n",
      "Presolve time: 0.03s\n",
      "Presolved: 32 rows, 135 columns, 270 nonzeros\n",
      "\n",
      "Iteration    Objective       Primal Inf.    Dual Inf.      Time\n",
      "       0    1.7230583e+04   1.009982e+03   0.000000e+00      0s\n",
      "      31    2.2094007e+04   0.000000e+00   0.000000e+00      0s\n",
      "\n",
      "Solved in 31 iterations and 0.05 seconds (0.00 work units)\n",
      "Optimal objective  2.209400717e+04\n",
      "Optimal Transportation Cost: 22094.007168097058\n",
      "Optimal Values of x_ij (Direct Shipments): {(1, 1): 0.0, (1, 2): 0.0, (1, 3): 0.0, (1, 4): 462.0, (1, 5): 0.0, (2, 1): 0.0, (2, 2): 103.0, (2, 3): 0.0, (2, 4): 0.0, (2, 5): 0.0, (3, 1): 0.0, (3, 2): 0.0, (3, 3): 460.0, (3, 4): 0.0, (3, 5): 0.0, (4, 1): 0.0, (4, 2): 0.0, (4, 3): 0.0, (4, 4): 0.0, (4, 5): 0.0, (5, 1): 0.0, (5, 2): 0.0, (5, 3): 0.0, (5, 4): 86.0, (5, 5): 0.0, (6, 1): 0.0, (6, 2): 217.0, (6, 3): 0.0, (6, 4): 0.0, (6, 5): 0.0, (7, 1): 0.0, (7, 2): 0.0, (7, 3): 0.0, (7, 4): 0.0, (7, 5): 0.0, (8, 1): 0.0, (8, 2): 0.0, (8, 3): 0.0, (8, 4): 0.0, (8, 5): 521.0, (9, 1): 0.0, (9, 2): 0.0, (9, 3): 0.0, (9, 4): 0.0, (9, 5): 548.0, (10, 1): 0.0, (10, 2): 0.0, (10, 3): 0.0, (10, 4): 0.0, (10, 5): 0.0, (11, 1): 0.0, (11, 2): 0.0, (11, 3): 0.0, (11, 4): 0.0, (11, 5): 354.0, (12, 1): 7.0, (12, 2): 0.0, (12, 3): 404.0, (12, 4): 0.0, (12, 5): 0.0, (13, 1): 104.0, (13, 2): 0.0, (13, 3): 0.0, (13, 4): 0.0, (13, 5): 0.0, (14, 1): 0.0, (14, 2): 0.0, (14, 3): 0.0, (14, 4): 0.0, (14, 5): 155.0, (15, 1): 0.0, (15, 2): 0.0, (15, 3): 0.0, (15, 4): 285.0, (15, 5): 0.0, (16, 1): 109.0, (16, 2): 0.0, (16, 3): 0.0, (16, 4): 0.0, (16, 5): 0.0, (17, 1): 0.0, (17, 2): 0.0, (17, 3): 0.0, (17, 4): 0.0, (17, 5): 0.0, (18, 1): 0.0, (18, 2): 351.0, (18, 3): 0.0, (18, 4): 0.0, (18, 5): 87.0, (19, 1): 0.0, (19, 2): 0.0, (19, 3): 0.0, (19, 4): 501.0, (19, 5): 0.0, (20, 1): 0.0, (20, 2): 0.0, (20, 3): 0.0, (20, 4): 0.0, (20, 5): 0.0, (21, 1): 0.0, (21, 2): 0.0, (21, 3): 462.0, (21, 4): 0.0, (21, 5): 0.0, (22, 1): 0.0, (22, 2): 0.0, (22, 3): 0.0, (22, 4): 504.0, (22, 5): 0.0, (23, 1): 0.0, (23, 2): 106.0, (23, 3): 0.0, (23, 4): 0.0, (23, 5): 0.0, (24, 1): 0.0, (24, 2): 0.0, (24, 3): 132.0, (24, 4): 0.0, (24, 5): 0.0, (25, 1): 0.0, (25, 2): 0.0, (25, 3): 0.0, (25, 4): 0.0, (25, 5): 0.0}\n",
      "Optimal Values of y_ik (To Transshipment): {(1, 1): 0.0, (1, 2): 0.0, (2, 1): 0.0, (2, 2): 0.0, (3, 1): 0.0, (3, 2): 0.0, (4, 1): 0.0, (4, 2): 0.0, (5, 1): 0.0, (5, 2): 0.0, (6, 1): 0.0, (6, 2): 0.0, (7, 1): 0.0, (7, 2): 0.0, (8, 1): 0.0, (8, 2): 0.0, (9, 1): 0.0, (9, 2): 0.0, (10, 1): 0.0, (10, 2): 0.0, (11, 1): 0.0, (11, 2): 0.0, (12, 1): 0.0, (12, 2): 0.0, (13, 1): 0.0, (13, 2): 0.0, (14, 1): 0.0, (14, 2): 0.0, (15, 1): 0.0, (15, 2): 0.0}\n",
      "Optimal Values of z_kj (From Transshipment): {(1, 1): 1317.0, (1, 2): 0.0, (1, 3): 0.0, (1, 4): 0.0, (1, 5): 0.0, (2, 1): 0.0, (2, 2): 971.0, (2, 3): 482.0, (2, 4): 0.0, (2, 5): 0.0}\n"
     ]
    }
   ],
   "source": [
    "import gurobipy as gp\n",
    "from gurobipy import GRB\n",
    "\n",
    "# Assuming you have loaded the necessary data into the following variable\n",
    "\n",
    "# Create a new model\n",
    "model = gp.Model(\"Can2Oil_Transportation\")\n",
    "\n",
    "# Add decision variables\n",
    "x = model.addVars(direct_prod_facilities, refinement_centers, name=\"x\", vtype=GRB.CONTINUOUS, lb=0)\n",
    "y = model.addVars(transship_prod_facilities, transshipment_hubs, name=\"y\", vtype=GRB.CONTINUOUS, lb=0)\n",
    "z = model.addVars(transshipment_hubs, refinement_centers, name=\"z\", vtype=GRB.CONTINUOUS, lb=0)\n",
    "\n",
    "# Objective function\n",
    "model.setObjective(\n",
    "    gp.quicksum(cost_direct[i, j] * x[i, j] for i in direct_prod_facilities for j in refinement_centers) +\n",
    "    gp.quicksum(cost_transship[i, k] * y[i, k] for i in transship_prod_facilities for k in transshipment_hubs) +\n",
    "    gp.quicksum(cost_trans_to_refine[k, j] * z[k, j] for k in transshipment_hubs for j in refinement_centers),\n",
    "    GRB.MINIMIZE)\n",
    "\n",
    "# Constraints\n",
    "# Production capacity constraints for direct and transshipment production facilities\n",
    "for i in direct_prod_facilities:\n",
    "    model.addConstr(gp.quicksum(x[i, j] for j in refinement_centers) <= capacity_direct[i], f\"DirectCap_{i}\")\n",
    "for i in transship_prod_facilities:\n",
    "    model.addConstr(gp.quicksum(y[i, k] for k in transshipment_hubs) <= capacity_transship[i], f\"TransshipProdCap_{i}\")\n",
    "\n",
    "# Transshipment hub capacity constraints\n",
    "for k in transshipment_hubs:\n",
    "    model.addConstr(gp.quicksum(y[i, k] for i in transship_prod_facilities) <= capacity_transship_hub[k], f\"TransshipHubInCap_{k}\")\n",
    "    model.addConstr(gp.quicksum(z[k, j] for j in refinement_centers) <= capacity_transship_hub[k], f\"TransshipHubOutCap_{k}\")\n",
    "\n",
    "# Demand constraints for refinement centers\n",
    "for j in refinement_centers:\n",
    "    model.addConstr(gp.quicksum(x[i, j] for i in direct_prod_facilities) + gp.quicksum(z[k, j] for k in transshipment_hubs) == demand_refine[j], f\"Demand_{j}\")\n",
    "\n",
    "# Solve the model\n",
    "model.optimize()\n",
    "\n",
    "# Output the optimal transportation cost\n",
    "if model.status == GRB.OPTIMAL:\n",
    "    print(f\"Optimal Transportation Cost: {model.objVal}\")\n",
    "else:\n",
    "    print(\"Optimal solution was not found.\")\n",
    "\n",
    "# Output the optimal values for decision variables if needed\n",
    "if model.status == GRB.OPTIMAL:\n",
    "    optimal_values_x = { (i, j): x[i, j].X for i in direct_prod_facilities for j in refinement_centers }\n",
    "    optimal_values_y = { (i, k): y[i, k].X for i in transship_prod_facilities for k in transshipment_hubs }\n",
    "    optimal_values_z = { (k, j): z[k, j].X for k in transshipment_hubs for j in refinement_centers }\n",
    "\n",
    "    print(\"Optimal Values of x_ij (Direct Shipments):\", optimal_values_x)\n",
    "    print(\"Optimal Values of y_ik (To Transshipment):\", optimal_values_y)\n",
    "    print(\"Optimal Values of z_kj (From Transshipment):\", optimal_values_z)\n",
    "\n",
    "\n"
   ]
  },
  {
   "cell_type": "markdown",
   "metadata": {},
   "source": [
    "### Question 2"
   ]
  },
  {
   "cell_type": "code",
   "execution_count": 48,
   "metadata": {},
   "outputs": [
    {
     "name": "stdout",
     "output_type": "stream",
     "text": [
      "Welcome to the CBC MILP Solver \n",
      "Version: 2.10.3 \n",
      "Build Date: Dec 15 2019 \n",
      "\n",
      "command line - /opt/anaconda3/lib/python3.9/site-packages/pulp/solverdir/cbc/osx/64/cbc /var/folders/5v/b37q3lz15lq75f7xfjzshd900000gn/T/a323942f0c38488892641ab01815ab4b-pulp.mps -timeMode elapsed -branch -printingOptions all -solution /var/folders/5v/b37q3lz15lq75f7xfjzshd900000gn/T/a323942f0c38488892641ab01815ab4b-pulp.sol (default strategy 1)\n",
      "At line 2 NAME          MODEL\n",
      "At line 3 ROWS\n",
      "At line 54 COLUMNS\n",
      "At line 550 RHS\n",
      "At line 600 BOUNDS\n",
      "At line 601 ENDATA\n",
      "Problem MODEL has 49 rows, 165 columns and 330 elements\n",
      "Coin0008I MODEL read with 0 errors\n",
      "Option for timeMode changed from cpu to elapsed\n",
      "Presolve 32 (-17) rows, 135 (-30) columns and 270 (-60) elements\n",
      "0  Obj 0 Primal inf 8728 (5)\n",
      "31  Obj 22093.677 Primal inf 0.699993 (7)\n",
      "38  Obj 22094.007\n",
      "Optimal - objective value 22094.007\n",
      "After Postsolve, objective 22094.007, infeasibilities - dual 0 (0), primal 0 (0)\n",
      "Optimal objective 22094.00717 - 38 iterations time 0.002, Presolve 0.00\n",
      "Option for printingOptions changed from normal to all\n",
      "Total time (CPU seconds):       0.00   (Wallclock seconds):       0.02\n",
      "\n",
      "Optimal Values of x_ij (Direct Shipments): {(1, 1): 0.0, (1, 2): 0.0, (1, 3): 0.0, (1, 4): 462.0, (1, 5): 0.0, (2, 1): 0.0, (2, 2): 103.0, (2, 3): 0.0, (2, 4): 0.0, (2, 5): 0.0, (3, 1): 0.0, (3, 2): 0.0, (3, 3): 460.0, (3, 4): 0.0, (3, 5): 0.0, (4, 1): 0.0, (4, 2): 0.0, (4, 3): 0.0, (4, 4): 0.0, (4, 5): 0.0, (5, 1): 0.0, (5, 2): 0.0, (5, 3): 0.0, (5, 4): 86.0, (5, 5): 0.0, (6, 1): 0.0, (6, 2): 217.0, (6, 3): 0.0, (6, 4): 0.0, (6, 5): 0.0, (7, 1): 0.0, (7, 2): 0.0, (7, 3): 0.0, (7, 4): 0.0, (7, 5): 0.0, (8, 1): 0.0, (8, 2): 0.0, (8, 3): 0.0, (8, 4): 0.0, (8, 5): 521.0, (9, 1): 0.0, (9, 2): 0.0, (9, 3): 0.0, (9, 4): 0.0, (9, 5): 548.0, (10, 1): 0.0, (10, 2): 0.0, (10, 3): 0.0, (10, 4): 0.0, (10, 5): 0.0, (11, 1): 0.0, (11, 2): 0.0, (11, 3): 0.0, (11, 4): 0.0, (11, 5): 354.0, (12, 1): 7.0, (12, 2): 0.0, (12, 3): 404.0, (12, 4): 0.0, (12, 5): 0.0, (13, 1): 104.0, (13, 2): 0.0, (13, 3): 0.0, (13, 4): 0.0, (13, 5): 0.0, (14, 1): 0.0, (14, 2): 0.0, (14, 3): 0.0, (14, 4): 0.0, (14, 5): 155.0, (15, 1): 0.0, (15, 2): 0.0, (15, 3): 0.0, (15, 4): 285.0, (15, 5): 0.0, (16, 1): 109.0, (16, 2): 0.0, (16, 3): 0.0, (16, 4): 0.0, (16, 5): 0.0, (17, 1): 0.0, (17, 2): 0.0, (17, 3): 0.0, (17, 4): 0.0, (17, 5): 0.0, (18, 1): 0.0, (18, 2): 351.0, (18, 3): 0.0, (18, 4): 0.0, (18, 5): 87.0, (19, 1): 0.0, (19, 2): 0.0, (19, 3): 0.0, (19, 4): 501.0, (19, 5): 0.0, (20, 1): 0.0, (20, 2): 0.0, (20, 3): 0.0, (20, 4): 0.0, (20, 5): 0.0, (21, 1): 0.0, (21, 2): 0.0, (21, 3): 462.0, (21, 4): 0.0, (21, 5): 0.0, (22, 1): 0.0, (22, 2): 0.0, (22, 3): 0.0, (22, 4): 504.0, (22, 5): 0.0, (23, 1): 0.0, (23, 2): 106.0, (23, 3): 0.0, (23, 4): 0.0, (23, 5): 0.0, (24, 1): 0.0, (24, 2): 0.0, (24, 3): 132.0, (24, 4): 0.0, (24, 5): 0.0, (25, 1): 0.0, (25, 2): 0.0, (25, 3): 0.0, (25, 4): 0.0, (25, 5): 0.0}\n",
      "Optimal Values of y_ik (To Transshipment): {(1, 1): 0.0, (1, 2): 0.0, (2, 1): 0.0, (2, 2): 0.0, (3, 1): 0.0, (3, 2): 0.0, (4, 1): 0.0, (4, 2): 0.0, (5, 1): 0.0, (5, 2): 0.0, (6, 1): 0.0, (6, 2): 0.0, (7, 1): 0.0, (7, 2): 0.0, (8, 1): 0.0, (8, 2): 0.0, (9, 1): 0.0, (9, 2): 0.0, (10, 1): 0.0, (10, 2): 0.0, (11, 1): 0.0, (11, 2): 0.0, (12, 1): 0.0, (12, 2): 0.0, (13, 1): 0.0, (13, 2): 0.0, (14, 1): 0.0, (14, 2): 0.0, (15, 1): 0.0, (15, 2): 0.0}\n",
      "Optimal Values of z_kj (From Transshipment): {(1, 1): 1317.0, (1, 2): 0.0, (1, 3): 0.0, (1, 4): 0.0, (1, 5): 0.0, (2, 1): 0.0, (2, 2): 971.0, (2, 3): 482.0, (2, 4): 0.0, (2, 5): 0.0}\n"
     ]
    }
   ],
   "source": [
    "# After solving the model\n",
    "model.solve()\n",
    "\n",
    "# Extracting the optimal values of x_ij, y_ik, and z_kj\n",
    "optimal_values_x = {(i, j): x[i, j].varValue for i in direct_prod_facilities for j in refinement_centers}\n",
    "optimal_values_y = {(i, k): y[i, k].varValue for i in transship_prod_facilities for k in transshipment_hubs}\n",
    "optimal_values_z = {(k, j): z[k, j].varValue for k in transshipment_hubs for j in refinement_centers}\n",
    "\n",
    "# You can now print these values or use them in further calculations\n",
    "print(\"Optimal Values of x_ij (Direct Shipments):\", optimal_values_x)\n",
    "print(\"Optimal Values of y_ik (To Transshipment):\", optimal_values_y)\n",
    "print(\"Optimal Values of z_kj (From Transshipment):\", optimal_values_z)\n"
   ]
  },
  {
   "cell_type": "code",
   "execution_count": null,
   "metadata": {},
   "outputs": [],
   "source": [
    "# Assuming optimal_values_x, optimal_values_y, and optimal_values_z are dictionaries \n",
    "# containing the optimal values of x_ij, y_ik, and z_kj from the Gurobi solution.\n",
    "\n",
    "# Calculate total transshipped oil\n",
    "total_transshipped_oil = sum(optimal_values_y.values())\n",
    "\n",
    "# Calculate total shipped oil (direct + transshipped)\n",
    "total_shipped_oil = sum(optimal_values_x.values()) + total_transshipped_oil\n",
    "\n",
    "# Calculate the proportion of transshipped oil\n",
    "if total_shipped_oil > 0:\n",
    "    proportion_transshipped = total_transshipped_oil / total_shipped_oil\n",
    "else:\n",
    "    proportion_transshipped = 0\n",
    "\n",
    "proportion_transshipped\n"
   ]
  },
  {
   "cell_type": "markdown",
   "metadata": {},
   "source": [
    "### Question 3\n",
    "limits the total amount of oil transshipped. limit the transshipped oil to a certain proportion of the total shipped oil which is p"
   ]
  },
  {
   "cell_type": "code",
   "execution_count": 57,
   "metadata": {},
   "outputs": [
    {
     "name": "stdout",
     "output_type": "stream",
     "text": [
      "Gurobi Optimizer version 11.0.0 build v11.0.0rc2 (mac64[x86] - Darwin 23.3.0 23D56)\n",
      "\n",
      "CPU model: Intel(R) Core(TM) i5-8210Y CPU @ 1.60GHz\n",
      "Thread count: 2 physical cores, 4 logical processors, using up to 4 threads\n",
      "\n",
      "Optimize a model with 52 rows, 165 columns and 795 nonzeros\n",
      "Coefficient statistics:\n",
      "  Matrix range     [5e-02, 1e+00]\n",
      "  Objective range  [2e+00, 6e+00]\n",
      "  Bounds range     [0e+00, 0e+00]\n",
      "  RHS range        [1e+02, 2e+03]\n",
      "LP warm-start: use basis\n",
      "Iteration    Objective       Primal Inf.    Dual Inf.      Time\n",
      "       0    2.2094007e+04   0.000000e+00   0.000000e+00      0s\n",
      "\n",
      "Solved in 0 iterations and 0.01 seconds (0.00 work units)\n",
      "Optimal objective  2.209400717e+04\n",
      "Optimal Transportation Cost: 22094.007168097058\n"
     ]
    }
   ],
   "source": [
    "penalty_factor = 0.50 * 4.34  # 20% of the average direct cost\n",
    "\n",
    "# Incorporate this penalty factor into the objective function\n",
    "model.setObjective(\n",
    "    gp.quicksum(cost_direct[i, j] * x[i, j] for i in direct_prod_facilities for j in refinement_centers) +\n",
    "    gp.quicksum((cost_transship[i, k] + penalty_factor) * y[i, k] for i in transship_prod_facilities for k in transshipment_hubs) +\n",
    "    gp.quicksum(cost_trans_to_refine[k, j] * z[k, j] for k in transshipment_hubs for j in refinement_centers),\n",
    "    GRB.MINIMIZE)\n",
    "\n",
    "# Solve the model\n",
    "model.optimize()\n",
    "\n",
    "# Output the optimal transportation cost and check the solution\n",
    "if model.status == GRB.OPTIMAL:\n",
    "    print(f\"Optimal Transportation Cost: {model.objVal}\")\n",
    "else:\n",
    "    print(\"Optimal solution was not found.\")\n"
   ]
  },
  {
   "cell_type": "code",
   "execution_count": 59,
   "metadata": {},
   "outputs": [
    {
     "name": "stdout",
     "output_type": "stream",
     "text": [
      "Gurobi Optimizer version 11.0.0 build v11.0.0rc2 (mac64[x86] - Darwin 23.3.0 23D56)\n",
      "\n",
      "CPU model: Intel(R) Core(TM) i5-8210Y CPU @ 1.60GHz\n",
      "Thread count: 2 physical cores, 4 logical processors, using up to 4 threads\n",
      "\n",
      "Optimize a model with 54 rows, 165 columns and 855 nonzeros\n",
      "Coefficient statistics:\n",
      "  Matrix range     [5e-02, 1e+00]\n",
      "  Objective range  [2e+00, 6e+00]\n",
      "  Bounds range     [0e+00, 0e+00]\n",
      "  RHS range        [5e+00, 2e+03]\n",
      "LP warm-start: use basis\n",
      "Iteration    Objective       Primal Inf.    Dual Inf.      Time\n",
      "       0    2.2094007e+04   0.000000e+00   0.000000e+00      0s\n",
      "\n",
      "Solved in 0 iterations and 0.01 seconds (0.00 work units)\n",
      "Optimal objective  2.209400717e+04\n",
      "Optimal Transportation Cost: 22094.007168097058\n"
     ]
    }
   ],
   "source": [
    "# Example: Set a hard limit on the total amount of oil that can be transshipped\n",
    "transshipment_limit = 10  # Define a suitable limit\n",
    "\n",
    "# Add constraint to the model\n",
    "total_transshipment = gp.quicksum(y[i, k] for i in transship_prod_facilities for k in transshipment_hubs)\n",
    "model.addConstr(total_transshipment <= transshipment_limit, \"TransshipmentUpperLimit\")\n",
    "\n",
    "# Solve the model\n",
    "model.optimize()\n",
    "\n",
    "# Output the optimal transportation cost\n",
    "if model.status == GRB.OPTIMAL:\n",
    "    print(f\"Optimal Transportation Cost: {model.objVal}\")\n",
    "else:\n",
    "    print(\"Optimal solution was not found.\")\n"
   ]
  },
  {
   "cell_type": "code",
   "execution_count": null,
   "metadata": {},
   "outputs": [],
   "source": []
  },
  {
   "cell_type": "markdown",
   "metadata": {},
   "source": [
    "### Quetion 5\n",
    "Which of the two modeling approaches would you recommend the company take to determine a transportation plan that reduces the amount of canola oil that is transshipped?"
   ]
  },
  {
   "cell_type": "markdown",
   "metadata": {},
   "source": [
    "Between the two modeling approaches to reduce the amount of canola oil that is transshipped — adding a transshipment limit constraint or modifying the objective function to penalize transshipment — the choice depends on Can2Oil's strategic priorities and operational flexibility. "
   ]
  },
  {
   "cell_type": "markdown",
   "metadata": {},
   "source": [
    "1. Adding a Transshipment Limit Constraint\n",
    "Merits:\n",
    "\n",
    "Provides clear, direct control over the amount of oil that is transshipped.\n",
    "Ensures that transshipment does not exceed a specified threshold, aligning with explicit operational or strategic goals.\n",
    "Suitable when there are clear operational reasons or business strategies to limit transshipment, such as cost, time, or quality considerations."
   ]
  },
  {
   "cell_type": "markdown",
   "metadata": {},
   "source": [
    "2. Modifying the Objective Function to Penalize Transshipment\n",
    "Merits:\n",
    "\n",
    "Offers more flexibility as it does not impose a hard limit but discourages excessive use of transshipment routes.\n",
    "Allows the model to find a balance between cost optimization and reducing transshipment.\n",
    "Suitable for scenarios where transshipment is not strictly limited, but there's a preference for direct routes."
   ]
  },
  {
   "cell_type": "markdown",
   "metadata": {},
   "source": [
    "If Can2Oil has a specific transshipment reduction target or faces operational constraints that necessitate limiting transshipment, the first approach (setting a transshipment limit constraint) is more appropriate. It provides a clear and enforceable limit on how much oil can be transshipped.\n",
    "\n",
    "If the goal is more about generally favoring direct routes over transshipment without rigid constraints, then modifying the objective function to penalize transshipment offers a more balanced and flexible solution."
   ]
  },
  {
   "cell_type": "markdown",
   "metadata": {},
   "source": [
    "### question 6"
   ]
  },
  {
   "cell_type": "code",
   "execution_count": 60,
   "metadata": {},
   "outputs": [
    {
     "name": "stdout",
     "output_type": "stream",
     "text": [
      "Gurobi Optimizer version 11.0.0 build v11.0.0rc2 (mac64[x86] - Darwin 23.3.0 23D56)\n",
      "\n",
      "CPU model: Intel(R) Core(TM) i5-8210Y CPU @ 1.60GHz\n",
      "Thread count: 2 physical cores, 4 logical processors, using up to 4 threads\n",
      "\n",
      "Optimize a model with 54 rows, 165 columns and 855 nonzeros\n",
      "Coefficient statistics:\n",
      "  Matrix range     [5e-02, 1e+00]\n",
      "  Objective range  [6e-01, 6e+00]\n",
      "  Bounds range     [0e+00, 0e+00]\n",
      "  RHS range        [5e+00, 2e+03]\n",
      "LP warm-start: use basis\n",
      "Iteration    Objective       Primal Inf.    Dual Inf.      Time\n",
      "       0   -2.0706394e+30   2.600000e+31   2.070639e+00      0s\n",
      "       7    2.1238557e+04   0.000000e+00   0.000000e+00      0s\n",
      "\n",
      "Solved in 7 iterations and 0.01 seconds (0.00 work units)\n",
      "Optimal objective  2.123855655e+04\n",
      "Optimal Transportation Cost with Re-shoring: 21238.556553760773\n"
     ]
    }
   ],
   "source": [
    "import gurobipy as gp\n",
    "from gurobipy import GRB\n",
    "\n",
    "# Assuming you have the data loaded and the model setup as before\n",
    "\n",
    "# Apply a discount to transportation costs for closer producers\n",
    "discount_factor = 0.8  # e.g., 20% reduction in cost\n",
    "for i in [1, 2, 3, 4, 5]:  # Assuming these are the IDs for North American producers\n",
    "    for j in refinement_centers:\n",
    "        cost_direct[i, j] *= discount_factor\n",
    "\n",
    "# Reset the objective function with the updated costs\n",
    "model.setObjective(\n",
    "    gp.quicksum(cost_direct[i, j] * x[i, j] for i in direct_prod_facilities for j in refinement_centers) +\n",
    "    gp.quicksum(cost_transship[i, k] * y[i, k] for i in transship_prod_facilities for k in transshipment_hubs) +\n",
    "    gp.quicksum(cost_trans_to_refine[k, j] * z[k, j] for k in transshipment_hubs for j in refinement_centers),\n",
    "    GRB.MINIMIZE)\n",
    "\n",
    "# Solve the model with the updated costs\n",
    "model.optimize()\n",
    "\n",
    "# Output the optimal transportation cost\n",
    "if model.status == GRB.OPTIMAL:\n",
    "    print(f\"Optimal Transportation Cost with Re-shoring: {model.objVal}\")\n",
    "else:\n",
    "    print(\"Optimal solution was not found.\")\n"
   ]
  },
  {
   "cell_type": "markdown",
   "metadata": {},
   "source": [
    "### question 7"
   ]
  },
  {
   "cell_type": "markdown",
   "metadata": {},
   "source": [
    "The re-shoring model might still reduce transshipment if nearby producers offer competitive direct routes, but this is a byproduct of its primary goal of favoring closer sources."
   ]
  }
 ],
 "metadata": {
  "kernelspec": {
   "display_name": "base",
   "language": "python",
   "name": "python3"
  },
  "language_info": {
   "codemirror_mode": {
    "name": "ipython",
    "version": 3
   },
   "file_extension": ".py",
   "mimetype": "text/x-python",
   "name": "python",
   "nbconvert_exporter": "python",
   "pygments_lexer": "ipython3",
   "version": "3.9.12"
  }
 },
 "nbformat": 4,
 "nbformat_minor": 2
}
