{
 "cells": [
  {
   "cell_type": "code",
   "execution_count": 1,
   "metadata": {},
   "outputs": [],
   "source": [
    "import pandas as pd\n",
    "from scipy.optimize import minimize\n",
    "import numpy as np\n",
    "\n",
    "\n"
   ]
  },
  {
   "cell_type": "code",
   "execution_count": 2,
   "metadata": {},
   "outputs": [],
   "source": [
    "df = pd.read_csv('/Users/youziya/Library/CloudStorage/OneDrive-YorkUniversity/OMIS 6000 Models and Applications in Operational Reseach/Assignment 2/price_response.csv')"
   ]
  },
  {
   "cell_type": "markdown",
   "metadata": {},
   "source": [
    "a)"
   ]
  },
  {
   "cell_type": "code",
   "execution_count": 3,
   "metadata": {},
   "outputs": [
    {
     "data": {
      "text/plain": [
       "array([ 383.84823389, 2296.49742446])"
      ]
     },
     "execution_count": 3,
     "metadata": {},
     "output_type": "execute_result"
    }
   ],
   "source": [
    "\n",
    "\n",
    "# Define the coefficients for the price response functions\n",
    "a1, b1 = 35234.545786, 45.896450\n",
    "a2, b2 = 37790.240832, 8.227794\n",
    "\n",
    "# Define the objective function to be maximized (Note: minimize function is used, so we take the negative of the objective)\n",
    "def objective(prices):\n",
    "    p1, p2 = prices\n",
    "    return -((p1 * (a1 - b1 * p1)) + (p2 * (a2 - b2 * p2)))\n",
    "\n",
    "# Define the constraints\n",
    "constraints = [\n",
    "    {'type': 'ineq', 'fun': lambda prices: prices[1] - prices[0]},  # p2 - p1 >= 0 (Advanced price higher than Basic)\n",
    "    {'type': 'ineq', 'fun': lambda prices: prices[0]},  # p1 >= 0\n",
    "    {'type': 'ineq', 'fun': lambda prices: prices[1]}   # p2 >= 0\n",
    "]\n",
    "\n",
    "# Initial guess for the prices\n",
    "initial_guess = [10, 20]\n",
    "\n",
    "# Perform the optimization\n",
    "result = minimize(objective, initial_guess, constraints=constraints)\n",
    "\n",
    "result.x  # Optimal prices for Product 1 and Product 2"
   ]
  },
  {
   "cell_type": "markdown",
   "metadata": {},
   "source": [
    "b)"
   ]
  },
  {
   "cell_type": "code",
   "execution_count": null,
   "metadata": {},
   "outputs": [],
   "source": []
  }
 ],
 "metadata": {
  "kernelspec": {
   "display_name": "base",
   "language": "python",
   "name": "python3"
  },
  "language_info": {
   "codemirror_mode": {
    "name": "ipython",
    "version": 3
   },
   "file_extension": ".py",
   "mimetype": "text/x-python",
   "name": "python",
   "nbconvert_exporter": "python",
   "pygments_lexer": "ipython3",
   "version": "3.9.12"
  }
 },
 "nbformat": 4,
 "nbformat_minor": 2
}
