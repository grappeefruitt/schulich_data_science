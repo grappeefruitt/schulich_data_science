{
 "cells": [
  {
   "cell_type": "code",
   "execution_count": 1,
   "metadata": {},
   "outputs": [
    {
     "name": "stderr",
     "output_type": "stream",
     "text": [
      "2023-11-08 20:45:54.505879: I tensorflow/core/platform/cpu_feature_guard.cc:182] This TensorFlow binary is optimized to use available CPU instructions in performance-critical operations.\n",
      "To enable the following instructions: AVX2 FMA, in other operations, rebuild TensorFlow with the appropriate compiler flags.\n",
      "/opt/anaconda3/lib/python3.9/site-packages/scipy/__init__.py:146: UserWarning: A NumPy version >=1.16.5 and <1.23.0 is required for this version of SciPy (detected version 1.26.1\n",
      "  warnings.warn(f\"A NumPy version >={np_minversion} and <{np_maxversion}\"\n"
     ]
    }
   ],
   "source": [
    "import pandas as pd\n",
    "import tensorflow as tf\n",
    "import numpy as np\n",
    "import matplotlib.pyplot as plt"
   ]
  },
  {
   "cell_type": "code",
   "execution_count": 2,
   "metadata": {},
   "outputs": [
    {
     "name": "stdout",
     "output_type": "stream",
     "text": [
      "Requirement already satisfied: tensorflow_datasets in /opt/anaconda3/lib/python3.9/site-packages (4.9.3)\n",
      "Requirement already satisfied: dm-tree in /opt/anaconda3/lib/python3.9/site-packages (from tensorflow_datasets) (0.1.8)\n",
      "Requirement already satisfied: requests>=2.19.0 in /opt/anaconda3/lib/python3.9/site-packages (from tensorflow_datasets) (2.27.1)\n",
      "Requirement already satisfied: termcolor in /opt/anaconda3/lib/python3.9/site-packages (from tensorflow_datasets) (2.3.0)\n",
      "Requirement already satisfied: numpy in /opt/anaconda3/lib/python3.9/site-packages (from tensorflow_datasets) (1.26.1)\n",
      "Requirement already satisfied: tqdm in /opt/anaconda3/lib/python3.9/site-packages (from tensorflow_datasets) (4.64.0)\n",
      "Requirement already satisfied: click in /opt/anaconda3/lib/python3.9/site-packages (from tensorflow_datasets) (8.0.4)\n",
      "Requirement already satisfied: wrapt in /opt/anaconda3/lib/python3.9/site-packages (from tensorflow_datasets) (1.12.1)\n",
      "Requirement already satisfied: array-record in /opt/anaconda3/lib/python3.9/site-packages (from tensorflow_datasets) (0.4.1)\n",
      "Requirement already satisfied: psutil in /opt/anaconda3/lib/python3.9/site-packages (from tensorflow_datasets) (5.8.0)\n",
      "Requirement already satisfied: tensorflow-metadata in /opt/anaconda3/lib/python3.9/site-packages (from tensorflow_datasets) (1.14.0)\n",
      "Requirement already satisfied: promise in /opt/anaconda3/lib/python3.9/site-packages (from tensorflow_datasets) (2.3)\n",
      "Requirement already satisfied: absl-py in /opt/anaconda3/lib/python3.9/site-packages (from tensorflow_datasets) (1.4.0)\n",
      "Requirement already satisfied: etils[enp,epath,etree]>=0.9.0 in /opt/anaconda3/lib/python3.9/site-packages (from tensorflow_datasets) (1.5.2)\n",
      "Requirement already satisfied: protobuf>=3.20 in /opt/anaconda3/lib/python3.9/site-packages (from tensorflow_datasets) (3.20.3)\n",
      "Requirement already satisfied: toml in /opt/anaconda3/lib/python3.9/site-packages (from tensorflow_datasets) (0.10.2)\n",
      "Requirement already satisfied: fsspec in /opt/anaconda3/lib/python3.9/site-packages (from etils[enp,epath,etree]>=0.9.0->tensorflow_datasets) (2022.2.0)\n",
      "Requirement already satisfied: zipp in /opt/anaconda3/lib/python3.9/site-packages (from etils[enp,epath,etree]>=0.9.0->tensorflow_datasets) (3.7.0)\n",
      "Requirement already satisfied: typing_extensions in /opt/anaconda3/lib/python3.9/site-packages (from etils[enp,epath,etree]>=0.9.0->tensorflow_datasets) (4.1.1)\n",
      "Requirement already satisfied: importlib_resources in /opt/anaconda3/lib/python3.9/site-packages (from etils[enp,epath,etree]>=0.9.0->tensorflow_datasets) (6.1.1)\n",
      "Requirement already satisfied: charset-normalizer~=2.0.0 in /opt/anaconda3/lib/python3.9/site-packages (from requests>=2.19.0->tensorflow_datasets) (2.0.4)\n",
      "Requirement already satisfied: urllib3<1.27,>=1.21.1 in /opt/anaconda3/lib/python3.9/site-packages (from requests>=2.19.0->tensorflow_datasets) (1.26.9)\n",
      "Requirement already satisfied: idna<4,>=2.5 in /opt/anaconda3/lib/python3.9/site-packages (from requests>=2.19.0->tensorflow_datasets) (3.3)\n",
      "Requirement already satisfied: certifi>=2017.4.17 in /opt/anaconda3/lib/python3.9/site-packages (from requests>=2.19.0->tensorflow_datasets) (2021.10.8)\n",
      "Requirement already satisfied: six in /opt/anaconda3/lib/python3.9/site-packages (from promise->tensorflow_datasets) (1.16.0)\n",
      "Requirement already satisfied: googleapis-common-protos<2,>=1.52.0 in /opt/anaconda3/lib/python3.9/site-packages (from tensorflow-metadata->tensorflow_datasets) (1.53.0)\n",
      "\u001b[33mWARNING: You are using pip version 22.0.4; however, version 23.3.1 is available.\n",
      "You should consider upgrading via the '/opt/anaconda3/bin/python -m pip install --upgrade pip' command.\u001b[0m\u001b[33m\n",
      "\u001b[0mNote: you may need to restart the kernel to use updated packages.\n"
     ]
    }
   ],
   "source": [
    "pip install tensorflow_datasets"
   ]
  },
  {
   "cell_type": "code",
   "execution_count": 3,
   "metadata": {},
   "outputs": [],
   "source": [
    "import tensorflow_datasets as tfds"
   ]
  },
  {
   "cell_type": "code",
   "execution_count": 4,
   "metadata": {},
   "outputs": [],
   "source": [
    "(train, test) = tfds.load('mnist',\n",
    "                                split = ['train','test'])"
   ]
  },
  {
   "cell_type": "code",
   "execution_count": 5,
   "metadata": {},
   "outputs": [
    {
     "data": {
      "text/plain": [
       "<_PrefetchDataset element_spec={'image': TensorSpec(shape=(28, 28, 1), dtype=tf.uint8, name=None), 'label': TensorSpec(shape=(), dtype=tf.int64, name=None)}>"
      ]
     },
     "execution_count": 5,
     "metadata": {},
     "output_type": "execute_result"
    }
   ],
   "source": [
    "train"
   ]
  },
  {
   "cell_type": "code",
   "execution_count": 6,
   "metadata": {},
   "outputs": [
    {
     "data": {
      "text/plain": [
       "<_PrefetchDataset element_spec={'image': TensorSpec(shape=(28, 28, 1), dtype=tf.uint8, name=None), 'label': TensorSpec(shape=(), dtype=tf.int64, name=None)}>"
      ]
     },
     "execution_count": 6,
     "metadata": {},
     "output_type": "execute_result"
    }
   ],
   "source": [
    "test"
   ]
  },
  {
   "cell_type": "markdown",
   "metadata": {},
   "source": [
    "create dataframe"
   ]
  },
  {
   "cell_type": "code",
   "execution_count": 7,
   "metadata": {},
   "outputs": [],
   "source": [
    "from sklearn.preprocessing import StandardScaler\n",
    "from sklearn.preprocessing import OneHotEncoder"
   ]
  },
  {
   "cell_type": "code",
   "execution_count": 17,
   "metadata": {},
   "outputs": [],
   "source": [
    "def load_dataset(train_size, test_size):\n",
    "    train, test = tf.keras.datasets.mnist.load_data()\n",
    "\n",
    "    # take a sample\n",
    "    train_idx = np.random.randint(low=0, high=train[0].shape[0], size=train_size)\n",
    "    test_idx = np.random.randint(low=0, high=test[0].shape[0], size=test_size)\n",
    "    X_train = train[0][train_idx].reshape(-1,28*28)\n",
    "    y_train = train[1][train_idx].reshape(-1,1)\n",
    "    X_test = test[0][test_idx].reshape(-1,28*28)\n",
    "    y_test = test[1][test_idx].reshape(-1,1)\n",
    "    \n",
    "    scale = StandardScaler()\n",
    "    X_train = scale.fit_transform(X_train)\n",
    "    X_test = scale.transform(X_test)\n",
    "\n",
    "    OH = OneHotEncoder(categories='auto', sparse=False)\n",
    "    y_train = OH.fit_transform(y_train)\n",
    "    y_test = OH.transform(y_test)\n",
    "    print('X_train:',X_train.shape)\n",
    "    print('y_train:',y_train.shape)\n",
    "    print('X_test:',X_test.shape)\n",
    "    print('y_test:',y_test.shape)\n",
    "    print('Min:', X_train.min())\n",
    "    print('Max:', X_train.max())\n",
    "\n",
    "    return X_train, X_test, y_train, y_test"
   ]
  },
  {
   "cell_type": "code",
   "execution_count": 26,
   "metadata": {},
   "outputs": [
    {
     "name": "stdout",
     "output_type": "stream",
     "text": [
      "X_train: (60000, 784)\n",
      "y_train: (60000, 10)\n",
      "X_test: (10000, 784)\n",
      "y_test: (10000, 10)\n",
      "Min: -1.276624781734497\n",
      "Max: 244.9469330287314\n"
     ]
    }
   ],
   "source": [
    "X_train, X_test, y_train, y_test = load_dataset(60000,10000)"
   ]
  },
  {
   "cell_type": "markdown",
   "metadata": {},
   "source": [
    "Optimizing at the initialization stage"
   ]
  },
  {
   "cell_type": "code",
   "execution_count": 27,
   "metadata": {},
   "outputs": [],
   "source": [
    "from tensorflow.keras import layers"
   ]
  },
  {
   "cell_type": "code",
   "execution_count": 28,
   "metadata": {},
   "outputs": [],
   "source": [
    "init = tf.initializers.zeros()\n",
    "activate = 'relu'\n",
    "optimizer = tf.keras.optimizers.SGD(learning_rate=0.01)"
   ]
  },
  {
   "cell_type": "code",
   "execution_count": 29,
   "metadata": {},
   "outputs": [],
   "source": [
    "def simple_model(initializer, activation='relu'):\n",
    "    return tf.keras.Sequential([layers.Dense(32, activation, input_shape=(784,), kernel_initializer=initializer),\n",
    "                                layers.Dense(32, activation, kernel_initializer=initializer),\n",
    "                                layers.Dense(32, activation, kernel_initializer=initializer),\n",
    "                                layers.Dense(32, activation, kernel_initializer=initializer),\n",
    "                                layers.Dense(10, activation = 'softmax', kernel_initializer=tf.keras.initializers.glorot_normal())\n",
    "\n",
    "\n",
    "\n",
    "    ])"
   ]
  },
  {
   "cell_type": "code",
   "execution_count": 22,
   "metadata": {},
   "outputs": [],
   "source": [
    "model_zeros = simple_model(init, activate)"
   ]
  },
  {
   "cell_type": "code",
   "execution_count": 31,
   "metadata": {},
   "outputs": [
    {
     "name": "stdout",
     "output_type": "stream",
     "text": [
      "Epoch 1/10\n",
      "19/19 [==============================] - 3s 62ms/step - loss: 2.3026 - accuracy: 0.1091 - val_loss: 2.3025 - val_accuracy: 0.1142\n",
      "Epoch 2/10\n",
      "19/19 [==============================] - 1s 41ms/step - loss: 2.3025 - accuracy: 0.1109 - val_loss: 2.3025 - val_accuracy: 0.1142\n",
      "Epoch 3/10\n",
      "19/19 [==============================] - 1s 41ms/step - loss: 2.3025 - accuracy: 0.1109 - val_loss: 2.3024 - val_accuracy: 0.1142\n",
      "Epoch 4/10\n",
      "19/19 [==============================] - 1s 46ms/step - loss: 2.3024 - accuracy: 0.1109 - val_loss: 2.3023 - val_accuracy: 0.1142\n",
      "Epoch 5/10\n",
      "19/19 [==============================] - 1s 36ms/step - loss: 2.3024 - accuracy: 0.1109 - val_loss: 2.3023 - val_accuracy: 0.1142\n",
      "Epoch 6/10\n",
      "19/19 [==============================] - 1s 35ms/step - loss: 2.3023 - accuracy: 0.1109 - val_loss: 2.3022 - val_accuracy: 0.1142\n",
      "Epoch 7/10\n",
      "19/19 [==============================] - 1s 37ms/step - loss: 2.3023 - accuracy: 0.1109 - val_loss: 2.3022 - val_accuracy: 0.1142\n",
      "Epoch 8/10\n",
      "19/19 [==============================] - 1s 36ms/step - loss: 2.3023 - accuracy: 0.1109 - val_loss: 2.3021 - val_accuracy: 0.1142\n",
      "Epoch 9/10\n",
      "19/19 [==============================] - 1s 42ms/step - loss: 2.3022 - accuracy: 0.1109 - val_loss: 2.3021 - val_accuracy: 0.1142\n",
      "Epoch 10/10\n",
      "19/19 [==============================] - 1s 49ms/step - loss: 2.3022 - accuracy: 0.1109 - val_loss: 2.3020 - val_accuracy: 0.1142\n"
     ]
    },
    {
     "data": {
      "text/plain": [
       "<keras.src.callbacks.History at 0x7fa8e67a7b50>"
      ]
     },
     "execution_count": 31,
     "metadata": {},
     "output_type": "execute_result"
    }
   ],
   "source": [
    "model_zeros.compile(optimizer=optimizer, loss='categorical_crossentropy', metrics=['accuracy'])\n",
    "model_zeros.fit(X_train, y_train, epochs=10, batch_size=3200, validation_data=(X_test, y_test))"
   ]
  },
  {
   "cell_type": "code",
   "execution_count": 32,
   "metadata": {},
   "outputs": [
    {
     "name": "stderr",
     "output_type": "stream",
     "text": [
      "/opt/anaconda3/lib/python3.9/site-packages/keras/src/initializers/initializers.py:120: UserWarning: The initializer RandomNormal is unseeded and being called multiple times, which will return identical values each time (even if the initializer is unseeded). Please update your code to provide a seed to the initializer, or avoid using the same initializer instance more than once.\n",
      "  warnings.warn(\n"
     ]
    },
    {
     "name": "stdout",
     "output_type": "stream",
     "text": [
      "Epoch 1/10\n",
      "19/19 [==============================] - 2s 56ms/step - loss: 2.3022 - accuracy: 0.2097 - val_loss: 2.3015 - val_accuracy: 0.2083\n",
      "Epoch 2/10\n",
      "19/19 [==============================] - 1s 33ms/step - loss: 2.3016 - accuracy: 0.1956 - val_loss: 2.3009 - val_accuracy: 0.1927\n",
      "Epoch 3/10\n",
      "19/19 [==============================] - 1s 34ms/step - loss: 2.3011 - accuracy: 0.1843 - val_loss: 2.3005 - val_accuracy: 0.1826\n",
      "Epoch 4/10\n",
      "19/19 [==============================] - 1s 35ms/step - loss: 2.3006 - accuracy: 0.1774 - val_loss: 2.3000 - val_accuracy: 0.1755\n",
      "Epoch 5/10\n",
      "19/19 [==============================] - 1s 40ms/step - loss: 2.3003 - accuracy: 0.1687 - val_loss: 2.2997 - val_accuracy: 0.1681\n",
      "Epoch 6/10\n",
      "19/19 [==============================] - 1s 36ms/step - loss: 2.2999 - accuracy: 0.1654 - val_loss: 2.2993 - val_accuracy: 0.1620\n",
      "Epoch 7/10\n",
      "19/19 [==============================] - 1s 43ms/step - loss: 2.2996 - accuracy: 0.1594 - val_loss: 2.2989 - val_accuracy: 0.1575\n",
      "Epoch 8/10\n",
      "19/19 [==============================] - 1s 40ms/step - loss: 2.2993 - accuracy: 0.1570 - val_loss: 2.2986 - val_accuracy: 0.1559\n",
      "Epoch 9/10\n",
      "19/19 [==============================] - 1s 33ms/step - loss: 2.2989 - accuracy: 0.1551 - val_loss: 2.2982 - val_accuracy: 0.1561\n",
      "Epoch 10/10\n",
      "19/19 [==============================] - 1s 44ms/step - loss: 2.2986 - accuracy: 0.1523 - val_loss: 2.2978 - val_accuracy: 0.1545\n"
     ]
    },
    {
     "data": {
      "text/plain": [
       "<keras.src.callbacks.History at 0x7fa89fb3d9d0>"
      ]
     },
     "execution_count": 32,
     "metadata": {},
     "output_type": "execute_result"
    }
   ],
   "source": [
    "init = tf.initializers.random_normal()\n",
    "activate = 'relu'\n",
    "optimizer = tf.keras.optimizers.SGD(learning_rate=0.01)\n",
    "model_normal = simple_model(init, activate)\n",
    "model_normal.compile(optimizer=optimizer, loss='categorical_crossentropy', metrics=['accuracy'])\n",
    "model_normal.fit(X_train, y_train, epochs=10, batch_size=3200, validation_data=(X_test, y_test))"
   ]
  },
  {
   "cell_type": "code",
   "execution_count": 33,
   "metadata": {},
   "outputs": [
    {
     "name": "stderr",
     "output_type": "stream",
     "text": [
      "/opt/anaconda3/lib/python3.9/site-packages/keras/src/initializers/initializers.py:120: UserWarning: The initializer HeUniform is unseeded and being called multiple times, which will return identical values each time (even if the initializer is unseeded). Please update your code to provide a seed to the initializer, or avoid using the same initializer instance more than once.\n",
      "  warnings.warn(\n"
     ]
    },
    {
     "name": "stdout",
     "output_type": "stream",
     "text": [
      "Epoch 1/10\n",
      "19/19 [==============================] - 3s 60ms/step - loss: 2.5303 - accuracy: 0.1597 - val_loss: 2.2306 - val_accuracy: 0.2193\n",
      "Epoch 2/10\n",
      "19/19 [==============================] - 1s 33ms/step - loss: 2.0716 - accuracy: 0.2975 - val_loss: 1.9314 - val_accuracy: 0.3693\n",
      "Epoch 3/10\n",
      "19/19 [==============================] - 1s 47ms/step - loss: 1.8134 - accuracy: 0.4204 - val_loss: 1.7113 - val_accuracy: 0.4684\n",
      "Epoch 4/10\n",
      "19/19 [==============================] - 1s 36ms/step - loss: 1.6008 - accuracy: 0.5142 - val_loss: 1.5153 - val_accuracy: 0.5552\n",
      "Epoch 5/10\n",
      "19/19 [==============================] - 1s 36ms/step - loss: 1.4101 - accuracy: 0.5882 - val_loss: 1.3404 - val_accuracy: 0.6148\n",
      "Epoch 6/10\n",
      "19/19 [==============================] - 1s 36ms/step - loss: 1.2463 - accuracy: 0.6411 - val_loss: 1.1942 - val_accuracy: 0.6621\n",
      "Epoch 7/10\n",
      "19/19 [==============================] - 1s 35ms/step - loss: 1.1118 - accuracy: 0.6815 - val_loss: 1.0764 - val_accuracy: 0.6948\n",
      "Epoch 8/10\n",
      "19/19 [==============================] - 1s 32ms/step - loss: 1.0031 - accuracy: 0.7143 - val_loss: 0.9811 - val_accuracy: 0.7292\n",
      "Epoch 9/10\n",
      "19/19 [==============================] - 1s 41ms/step - loss: 0.9142 - accuracy: 0.7412 - val_loss: 0.9024 - val_accuracy: 0.7476\n",
      "Epoch 10/10\n",
      "19/19 [==============================] - 1s 33ms/step - loss: 0.8410 - accuracy: 0.7627 - val_loss: 0.8373 - val_accuracy: 0.7676\n"
     ]
    },
    {
     "data": {
      "text/plain": [
       "<keras.src.callbacks.History at 0x7fa89003a1f0>"
      ]
     },
     "execution_count": 33,
     "metadata": {},
     "output_type": "execute_result"
    }
   ],
   "source": [
    "init = tf.initializers.he_uniform()\n",
    "activate = 'relu'\n",
    "optimizer = tf.keras.optimizers.SGD(learning_rate=0.01)\n",
    "model_heu = simple_model(init, activate)\n",
    "model_heu.compile(optimizer=optimizer, loss='categorical_crossentropy', metrics=['accuracy'])\n",
    "model_heu.fit(X_train, y_train, epochs=10, batch_size=3200, validation_data=(X_test, y_test))"
   ]
  },
  {
   "cell_type": "code",
   "execution_count": 34,
   "metadata": {},
   "outputs": [
    {
     "ename": "NameError",
     "evalue": "name 'model_glorotu' is not defined",
     "output_type": "error",
     "traceback": [
      "\u001b[0;31m---------------------------------------------------------------------------\u001b[0m",
      "\u001b[0;31mNameError\u001b[0m                                 Traceback (most recent call last)",
      "\u001b[1;32m/grappeefruitt/schulich_data_science/Fall 2023/class8.ipynb Cell 19\u001b[0m line \u001b[0;36m<cell line: 1>\u001b[0;34m()\u001b[0m\n\u001b[0;32m----> <a href='vscode-notebook-cell://github/grappeefruitt/schulich_data_science/Fall%202023/class8.ipynb#X35sdnNjb2RlLXZmcw%3D%3D?line=0'>1</a>\u001b[0m \u001b[39mfor\u001b[39;00m i \u001b[39min\u001b[39;00m [model_heu, model_normal, model_glorotu, model_zeros]:\n\u001b[1;32m      <a href='vscode-notebook-cell://github/grappeefruitt/schulich_data_science/Fall%202023/class8.ipynb#X35sdnNjb2RlLXZmcw%3D%3D?line=1'>2</a>\u001b[0m     plt\u001b[39m.\u001b[39mplot(i\u001b[39m.\u001b[39mhistory\u001b[39m.\u001b[39mhistory[\u001b[39m'\u001b[39m\u001b[39mval_accuracy\u001b[39m\u001b[39m'\u001b[39m], label\u001b[39m=\u001b[39mi\u001b[39m.\u001b[39mget_config()[\u001b[39m'\u001b[39m\u001b[39mlayers\u001b[39m\u001b[39m'\u001b[39m][\u001b[39m1\u001b[39m][\u001b[39m'\u001b[39m\u001b[39mconfig\u001b[39m\u001b[39m'\u001b[39m][\u001b[39m'\u001b[39m\u001b[39mkernel_initializer\u001b[39m\u001b[39m'\u001b[39m][\u001b[39m'\u001b[39m\u001b[39mclass_name\u001b[39m\u001b[39m'\u001b[39m])\n\u001b[1;32m      <a href='vscode-notebook-cell://github/grappeefruitt/schulich_data_science/Fall%202023/class8.ipynb#X35sdnNjb2RlLXZmcw%3D%3D?line=3'>4</a>\u001b[0m plt\u001b[39m.\u001b[39mlegend()\n",
      "\u001b[0;31mNameError\u001b[0m: name 'model_glorotu' is not defined"
     ]
    }
   ],
   "source": [
    "for i in [model_heu, model_normal, model_glorotu, model_zeros]:\n",
    "    plt.plot(i.history.history['val_accuracy'], label=i.get_config()['layers'][1]['config']['kernel_initializer']['class_name'])\n",
    "\n",
    "plt.legend()\n",
    "plt.xlabel('Epoch')\n",
    "plt.ylabel('Validation Accuracy')"
   ]
  },
  {
   "cell_type": "code",
   "execution_count": null,
   "metadata": {},
   "outputs": [],
   "source": [
    "def simple_model_bn(initializer = 'he_uniform', activation='relu'):\n",
    "    return tf.keras.Sequential([layers.Dense(32, activation, input_shape=(784,), kernel_initializer=initializer),\n",
    "                                layers.BatchNormalization(trainable=True, scale=True, center=True),\n",
    "                                layers.Dense(32, activation, kernel_initializer=initializer),\n",
    "                                layers.BatchNormalization(trainable=True, scale=True, center=True),\n",
    "                                layers.Dense(32, activation, kernel_initializer=initializer),\n",
    "                                layers.BatchNormalization(trainable=True, scale=True, center=True),\n",
    "                                layers.Dense(32, activation, kernel_initializer=initializer),\n",
    "                                layers.BatchNormalization(trainable=True, scale=True, center=True),\n",
    "                                layers.Dense(10, activation = 'softmax', kernel_initializer=tf.keras.initializers.glorot_normal())\n",
    "\n",
    "\n",
    "\n",
    "    ])"
   ]
  },
  {
   "cell_type": "code",
   "execution_count": null,
   "metadata": {},
   "outputs": [],
   "source": [
    "simple_model_bn().summary()"
   ]
  },
  {
   "cell_type": "code",
   "execution_count": null,
   "metadata": {},
   "outputs": [],
   "source": [
    "init = tf.keras.initializers.random_normal()\n",
    "activate = 'relu'\n",
    "\n",
    "optimizer = tf.keras.optimizers.SGD(0.01)\n",
    "model_bn = simple_model_bn(init, activate)\n",
    "model_bn.compile(optimizer=optimizer, loss='categorical_crossentropy', metrics=['accuracy'])\n",
    "model_bn.fit(X_train, y_train, epochs=10, batch_size=3200, validation_data = (X_test, y_test))"
   ]
  }
 ],
 "metadata": {
  "kernelspec": {
   "display_name": "base",
   "language": "python",
   "name": "python3"
  },
  "language_info": {
   "codemirror_mode": {
    "name": "ipython",
    "version": 3
   },
   "file_extension": ".py",
   "mimetype": "text/x-python",
   "name": "python",
   "nbconvert_exporter": "python",
   "pygments_lexer": "ipython3",
   "version": "3.9.12"
  }
 },
 "nbformat": 4,
 "nbformat_minor": 2
}
