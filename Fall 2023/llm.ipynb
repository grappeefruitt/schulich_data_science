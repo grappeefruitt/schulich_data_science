{
 "cells": [
  {
   "cell_type": "code",
   "execution_count": null,
   "metadata": {},
   "outputs": [],
   "source": [
    "pip install openai"
   ]
  },
  {
   "cell_type": "code",
   "execution_count": 19,
   "metadata": {},
   "outputs": [
    {
     "name": "stdout",
     "output_type": "stream",
     "text": [
      "Requirement already satisfied: openai==0.28 in /opt/anaconda3/lib/python3.9/site-packages (0.28.0)\n",
      "Requirement already satisfied: tqdm in /opt/anaconda3/lib/python3.9/site-packages (from openai==0.28) (4.64.0)\n",
      "Requirement already satisfied: aiohttp in /opt/anaconda3/lib/python3.9/site-packages (from openai==0.28) (3.8.1)\n",
      "Requirement already satisfied: requests>=2.20 in /opt/anaconda3/lib/python3.9/site-packages (from openai==0.28) (2.27.1)\n",
      "Requirement already satisfied: idna<4,>=2.5 in /opt/anaconda3/lib/python3.9/site-packages (from requests>=2.20->openai==0.28) (3.3)\n",
      "Requirement already satisfied: urllib3<1.27,>=1.21.1 in /opt/anaconda3/lib/python3.9/site-packages (from requests>=2.20->openai==0.28) (1.26.9)\n",
      "Requirement already satisfied: certifi>=2017.4.17 in /opt/anaconda3/lib/python3.9/site-packages (from requests>=2.20->openai==0.28) (2021.10.8)\n",
      "Requirement already satisfied: charset-normalizer~=2.0.0 in /opt/anaconda3/lib/python3.9/site-packages (from requests>=2.20->openai==0.28) (2.0.4)\n",
      "Requirement already satisfied: attrs>=17.3.0 in /opt/anaconda3/lib/python3.9/site-packages (from aiohttp->openai==0.28) (21.4.0)\n",
      "Requirement already satisfied: yarl<2.0,>=1.0 in /opt/anaconda3/lib/python3.9/site-packages (from aiohttp->openai==0.28) (1.6.3)\n",
      "Requirement already satisfied: async-timeout<5.0,>=4.0.0a3 in /opt/anaconda3/lib/python3.9/site-packages (from aiohttp->openai==0.28) (4.0.1)\n",
      "Requirement already satisfied: aiosignal>=1.1.2 in /opt/anaconda3/lib/python3.9/site-packages (from aiohttp->openai==0.28) (1.2.0)\n",
      "Requirement already satisfied: multidict<7.0,>=4.5 in /opt/anaconda3/lib/python3.9/site-packages (from aiohttp->openai==0.28) (5.2.0)\n",
      "Requirement already satisfied: frozenlist>=1.1.1 in /opt/anaconda3/lib/python3.9/site-packages (from aiohttp->openai==0.28) (1.2.0)\n",
      "Requirement already satisfied: typing-extensions>=3.6.5 in /opt/anaconda3/lib/python3.9/site-packages (from async-timeout<5.0,>=4.0.0a3->aiohttp->openai==0.28) (4.9.0)\n",
      "\u001b[33mWARNING: You are using pip version 22.0.4; however, version 23.3.1 is available.\n",
      "You should consider upgrading via the '/opt/anaconda3/bin/python -m pip install --upgrade pip' command.\u001b[0m\u001b[33m\n",
      "\u001b[0mNote: you may need to restart the kernel to use updated packages.\n"
     ]
    }
   ],
   "source": [
    "pip install openai==0.28\n"
   ]
  },
  {
   "cell_type": "code",
   "execution_count": 26,
   "metadata": {},
   "outputs": [
    {
     "name": "stdout",
     "output_type": "stream",
     "text": [
      "Requirement already satisfied: transformers in /opt/anaconda3/lib/python3.9/site-packages (4.35.2)\n",
      "Collecting torch\n",
      "  Downloading torch-2.1.1-cp39-none-macosx_10_9_x86_64.whl (147.0 MB)\n",
      "\u001b[2K     \u001b[90m━━━━━━━━━━━━━━━━━━━━━━━━━━━━━━━━━━━━━━━\u001b[0m \u001b[32m147.0/147.0 MB\u001b[0m \u001b[31m1.0 MB/s\u001b[0m eta \u001b[36m0:00:00\u001b[0m00:01\u001b[0m00:02\u001b[0m\n",
      "\u001b[?25hRequirement already satisfied: regex!=2019.12.17 in /opt/anaconda3/lib/python3.9/site-packages (from transformers) (2022.3.15)\n",
      "Requirement already satisfied: filelock in /opt/anaconda3/lib/python3.9/site-packages (from transformers) (3.6.0)\n",
      "Requirement already satisfied: requests in /opt/anaconda3/lib/python3.9/site-packages (from transformers) (2.27.1)\n",
      "Requirement already satisfied: tokenizers<0.19,>=0.14 in /opt/anaconda3/lib/python3.9/site-packages (from transformers) (0.15.0)\n",
      "Requirement already satisfied: packaging>=20.0 in /opt/anaconda3/lib/python3.9/site-packages (from transformers) (21.3)\n",
      "Requirement already satisfied: numpy>=1.17 in /opt/anaconda3/lib/python3.9/site-packages (from transformers) (1.22.4)\n",
      "Requirement already satisfied: huggingface-hub<1.0,>=0.16.4 in /opt/anaconda3/lib/python3.9/site-packages (from transformers) (0.19.4)\n",
      "Requirement already satisfied: tqdm>=4.27 in /opt/anaconda3/lib/python3.9/site-packages (from transformers) (4.64.0)\n",
      "Requirement already satisfied: safetensors>=0.3.1 in /opt/anaconda3/lib/python3.9/site-packages (from transformers) (0.4.1)\n",
      "Requirement already satisfied: pyyaml>=5.1 in /opt/anaconda3/lib/python3.9/site-packages (from transformers) (6.0)\n",
      "Requirement already satisfied: networkx in /opt/anaconda3/lib/python3.9/site-packages (from torch) (2.7.1)\n",
      "Requirement already satisfied: typing-extensions in /opt/anaconda3/lib/python3.9/site-packages (from torch) (4.9.0)\n",
      "Requirement already satisfied: sympy in /opt/anaconda3/lib/python3.9/site-packages (from torch) (1.10.1)\n",
      "Requirement already satisfied: jinja2 in /opt/anaconda3/lib/python3.9/site-packages (from torch) (2.11.3)\n",
      "Requirement already satisfied: fsspec in /opt/anaconda3/lib/python3.9/site-packages (from torch) (2023.12.0)\n",
      "Requirement already satisfied: pyparsing!=3.0.5,>=2.0.2 in /opt/anaconda3/lib/python3.9/site-packages (from packaging>=20.0->transformers) (3.0.4)\n",
      "Requirement already satisfied: MarkupSafe>=0.23 in /opt/anaconda3/lib/python3.9/site-packages (from jinja2->torch) (2.0.1)\n",
      "Requirement already satisfied: idna<4,>=2.5 in /opt/anaconda3/lib/python3.9/site-packages (from requests->transformers) (3.3)\n",
      "Requirement already satisfied: urllib3<1.27,>=1.21.1 in /opt/anaconda3/lib/python3.9/site-packages (from requests->transformers) (1.26.9)\n",
      "Requirement already satisfied: certifi>=2017.4.17 in /opt/anaconda3/lib/python3.9/site-packages (from requests->transformers) (2021.10.8)\n",
      "Requirement already satisfied: charset-normalizer~=2.0.0 in /opt/anaconda3/lib/python3.9/site-packages (from requests->transformers) (2.0.4)\n",
      "Requirement already satisfied: mpmath>=0.19 in /opt/anaconda3/lib/python3.9/site-packages (from sympy->torch) (1.2.1)\n",
      "Installing collected packages: torch\n",
      "Successfully installed torch-2.1.1\n",
      "\u001b[33mWARNING: You are using pip version 22.0.4; however, version 23.3.1 is available.\n",
      "You should consider upgrading via the '/opt/anaconda3/bin/python -m pip install --upgrade pip' command.\u001b[0m\u001b[33m\n",
      "\u001b[0mNote: you may need to restart the kernel to use updated packages.\n"
     ]
    }
   ],
   "source": [
    "pip install transformers torch\n"
   ]
  },
  {
   "cell_type": "code",
   "execution_count": 30,
   "metadata": {},
   "outputs": [
    {
     "name": "stdout",
     "output_type": "stream",
     "text": [
      "Requirement already satisfied: transformers in /opt/anaconda3/lib/python3.9/site-packages (4.35.2)\n",
      "Requirement already satisfied: torch in /opt/anaconda3/lib/python3.9/site-packages (2.1.1)\n",
      "Requirement already satisfied: numpy>=1.17 in /opt/anaconda3/lib/python3.9/site-packages (from transformers) (1.22.4)\n",
      "Requirement already satisfied: regex!=2019.12.17 in /opt/anaconda3/lib/python3.9/site-packages (from transformers) (2022.3.15)\n",
      "Requirement already satisfied: requests in /opt/anaconda3/lib/python3.9/site-packages (from transformers) (2.27.1)\n",
      "Requirement already satisfied: tqdm>=4.27 in /opt/anaconda3/lib/python3.9/site-packages (from transformers) (4.64.0)\n",
      "Requirement already satisfied: packaging>=20.0 in /opt/anaconda3/lib/python3.9/site-packages (from transformers) (21.3)\n",
      "Requirement already satisfied: pyyaml>=5.1 in /opt/anaconda3/lib/python3.9/site-packages (from transformers) (6.0)\n",
      "Requirement already satisfied: filelock in /opt/anaconda3/lib/python3.9/site-packages (from transformers) (3.6.0)\n",
      "Requirement already satisfied: safetensors>=0.3.1 in /opt/anaconda3/lib/python3.9/site-packages (from transformers) (0.4.1)\n",
      "Requirement already satisfied: tokenizers<0.19,>=0.14 in /opt/anaconda3/lib/python3.9/site-packages (from transformers) (0.15.0)\n",
      "Requirement already satisfied: huggingface-hub<1.0,>=0.16.4 in /opt/anaconda3/lib/python3.9/site-packages (from transformers) (0.19.4)\n",
      "Requirement already satisfied: networkx in /opt/anaconda3/lib/python3.9/site-packages (from torch) (2.7.1)\n",
      "Requirement already satisfied: jinja2 in /opt/anaconda3/lib/python3.9/site-packages (from torch) (2.11.3)\n",
      "Requirement already satisfied: typing-extensions in /opt/anaconda3/lib/python3.9/site-packages (from torch) (4.9.0)\n",
      "Requirement already satisfied: fsspec in /opt/anaconda3/lib/python3.9/site-packages (from torch) (2023.12.0)\n",
      "Requirement already satisfied: sympy in /opt/anaconda3/lib/python3.9/site-packages (from torch) (1.10.1)\n",
      "Requirement already satisfied: pyparsing!=3.0.5,>=2.0.2 in /opt/anaconda3/lib/python3.9/site-packages (from packaging>=20.0->transformers) (3.0.4)\n",
      "Requirement already satisfied: MarkupSafe>=0.23 in /opt/anaconda3/lib/python3.9/site-packages (from jinja2->torch) (2.0.1)\n",
      "Requirement already satisfied: charset-normalizer~=2.0.0 in /opt/anaconda3/lib/python3.9/site-packages (from requests->transformers) (2.0.4)\n",
      "Requirement already satisfied: urllib3<1.27,>=1.21.1 in /opt/anaconda3/lib/python3.9/site-packages (from requests->transformers) (1.26.9)\n",
      "Requirement already satisfied: certifi>=2017.4.17 in /opt/anaconda3/lib/python3.9/site-packages (from requests->transformers) (2021.10.8)\n",
      "Requirement already satisfied: idna<4,>=2.5 in /opt/anaconda3/lib/python3.9/site-packages (from requests->transformers) (3.3)\n",
      "Requirement already satisfied: mpmath>=0.19 in /opt/anaconda3/lib/python3.9/site-packages (from sympy->torch) (1.2.1)\n",
      "\u001b[33mWARNING: You are using pip version 22.0.4; however, version 23.3.1 is available.\n",
      "You should consider upgrading via the '/opt/anaconda3/bin/python -m pip install --upgrade pip' command.\u001b[0m\u001b[33m\n",
      "\u001b[0mNote: you may need to restart the kernel to use updated packages.\n"
     ]
    }
   ],
   "source": [
    "pip install --upgrade transformers torch\n"
   ]
  },
  {
   "cell_type": "code",
   "execution_count": 34,
   "metadata": {},
   "outputs": [
    {
     "name": "stdout",
     "output_type": "stream",
     "text": [
      "Requirement already satisfied: transformers in /opt/anaconda3/lib/python3.9/site-packages (4.35.2)\n",
      "Requirement already satisfied: torch in /opt/anaconda3/lib/python3.9/site-packages (2.1.1)\n",
      "Requirement already satisfied: huggingface-hub<1.0,>=0.16.4 in /opt/anaconda3/lib/python3.9/site-packages (from transformers) (0.19.4)\n",
      "Requirement already satisfied: pyyaml>=5.1 in /opt/anaconda3/lib/python3.9/site-packages (from transformers) (6.0)\n",
      "Requirement already satisfied: numpy>=1.17 in /opt/anaconda3/lib/python3.9/site-packages (from transformers) (1.22.4)\n",
      "Requirement already satisfied: tokenizers<0.19,>=0.14 in /opt/anaconda3/lib/python3.9/site-packages (from transformers) (0.15.0)\n",
      "Requirement already satisfied: requests in /opt/anaconda3/lib/python3.9/site-packages (from transformers) (2.27.1)\n",
      "Requirement already satisfied: filelock in /opt/anaconda3/lib/python3.9/site-packages (from transformers) (3.6.0)\n",
      "Requirement already satisfied: packaging>=20.0 in /opt/anaconda3/lib/python3.9/site-packages (from transformers) (21.3)\n",
      "Requirement already satisfied: tqdm>=4.27 in /opt/anaconda3/lib/python3.9/site-packages (from transformers) (4.64.0)\n",
      "Requirement already satisfied: safetensors>=0.3.1 in /opt/anaconda3/lib/python3.9/site-packages (from transformers) (0.4.1)\n",
      "Requirement already satisfied: regex!=2019.12.17 in /opt/anaconda3/lib/python3.9/site-packages (from transformers) (2022.3.15)\n",
      "Requirement already satisfied: fsspec in /opt/anaconda3/lib/python3.9/site-packages (from torch) (2023.12.0)\n",
      "Requirement already satisfied: jinja2 in /opt/anaconda3/lib/python3.9/site-packages (from torch) (2.11.3)\n",
      "Requirement already satisfied: sympy in /opt/anaconda3/lib/python3.9/site-packages (from torch) (1.10.1)\n",
      "Requirement already satisfied: networkx in /opt/anaconda3/lib/python3.9/site-packages (from torch) (2.7.1)\n",
      "Requirement already satisfied: typing-extensions in /opt/anaconda3/lib/python3.9/site-packages (from torch) (4.9.0)\n",
      "Requirement already satisfied: pyparsing!=3.0.5,>=2.0.2 in /opt/anaconda3/lib/python3.9/site-packages (from packaging>=20.0->transformers) (3.0.4)\n",
      "Requirement already satisfied: MarkupSafe>=0.23 in /opt/anaconda3/lib/python3.9/site-packages (from jinja2->torch) (2.0.1)\n",
      "Requirement already satisfied: certifi>=2017.4.17 in /opt/anaconda3/lib/python3.9/site-packages (from requests->transformers) (2021.10.8)\n",
      "Requirement already satisfied: idna<4,>=2.5 in /opt/anaconda3/lib/python3.9/site-packages (from requests->transformers) (3.3)\n",
      "Requirement already satisfied: urllib3<1.27,>=1.21.1 in /opt/anaconda3/lib/python3.9/site-packages (from requests->transformers) (1.26.9)\n",
      "Requirement already satisfied: charset-normalizer~=2.0.0 in /opt/anaconda3/lib/python3.9/site-packages (from requests->transformers) (2.0.4)\n",
      "Requirement already satisfied: mpmath>=0.19 in /opt/anaconda3/lib/python3.9/site-packages (from sympy->torch) (1.2.1)\n",
      "\u001b[33mWARNING: You are using pip version 22.0.4; however, version 23.3.1 is available.\n",
      "You should consider upgrading via the '/opt/anaconda3/bin/python -m pip install --upgrade pip' command.\u001b[0m\u001b[33m\n",
      "\u001b[0mNote: you may need to restart the kernel to use updated packages.\n"
     ]
    }
   ],
   "source": [
    "pip install transformers torch\n"
   ]
  },
  {
   "cell_type": "code",
   "execution_count": 33,
   "metadata": {},
   "outputs": [
    {
     "ename": "SyntaxError",
     "evalue": "invalid syntax (2891842826.py, line 1)",
     "output_type": "error",
     "traceback": [
      "\u001b[0;36m  Input \u001b[0;32mIn [33]\u001b[0;36m\u001b[0m\n\u001b[0;31m    python -m venv myenv\u001b[0m\n\u001b[0m              ^\u001b[0m\n\u001b[0;31mSyntaxError\u001b[0m\u001b[0;31m:\u001b[0m invalid syntax\n"
     ]
    }
   ],
   "source": [
    "python -m venv myenv\n"
   ]
  },
  {
   "cell_type": "code",
   "execution_count": null,
   "metadata": {},
   "outputs": [],
   "source": [
    "import transformers\n",
    "import torch\n",
    "print(transformers.__version__)\n",
    "print(torch.__version__)\n"
   ]
  },
  {
   "cell_type": "code",
   "execution_count": 28,
   "metadata": {},
   "outputs": [
    {
     "name": "stderr",
     "output_type": "stream",
     "text": [
      "2023-12-10 19:30:11.202751: I tensorflow/core/platform/cpu_feature_guard.cc:182] This TensorFlow binary is optimized to use available CPU instructions in performance-critical operations.\n",
      "To enable the following instructions: AVX2 FMA, in other operations, rebuild TensorFlow with the appropriate compiler flags.\n"
     ]
    },
    {
     "ename": "RuntimeError",
     "evalue": "module compiled against API version 0x10 but this version of numpy is 0xf",
     "output_type": "error",
     "traceback": [
      "\u001b[0;31m---------------------------------------------------------------------------\u001b[0m",
      "\u001b[0;31mRuntimeError\u001b[0m                              Traceback (most recent call last)",
      "\u001b[0;31mRuntimeError\u001b[0m: module compiled against API version 0x10 but this version of numpy is 0xf"
     ]
    },
    {
     "ename": "ImportError",
     "evalue": "numpy.core._multiarray_umath failed to import",
     "output_type": "error",
     "traceback": [
      "\u001b[0;31m---------------------------------------------------------------------------\u001b[0m",
      "\u001b[0;31mImportError\u001b[0m                               Traceback (most recent call last)",
      "\u001b[0;31mImportError\u001b[0m: numpy.core._multiarray_umath failed to import"
     ]
    },
    {
     "ename": "ImportError",
     "evalue": "numpy.core.umath failed to import",
     "output_type": "error",
     "traceback": [
      "\u001b[0;31m---------------------------------------------------------------------------\u001b[0m",
      "\u001b[0;31mImportError\u001b[0m                               Traceback (most recent call last)",
      "\u001b[0;31mImportError\u001b[0m: numpy.core.umath failed to import"
     ]
    },
    {
     "ename": "RuntimeError",
     "evalue": "Failed to import transformers.pipelines because of the following error (look up to see its traceback):\nUnable to convert function return value to a Python type! The signature was\n\t() -> handle",
     "output_type": "error",
     "traceback": [
      "\u001b[0;31m---------------------------------------------------------------------------\u001b[0m",
      "\u001b[0;31mTypeError\u001b[0m                                 Traceback (most recent call last)",
      "File \u001b[0;32m/opt/anaconda3/lib/python3.9/site-packages/transformers/utils/import_utils.py:1353\u001b[0m, in \u001b[0;36m_LazyModule._get_module\u001b[0;34m(self, module_name)\u001b[0m\n\u001b[1;32m   1352\u001b[0m \u001b[39mtry\u001b[39;00m:\n\u001b[0;32m-> 1353\u001b[0m     \u001b[39mreturn\u001b[39;00m importlib\u001b[39m.\u001b[39;49mimport_module(\u001b[39m\"\u001b[39;49m\u001b[39m.\u001b[39;49m\u001b[39m\"\u001b[39;49m \u001b[39m+\u001b[39;49m module_name, \u001b[39mself\u001b[39;49m\u001b[39m.\u001b[39;49m\u001b[39m__name__\u001b[39;49m)\n\u001b[1;32m   1354\u001b[0m \u001b[39mexcept\u001b[39;00m \u001b[39mException\u001b[39;00m \u001b[39mas\u001b[39;00m e:\n",
      "File \u001b[0;32m/opt/anaconda3/lib/python3.9/importlib/__init__.py:127\u001b[0m, in \u001b[0;36mimport_module\u001b[0;34m(name, package)\u001b[0m\n\u001b[1;32m    126\u001b[0m         level \u001b[39m+\u001b[39m\u001b[39m=\u001b[39m \u001b[39m1\u001b[39m\n\u001b[0;32m--> 127\u001b[0m \u001b[39mreturn\u001b[39;00m _bootstrap\u001b[39m.\u001b[39;49m_gcd_import(name[level:], package, level)\n",
      "File \u001b[0;32m<frozen importlib._bootstrap>:1030\u001b[0m, in \u001b[0;36m_gcd_import\u001b[0;34m(name, package, level)\u001b[0m\n",
      "File \u001b[0;32m<frozen importlib._bootstrap>:1007\u001b[0m, in \u001b[0;36m_find_and_load\u001b[0;34m(name, import_)\u001b[0m\n",
      "File \u001b[0;32m<frozen importlib._bootstrap>:986\u001b[0m, in \u001b[0;36m_find_and_load_unlocked\u001b[0;34m(name, import_)\u001b[0m\n",
      "File \u001b[0;32m<frozen importlib._bootstrap>:680\u001b[0m, in \u001b[0;36m_load_unlocked\u001b[0;34m(spec)\u001b[0m\n",
      "File \u001b[0;32m<frozen importlib._bootstrap_external>:850\u001b[0m, in \u001b[0;36mexec_module\u001b[0;34m(self, module)\u001b[0m\n",
      "File \u001b[0;32m<frozen importlib._bootstrap>:228\u001b[0m, in \u001b[0;36m_call_with_frames_removed\u001b[0;34m(f, *args, **kwds)\u001b[0m\n",
      "File \u001b[0;32m/opt/anaconda3/lib/python3.9/site-packages/transformers/pipelines/__init__.py:28\u001b[0m, in \u001b[0;36m<module>\u001b[0;34m\u001b[0m\n\u001b[1;32m     27\u001b[0m \u001b[39mfrom\u001b[39;00m \u001b[39m.\u001b[39;00m\u001b[39m.\u001b[39;00m\u001b[39mfeature_extraction_utils\u001b[39;00m \u001b[39mimport\u001b[39;00m PreTrainedFeatureExtractor\n\u001b[0;32m---> 28\u001b[0m \u001b[39mfrom\u001b[39;00m \u001b[39m.\u001b[39;00m\u001b[39m.\u001b[39;00m\u001b[39mimage_processing_utils\u001b[39;00m \u001b[39mimport\u001b[39;00m BaseImageProcessor\n\u001b[1;32m     29\u001b[0m \u001b[39mfrom\u001b[39;00m \u001b[39m.\u001b[39;00m\u001b[39m.\u001b[39;00m\u001b[39mmodels\u001b[39;00m\u001b[39m.\u001b[39;00m\u001b[39mauto\u001b[39;00m\u001b[39m.\u001b[39;00m\u001b[39mconfiguration_auto\u001b[39;00m \u001b[39mimport\u001b[39;00m AutoConfig\n",
      "File \u001b[0;32m/opt/anaconda3/lib/python3.9/site-packages/transformers/image_processing_utils.py:28\u001b[0m, in \u001b[0;36m<module>\u001b[0;34m\u001b[0m\n\u001b[1;32m     27\u001b[0m \u001b[39mfrom\u001b[39;00m \u001b[39m.\u001b[39;00m\u001b[39mfeature_extraction_utils\u001b[39;00m \u001b[39mimport\u001b[39;00m BatchFeature \u001b[39mas\u001b[39;00m BaseBatchFeature\n\u001b[0;32m---> 28\u001b[0m \u001b[39mfrom\u001b[39;00m \u001b[39m.\u001b[39;00m\u001b[39mimage_transforms\u001b[39;00m \u001b[39mimport\u001b[39;00m center_crop, normalize, rescale\n\u001b[1;32m     29\u001b[0m \u001b[39mfrom\u001b[39;00m \u001b[39m.\u001b[39;00m\u001b[39mimage_utils\u001b[39;00m \u001b[39mimport\u001b[39;00m ChannelDimension\n",
      "File \u001b[0;32m/opt/anaconda3/lib/python3.9/site-packages/transformers/image_transforms.py:47\u001b[0m, in \u001b[0;36m<module>\u001b[0;34m\u001b[0m\n\u001b[1;32m     46\u001b[0m \u001b[39mif\u001b[39;00m is_tf_available():\n\u001b[0;32m---> 47\u001b[0m     \u001b[39mimport\u001b[39;00m \u001b[39mtensorflow\u001b[39;00m \u001b[39mas\u001b[39;00m \u001b[39mtf\u001b[39;00m\n\u001b[1;32m     49\u001b[0m \u001b[39mif\u001b[39;00m is_flax_available():\n",
      "File \u001b[0;32m/opt/anaconda3/lib/python3.9/site-packages/tensorflow/__init__.py:38\u001b[0m, in \u001b[0;36m<module>\u001b[0;34m\u001b[0m\n\u001b[1;32m     36\u001b[0m \u001b[39mimport\u001b[39;00m \u001b[39mtyping\u001b[39;00m \u001b[39mas\u001b[39;00m \u001b[39m_typing\u001b[39;00m\n\u001b[0;32m---> 38\u001b[0m \u001b[39mfrom\u001b[39;00m \u001b[39mtensorflow\u001b[39;00m\u001b[39m.\u001b[39;00m\u001b[39mpython\u001b[39;00m\u001b[39m.\u001b[39;00m\u001b[39mtools\u001b[39;00m \u001b[39mimport\u001b[39;00m module_util \u001b[39mas\u001b[39;00m _module_util\n\u001b[1;32m     39\u001b[0m \u001b[39mfrom\u001b[39;00m \u001b[39mtensorflow\u001b[39;00m\u001b[39m.\u001b[39;00m\u001b[39mpython\u001b[39;00m\u001b[39m.\u001b[39;00m\u001b[39mutil\u001b[39;00m\u001b[39m.\u001b[39;00m\u001b[39mlazy_loader\u001b[39;00m \u001b[39mimport\u001b[39;00m LazyLoader \u001b[39mas\u001b[39;00m _LazyLoader\n",
      "File \u001b[0;32m/opt/anaconda3/lib/python3.9/site-packages/tensorflow/python/__init__.py:42\u001b[0m, in \u001b[0;36m<module>\u001b[0;34m\u001b[0m\n\u001b[1;32m     38\u001b[0m \u001b[39m# pylint: enable=wildcard-import\u001b[39;00m\n\u001b[1;32m     39\u001b[0m \n\u001b[1;32m     40\u001b[0m \u001b[39m# from tensorflow.python import keras\u001b[39;00m\n\u001b[1;32m     41\u001b[0m \u001b[39m# from tensorflow.python.layers import layers\u001b[39;00m\n\u001b[0;32m---> 42\u001b[0m \u001b[39mfrom\u001b[39;00m \u001b[39mtensorflow\u001b[39;00m\u001b[39m.\u001b[39;00m\u001b[39mpython\u001b[39;00m\u001b[39m.\u001b[39;00m\u001b[39msaved_model\u001b[39;00m \u001b[39mimport\u001b[39;00m saved_model\n\u001b[1;32m     43\u001b[0m \u001b[39mfrom\u001b[39;00m \u001b[39mtensorflow\u001b[39;00m\u001b[39m.\u001b[39;00m\u001b[39mpython\u001b[39;00m\u001b[39m.\u001b[39;00m\u001b[39mtpu\u001b[39;00m \u001b[39mimport\u001b[39;00m api\n",
      "File \u001b[0;32m/opt/anaconda3/lib/python3.9/site-packages/tensorflow/python/saved_model/saved_model.py:20\u001b[0m, in \u001b[0;36m<module>\u001b[0;34m\u001b[0m\n\u001b[1;32m     19\u001b[0m \u001b[39m# pylint: disable=unused-import\u001b[39;00m\n\u001b[0;32m---> 20\u001b[0m \u001b[39mfrom\u001b[39;00m \u001b[39mtensorflow\u001b[39;00m\u001b[39m.\u001b[39;00m\u001b[39mpython\u001b[39;00m\u001b[39m.\u001b[39;00m\u001b[39msaved_model\u001b[39;00m \u001b[39mimport\u001b[39;00m builder\n\u001b[1;32m     21\u001b[0m \u001b[39mfrom\u001b[39;00m \u001b[39mtensorflow\u001b[39;00m\u001b[39m.\u001b[39;00m\u001b[39mpython\u001b[39;00m\u001b[39m.\u001b[39;00m\u001b[39msaved_model\u001b[39;00m \u001b[39mimport\u001b[39;00m constants\n",
      "File \u001b[0;32m/opt/anaconda3/lib/python3.9/site-packages/tensorflow/python/saved_model/builder.py:23\u001b[0m, in \u001b[0;36m<module>\u001b[0;34m\u001b[0m\n\u001b[1;32m     22\u001b[0m \u001b[39m# pylint: disable=unused-import\u001b[39;00m\n\u001b[0;32m---> 23\u001b[0m \u001b[39mfrom\u001b[39;00m \u001b[39mtensorflow\u001b[39;00m\u001b[39m.\u001b[39;00m\u001b[39mpython\u001b[39;00m\u001b[39m.\u001b[39;00m\u001b[39msaved_model\u001b[39;00m\u001b[39m.\u001b[39;00m\u001b[39mbuilder_impl\u001b[39;00m \u001b[39mimport\u001b[39;00m _SavedModelBuilder\n\u001b[1;32m     24\u001b[0m \u001b[39mfrom\u001b[39;00m \u001b[39mtensorflow\u001b[39;00m\u001b[39m.\u001b[39;00m\u001b[39mpython\u001b[39;00m\u001b[39m.\u001b[39;00m\u001b[39msaved_model\u001b[39;00m\u001b[39m.\u001b[39;00m\u001b[39mbuilder_impl\u001b[39;00m \u001b[39mimport\u001b[39;00m SavedModelBuilder\n",
      "File \u001b[0;32m/opt/anaconda3/lib/python3.9/site-packages/tensorflow/python/saved_model/builder_impl.py:26\u001b[0m, in \u001b[0;36m<module>\u001b[0;34m\u001b[0m\n\u001b[1;32m     25\u001b[0m \u001b[39mfrom\u001b[39;00m \u001b[39mtensorflow\u001b[39;00m\u001b[39m.\u001b[39;00m\u001b[39mcore\u001b[39;00m\u001b[39m.\u001b[39;00m\u001b[39mprotobuf\u001b[39;00m \u001b[39mimport\u001b[39;00m saver_pb2\n\u001b[0;32m---> 26\u001b[0m \u001b[39mfrom\u001b[39;00m \u001b[39mtensorflow\u001b[39;00m\u001b[39m.\u001b[39;00m\u001b[39mpython\u001b[39;00m\u001b[39m.\u001b[39;00m\u001b[39mframework\u001b[39;00m \u001b[39mimport\u001b[39;00m dtypes\n\u001b[1;32m     27\u001b[0m \u001b[39mfrom\u001b[39;00m \u001b[39mtensorflow\u001b[39;00m\u001b[39m.\u001b[39;00m\u001b[39mpython\u001b[39;00m\u001b[39m.\u001b[39;00m\u001b[39mframework\u001b[39;00m \u001b[39mimport\u001b[39;00m ops\n",
      "File \u001b[0;32m/opt/anaconda3/lib/python3.9/site-packages/tensorflow/python/framework/dtypes.py:37\u001b[0m, in \u001b[0;36m<module>\u001b[0;34m\u001b[0m\n\u001b[1;32m     35\u001b[0m \u001b[39mfrom\u001b[39;00m \u001b[39mtensorflow\u001b[39;00m\u001b[39m.\u001b[39;00m\u001b[39mtsl\u001b[39;00m\u001b[39m.\u001b[39;00m\u001b[39mpython\u001b[39;00m\u001b[39m.\u001b[39;00m\u001b[39mlib\u001b[39;00m\u001b[39m.\u001b[39;00m\u001b[39mcore\u001b[39;00m \u001b[39mimport\u001b[39;00m pywrap_ml_dtypes\n\u001b[0;32m---> 37\u001b[0m _np_bfloat16 \u001b[39m=\u001b[39m pywrap_ml_dtypes\u001b[39m.\u001b[39;49mbfloat16()\n\u001b[1;32m     38\u001b[0m _np_float8_e4m3fn \u001b[39m=\u001b[39m pywrap_ml_dtypes\u001b[39m.\u001b[39mfloat8_e4m3fn()\n",
      "\u001b[0;31mTypeError\u001b[0m: Unable to convert function return value to a Python type! The signature was\n\t() -> handle",
      "\nThe above exception was the direct cause of the following exception:\n",
      "\u001b[0;31mRuntimeError\u001b[0m                              Traceback (most recent call last)",
      "\u001b[1;32m/grappeefruitt/schulich_data_science/Fall 2023/llm.ipynb Cell 4\u001b[0m line \u001b[0;36m<cell line: 4>\u001b[0;34m()\u001b[0m\n\u001b[1;32m      <a href='vscode-notebook-cell://github/grappeefruitt/schulich_data_science/Fall%202023/llm.ipynb#X16sdnNjb2RlLXZmcw%3D%3D?line=1'>2</a>\u001b[0m \u001b[39mfrom\u001b[39;00m \u001b[39mcollections\u001b[39;00m \u001b[39mimport\u001b[39;00m Counter\n\u001b[1;32m      <a href='vscode-notebook-cell://github/grappeefruitt/schulich_data_science/Fall%202023/llm.ipynb#X16sdnNjb2RlLXZmcw%3D%3D?line=2'>3</a>\u001b[0m \u001b[39mimport\u001b[39;00m \u001b[39mopenai\u001b[39;00m\n\u001b[0;32m----> <a href='vscode-notebook-cell://github/grappeefruitt/schulich_data_science/Fall%202023/llm.ipynb#X16sdnNjb2RlLXZmcw%3D%3D?line=3'>4</a>\u001b[0m \u001b[39mfrom\u001b[39;00m \u001b[39mtransformers\u001b[39;00m \u001b[39mimport\u001b[39;00m pipeline\n",
      "File \u001b[0;32m<frozen importlib._bootstrap>:1055\u001b[0m, in \u001b[0;36m_handle_fromlist\u001b[0;34m(module, fromlist, import_, recursive)\u001b[0m\n",
      "File \u001b[0;32m/opt/anaconda3/lib/python3.9/site-packages/transformers/utils/import_utils.py:1343\u001b[0m, in \u001b[0;36m_LazyModule.__getattr__\u001b[0;34m(self, name)\u001b[0m\n\u001b[1;32m   1341\u001b[0m     value \u001b[39m=\u001b[39m \u001b[39mself\u001b[39m\u001b[39m.\u001b[39m_get_module(name)\n\u001b[1;32m   1342\u001b[0m \u001b[39melif\u001b[39;00m name \u001b[39min\u001b[39;00m \u001b[39mself\u001b[39m\u001b[39m.\u001b[39m_class_to_module\u001b[39m.\u001b[39mkeys():\n\u001b[0;32m-> 1343\u001b[0m     module \u001b[39m=\u001b[39m \u001b[39mself\u001b[39;49m\u001b[39m.\u001b[39;49m_get_module(\u001b[39mself\u001b[39;49m\u001b[39m.\u001b[39;49m_class_to_module[name])\n\u001b[1;32m   1344\u001b[0m     value \u001b[39m=\u001b[39m \u001b[39mgetattr\u001b[39m(module, name)\n\u001b[1;32m   1345\u001b[0m \u001b[39melse\u001b[39;00m:\n",
      "File \u001b[0;32m/opt/anaconda3/lib/python3.9/site-packages/transformers/utils/import_utils.py:1355\u001b[0m, in \u001b[0;36m_LazyModule._get_module\u001b[0;34m(self, module_name)\u001b[0m\n\u001b[1;32m   1353\u001b[0m     \u001b[39mreturn\u001b[39;00m importlib\u001b[39m.\u001b[39mimport_module(\u001b[39m\"\u001b[39m\u001b[39m.\u001b[39m\u001b[39m\"\u001b[39m \u001b[39m+\u001b[39m module_name, \u001b[39mself\u001b[39m\u001b[39m.\u001b[39m\u001b[39m__name__\u001b[39m)\n\u001b[1;32m   1354\u001b[0m \u001b[39mexcept\u001b[39;00m \u001b[39mException\u001b[39;00m \u001b[39mas\u001b[39;00m e:\n\u001b[0;32m-> 1355\u001b[0m     \u001b[39mraise\u001b[39;00m \u001b[39mRuntimeError\u001b[39;00m(\n\u001b[1;32m   1356\u001b[0m         \u001b[39mf\u001b[39m\u001b[39m\"\u001b[39m\u001b[39mFailed to import \u001b[39m\u001b[39m{\u001b[39;00m\u001b[39mself\u001b[39m\u001b[39m.\u001b[39m\u001b[39m__name__\u001b[39m\u001b[39m}\u001b[39;00m\u001b[39m.\u001b[39m\u001b[39m{\u001b[39;00mmodule_name\u001b[39m}\u001b[39;00m\u001b[39m because of the following error (look up to see its\u001b[39m\u001b[39m\"\u001b[39m\n\u001b[1;32m   1357\u001b[0m         \u001b[39mf\u001b[39m\u001b[39m\"\u001b[39m\u001b[39m traceback):\u001b[39m\u001b[39m\\n\u001b[39;00m\u001b[39m{\u001b[39;00me\u001b[39m}\u001b[39;00m\u001b[39m\"\u001b[39m\n\u001b[1;32m   1358\u001b[0m     ) \u001b[39mfrom\u001b[39;00m \u001b[39me\u001b[39;00m\n",
      "\u001b[0;31mRuntimeError\u001b[0m: Failed to import transformers.pipelines because of the following error (look up to see its traceback):\nUnable to convert function return value to a Python type! The signature was\n\t() -> handle"
     ]
    }
   ],
   "source": [
    "import pandas as pd\n",
    "from collections import Counter\n",
    "import openai"
   ]
  },
  {
   "cell_type": "markdown",
   "metadata": {},
   "source": [
    "Skills and Requirements Extraction:\n",
    "\n",
    "Use Named Entity Recognition (NER) to extract specific skills, qualifications, and other key requirements from job descriptions. This can help in understanding what employers are looking for in different roles.\n",
    "\n",
    "Trend Analysis Over Time:\n",
    "\n",
    "If your dataset includes time stamps (like posting date), you can analyze how job market trends evolve over time. For instance, you might identify emerging skills or declining industries.\n",
    "\n",
    "Text Clustering:\n",
    "\n",
    "Group job descriptions based on similarity in their content (e.g., clustering jobs by industry or skill set). This can be done using techniques like TF-IDF vectorization and K-means clustering.\n",
    "\n"
   ]
  },
  {
   "cell_type": "code",
   "execution_count": 21,
   "metadata": {},
   "outputs": [
    {
     "name": "stdout",
     "output_type": "stream",
     "text": [
      "Industry Keywords: [(\"'Software']\", 2407), (\"Technology',\", 2087), (\"'Information\", 1336), (\"['Information\", 793), (\"['DeepTech',\", 592), (\"'Software',\", 554), (\"'Finance',\", 504), (\"['Finance',\", 491), (\"['Education',\", 487), (\"'Transportation']\", 411)]\n",
      "Topic Keywords: [(\"'Software']\", 2150), (\"'B2B',\", 1776), ('&', 1636), (\"'SaaS',\", 1541), (\"'Software',\", 952), (\"['500+',\", 885), (\"'Team\", 848), ('true', 848), (\"north']\", 760), (\"'B2C',\", 745)]\n",
      "Top Job Titles: Business Development Representative    26\n",
      "Account Executive                      23\n",
      "Piercing Studio Lead                   23\n",
      "Senior Software Developer              22\n",
      "Customer Success Manager               22\n",
      "Software Developer                     20\n",
      "Sales Representative                   19\n",
      "General Application                    18\n",
      "Senior Software Engineer               18\n",
      "Seasonal Stylist (Retail)              16\n",
      "Name: title, dtype: int64\n",
      "Top Job Locations: ['Toronto, ON, Canada']      576\n",
      "[]                           440\n",
      "['Vancouver, BC, Canada']    228\n",
      "['Canada']                   163\n",
      "['Canada', 'Remote']         149\n",
      "['Montreal, QC, Canada']     131\n",
      "['Remote']                   116\n",
      "['United States']             93\n",
      "['Multiple locations']        83\n",
      "['Ottawa, ON, Canada']        79\n",
      "Name: locations, dtype: int64\n"
     ]
    }
   ],
   "source": [
    "import pandas as pd\n",
    "from collections import Counter\n",
    "\n",
    "# Load your dataset\n",
    "file_path = '/Users/youziya/Downloads/jobs_info.csv'\n",
    "jobs_data = pd.read_csv(file_path)\n",
    "\n",
    "# Function to analyze keywords in a column\n",
    "def analyze_keywords(column):\n",
    "    all_keywords = ' '.join(jobs_data[column].dropna()).split()\n",
    "    keyword_counts = Counter(all_keywords)\n",
    "    return keyword_counts.most_common(10)\n",
    "\n",
    "# Function to get value counts for a column\n",
    "def get_value_counts(column):\n",
    "    return jobs_data[column].value_counts().head(10)\n",
    "\n",
    "# Analyzing the columns\n",
    "industry_keywords = analyze_keywords('organization_industry_tags')\n",
    "topic_keywords = analyze_keywords('organization_topics')\n",
    "top_titles = get_value_counts('title')\n",
    "top_locations = get_value_counts('locations')\n",
    "\n",
    "# Printing the results\n",
    "print(\"Industry Keywords:\", industry_keywords)\n",
    "print(\"Topic Keywords:\", topic_keywords)\n",
    "print(\"Top Job Titles:\", top_titles)\n",
    "print(\"Top Job Locations:\", top_locations)\n"
   ]
  },
  {
   "cell_type": "code",
   "execution_count": 22,
   "metadata": {},
   "outputs": [],
   "source": [
    "import re"
   ]
  },
  {
   "cell_type": "code",
   "execution_count": 23,
   "metadata": {},
   "outputs": [
    {
     "name": "stdout",
     "output_type": "stream",
     "text": [
      "                                               title  \\\n",
      "0          Director of Sales, Enterprise Acquisition   \n",
      "1  Senior Software Developer | Développeur logici...   \n",
      "2                                    Chemistry Co-op   \n",
      "3  Senior Talent Acquisition Partner (15 months c...   \n",
      "4  (Senior) Research Scientist - Statistical Gene...   \n",
      "\n",
      "                                 cleaned_description  \n",
      "0  At Vidyard, we make life easier for sellers, m...  \n",
      "1  Version française disponible ci-bas.We’re look...  \n",
      "2  Who we are:We are a bunch of people who really...  \n",
      "3  Axonify is the frontline enablement solution t...  \n",
      "4  About Us: Deep Genomics is a startup company t...  \n"
     ]
    }
   ],
   "source": [
    "def clean_html_v2(raw_html):\n",
    "    # Check if the entry is a string\n",
    "    if isinstance(raw_html, str):\n",
    "        cleanr = re.compile('<.*?>')\n",
    "        cleantext = re.sub(cleanr, '', raw_html)\n",
    "        return cleantext\n",
    "    else:\n",
    "        return \"\"  # Return an empty string for non-string entries\n",
    "\n",
    "# Apply the cleaning function\n",
    "jobs_data['cleaned_description'] = jobs_data['description'].apply(clean_html_v2)\n",
    "\n",
    "# Check the results\n",
    "print(jobs_data[['title', 'cleaned_description']].head())\n"
   ]
  },
  {
   "cell_type": "markdown",
   "metadata": {},
   "source": [
    "showing a sample here"
   ]
  },
  {
   "cell_type": "code",
   "execution_count": 24,
   "metadata": {},
   "outputs": [
    {
     "data": {
      "text/plain": [
       "[\"At Vidyard, we make life easier for sellers, marketers and corporate communicators. Our video messaging tools, digital sales room platform, and other products are used by Microsoft, LinkedIn, and thousands of other companies. We're passionate about elevating our customers, our teammates, our communities, and ourselves.About the RoleVidyard is looking for a Director Sales - Enterprise Acquisition to lead our Enterprise New Business team. Reporting to the Senior Director of Sales, your primary responsibilities will involve attracting, developing and retaining a high-performing sales team capable of achieving exceptional results.You’ll also be responsible for running and growing the new business segment, signing new logos and the programmatic scaled growth of the smaller, more transactional segments.The ideal candidate for this role should have a proven track record of success in sales leadership, a strong understanding of market dynamics, and the ability to drive performance while adhering to budgets. If you are a results-oriented individual with a passion for building high-performance teams and driving business growth, we invite you to join our innovative and ambitious team at Vidyard! This is a remote role open to candidates located in Canada and the United States.About the TeamOur Enterprise New Business team is a small (but mighty!) team of 4 Mid-Market and Enterprise Sales reps. The Team is responsible for acquiring and growing some of our largest customers while closely coordinating with marketing and BDR teams to maintain pipeline generation and leads.What You’ll Work On Driving a culture of achievement to exceed revenue and productivity targets Setting clear expectations around revenue generating activities and strategies for creating pipeline Working with marketing for in-market events and lead generation activities  Coaching team in effective sales strategies, pipeline management, opportunity management and career planning Cultivating and maintaining strong relationships with key enterprise clients and prospects, understanding their business challenges, and presenting tailored solutions that address their specific needs Regularly analyzing sales metrics, pipeline data, and other KPIs to provide accurate forecasts and strategic recommendations to leadership  Continuously refining and enhancing the sales process to ensure efficiency, consistency and scalability across the Commercial Sales team What You’ll Bring to this Role and Your New Team: ~ 5 years of proven sales leadership experience in B2B sales, with a track record of exceeding revenue targets and leading high-performing sales teams Proficiency in analyzing sales data and metrics to inform decision-making and strategy Experience managing and closing complex B2B sales cycles with C-level decision makers  Strong understanding of SaaS and technology landscape, with experience selling enterprise-level solutions Excellent interpersonal and communication skills, with ability to build and nurture strong customer relationships Comfortable in a fast-paced, dynamic environment with the ability to adapt to changes and drive positive outcomes  Experience leading a team using a strategic selling model Expertise in building/managing a multi-product suite of products Our Sales Tech StackSalesforce, Salesloft, Zoominfo &amp; SalesNavigatorWhat You’ll Love about Vidyard: Competitive pay Comprehensive, flexible benefits on day one* Wellness allowance to spend on what's important to you  Flexible hours + unlimited vacation + programs to support travel while working, enabling you to live your best life Access to Inkblot, a digital mental health platform + $1,500/person/year for mental health coverage* Allowance to support your ongoing growth and development Parental leave top-up Paid volunteer hours Employee resource groups to empower and drive change at Vidyard and in our communities RRSP match* Stock options Flexible holiday program Home office stipend  Flexibility to work in the place that brings out your best: whether you thrive in the comfort of your home office, or are local to, and prefer the energy of our collaboration space in Kitchener, Ontario, Canada, there is flexibility for all. Although we default to remote-first there will be occasional in-person meetings/events purposefully designed for connection and collaboration. *Benefits described are Canadian specific, if you’re located in another country our People team will speak with you about localized benefits for you.We thank all applicants for your interest in Vidyard. Only those applicants selected for an interview will be contacted. Unsolicited resumes from Agencies will not be accepted.\\n\\n[Enhanced Description]\",\n",
       " \"Version française disponible ci-bas.We’re looking for a Senior Software Developer (full stack, front end or back end) for our Software Development teams to join us in the design, building, testing and deployment of new products and features which enables our customers to plan, curate and publish messages. You’ll be working with a team of talented engineers to develop high quality products which are scalable, testable, and extensible and provide high value to our customers. As a key member of the development team, you will work closely with designers, product managers, and other stakeholders to define and execute on our vision and values. While working remotely (in Canada) or in a hybrid work arrangement, a blend of virtual (in accordance with Hootsuite’s distributed workforce strategy), and in Hootsuite’s Vancouver, Montreal or Toronto office, you will report to the Manager, Software Development. WHAT YOU’LL DO:  Collaborate with your team to design, build, test, and ship high quality software to Hootsuite’s customers Help shape Hootsuite’s technical roadmap Iterate in an agile fashion creating hypotheses and testing them with incremental code shipments through continuous integration Identify multiple candidate solutions to a problem and evaluate them for fit given the constraints of the project Shape Hootsuite's culture, and your teams, through improved tooling, streamlining processes, and working across product boundaries You’ll be working with ES6, React.js, Redux directly, interfacing with services built in Scala, and operating in a distributed Kubernetes environment  WHAT YOU’LL NEED:  A degree in Computer Science or Engineering, and extensive experience in designing, developing and maintaining software or an equivalent level of work experience, and a track record of substantial contributions to software projects with high business impact Experience with mentoring, coaching, and pairing with coworkers Experience writing clean Javascript and UI code that performs well at scale -- specifically with React or other modern JS frameworks (Angular, Node, Vue). Experience working with compiled (Go) and interpreted (PHP, Python) languages is also a bonus. Experience using front-end tools like grunt, gulp, babel, yarn etc. Experience creating automated test suites and ensuring quality in your code.  An understanding of SaaS software development practice, previous experience working on a SaaS product will be viewed favourably.  Collaboration and Teamwork: works with others to deliver results, meaningfully contributing to the team and prioritizing group needs over individual needs Creativity and Innovation: seeks new and better ways of doing things, generating original and imaginative ideas, products, and/or solutions Problem Solving: uses an organized and logical approach to find solutions to complex problems and looks beyond the obvious to understand the root cause of problems and proposes several possible solutions. Resilience, Tolerance for Change/Ambiguity: can effectively cope with change, finding ways to advance work and projects  WHO YOU ARE:  Tenacious. You are determined to succeed, and you are motivated by the success of customers, colleagues and the community.  Curious. You are always learning and seeking ways to make things better. Conscientious. You keep your promises, taking your commitments to others seriously, and you have strong integrity. Humble. You lead with humility and empathy, respecting and learning from the perspectives of others.   Nous recherchons un développeur de logiciels frontaux senior pour nos équipes de développement de logiciels afin de nous rejoindre dans la conception, la construction, le test et le déploiement de nouveaux produits et de nouvelles fonctionnalités qui permettent à nos clients de planifier, de conserver et de publier des messages. Vous travaillerez avec une équipe d'ingénieurs talentueux pour développer des produits de haute qualité qui sont évolutifs, testables et extensibles et qui apportent une grande valeur à nos clients. En tant que membre clé de l'équipe de développement, vous travaillerez en étroite collaboration avec les concepteurs, les gestionnaires de produits et d'autres parties prenantes pour définir et mettre en œuvre notre vision et nos valeurs. Dans le cadre d'un contrat de travail hybride au bureau de Hootsuite à Montréal, vous relèverez du directeur du développement logiciel.  CE QUE VOUS FEREZ :  Collaborer avec votre équipe pour concevoir, construire, tester et livrer des logiciels de haute qualité aux clients de Hootsuite. Contribuer à l'élaboration de la feuille de route technique de Hootsuite. Vous travaillez en mode agile en créant des hypothèses et en les testant avec des livraisons de code progressives par le biais de l'intégration continue. Identifier plusieurs solutions candidates à un problème et les évaluer en fonction des contraintes du projet. Façonner la culture de Hootsuite, et vos équipes, en améliorant les outils, en rationalisant les processus et en travaillant au-delà des limites du produit. Vous travaillerez avec React.js, Angular, ES5 et Redux directement, en interface avec des services en REST construits en GO ou Node.JS, et en opérant dans un environnement distribué Kubernetes ou serverless à l'aide d'AWS.  CE QUE VOUS DEVEZ AVOIR :  Un diplôme en informatique ou en ingénierie et une vaste expérience dans la conception, le développement et la maintenance de logiciels ou un niveau équivalent d'expérience professionnelle, ainsi qu'un historique de contributions substantielles à des projets de logiciels ayant un impact commercial important. Expérience du mentorat, de l'encadrement et du travail en binôme avec des collègues. Expérience de l'écriture de code Javascript et UI propre qui fonctionne bien à l'échelle - spécifiquement avec React ou d'autres frameworks JS modernes (Angular, Node, Vue). Une expérience de travail avec des langages compilés (Go) et interprétés (Python) est également un bonus. Expérience de la création de suites de tests automatisés et de l'assurance de la qualité de votre code. Une compréhension des pratiques de développement de logiciels SaaS, une expérience antérieure de travail sur un produit SaaS sera considérée favorablement. Collaboration et travail d'équipe : travailler avec d'autres personnes pour obtenir des résultats, contribuer de manière significative à l'équipe et donner la priorité aux besoins du groupe plutôt qu'aux besoins individuels. Créativité et innovation : recherche de nouvelles et meilleures façons de faire les choses, en générant des idées, des produits et/ou des solutions originales et imaginatives. Résolution de problèmes : utiliser une approche organisée et logique pour trouver des solutions à des problèmes complexes, aller au-delà de l'évidence pour comprendre la cause profonde des problèmes et proposer plusieurs solutions possibles. Résilience, tolérance au changement/à l'ambiguïté : peut faire face efficacement au changement, en trouvant des moyens de faire avancer le travail et les projets.  QUI VOUS ÊTES : Tenace. Vous êtes déterminé à réussir et vous êtes motivé par le succès des clients, des collègues et de la communauté. Curieux. Vous êtes toujours en train d'apprendre et de chercher des moyens d'améliorer les choses. Consciencieux. Vous tenez vos promesses, vous prenez au sérieux vos engagements envers les autres et vous faites preuve d'une grande intégrité. Humble. Vous dirigez avec humilité et empathie, en respectant les points de vue des autres et en apprenant d'eux.   In all we do, our six guiding principles light the way:Step Up: Show the world what it looks like to live and work by these guiding principles. #StepUpOne Team: Make Hootsuite a place where everyone feels safe, welcome, valued, and empowered to do their best work without compromising who they are. #OneTeam #FreeToBeMeCustomer Obsessed: Focus relentlessly on helping our customers succeed. #CustomerObsessedGo Fast, Be Agile: Widen our competitive advantage by committing to speed and simplicity over perfection and complexity. #GoFastBeAgilePlay to Win: Commit to building an incredible, profitable company for our customers, our employees, and our stakeholders. #PlayToWin #NoExcusesNeighbours &amp; Allies: Give back to our communities and be an ally. #SocialForGood #AlliesAccommodations will be provided as requested by candidates taking part in all aspects of the selection process. #LI-CK1 \\n\\n[Enhanced Description]\",\n",
       " 'Who we are:We are a bunch of people who really care about agriculture, food and the challenges facing farming. We want to help farmers with data driven decision making to help nature feed a growing population. Join our team of expert engineers, agronomists, entomologists, crop researchers, and data scientists who are continually conducting research to help drive innovation in agriculture.Semios is a market leader in leveraging the internet-of-things (IoT) and big data to improve the sustainability and profitability of specialty crops. With 500 million data points being reported by our sensors every day, we leverage our big data analytics, such as in-depth pest and disease modeling, to empower tree fruit and tree nut growers with decision-making tools to minimize resources and risks. Our innovative work has received several industry awards:  AgTech Breakthrough Awards Program (2023) - Selected as winner of the “Overall Smart Irrigation Company Of The Year” award.  Sustainability Changemaker by SDTC (2022) - Named as one of the companies which recognize homegrown innovation in sustainable technologies in Canada.  AgTech Breakthrough Awards Program (2021) – Selected as winner of the \"Pest Management Solutions of the Year\" award.  Google Accelerator (2020) – Selected as 1 of 9 companies for the inaugural Google for Startups Accelerator Canada cohort, who are all using technology to solve complex challenges.  Global CleanTech Top 100 (2020) – Identified as one of the companies best positioned to solve tomorrow’s clean technology challenges. One of our partners produced this short video which shows what we do and our positive environmental impact.We know our journey is only achievable by having a great team who shares ideas, tries new things and learns as we go. Who you are: Motivated by meaningful work, you are looking for more than just a job; you want to work for a dynamic, growing company that finds solutions to real-life problems, such as helping the world reduce the use of pesticides and helping nature feed a growing population. Your ideal work environment includes a collaborative team spirit with the opportunity to learn and grow as you take the initiative to try new things.This is an opportunity that does not come by very often, as you’ll be a part of the initial setup of an analytical chemistry lab which comes with amazing learning opportunities not only in familiarization with analytical equipment but also having a hand in method development and gaining an exposure to the broader business context.A chemistry student looking for: A challenging 4 or 8-month work term starting in January 2024. Opportunity to learn technical skills in analytical chemistry, method development, and product formulation.  Working in a fast-paced environment with a friendly and collaborative team. Opportunity to build on their problem-solving and analytical skills.  What you will do: Performing sample preparation and gas chromatography analyses of batch records from our aerosol product lines and active ingredient sources Performing aerosol performance tests Maintaining clear and concise records Improving new analytical methods, and assisting with the drafting of associated documentation Assisting with product label drafting with our regulatory team Other duties and responsibilities as assigned We want you to succeed, so you will need: To be pursuing a degree in Chemistry, Chemical Engineering or Chemical Technology; Biotechnology, Microbiology or Biochemistry. Experience using volumetric glassware, micropipettes, and gas chromatography.  Excellent written communication skills, and the ability to work well with numbers. A history of keeping meticulous documentation and laboratory records. Familiarity with Google Sheets or Excel. Strong attention to detail (numbers, records, data). Flexibility to work on multiple projects at once, both independently and with supervision. A willingness to embrace challenges, solve problems, and take on new opportunities. Previous professional experience working in a lab. Expected to primarily work from the office, with the option for some remote work on designated days. Nice to have:  Experience with analytical method development. Experience using OpenLab Software. Familiarity with Agilent 8860 gas chromatography machine  Sleep better knowing you\\'re making the world a better place through more sustainable food production. Opportunity to contribute and make an impact by working on meaningful projects Work with a team that values fun, laughter, and each other in a collaborative and casual work environment Multiple office locations, convenient via transit and bike paths. Flexible hybrid work hours  Semios welcomes all applicants regardless of race, gender, orientation, sexual identity, economic class, ability, disability, age, religious beliefs or disbeliefs, or status. We believe that different perspectives and backgrounds are what make a company flourish and we welcome everyone.\\n\\n[Enhanced Description]',\n",
       " \"Axonify is the frontline enablement solution that’s science-backed and proven to maximize the potential of workforces. Our vision is to reinvent the frontline experience, and we thrive giving them what they need to learn, connect, and get things done. Our SaaS platform is enjoyable, engaging, and easy to use, with an unprecedented 83% engagement rate. If you're looking for a meaningful product and a great company culture, let's talk! The Senior Talent Acquisition Partner is responsible for the full recruiting cycle, managing multiple roles across departments, including sourcing, recruiting, and hiring of mid-to senior level qualified professionals for technical and non-technical positions including leadership. You will be partnering with the business to deliver strategic talent sourcing initiatives, provide market insights and coaching to hiring managers and teams, as well as ensuring alignment for efficient and exceptional hiring.  Using a consultative approach, you will work with internal stakeholders to successfully source talent, promote the employer brand, provide recruiting and hiring metrics to assess the overall pipeline health, and manage the candidate experience. You will employ effective interviewing techniques and assessment criteria to identify great talent.The impact you will have:  Manage the full talent acquisition cycle of multiple roles with a focus on technical and business/corporate roles across Canada and international locations  Understand the team’s talent acquisition needs and specifics of each role by asking questions and providing solutions based on previous experience to develop a recruitment strategy and talent pipeline for each position  Creatively draft job postings using captivating language that captures the essence of the role and will grab candidates’ interest  Use creative and innovative sourcing solutions to find high-potential candidates with a focus on diversifying the applicant pool  Plan and support attraction events that market the employer brand  Support and drive the recruitment process from phone screen to signed offer.  Build and maintain a pipeline of potential candidates through sourcing, networking, candidate referrals and other creative solutions for active and passive role openings  Provide feedback on hiring process and strategies where inefficiencies can be improved  Develop and cultivate strong relationships with business leaders at all levels of the organization, hiring managers and P&amp;C colleagues to fully understand business needs and objectives in order to develop candidate profiles that match overall requirements and success factors for short and long-term talent needs of the business.  Ensure the Applicant Tracking System (ATS) is up to date and all candidate's interactions are documented.  Represent Axonify and participate in local or virtual recruitment and networking activities to increase awareness of the employer brand.  Collaborate with internal partners to craft discipline-specific brand campaigns to attract talent to Axonify.  Responsible for supporting recruiting and hiring metrics; data management and integrity within an applicant tracking system and other TA systems (where applicable); and compliance of federal and local employment laws and with internal policies and procedures.  Translate recruiting analytics and metrics to evaluate effectiveness of hiring practices and make appropriate recommendations for change  Participate in projects/initiatives to build, pilot and enhance our sourcing capabilities  Support special projects or other duties as requested.  The things you bring:  5+ years’ experience in Talent Acquisition in a fast-paced tech environment  Recruited for tough-to-fill roles and have gained unique insights from these searches.  You love sourcing for new talent and know how to craft outreach messages that will get prospective candidates excited by what we’re building from seasoned Sales Leaders to recent graduates.  You’re a team player and are keen to mentor a team with insights and proven techniques for finding talented people and creating amazing candidate experience.  You’re confident in your ability to interview and analyze people's capabilities; you know what exceptional people look like  You are naturally curious, who is always looking for innovative ways to work even smarter.  Proven ability to develop, implement and drive analytics in the recruiting process.  Adept with sourcing methods and tools, knowing how to source top talent.  You have a passion for embracing and enhancing procedures while effectively leveraging various systems and tools to drive your accomplishments.  It's ok if your experience doesn't check every box! If you check off more than a few - great! We’d welcome a chance to get to know what you can bring, how you can add to our culture, and hear your unique story. Work location: This is a flexible position and has the option of working in our office, hybrid throughout the week or working remotely with exception to our employee experience days where we bring our teams together. You will be provided with the tools, resources and support to ensure your success. The things you’ll enjoy:   An impactful product that gives back to the communities and frontline workers that support our everyday lives.  People with great attitudes that lead to great results through our values: Empathetic, Bold, Innovative and Empowering.  A diverse team that celebrates unique perspectives and experiences that add richness to our culture.  Leaders that trust deeply who leverage our skills, adapt to us as individuals and encourage us to be our best selves. Check out our perks  Ready to join the team? Here’s what’s next. Apply. Our Talent Acquisition team is committed to providing an outstanding experience throughout your journey with us. Learn more about Axonify by visiting us at www.axonify.com/careers  We believe our team’s unique life experiences, backgrounds, cultures, beliefs and abilities add richness to our culture and depth to our ideas. Our ongoing commitment to diversity and inclusion creates an environment that supports, empowers and delivers a sense of belonging for all members of the team.  We want to remove barriers that may limit you from joining Axonify. Email us at accessibility@axonify.com to let us know how we can provide you with reasonable accommodations through our candidate journey.\\n\\n[Enhanced Description]\",\n",
       " 'About Us: Deep Genomics is a startup company that aims to revolutionize drug development by leveraging expertise in artificial intelligence (AI) and genome biology to decode RNA biology. Our proprietary platform, the AI Workbench, enables us to decode the enormous complexity of RNA biology to find novel targets, mechanisms, and molecules that are not accessible through traditional methods. We use this advanced technology to discover genetic targets for human diseases, and develop steric-blocking oligonucleotides (SBOs) that achieve expression increase for the treatment of genetic disease. Founded in 2015, our multidisciplinary team includes expertise in a diverse range of disciplines including those found in a traditional drug company, as well as genetics, machine learning, laboratory automation, and software engineering. Deep Genomics is based in Toronto, Ontario with an additional location in Cambridge, Massachusetts. What You will Be Doing: As a (Senior) Research Scientist of Statistical Genetics, you will be responsible for analyzing large-scale human genetic data-sets (e.g., whole genome sequencing, whole exome sequencing, array genotyping) to identify potential genetic targets for oligonucleotide therapeutics. You will lead these efforts by utilizing variant effect predictors on the genomic data, and refining or developing statistical techniques to nominate candidate genes. You will collaborate with machine learning scientists for the development and improvement of variant effect prediction models. You will work closely with the statistical genetics and bioinformatics teams, and interface regularly with the target biology team. What you bring:   PhD in biostatistics, human statistical genetics, or related discipline. Robust publication record. Proven experience with large-scale human genetic data analysis. Strong scientific programming skills (e.g., Python, R and Unix shell). Solid understanding of human genetics and basic understanding of human biology. Proven capacity to excel in a dynamic, fast-paced, innovative setting that prioritizes teamwork, collaboration, and communication both within the team and across the department, all while maintaining the utmost standards of scientific rigor and integrity. Critical thinking, intellectual curiosity and commitment to innovation.  Excellent communication and interpersonal skills.  Nice to have:   Post-graduate experience in either academia or industry. Familiarity with high-performance computing environments (Google Cloud, AWS, Azure etc.) and databases. Direct experience with UK Biobank or other large-scale genomic data. Familiarity with variant effect predictors, and machine learning or AI models in the context of target discovery. What we offer:  A highly competitive salary and meaningful equity compensation (ESOPs). A wide array of company-paid benefits. Opportunities for remote, hybrid or in-person work at our Toronto and Boston offices. Exceptional opportunities for learning and growth. A bright, collegial, highly motivated team working at the intersection of the most exciting areas of science and technology. Deep Genomics thanks all applicants, however only those selected for an interview will be contacted.  Deep Genomics welcomes and encourages applications from people with disabilities. Accommodations are available on request for candidates taking part in all aspects of the selection process.\\n\\n[Enhanced Description]']"
      ]
     },
     "execution_count": 24,
     "metadata": {},
     "output_type": "execute_result"
    }
   ],
   "source": [
    "# Selecting a sample of cleaned job descriptions for enhancement\n",
    "sample_descriptions = jobs_data['cleaned_description'].head(5)\n",
    "\n",
    "# Creating a function to enhance job descriptions\n",
    "def enhance_job_description(description):\n",
    "    # This is a placeholder for the actual enhancement logic, which would typically involve an LLM\n",
    "    # For demonstration, I'll just return the original description with a note that it's been 'enhanced'\n",
    "    return description + \"\\n\\n[Enhanced Description]\"\n",
    "\n",
    "# Applying the enhancement function to the sample descriptions\n",
    "enhanced_descriptions = sample_descriptions.apply(enhance_job_description)\n",
    "\n",
    "# Displaying the enhanced descriptions\n",
    "enhanced_descriptions.tolist()\n"
   ]
  },
  {
   "cell_type": "code",
   "execution_count": 25,
   "metadata": {},
   "outputs": [
    {
     "ename": "APIRemovedInV1",
     "evalue": "\n\nYou tried to access openai.Completion, but this is no longer supported in openai>=1.0.0 - see the README at https://github.com/openai/openai-python for the API.\n\nYou can run `openai migrate` to automatically upgrade your codebase to use the 1.0.0 interface. \n\nAlternatively, you can pin your installation to the old version, e.g. `pip install openai==0.28`\n\nA detailed migration guide is available here: https://github.com/openai/openai-python/discussions/742\n",
     "output_type": "error",
     "traceback": [
      "\u001b[0;31m---------------------------------------------------------------------------\u001b[0m",
      "\u001b[0;31mAPIRemovedInV1\u001b[0m                            Traceback (most recent call last)",
      "\u001b[1;32m/grappeefruitt/schulich_data_science/Fall 2023/llm.ipynb Cell 10\u001b[0m line \u001b[0;36m<cell line: 28>\u001b[0;34m()\u001b[0m\n\u001b[1;32m     <a href='vscode-notebook-cell://github/grappeefruitt/schulich_data_science/Fall%202023/llm.ipynb#X13sdnNjb2RlLXZmcw%3D%3D?line=25'>26</a>\u001b[0m \u001b[39m# Apply the enhancement function\u001b[39;00m\n\u001b[1;32m     <a href='vscode-notebook-cell://github/grappeefruitt/schulich_data_science/Fall%202023/llm.ipynb#X13sdnNjb2RlLXZmcw%3D%3D?line=26'>27</a>\u001b[0m openai_api_key \u001b[39m=\u001b[39m \u001b[39m'\u001b[39m\u001b[39myour_openai_api_key_here\u001b[39m\u001b[39m'\u001b[39m\n\u001b[0;32m---> <a href='vscode-notebook-cell://github/grappeefruitt/schulich_data_science/Fall%202023/llm.ipynb#X13sdnNjb2RlLXZmcw%3D%3D?line=27'>28</a>\u001b[0m jobs_data[\u001b[39m'\u001b[39m\u001b[39menhanced_description\u001b[39m\u001b[39m'\u001b[39m] \u001b[39m=\u001b[39m jobs_data[\u001b[39m'\u001b[39;49m\u001b[39mcleaned_description\u001b[39;49m\u001b[39m'\u001b[39;49m]\u001b[39m.\u001b[39;49mapply(\u001b[39mlambda\u001b[39;49;00m x: enhance_job_description(x, openai_api_key))\n\u001b[1;32m     <a href='vscode-notebook-cell://github/grappeefruitt/schulich_data_science/Fall%202023/llm.ipynb#X13sdnNjb2RlLXZmcw%3D%3D?line=29'>30</a>\u001b[0m \u001b[39m# Review the results\u001b[39;00m\n\u001b[1;32m     <a href='vscode-notebook-cell://github/grappeefruitt/schulich_data_science/Fall%202023/llm.ipynb#X13sdnNjb2RlLXZmcw%3D%3D?line=30'>31</a>\u001b[0m \u001b[39mprint\u001b[39m(jobs_data[[\u001b[39m'\u001b[39m\u001b[39mtitle\u001b[39m\u001b[39m'\u001b[39m, \u001b[39m'\u001b[39m\u001b[39menhanced_description\u001b[39m\u001b[39m'\u001b[39m]]\u001b[39m.\u001b[39mhead())\n",
      "File \u001b[0;32m/opt/anaconda3/lib/python3.9/site-packages/pandas/core/series.py:4433\u001b[0m, in \u001b[0;36mSeries.apply\u001b[0;34m(self, func, convert_dtype, args, **kwargs)\u001b[0m\n\u001b[1;32m   4323\u001b[0m \u001b[39mdef\u001b[39;00m \u001b[39mapply\u001b[39m(\n\u001b[1;32m   4324\u001b[0m     \u001b[39mself\u001b[39m,\n\u001b[1;32m   4325\u001b[0m     func: AggFuncType,\n\u001b[0;32m   (...)\u001b[0m\n\u001b[1;32m   4328\u001b[0m     \u001b[39m*\u001b[39m\u001b[39m*\u001b[39mkwargs,\n\u001b[1;32m   4329\u001b[0m ) \u001b[39m-\u001b[39m\u001b[39m>\u001b[39m DataFrame \u001b[39m|\u001b[39m Series:\n\u001b[1;32m   4330\u001b[0m     \u001b[39m\"\"\"\u001b[39;00m\n\u001b[1;32m   4331\u001b[0m \u001b[39m    Invoke function on values of Series.\u001b[39;00m\n\u001b[1;32m   4332\u001b[0m \n\u001b[0;32m   (...)\u001b[0m\n\u001b[1;32m   4431\u001b[0m \u001b[39m    dtype: float64\u001b[39;00m\n\u001b[1;32m   4432\u001b[0m \u001b[39m    \"\"\"\u001b[39;00m\n\u001b[0;32m-> 4433\u001b[0m     \u001b[39mreturn\u001b[39;00m SeriesApply(\u001b[39mself\u001b[39;49m, func, convert_dtype, args, kwargs)\u001b[39m.\u001b[39;49mapply()\n",
      "File \u001b[0;32m/opt/anaconda3/lib/python3.9/site-packages/pandas/core/apply.py:1082\u001b[0m, in \u001b[0;36mSeriesApply.apply\u001b[0;34m(self)\u001b[0m\n\u001b[1;32m   1078\u001b[0m \u001b[39mif\u001b[39;00m \u001b[39misinstance\u001b[39m(\u001b[39mself\u001b[39m\u001b[39m.\u001b[39mf, \u001b[39mstr\u001b[39m):\n\u001b[1;32m   1079\u001b[0m     \u001b[39m# if we are a string, try to dispatch\u001b[39;00m\n\u001b[1;32m   1080\u001b[0m     \u001b[39mreturn\u001b[39;00m \u001b[39mself\u001b[39m\u001b[39m.\u001b[39mapply_str()\n\u001b[0;32m-> 1082\u001b[0m \u001b[39mreturn\u001b[39;00m \u001b[39mself\u001b[39;49m\u001b[39m.\u001b[39;49mapply_standard()\n",
      "File \u001b[0;32m/opt/anaconda3/lib/python3.9/site-packages/pandas/core/apply.py:1137\u001b[0m, in \u001b[0;36mSeriesApply.apply_standard\u001b[0;34m(self)\u001b[0m\n\u001b[1;32m   1131\u001b[0m         values \u001b[39m=\u001b[39m obj\u001b[39m.\u001b[39mastype(\u001b[39mobject\u001b[39m)\u001b[39m.\u001b[39m_values\n\u001b[1;32m   1132\u001b[0m         \u001b[39m# error: Argument 2 to \"map_infer\" has incompatible type\u001b[39;00m\n\u001b[1;32m   1133\u001b[0m         \u001b[39m# \"Union[Callable[..., Any], str, List[Union[Callable[..., Any], str]],\u001b[39;00m\n\u001b[1;32m   1134\u001b[0m         \u001b[39m# Dict[Hashable, Union[Union[Callable[..., Any], str],\u001b[39;00m\n\u001b[1;32m   1135\u001b[0m         \u001b[39m# List[Union[Callable[..., Any], str]]]]]\"; expected\u001b[39;00m\n\u001b[1;32m   1136\u001b[0m         \u001b[39m# \"Callable[[Any], Any]\"\u001b[39;00m\n\u001b[0;32m-> 1137\u001b[0m         mapped \u001b[39m=\u001b[39m lib\u001b[39m.\u001b[39;49mmap_infer(\n\u001b[1;32m   1138\u001b[0m             values,\n\u001b[1;32m   1139\u001b[0m             f,  \u001b[39m# type: ignore[arg-type]\u001b[39;49;00m\n\u001b[1;32m   1140\u001b[0m             convert\u001b[39m=\u001b[39;49m\u001b[39mself\u001b[39;49m\u001b[39m.\u001b[39;49mconvert_dtype,\n\u001b[1;32m   1141\u001b[0m         )\n\u001b[1;32m   1143\u001b[0m \u001b[39mif\u001b[39;00m \u001b[39mlen\u001b[39m(mapped) \u001b[39mand\u001b[39;00m \u001b[39misinstance\u001b[39m(mapped[\u001b[39m0\u001b[39m], ABCSeries):\n\u001b[1;32m   1144\u001b[0m     \u001b[39m# GH#43986 Need to do list(mapped) in order to get treated as nested\u001b[39;00m\n\u001b[1;32m   1145\u001b[0m     \u001b[39m#  See also GH#25959 regarding EA support\u001b[39;00m\n\u001b[1;32m   1146\u001b[0m     \u001b[39mreturn\u001b[39;00m obj\u001b[39m.\u001b[39m_constructor_expanddim(\u001b[39mlist\u001b[39m(mapped), index\u001b[39m=\u001b[39mobj\u001b[39m.\u001b[39mindex)\n",
      "File \u001b[0;32m/opt/anaconda3/lib/python3.9/site-packages/pandas/_libs/lib.pyx:2870\u001b[0m, in \u001b[0;36mpandas._libs.lib.map_infer\u001b[0;34m()\u001b[0m\n",
      "\u001b[1;32m/grappeefruitt/schulich_data_science/Fall 2023/llm.ipynb Cell 10\u001b[0m line \u001b[0;36m<lambda>\u001b[0;34m(x)\u001b[0m\n\u001b[1;32m     <a href='vscode-notebook-cell://github/grappeefruitt/schulich_data_science/Fall%202023/llm.ipynb#X13sdnNjb2RlLXZmcw%3D%3D?line=25'>26</a>\u001b[0m \u001b[39m# Apply the enhancement function\u001b[39;00m\n\u001b[1;32m     <a href='vscode-notebook-cell://github/grappeefruitt/schulich_data_science/Fall%202023/llm.ipynb#X13sdnNjb2RlLXZmcw%3D%3D?line=26'>27</a>\u001b[0m openai_api_key \u001b[39m=\u001b[39m \u001b[39m'\u001b[39m\u001b[39myour_openai_api_key_here\u001b[39m\u001b[39m'\u001b[39m\n\u001b[0;32m---> <a href='vscode-notebook-cell://github/grappeefruitt/schulich_data_science/Fall%202023/llm.ipynb#X13sdnNjb2RlLXZmcw%3D%3D?line=27'>28</a>\u001b[0m jobs_data[\u001b[39m'\u001b[39m\u001b[39menhanced_description\u001b[39m\u001b[39m'\u001b[39m] \u001b[39m=\u001b[39m jobs_data[\u001b[39m'\u001b[39m\u001b[39mcleaned_description\u001b[39m\u001b[39m'\u001b[39m]\u001b[39m.\u001b[39mapply(\u001b[39mlambda\u001b[39;00m x: enhance_job_description(x, openai_api_key))\n\u001b[1;32m     <a href='vscode-notebook-cell://github/grappeefruitt/schulich_data_science/Fall%202023/llm.ipynb#X13sdnNjb2RlLXZmcw%3D%3D?line=29'>30</a>\u001b[0m \u001b[39m# Review the results\u001b[39;00m\n\u001b[1;32m     <a href='vscode-notebook-cell://github/grappeefruitt/schulich_data_science/Fall%202023/llm.ipynb#X13sdnNjb2RlLXZmcw%3D%3D?line=30'>31</a>\u001b[0m \u001b[39mprint\u001b[39m(jobs_data[[\u001b[39m'\u001b[39m\u001b[39mtitle\u001b[39m\u001b[39m'\u001b[39m, \u001b[39m'\u001b[39m\u001b[39menhanced_description\u001b[39m\u001b[39m'\u001b[39m]]\u001b[39m.\u001b[39mhead())\n",
      "\u001b[1;32m/grappeefruitt/schulich_data_science/Fall 2023/llm.ipynb Cell 10\u001b[0m line \u001b[0;36menhance_job_description\u001b[0;34m(description, openai_api_key)\u001b[0m\n\u001b[1;32m      <a href='vscode-notebook-cell://github/grappeefruitt/schulich_data_science/Fall%202023/llm.ipynb#X13sdnNjb2RlLXZmcw%3D%3D?line=5'>6</a>\u001b[0m openai\u001b[39m.\u001b[39mapi_key \u001b[39m=\u001b[39m openai_api_key\n\u001b[1;32m      <a href='vscode-notebook-cell://github/grappeefruitt/schulich_data_science/Fall%202023/llm.ipynb#X13sdnNjb2RlLXZmcw%3D%3D?line=7'>8</a>\u001b[0m prompt \u001b[39m=\u001b[39m (\n\u001b[1;32m      <a href='vscode-notebook-cell://github/grappeefruitt/schulich_data_science/Fall%202023/llm.ipynb#X13sdnNjb2RlLXZmcw%3D%3D?line=8'>9</a>\u001b[0m     \u001b[39m\"\u001b[39m\u001b[39mAnalyze the following job description and provide enhancements. \u001b[39m\u001b[39m\"\u001b[39m\n\u001b[1;32m     <a href='vscode-notebook-cell://github/grappeefruitt/schulich_data_science/Fall%202023/llm.ipynb#X13sdnNjb2RlLXZmcw%3D%3D?line=9'>10</a>\u001b[0m     \u001b[39m\"\u001b[39m\u001b[39mInclude a concise summary of responsibilities, skills, and qualifications. \u001b[39m\u001b[39m\"\u001b[39m\n\u001b[0;32m   (...)\u001b[0m\n\u001b[1;32m     <a href='vscode-notebook-cell://github/grappeefruitt/schulich_data_science/Fall%202023/llm.ipynb#X13sdnNjb2RlLXZmcw%3D%3D?line=12'>13</a>\u001b[0m     \u001b[39mf\u001b[39m\u001b[39m\"\u001b[39m\u001b[39m{\u001b[39;00mdescription\u001b[39m}\u001b[39;00m\u001b[39m\"\u001b[39m\n\u001b[1;32m     <a href='vscode-notebook-cell://github/grappeefruitt/schulich_data_science/Fall%202023/llm.ipynb#X13sdnNjb2RlLXZmcw%3D%3D?line=13'>14</a>\u001b[0m )\n\u001b[0;32m---> <a href='vscode-notebook-cell://github/grappeefruitt/schulich_data_science/Fall%202023/llm.ipynb#X13sdnNjb2RlLXZmcw%3D%3D?line=15'>16</a>\u001b[0m response \u001b[39m=\u001b[39m openai\u001b[39m.\u001b[39;49mCompletion\u001b[39m.\u001b[39;49mcreate(\n\u001b[1;32m     <a href='vscode-notebook-cell://github/grappeefruitt/schulich_data_science/Fall%202023/llm.ipynb#X13sdnNjb2RlLXZmcw%3D%3D?line=16'>17</a>\u001b[0m     engine\u001b[39m=\u001b[39;49m\u001b[39m\"\u001b[39;49m\u001b[39mtext-davinci-003\u001b[39;49m\u001b[39m\"\u001b[39;49m,  \u001b[39m# or the latest available engine\u001b[39;49;00m\n\u001b[1;32m     <a href='vscode-notebook-cell://github/grappeefruitt/schulich_data_science/Fall%202023/llm.ipynb#X13sdnNjb2RlLXZmcw%3D%3D?line=17'>18</a>\u001b[0m     prompt\u001b[39m=\u001b[39;49mprompt,\n\u001b[1;32m     <a href='vscode-notebook-cell://github/grappeefruitt/schulich_data_science/Fall%202023/llm.ipynb#X13sdnNjb2RlLXZmcw%3D%3D?line=18'>19</a>\u001b[0m     max_tokens\u001b[39m=\u001b[39;49m\u001b[39m500\u001b[39;49m  \u001b[39m# Adjust as necessary\u001b[39;49;00m\n\u001b[1;32m     <a href='vscode-notebook-cell://github/grappeefruitt/schulich_data_science/Fall%202023/llm.ipynb#X13sdnNjb2RlLXZmcw%3D%3D?line=19'>20</a>\u001b[0m )\n\u001b[1;32m     <a href='vscode-notebook-cell://github/grappeefruitt/schulich_data_science/Fall%202023/llm.ipynb#X13sdnNjb2RlLXZmcw%3D%3D?line=21'>22</a>\u001b[0m \u001b[39mreturn\u001b[39;00m response\u001b[39m.\u001b[39mchoices[\u001b[39m0\u001b[39m]\u001b[39m.\u001b[39mtext\u001b[39m.\u001b[39mstrip()\n",
      "File \u001b[0;32m/opt/anaconda3/lib/python3.9/site-packages/openai/lib/_old_api.py:39\u001b[0m, in \u001b[0;36mAPIRemovedInV1Proxy.__call__\u001b[0;34m(self, *_args, **_kwargs)\u001b[0m\n\u001b[1;32m     38\u001b[0m \u001b[39mdef\u001b[39;00m \u001b[39m__call__\u001b[39m(\u001b[39mself\u001b[39m, \u001b[39m*\u001b[39m_args: Any, \u001b[39m*\u001b[39m\u001b[39m*\u001b[39m_kwargs: Any) \u001b[39m-\u001b[39m\u001b[39m>\u001b[39m Any:\n\u001b[0;32m---> 39\u001b[0m     \u001b[39mraise\u001b[39;00m APIRemovedInV1(symbol\u001b[39m=\u001b[39m\u001b[39mself\u001b[39m\u001b[39m.\u001b[39m_symbol)\n",
      "\u001b[0;31mAPIRemovedInV1\u001b[0m: \n\nYou tried to access openai.Completion, but this is no longer supported in openai>=1.0.0 - see the README at https://github.com/openai/openai-python for the API.\n\nYou can run `openai migrate` to automatically upgrade your codebase to use the 1.0.0 interface. \n\nAlternatively, you can pin your installation to the old version, e.g. `pip install openai==0.28`\n\nA detailed migration guide is available here: https://github.com/openai/openai-python/discussions/742\n"
     ]
    }
   ],
   "source": [
    "def enhance_job_description(description, openai_api_key):\n",
    "    \"\"\"\n",
    "    Enhance a job description using OpenAI's GPT model to include summarized key points,\n",
    "    highlight skills and qualifications, suggest inclusivity improvements, and enhance clarity and appeal.\n",
    "    \"\"\"\n",
    "    openai.api_key = openai_api_key\n",
    "\n",
    "    prompt = (\n",
    "        \"Analyze the following job description and provide enhancements. \"\n",
    "        \"Include a concise summary of responsibilities, skills, and qualifications. \"\n",
    "        \"Highlight necessary skills and qualifications, suggest language changes for inclusivity, \"\n",
    "        \"and make revisions for clarity and engagement:\\n\\n\"\n",
    "        f\"{description}\"\n",
    "    )\n",
    "\n",
    "    response = openai.Completion.create(\n",
    "        engine=\"text-davinci-003\",  # or the latest available engine\n",
    "        prompt=prompt,\n",
    "        max_tokens=500  # Adjust as necessary\n",
    "    )\n",
    "\n",
    "    return response.choices[0].text.strip()\n",
    "\n",
    "jobs_data['cleaned_description'] = jobs_data['description'].apply(clean_html_v2)\n",
    "\n",
    "# Apply the enhancement function\n",
    "openai_api_key = 'your_openai_api_key_here'\n",
    "jobs_data['enhanced_description'] = jobs_data['cleaned_description'].apply(lambda x: enhance_job_description(x, openai_api_key))\n",
    "\n",
    "# Review the results\n",
    "print(jobs_data[['title', 'enhanced_description']].head())\n"
   ]
  },
  {
   "cell_type": "markdown",
   "metadata": {},
   "source": [
    "using bert model to summarize text as the LLm reuqire openai but openai doesn't work"
   ]
  },
  {
   "cell_type": "code",
   "execution_count": null,
   "metadata": {},
   "outputs": [],
   "source": [
    "python -m venv myenv\n",
    "source myenv/bin/activate\n"
   ]
  },
  {
   "cell_type": "code",
   "execution_count": 36,
   "metadata": {},
   "outputs": [
    {
     "ename": "RuntimeError",
     "evalue": "Failed to import transformers.pipelines because of the following error (look up to see its traceback):\nUnable to convert function return value to a Python type! The signature was\n\t() -> handle",
     "output_type": "error",
     "traceback": [
      "\u001b[0;31m---------------------------------------------------------------------------\u001b[0m",
      "\u001b[0;31mTypeError\u001b[0m                                 Traceback (most recent call last)",
      "File \u001b[0;32m/opt/anaconda3/lib/python3.9/site-packages/transformers/utils/import_utils.py:1353\u001b[0m, in \u001b[0;36m_LazyModule._get_module\u001b[0;34m(self, module_name)\u001b[0m\n\u001b[1;32m   1352\u001b[0m \u001b[39mtry\u001b[39;00m:\n\u001b[0;32m-> 1353\u001b[0m     \u001b[39mreturn\u001b[39;00m importlib\u001b[39m.\u001b[39;49mimport_module(\u001b[39m\"\u001b[39;49m\u001b[39m.\u001b[39;49m\u001b[39m\"\u001b[39;49m \u001b[39m+\u001b[39;49m module_name, \u001b[39mself\u001b[39;49m\u001b[39m.\u001b[39;49m\u001b[39m__name__\u001b[39;49m)\n\u001b[1;32m   1354\u001b[0m \u001b[39mexcept\u001b[39;00m \u001b[39mException\u001b[39;00m \u001b[39mas\u001b[39;00m e:\n",
      "File \u001b[0;32m/opt/anaconda3/lib/python3.9/importlib/__init__.py:127\u001b[0m, in \u001b[0;36mimport_module\u001b[0;34m(name, package)\u001b[0m\n\u001b[1;32m    126\u001b[0m         level \u001b[39m+\u001b[39m\u001b[39m=\u001b[39m \u001b[39m1\u001b[39m\n\u001b[0;32m--> 127\u001b[0m \u001b[39mreturn\u001b[39;00m _bootstrap\u001b[39m.\u001b[39;49m_gcd_import(name[level:], package, level)\n",
      "File \u001b[0;32m<frozen importlib._bootstrap>:1030\u001b[0m, in \u001b[0;36m_gcd_import\u001b[0;34m(name, package, level)\u001b[0m\n",
      "File \u001b[0;32m<frozen importlib._bootstrap>:1007\u001b[0m, in \u001b[0;36m_find_and_load\u001b[0;34m(name, import_)\u001b[0m\n",
      "File \u001b[0;32m<frozen importlib._bootstrap>:986\u001b[0m, in \u001b[0;36m_find_and_load_unlocked\u001b[0;34m(name, import_)\u001b[0m\n",
      "File \u001b[0;32m<frozen importlib._bootstrap>:680\u001b[0m, in \u001b[0;36m_load_unlocked\u001b[0;34m(spec)\u001b[0m\n",
      "File \u001b[0;32m<frozen importlib._bootstrap_external>:850\u001b[0m, in \u001b[0;36mexec_module\u001b[0;34m(self, module)\u001b[0m\n",
      "File \u001b[0;32m<frozen importlib._bootstrap>:228\u001b[0m, in \u001b[0;36m_call_with_frames_removed\u001b[0;34m(f, *args, **kwds)\u001b[0m\n",
      "File \u001b[0;32m/opt/anaconda3/lib/python3.9/site-packages/transformers/pipelines/__init__.py:28\u001b[0m, in \u001b[0;36m<module>\u001b[0;34m\u001b[0m\n\u001b[1;32m     27\u001b[0m \u001b[39mfrom\u001b[39;00m \u001b[39m.\u001b[39;00m\u001b[39m.\u001b[39;00m\u001b[39mfeature_extraction_utils\u001b[39;00m \u001b[39mimport\u001b[39;00m PreTrainedFeatureExtractor\n\u001b[0;32m---> 28\u001b[0m \u001b[39mfrom\u001b[39;00m \u001b[39m.\u001b[39;00m\u001b[39m.\u001b[39;00m\u001b[39mimage_processing_utils\u001b[39;00m \u001b[39mimport\u001b[39;00m BaseImageProcessor\n\u001b[1;32m     29\u001b[0m \u001b[39mfrom\u001b[39;00m \u001b[39m.\u001b[39;00m\u001b[39m.\u001b[39;00m\u001b[39mmodels\u001b[39;00m\u001b[39m.\u001b[39;00m\u001b[39mauto\u001b[39;00m\u001b[39m.\u001b[39;00m\u001b[39mconfiguration_auto\u001b[39;00m \u001b[39mimport\u001b[39;00m AutoConfig\n",
      "File \u001b[0;32m/opt/anaconda3/lib/python3.9/site-packages/transformers/image_processing_utils.py:28\u001b[0m, in \u001b[0;36m<module>\u001b[0;34m\u001b[0m\n\u001b[1;32m     27\u001b[0m \u001b[39mfrom\u001b[39;00m \u001b[39m.\u001b[39;00m\u001b[39mfeature_extraction_utils\u001b[39;00m \u001b[39mimport\u001b[39;00m BatchFeature \u001b[39mas\u001b[39;00m BaseBatchFeature\n\u001b[0;32m---> 28\u001b[0m \u001b[39mfrom\u001b[39;00m \u001b[39m.\u001b[39;00m\u001b[39mimage_transforms\u001b[39;00m \u001b[39mimport\u001b[39;00m center_crop, normalize, rescale\n\u001b[1;32m     29\u001b[0m \u001b[39mfrom\u001b[39;00m \u001b[39m.\u001b[39;00m\u001b[39mimage_utils\u001b[39;00m \u001b[39mimport\u001b[39;00m ChannelDimension\n",
      "File \u001b[0;32m/opt/anaconda3/lib/python3.9/site-packages/transformers/image_transforms.py:47\u001b[0m, in \u001b[0;36m<module>\u001b[0;34m\u001b[0m\n\u001b[1;32m     46\u001b[0m \u001b[39mif\u001b[39;00m is_tf_available():\n\u001b[0;32m---> 47\u001b[0m     \u001b[39mimport\u001b[39;00m \u001b[39mtensorflow\u001b[39;00m \u001b[39mas\u001b[39;00m \u001b[39mtf\u001b[39;00m\n\u001b[1;32m     49\u001b[0m \u001b[39mif\u001b[39;00m is_flax_available():\n",
      "File \u001b[0;32m/opt/anaconda3/lib/python3.9/site-packages/tensorflow/__init__.py:38\u001b[0m, in \u001b[0;36m<module>\u001b[0;34m\u001b[0m\n\u001b[1;32m     36\u001b[0m \u001b[39mimport\u001b[39;00m \u001b[39mtyping\u001b[39;00m \u001b[39mas\u001b[39;00m \u001b[39m_typing\u001b[39;00m\n\u001b[0;32m---> 38\u001b[0m \u001b[39mfrom\u001b[39;00m \u001b[39mtensorflow\u001b[39;00m\u001b[39m.\u001b[39;00m\u001b[39mpython\u001b[39;00m\u001b[39m.\u001b[39;00m\u001b[39mtools\u001b[39;00m \u001b[39mimport\u001b[39;00m module_util \u001b[39mas\u001b[39;00m _module_util\n\u001b[1;32m     39\u001b[0m \u001b[39mfrom\u001b[39;00m \u001b[39mtensorflow\u001b[39;00m\u001b[39m.\u001b[39;00m\u001b[39mpython\u001b[39;00m\u001b[39m.\u001b[39;00m\u001b[39mutil\u001b[39;00m\u001b[39m.\u001b[39;00m\u001b[39mlazy_loader\u001b[39;00m \u001b[39mimport\u001b[39;00m LazyLoader \u001b[39mas\u001b[39;00m _LazyLoader\n",
      "File \u001b[0;32m/opt/anaconda3/lib/python3.9/site-packages/tensorflow/python/__init__.py:42\u001b[0m, in \u001b[0;36m<module>\u001b[0;34m\u001b[0m\n\u001b[1;32m     38\u001b[0m \u001b[39m# pylint: enable=wildcard-import\u001b[39;00m\n\u001b[1;32m     39\u001b[0m \n\u001b[1;32m     40\u001b[0m \u001b[39m# from tensorflow.python import keras\u001b[39;00m\n\u001b[1;32m     41\u001b[0m \u001b[39m# from tensorflow.python.layers import layers\u001b[39;00m\n\u001b[0;32m---> 42\u001b[0m \u001b[39mfrom\u001b[39;00m \u001b[39mtensorflow\u001b[39;00m\u001b[39m.\u001b[39;00m\u001b[39mpython\u001b[39;00m\u001b[39m.\u001b[39;00m\u001b[39msaved_model\u001b[39;00m \u001b[39mimport\u001b[39;00m saved_model\n\u001b[1;32m     43\u001b[0m \u001b[39mfrom\u001b[39;00m \u001b[39mtensorflow\u001b[39;00m\u001b[39m.\u001b[39;00m\u001b[39mpython\u001b[39;00m\u001b[39m.\u001b[39;00m\u001b[39mtpu\u001b[39;00m \u001b[39mimport\u001b[39;00m api\n",
      "File \u001b[0;32m/opt/anaconda3/lib/python3.9/site-packages/tensorflow/python/saved_model/saved_model.py:20\u001b[0m, in \u001b[0;36m<module>\u001b[0;34m\u001b[0m\n\u001b[1;32m     19\u001b[0m \u001b[39m# pylint: disable=unused-import\u001b[39;00m\n\u001b[0;32m---> 20\u001b[0m \u001b[39mfrom\u001b[39;00m \u001b[39mtensorflow\u001b[39;00m\u001b[39m.\u001b[39;00m\u001b[39mpython\u001b[39;00m\u001b[39m.\u001b[39;00m\u001b[39msaved_model\u001b[39;00m \u001b[39mimport\u001b[39;00m builder\n\u001b[1;32m     21\u001b[0m \u001b[39mfrom\u001b[39;00m \u001b[39mtensorflow\u001b[39;00m\u001b[39m.\u001b[39;00m\u001b[39mpython\u001b[39;00m\u001b[39m.\u001b[39;00m\u001b[39msaved_model\u001b[39;00m \u001b[39mimport\u001b[39;00m constants\n",
      "File \u001b[0;32m/opt/anaconda3/lib/python3.9/site-packages/tensorflow/python/saved_model/builder.py:23\u001b[0m, in \u001b[0;36m<module>\u001b[0;34m\u001b[0m\n\u001b[1;32m     22\u001b[0m \u001b[39m# pylint: disable=unused-import\u001b[39;00m\n\u001b[0;32m---> 23\u001b[0m \u001b[39mfrom\u001b[39;00m \u001b[39mtensorflow\u001b[39;00m\u001b[39m.\u001b[39;00m\u001b[39mpython\u001b[39;00m\u001b[39m.\u001b[39;00m\u001b[39msaved_model\u001b[39;00m\u001b[39m.\u001b[39;00m\u001b[39mbuilder_impl\u001b[39;00m \u001b[39mimport\u001b[39;00m _SavedModelBuilder\n\u001b[1;32m     24\u001b[0m \u001b[39mfrom\u001b[39;00m \u001b[39mtensorflow\u001b[39;00m\u001b[39m.\u001b[39;00m\u001b[39mpython\u001b[39;00m\u001b[39m.\u001b[39;00m\u001b[39msaved_model\u001b[39;00m\u001b[39m.\u001b[39;00m\u001b[39mbuilder_impl\u001b[39;00m \u001b[39mimport\u001b[39;00m SavedModelBuilder\n",
      "File \u001b[0;32m/opt/anaconda3/lib/python3.9/site-packages/tensorflow/python/saved_model/builder_impl.py:26\u001b[0m, in \u001b[0;36m<module>\u001b[0;34m\u001b[0m\n\u001b[1;32m     25\u001b[0m \u001b[39mfrom\u001b[39;00m \u001b[39mtensorflow\u001b[39;00m\u001b[39m.\u001b[39;00m\u001b[39mcore\u001b[39;00m\u001b[39m.\u001b[39;00m\u001b[39mprotobuf\u001b[39;00m \u001b[39mimport\u001b[39;00m saver_pb2\n\u001b[0;32m---> 26\u001b[0m \u001b[39mfrom\u001b[39;00m \u001b[39mtensorflow\u001b[39;00m\u001b[39m.\u001b[39;00m\u001b[39mpython\u001b[39;00m\u001b[39m.\u001b[39;00m\u001b[39mframework\u001b[39;00m \u001b[39mimport\u001b[39;00m dtypes\n\u001b[1;32m     27\u001b[0m \u001b[39mfrom\u001b[39;00m \u001b[39mtensorflow\u001b[39;00m\u001b[39m.\u001b[39;00m\u001b[39mpython\u001b[39;00m\u001b[39m.\u001b[39;00m\u001b[39mframework\u001b[39;00m \u001b[39mimport\u001b[39;00m ops\n",
      "File \u001b[0;32m/opt/anaconda3/lib/python3.9/site-packages/tensorflow/python/framework/dtypes.py:37\u001b[0m, in \u001b[0;36m<module>\u001b[0;34m\u001b[0m\n\u001b[1;32m     35\u001b[0m \u001b[39mfrom\u001b[39;00m \u001b[39mtensorflow\u001b[39;00m\u001b[39m.\u001b[39;00m\u001b[39mtsl\u001b[39;00m\u001b[39m.\u001b[39;00m\u001b[39mpython\u001b[39;00m\u001b[39m.\u001b[39;00m\u001b[39mlib\u001b[39;00m\u001b[39m.\u001b[39;00m\u001b[39mcore\u001b[39;00m \u001b[39mimport\u001b[39;00m pywrap_ml_dtypes\n\u001b[0;32m---> 37\u001b[0m _np_bfloat16 \u001b[39m=\u001b[39m pywrap_ml_dtypes\u001b[39m.\u001b[39;49mbfloat16()\n\u001b[1;32m     38\u001b[0m _np_float8_e4m3fn \u001b[39m=\u001b[39m pywrap_ml_dtypes\u001b[39m.\u001b[39mfloat8_e4m3fn()\n",
      "\u001b[0;31mTypeError\u001b[0m: Unable to convert function return value to a Python type! The signature was\n\t() -> handle",
      "\nThe above exception was the direct cause of the following exception:\n",
      "\u001b[0;31mRuntimeError\u001b[0m                              Traceback (most recent call last)",
      "\u001b[1;32m/grappeefruitt/schulich_data_science/Fall 2023/llm.ipynb Cell 19\u001b[0m line \u001b[0;36m<cell line: 1>\u001b[0;34m()\u001b[0m\n\u001b[0;32m----> <a href='vscode-notebook-cell://github/grappeefruitt/schulich_data_science/Fall%202023/llm.ipynb#X35sdnNjb2RlLXZmcw%3D%3D?line=0'>1</a>\u001b[0m \u001b[39mfrom\u001b[39;00m \u001b[39mtransformers\u001b[39;00m \u001b[39mimport\u001b[39;00m pipeline\n",
      "File \u001b[0;32m<frozen importlib._bootstrap>:1055\u001b[0m, in \u001b[0;36m_handle_fromlist\u001b[0;34m(module, fromlist, import_, recursive)\u001b[0m\n",
      "File \u001b[0;32m/opt/anaconda3/lib/python3.9/site-packages/transformers/utils/import_utils.py:1343\u001b[0m, in \u001b[0;36m_LazyModule.__getattr__\u001b[0;34m(self, name)\u001b[0m\n\u001b[1;32m   1341\u001b[0m     value \u001b[39m=\u001b[39m \u001b[39mself\u001b[39m\u001b[39m.\u001b[39m_get_module(name)\n\u001b[1;32m   1342\u001b[0m \u001b[39melif\u001b[39;00m name \u001b[39min\u001b[39;00m \u001b[39mself\u001b[39m\u001b[39m.\u001b[39m_class_to_module\u001b[39m.\u001b[39mkeys():\n\u001b[0;32m-> 1343\u001b[0m     module \u001b[39m=\u001b[39m \u001b[39mself\u001b[39;49m\u001b[39m.\u001b[39;49m_get_module(\u001b[39mself\u001b[39;49m\u001b[39m.\u001b[39;49m_class_to_module[name])\n\u001b[1;32m   1344\u001b[0m     value \u001b[39m=\u001b[39m \u001b[39mgetattr\u001b[39m(module, name)\n\u001b[1;32m   1345\u001b[0m \u001b[39melse\u001b[39;00m:\n",
      "File \u001b[0;32m/opt/anaconda3/lib/python3.9/site-packages/transformers/utils/import_utils.py:1355\u001b[0m, in \u001b[0;36m_LazyModule._get_module\u001b[0;34m(self, module_name)\u001b[0m\n\u001b[1;32m   1353\u001b[0m     \u001b[39mreturn\u001b[39;00m importlib\u001b[39m.\u001b[39mimport_module(\u001b[39m\"\u001b[39m\u001b[39m.\u001b[39m\u001b[39m\"\u001b[39m \u001b[39m+\u001b[39m module_name, \u001b[39mself\u001b[39m\u001b[39m.\u001b[39m\u001b[39m__name__\u001b[39m)\n\u001b[1;32m   1354\u001b[0m \u001b[39mexcept\u001b[39;00m \u001b[39mException\u001b[39;00m \u001b[39mas\u001b[39;00m e:\n\u001b[0;32m-> 1355\u001b[0m     \u001b[39mraise\u001b[39;00m \u001b[39mRuntimeError\u001b[39;00m(\n\u001b[1;32m   1356\u001b[0m         \u001b[39mf\u001b[39m\u001b[39m\"\u001b[39m\u001b[39mFailed to import \u001b[39m\u001b[39m{\u001b[39;00m\u001b[39mself\u001b[39m\u001b[39m.\u001b[39m\u001b[39m__name__\u001b[39m\u001b[39m}\u001b[39;00m\u001b[39m.\u001b[39m\u001b[39m{\u001b[39;00mmodule_name\u001b[39m}\u001b[39;00m\u001b[39m because of the following error (look up to see its\u001b[39m\u001b[39m\"\u001b[39m\n\u001b[1;32m   1357\u001b[0m         \u001b[39mf\u001b[39m\u001b[39m\"\u001b[39m\u001b[39m traceback):\u001b[39m\u001b[39m\\n\u001b[39;00m\u001b[39m{\u001b[39;00me\u001b[39m}\u001b[39;00m\u001b[39m\"\u001b[39m\n\u001b[1;32m   1358\u001b[0m     ) \u001b[39mfrom\u001b[39;00m \u001b[39me\u001b[39;00m\n",
      "\u001b[0;31mRuntimeError\u001b[0m: Failed to import transformers.pipelines because of the following error (look up to see its traceback):\nUnable to convert function return value to a Python type! The signature was\n\t() -> handle"
     ]
    }
   ],
   "source": [
    "from transformers import pipeline\n"
   ]
  },
  {
   "cell_type": "code",
   "execution_count": 35,
   "metadata": {},
   "outputs": [
    {
     "ename": "RuntimeError",
     "evalue": "Failed to import transformers.pipelines because of the following error (look up to see its traceback):\nUnable to convert function return value to a Python type! The signature was\n\t() -> handle",
     "output_type": "error",
     "traceback": [
      "\u001b[0;31m---------------------------------------------------------------------------\u001b[0m",
      "\u001b[0;31mTypeError\u001b[0m                                 Traceback (most recent call last)",
      "File \u001b[0;32m/opt/anaconda3/lib/python3.9/site-packages/transformers/utils/import_utils.py:1353\u001b[0m, in \u001b[0;36m_LazyModule._get_module\u001b[0;34m(self, module_name)\u001b[0m\n\u001b[1;32m   1352\u001b[0m \u001b[39mtry\u001b[39;00m:\n\u001b[0;32m-> 1353\u001b[0m     \u001b[39mreturn\u001b[39;00m importlib\u001b[39m.\u001b[39;49mimport_module(\u001b[39m\"\u001b[39;49m\u001b[39m.\u001b[39;49m\u001b[39m\"\u001b[39;49m \u001b[39m+\u001b[39;49m module_name, \u001b[39mself\u001b[39;49m\u001b[39m.\u001b[39;49m\u001b[39m__name__\u001b[39;49m)\n\u001b[1;32m   1354\u001b[0m \u001b[39mexcept\u001b[39;00m \u001b[39mException\u001b[39;00m \u001b[39mas\u001b[39;00m e:\n",
      "File \u001b[0;32m/opt/anaconda3/lib/python3.9/importlib/__init__.py:127\u001b[0m, in \u001b[0;36mimport_module\u001b[0;34m(name, package)\u001b[0m\n\u001b[1;32m    126\u001b[0m         level \u001b[39m+\u001b[39m\u001b[39m=\u001b[39m \u001b[39m1\u001b[39m\n\u001b[0;32m--> 127\u001b[0m \u001b[39mreturn\u001b[39;00m _bootstrap\u001b[39m.\u001b[39;49m_gcd_import(name[level:], package, level)\n",
      "File \u001b[0;32m<frozen importlib._bootstrap>:1030\u001b[0m, in \u001b[0;36m_gcd_import\u001b[0;34m(name, package, level)\u001b[0m\n",
      "File \u001b[0;32m<frozen importlib._bootstrap>:1007\u001b[0m, in \u001b[0;36m_find_and_load\u001b[0;34m(name, import_)\u001b[0m\n",
      "File \u001b[0;32m<frozen importlib._bootstrap>:986\u001b[0m, in \u001b[0;36m_find_and_load_unlocked\u001b[0;34m(name, import_)\u001b[0m\n",
      "File \u001b[0;32m<frozen importlib._bootstrap>:680\u001b[0m, in \u001b[0;36m_load_unlocked\u001b[0;34m(spec)\u001b[0m\n",
      "File \u001b[0;32m<frozen importlib._bootstrap_external>:850\u001b[0m, in \u001b[0;36mexec_module\u001b[0;34m(self, module)\u001b[0m\n",
      "File \u001b[0;32m<frozen importlib._bootstrap>:228\u001b[0m, in \u001b[0;36m_call_with_frames_removed\u001b[0;34m(f, *args, **kwds)\u001b[0m\n",
      "File \u001b[0;32m/opt/anaconda3/lib/python3.9/site-packages/transformers/pipelines/__init__.py:28\u001b[0m, in \u001b[0;36m<module>\u001b[0;34m\u001b[0m\n\u001b[1;32m     27\u001b[0m \u001b[39mfrom\u001b[39;00m \u001b[39m.\u001b[39;00m\u001b[39m.\u001b[39;00m\u001b[39mfeature_extraction_utils\u001b[39;00m \u001b[39mimport\u001b[39;00m PreTrainedFeatureExtractor\n\u001b[0;32m---> 28\u001b[0m \u001b[39mfrom\u001b[39;00m \u001b[39m.\u001b[39;00m\u001b[39m.\u001b[39;00m\u001b[39mimage_processing_utils\u001b[39;00m \u001b[39mimport\u001b[39;00m BaseImageProcessor\n\u001b[1;32m     29\u001b[0m \u001b[39mfrom\u001b[39;00m \u001b[39m.\u001b[39;00m\u001b[39m.\u001b[39;00m\u001b[39mmodels\u001b[39;00m\u001b[39m.\u001b[39;00m\u001b[39mauto\u001b[39;00m\u001b[39m.\u001b[39;00m\u001b[39mconfiguration_auto\u001b[39;00m \u001b[39mimport\u001b[39;00m AutoConfig\n",
      "File \u001b[0;32m/opt/anaconda3/lib/python3.9/site-packages/transformers/image_processing_utils.py:28\u001b[0m, in \u001b[0;36m<module>\u001b[0;34m\u001b[0m\n\u001b[1;32m     27\u001b[0m \u001b[39mfrom\u001b[39;00m \u001b[39m.\u001b[39;00m\u001b[39mfeature_extraction_utils\u001b[39;00m \u001b[39mimport\u001b[39;00m BatchFeature \u001b[39mas\u001b[39;00m BaseBatchFeature\n\u001b[0;32m---> 28\u001b[0m \u001b[39mfrom\u001b[39;00m \u001b[39m.\u001b[39;00m\u001b[39mimage_transforms\u001b[39;00m \u001b[39mimport\u001b[39;00m center_crop, normalize, rescale\n\u001b[1;32m     29\u001b[0m \u001b[39mfrom\u001b[39;00m \u001b[39m.\u001b[39;00m\u001b[39mimage_utils\u001b[39;00m \u001b[39mimport\u001b[39;00m ChannelDimension\n",
      "File \u001b[0;32m/opt/anaconda3/lib/python3.9/site-packages/transformers/image_transforms.py:47\u001b[0m, in \u001b[0;36m<module>\u001b[0;34m\u001b[0m\n\u001b[1;32m     46\u001b[0m \u001b[39mif\u001b[39;00m is_tf_available():\n\u001b[0;32m---> 47\u001b[0m     \u001b[39mimport\u001b[39;00m \u001b[39mtensorflow\u001b[39;00m \u001b[39mas\u001b[39;00m \u001b[39mtf\u001b[39;00m\n\u001b[1;32m     49\u001b[0m \u001b[39mif\u001b[39;00m is_flax_available():\n",
      "File \u001b[0;32m/opt/anaconda3/lib/python3.9/site-packages/tensorflow/__init__.py:38\u001b[0m, in \u001b[0;36m<module>\u001b[0;34m\u001b[0m\n\u001b[1;32m     36\u001b[0m \u001b[39mimport\u001b[39;00m \u001b[39mtyping\u001b[39;00m \u001b[39mas\u001b[39;00m \u001b[39m_typing\u001b[39;00m\n\u001b[0;32m---> 38\u001b[0m \u001b[39mfrom\u001b[39;00m \u001b[39mtensorflow\u001b[39;00m\u001b[39m.\u001b[39;00m\u001b[39mpython\u001b[39;00m\u001b[39m.\u001b[39;00m\u001b[39mtools\u001b[39;00m \u001b[39mimport\u001b[39;00m module_util \u001b[39mas\u001b[39;00m _module_util\n\u001b[1;32m     39\u001b[0m \u001b[39mfrom\u001b[39;00m \u001b[39mtensorflow\u001b[39;00m\u001b[39m.\u001b[39;00m\u001b[39mpython\u001b[39;00m\u001b[39m.\u001b[39;00m\u001b[39mutil\u001b[39;00m\u001b[39m.\u001b[39;00m\u001b[39mlazy_loader\u001b[39;00m \u001b[39mimport\u001b[39;00m LazyLoader \u001b[39mas\u001b[39;00m _LazyLoader\n",
      "File \u001b[0;32m/opt/anaconda3/lib/python3.9/site-packages/tensorflow/python/__init__.py:42\u001b[0m, in \u001b[0;36m<module>\u001b[0;34m\u001b[0m\n\u001b[1;32m     38\u001b[0m \u001b[39m# pylint: enable=wildcard-import\u001b[39;00m\n\u001b[1;32m     39\u001b[0m \n\u001b[1;32m     40\u001b[0m \u001b[39m# from tensorflow.python import keras\u001b[39;00m\n\u001b[1;32m     41\u001b[0m \u001b[39m# from tensorflow.python.layers import layers\u001b[39;00m\n\u001b[0;32m---> 42\u001b[0m \u001b[39mfrom\u001b[39;00m \u001b[39mtensorflow\u001b[39;00m\u001b[39m.\u001b[39;00m\u001b[39mpython\u001b[39;00m\u001b[39m.\u001b[39;00m\u001b[39msaved_model\u001b[39;00m \u001b[39mimport\u001b[39;00m saved_model\n\u001b[1;32m     43\u001b[0m \u001b[39mfrom\u001b[39;00m \u001b[39mtensorflow\u001b[39;00m\u001b[39m.\u001b[39;00m\u001b[39mpython\u001b[39;00m\u001b[39m.\u001b[39;00m\u001b[39mtpu\u001b[39;00m \u001b[39mimport\u001b[39;00m api\n",
      "File \u001b[0;32m/opt/anaconda3/lib/python3.9/site-packages/tensorflow/python/saved_model/saved_model.py:20\u001b[0m, in \u001b[0;36m<module>\u001b[0;34m\u001b[0m\n\u001b[1;32m     19\u001b[0m \u001b[39m# pylint: disable=unused-import\u001b[39;00m\n\u001b[0;32m---> 20\u001b[0m \u001b[39mfrom\u001b[39;00m \u001b[39mtensorflow\u001b[39;00m\u001b[39m.\u001b[39;00m\u001b[39mpython\u001b[39;00m\u001b[39m.\u001b[39;00m\u001b[39msaved_model\u001b[39;00m \u001b[39mimport\u001b[39;00m builder\n\u001b[1;32m     21\u001b[0m \u001b[39mfrom\u001b[39;00m \u001b[39mtensorflow\u001b[39;00m\u001b[39m.\u001b[39;00m\u001b[39mpython\u001b[39;00m\u001b[39m.\u001b[39;00m\u001b[39msaved_model\u001b[39;00m \u001b[39mimport\u001b[39;00m constants\n",
      "File \u001b[0;32m/opt/anaconda3/lib/python3.9/site-packages/tensorflow/python/saved_model/builder.py:23\u001b[0m, in \u001b[0;36m<module>\u001b[0;34m\u001b[0m\n\u001b[1;32m     22\u001b[0m \u001b[39m# pylint: disable=unused-import\u001b[39;00m\n\u001b[0;32m---> 23\u001b[0m \u001b[39mfrom\u001b[39;00m \u001b[39mtensorflow\u001b[39;00m\u001b[39m.\u001b[39;00m\u001b[39mpython\u001b[39;00m\u001b[39m.\u001b[39;00m\u001b[39msaved_model\u001b[39;00m\u001b[39m.\u001b[39;00m\u001b[39mbuilder_impl\u001b[39;00m \u001b[39mimport\u001b[39;00m _SavedModelBuilder\n\u001b[1;32m     24\u001b[0m \u001b[39mfrom\u001b[39;00m \u001b[39mtensorflow\u001b[39;00m\u001b[39m.\u001b[39;00m\u001b[39mpython\u001b[39;00m\u001b[39m.\u001b[39;00m\u001b[39msaved_model\u001b[39;00m\u001b[39m.\u001b[39;00m\u001b[39mbuilder_impl\u001b[39;00m \u001b[39mimport\u001b[39;00m SavedModelBuilder\n",
      "File \u001b[0;32m/opt/anaconda3/lib/python3.9/site-packages/tensorflow/python/saved_model/builder_impl.py:26\u001b[0m, in \u001b[0;36m<module>\u001b[0;34m\u001b[0m\n\u001b[1;32m     25\u001b[0m \u001b[39mfrom\u001b[39;00m \u001b[39mtensorflow\u001b[39;00m\u001b[39m.\u001b[39;00m\u001b[39mcore\u001b[39;00m\u001b[39m.\u001b[39;00m\u001b[39mprotobuf\u001b[39;00m \u001b[39mimport\u001b[39;00m saver_pb2\n\u001b[0;32m---> 26\u001b[0m \u001b[39mfrom\u001b[39;00m \u001b[39mtensorflow\u001b[39;00m\u001b[39m.\u001b[39;00m\u001b[39mpython\u001b[39;00m\u001b[39m.\u001b[39;00m\u001b[39mframework\u001b[39;00m \u001b[39mimport\u001b[39;00m dtypes\n\u001b[1;32m     27\u001b[0m \u001b[39mfrom\u001b[39;00m \u001b[39mtensorflow\u001b[39;00m\u001b[39m.\u001b[39;00m\u001b[39mpython\u001b[39;00m\u001b[39m.\u001b[39;00m\u001b[39mframework\u001b[39;00m \u001b[39mimport\u001b[39;00m ops\n",
      "File \u001b[0;32m/opt/anaconda3/lib/python3.9/site-packages/tensorflow/python/framework/dtypes.py:37\u001b[0m, in \u001b[0;36m<module>\u001b[0;34m\u001b[0m\n\u001b[1;32m     35\u001b[0m \u001b[39mfrom\u001b[39;00m \u001b[39mtensorflow\u001b[39;00m\u001b[39m.\u001b[39;00m\u001b[39mtsl\u001b[39;00m\u001b[39m.\u001b[39;00m\u001b[39mpython\u001b[39;00m\u001b[39m.\u001b[39;00m\u001b[39mlib\u001b[39;00m\u001b[39m.\u001b[39;00m\u001b[39mcore\u001b[39;00m \u001b[39mimport\u001b[39;00m pywrap_ml_dtypes\n\u001b[0;32m---> 37\u001b[0m _np_bfloat16 \u001b[39m=\u001b[39m pywrap_ml_dtypes\u001b[39m.\u001b[39;49mbfloat16()\n\u001b[1;32m     38\u001b[0m _np_float8_e4m3fn \u001b[39m=\u001b[39m pywrap_ml_dtypes\u001b[39m.\u001b[39mfloat8_e4m3fn()\n",
      "\u001b[0;31mTypeError\u001b[0m: Unable to convert function return value to a Python type! The signature was\n\t() -> handle",
      "\nThe above exception was the direct cause of the following exception:\n",
      "\u001b[0;31mRuntimeError\u001b[0m                              Traceback (most recent call last)",
      "\u001b[1;32m/grappeefruitt/schulich_data_science/Fall 2023/llm.ipynb Cell 18\u001b[0m line \u001b[0;36m<cell line: 1>\u001b[0;34m()\u001b[0m\n\u001b[0;32m----> <a href='vscode-notebook-cell://github/grappeefruitt/schulich_data_science/Fall%202023/llm.ipynb#X24sdnNjb2RlLXZmcw%3D%3D?line=0'>1</a>\u001b[0m \u001b[39mfrom\u001b[39;00m \u001b[39mtransformers\u001b[39;00m \u001b[39mimport\u001b[39;00m pipeline\n\u001b[1;32m      <a href='vscode-notebook-cell://github/grappeefruitt/schulich_data_science/Fall%202023/llm.ipynb#X24sdnNjb2RlLXZmcw%3D%3D?line=2'>3</a>\u001b[0m \u001b[39m# Load a pre-trained summarization model\u001b[39;00m\n\u001b[1;32m      <a href='vscode-notebook-cell://github/grappeefruitt/schulich_data_science/Fall%202023/llm.ipynb#X24sdnNjb2RlLXZmcw%3D%3D?line=3'>4</a>\u001b[0m summarizer \u001b[39m=\u001b[39m pipeline(\u001b[39m\"\u001b[39m\u001b[39msummarization\u001b[39m\u001b[39m\"\u001b[39m)\n",
      "File \u001b[0;32m<frozen importlib._bootstrap>:1055\u001b[0m, in \u001b[0;36m_handle_fromlist\u001b[0;34m(module, fromlist, import_, recursive)\u001b[0m\n",
      "File \u001b[0;32m/opt/anaconda3/lib/python3.9/site-packages/transformers/utils/import_utils.py:1343\u001b[0m, in \u001b[0;36m_LazyModule.__getattr__\u001b[0;34m(self, name)\u001b[0m\n\u001b[1;32m   1341\u001b[0m     value \u001b[39m=\u001b[39m \u001b[39mself\u001b[39m\u001b[39m.\u001b[39m_get_module(name)\n\u001b[1;32m   1342\u001b[0m \u001b[39melif\u001b[39;00m name \u001b[39min\u001b[39;00m \u001b[39mself\u001b[39m\u001b[39m.\u001b[39m_class_to_module\u001b[39m.\u001b[39mkeys():\n\u001b[0;32m-> 1343\u001b[0m     module \u001b[39m=\u001b[39m \u001b[39mself\u001b[39;49m\u001b[39m.\u001b[39;49m_get_module(\u001b[39mself\u001b[39;49m\u001b[39m.\u001b[39;49m_class_to_module[name])\n\u001b[1;32m   1344\u001b[0m     value \u001b[39m=\u001b[39m \u001b[39mgetattr\u001b[39m(module, name)\n\u001b[1;32m   1345\u001b[0m \u001b[39melse\u001b[39;00m:\n",
      "File \u001b[0;32m/opt/anaconda3/lib/python3.9/site-packages/transformers/utils/import_utils.py:1355\u001b[0m, in \u001b[0;36m_LazyModule._get_module\u001b[0;34m(self, module_name)\u001b[0m\n\u001b[1;32m   1353\u001b[0m     \u001b[39mreturn\u001b[39;00m importlib\u001b[39m.\u001b[39mimport_module(\u001b[39m\"\u001b[39m\u001b[39m.\u001b[39m\u001b[39m\"\u001b[39m \u001b[39m+\u001b[39m module_name, \u001b[39mself\u001b[39m\u001b[39m.\u001b[39m\u001b[39m__name__\u001b[39m)\n\u001b[1;32m   1354\u001b[0m \u001b[39mexcept\u001b[39;00m \u001b[39mException\u001b[39;00m \u001b[39mas\u001b[39;00m e:\n\u001b[0;32m-> 1355\u001b[0m     \u001b[39mraise\u001b[39;00m \u001b[39mRuntimeError\u001b[39;00m(\n\u001b[1;32m   1356\u001b[0m         \u001b[39mf\u001b[39m\u001b[39m\"\u001b[39m\u001b[39mFailed to import \u001b[39m\u001b[39m{\u001b[39;00m\u001b[39mself\u001b[39m\u001b[39m.\u001b[39m\u001b[39m__name__\u001b[39m\u001b[39m}\u001b[39;00m\u001b[39m.\u001b[39m\u001b[39m{\u001b[39;00mmodule_name\u001b[39m}\u001b[39;00m\u001b[39m because of the following error (look up to see its\u001b[39m\u001b[39m\"\u001b[39m\n\u001b[1;32m   1357\u001b[0m         \u001b[39mf\u001b[39m\u001b[39m\"\u001b[39m\u001b[39m traceback):\u001b[39m\u001b[39m\\n\u001b[39;00m\u001b[39m{\u001b[39;00me\u001b[39m}\u001b[39;00m\u001b[39m\"\u001b[39m\n\u001b[1;32m   1358\u001b[0m     ) \u001b[39mfrom\u001b[39;00m \u001b[39me\u001b[39;00m\n",
      "\u001b[0;31mRuntimeError\u001b[0m: Failed to import transformers.pipelines because of the following error (look up to see its traceback):\nUnable to convert function return value to a Python type! The signature was\n\t() -> handle"
     ]
    }
   ],
   "source": [
    "from transformers import pipeline\n",
    "\n",
    "# Load a pre-trained summarization model\n",
    "summarizer = pipeline(\"summarization\")"
   ]
  },
  {
   "cell_type": "code",
   "execution_count": null,
   "metadata": {},
   "outputs": [],
   "source": [
    "def summarize_description(description):\n",
    "    return summarizer(description, max_length=130, min_length=30, do_sample=False)[0]['summary_text']\n",
    "\n",
    "jobs_data['summarized_description'] = jobs_data['cleaned_description'].apply(summarize_description)\n"
   ]
  }
 ],
 "metadata": {
  "kernelspec": {
   "display_name": "base",
   "language": "python",
   "name": "python3"
  },
  "language_info": {
   "codemirror_mode": {
    "name": "ipython",
    "version": 3
   },
   "file_extension": ".py",
   "mimetype": "text/x-python",
   "name": "python",
   "nbconvert_exporter": "python",
   "pygments_lexer": "ipython3",
   "version": "3.9.12"
  }
 },
 "nbformat": 4,
 "nbformat_minor": 2
}
