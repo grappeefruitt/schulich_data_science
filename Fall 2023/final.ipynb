{
 "cells": [
  {
   "cell_type": "code",
   "execution_count": 20,
   "metadata": {},
   "outputs": [],
   "source": [
    "import pandas as pd\n",
    "import numpy as np\n",
    "import pandas as pd\n",
    "import matplotlib.pyplot as plt\n",
    "import statsmodels.api as sm\n",
    "from sklearn.preprocessing import LabelEncoder, MinMaxScaler"
   ]
  },
  {
   "cell_type": "code",
   "execution_count": 21,
   "metadata": {},
   "outputs": [
    {
     "name": "stdout",
     "output_type": "stream",
     "text": [
      "Requirement already satisfied: pandas_datareader in /opt/anaconda3/lib/python3.9/site-packages (0.10.0)\n",
      "Requirement already satisfied: requests in /opt/anaconda3/lib/python3.9/site-packages (2.27.1)\n",
      "Requirement already satisfied: lxml in /opt/anaconda3/lib/python3.9/site-packages (from pandas_datareader) (4.8.0)\n",
      "Requirement already satisfied: pandas>=0.23 in /opt/anaconda3/lib/python3.9/site-packages (from pandas_datareader) (1.4.2)\n",
      "Requirement already satisfied: certifi>=2017.4.17 in /opt/anaconda3/lib/python3.9/site-packages (from requests) (2021.10.8)\n",
      "Requirement already satisfied: urllib3<1.27,>=1.21.1 in /opt/anaconda3/lib/python3.9/site-packages (from requests) (1.26.9)\n",
      "Requirement already satisfied: idna<4,>=2.5 in /opt/anaconda3/lib/python3.9/site-packages (from requests) (3.3)\n",
      "Requirement already satisfied: charset-normalizer~=2.0.0 in /opt/anaconda3/lib/python3.9/site-packages (from requests) (2.0.4)\n",
      "Requirement already satisfied: python-dateutil>=2.8.1 in /opt/anaconda3/lib/python3.9/site-packages (from pandas>=0.23->pandas_datareader) (2.8.2)\n",
      "Requirement already satisfied: pytz>=2020.1 in /opt/anaconda3/lib/python3.9/site-packages (from pandas>=0.23->pandas_datareader) (2021.3)\n",
      "Requirement already satisfied: numpy>=1.18.5 in /opt/anaconda3/lib/python3.9/site-packages (from pandas>=0.23->pandas_datareader) (1.22.4)\n",
      "Requirement already satisfied: six>=1.5 in /opt/anaconda3/lib/python3.9/site-packages (from python-dateutil>=2.8.1->pandas>=0.23->pandas_datareader) (1.16.0)\n",
      "\u001b[33mWARNING: You are using pip version 22.0.4; however, version 23.3.1 is available.\n",
      "You should consider upgrading via the '/opt/anaconda3/bin/python -m pip install --upgrade pip' command.\u001b[0m\u001b[33m\n",
      "\u001b[0mNote: you may need to restart the kernel to use updated packages.\n"
     ]
    }
   ],
   "source": [
    "pip install pandas_datareader requests"
   ]
  },
  {
   "cell_type": "code",
   "execution_count": 22,
   "metadata": {},
   "outputs": [],
   "source": [
    "import pandas_datareader as pdr"
   ]
  },
  {
   "cell_type": "code",
   "execution_count": 23,
   "metadata": {},
   "outputs": [
    {
     "data": {
      "text/plain": [
       "{'First Five Rows':    order_date requested_delivery_date Customer Country Code Product Code  \\\n",
       " 0  13.07.2009              28.01.2010                    RU    L10705000   \n",
       " 1  15.07.2009              24.03.2010                    RU    L10705000   \n",
       " 2  16.07.2009              04.02.2010                    RU    L10705000   \n",
       " 3  17.07.2009              04.02.2010                    RU    L10705000   \n",
       " 4  21.07.2009              01.02.2010                    RU    L10705000   \n",
       " \n",
       "                    Description order_type  Customer Order Code     value Curr  \\\n",
       " 0  Parka Outdoor Lifestyle STD         VO           3200435553   2337.00  RUB   \n",
       " 1  Parka Outdoor Lifestyle STD         VO           3200435694  10160.25  RUB   \n",
       " 2  Parka Outdoor Lifestyle STD         VO           3200435741   2992.50  RUB   \n",
       " 3  Parka Outdoor Lifestyle STD         VO           3200435907   4061.25  RUB   \n",
       " 4  Parka Outdoor Lifestyle STD         VO           3200435963   2208.75  RUB   \n",
       " \n",
       "   items   Route  \n",
       " 0     6  RU0001  \n",
       " 1    23  RU0001  \n",
       " 2     7  RU0001  \n",
       " 3     9  RU0001  \n",
       " 4     5  RU0001  ,\n",
       " 'Dataset Shape': (2420, 11),\n",
       " 'Data Types': order_date                  object\n",
       " requested_delivery_date     object\n",
       " Customer Country Code       object\n",
       " Product Code                object\n",
       " Description                 object\n",
       " order_type                  object\n",
       " Customer Order Code          int64\n",
       " value                      float64\n",
       " Curr                        object\n",
       " items                       object\n",
       " Route                       object\n",
       " dtype: object,\n",
       " 'Missing Values': order_date                 0\n",
       " requested_delivery_date    0\n",
       " Customer Country Code      0\n",
       " Product Code               0\n",
       " Description                0\n",
       " order_type                 0\n",
       " Customer Order Code        0\n",
       " value                      0\n",
       " Curr                       0\n",
       " items                      0\n",
       " Route                      0\n",
       " dtype: int64}"
      ]
     },
     "execution_count": 23,
     "metadata": {},
     "output_type": "execute_result"
    }
   ],
   "source": [
    "# Load the dataset\n",
    "file_path = '/Users/youziya/Downloads/data_set_hackathon.csv'\n",
    "data = pd.read_csv(file_path)\n",
    "\n",
    "# Display basic information about the dataset\n",
    "initial_insight = {\n",
    "    \"First Five Rows\": data.head(),\n",
    "    \"Dataset Shape\": data.shape,\n",
    "    \"Data Types\": data.dtypes,\n",
    "    \"Missing Values\": data.isnull().sum()\n",
    "}\n",
    "\n",
    "initial_insight\n",
    "\n"
   ]
  },
  {
   "cell_type": "code",
   "execution_count": 24,
   "metadata": {},
   "outputs": [
    {
     "data": {
      "text/html": [
       "<div>\n",
       "<style scoped>\n",
       "    .dataframe tbody tr th:only-of-type {\n",
       "        vertical-align: middle;\n",
       "    }\n",
       "\n",
       "    .dataframe tbody tr th {\n",
       "        vertical-align: top;\n",
       "    }\n",
       "\n",
       "    .dataframe thead th {\n",
       "        text-align: right;\n",
       "    }\n",
       "</style>\n",
       "<table border=\"1\" class=\"dataframe\">\n",
       "  <thead>\n",
       "    <tr style=\"text-align: right;\">\n",
       "      <th></th>\n",
       "      <th>order_date</th>\n",
       "      <th>requested_delivery_date</th>\n",
       "      <th>Customer Country Code</th>\n",
       "      <th>Product Code</th>\n",
       "      <th>Description</th>\n",
       "      <th>order_type</th>\n",
       "      <th>Customer Order Code</th>\n",
       "      <th>value</th>\n",
       "      <th>Curr</th>\n",
       "      <th>items</th>\n",
       "      <th>Route</th>\n",
       "    </tr>\n",
       "  </thead>\n",
       "  <tbody>\n",
       "    <tr>\n",
       "      <th>0</th>\n",
       "      <td>13.07.2009</td>\n",
       "      <td>28.01.2010</td>\n",
       "      <td>RU</td>\n",
       "      <td>L10705000</td>\n",
       "      <td>Parka Outdoor Lifestyle STD</td>\n",
       "      <td>VO</td>\n",
       "      <td>3200435553</td>\n",
       "      <td>2337.00</td>\n",
       "      <td>RUB</td>\n",
       "      <td>6</td>\n",
       "      <td>RU0001</td>\n",
       "    </tr>\n",
       "    <tr>\n",
       "      <th>1</th>\n",
       "      <td>15.07.2009</td>\n",
       "      <td>24.03.2010</td>\n",
       "      <td>RU</td>\n",
       "      <td>L10705000</td>\n",
       "      <td>Parka Outdoor Lifestyle STD</td>\n",
       "      <td>VO</td>\n",
       "      <td>3200435694</td>\n",
       "      <td>10160.25</td>\n",
       "      <td>RUB</td>\n",
       "      <td>23</td>\n",
       "      <td>RU0001</td>\n",
       "    </tr>\n",
       "    <tr>\n",
       "      <th>2</th>\n",
       "      <td>16.07.2009</td>\n",
       "      <td>04.02.2010</td>\n",
       "      <td>RU</td>\n",
       "      <td>L10705000</td>\n",
       "      <td>Parka Outdoor Lifestyle STD</td>\n",
       "      <td>VO</td>\n",
       "      <td>3200435741</td>\n",
       "      <td>2992.50</td>\n",
       "      <td>RUB</td>\n",
       "      <td>7</td>\n",
       "      <td>RU0001</td>\n",
       "    </tr>\n",
       "    <tr>\n",
       "      <th>3</th>\n",
       "      <td>17.07.2009</td>\n",
       "      <td>04.02.2010</td>\n",
       "      <td>RU</td>\n",
       "      <td>L10705000</td>\n",
       "      <td>Parka Outdoor Lifestyle STD</td>\n",
       "      <td>VO</td>\n",
       "      <td>3200435907</td>\n",
       "      <td>4061.25</td>\n",
       "      <td>RUB</td>\n",
       "      <td>9</td>\n",
       "      <td>RU0001</td>\n",
       "    </tr>\n",
       "    <tr>\n",
       "      <th>4</th>\n",
       "      <td>21.07.2009</td>\n",
       "      <td>01.02.2010</td>\n",
       "      <td>RU</td>\n",
       "      <td>L10705000</td>\n",
       "      <td>Parka Outdoor Lifestyle STD</td>\n",
       "      <td>VO</td>\n",
       "      <td>3200435963</td>\n",
       "      <td>2208.75</td>\n",
       "      <td>RUB</td>\n",
       "      <td>5</td>\n",
       "      <td>RU0001</td>\n",
       "    </tr>\n",
       "  </tbody>\n",
       "</table>\n",
       "</div>"
      ],
      "text/plain": [
       "   order_date requested_delivery_date Customer Country Code Product Code  \\\n",
       "0  13.07.2009              28.01.2010                    RU    L10705000   \n",
       "1  15.07.2009              24.03.2010                    RU    L10705000   \n",
       "2  16.07.2009              04.02.2010                    RU    L10705000   \n",
       "3  17.07.2009              04.02.2010                    RU    L10705000   \n",
       "4  21.07.2009              01.02.2010                    RU    L10705000   \n",
       "\n",
       "                   Description order_type  Customer Order Code     value Curr  \\\n",
       "0  Parka Outdoor Lifestyle STD         VO           3200435553   2337.00  RUB   \n",
       "1  Parka Outdoor Lifestyle STD         VO           3200435694  10160.25  RUB   \n",
       "2  Parka Outdoor Lifestyle STD         VO           3200435741   2992.50  RUB   \n",
       "3  Parka Outdoor Lifestyle STD         VO           3200435907   4061.25  RUB   \n",
       "4  Parka Outdoor Lifestyle STD         VO           3200435963   2208.75  RUB   \n",
       "\n",
       "  items   Route  \n",
       "0     6  RU0001  \n",
       "1    23  RU0001  \n",
       "2     7  RU0001  \n",
       "3     9  RU0001  \n",
       "4     5  RU0001  "
      ]
     },
     "execution_count": 24,
     "metadata": {},
     "output_type": "execute_result"
    }
   ],
   "source": [
    "data.head()"
   ]
  },
  {
   "cell_type": "code",
   "execution_count": 31,
   "metadata": {},
   "outputs": [
    {
     "data": {
      "text/plain": [
       "array(['L10705000', 'L10705100', 'L10705200', 'L10705300', 'L10705400',\n",
       "       'L10705500', 'L10705600', 'L10705700', 'L10850600', 'L10850700',\n",
       "       'L10850800', 'L10850900', 'L10852800', 'L10852900', 'L10853100',\n",
       "       'L12134400', 'L12134500', 'L12134600', 'L12134700', 'L12135800',\n",
       "       'L12135900', 'L12136000', 'L12136100', 'L12916800', 'L12916900',\n",
       "       'L12917000', 'L12917100', 'L12917700', 'L12917800', 'L12917900',\n",
       "       'L12918000', 'L12918400', 'L12918500', 'L12918600', 'L12918700',\n",
       "       'L12918800', 'L12918900', 'L12919000', 'L12919100', 'L12919200'],\n",
       "      dtype=object)"
      ]
     },
     "execution_count": 31,
     "metadata": {},
     "output_type": "execute_result"
    }
   ],
   "source": [
    "data['Product Code'].unique()"
   ]
  },
  {
   "cell_type": "code",
   "execution_count": null,
   "metadata": {},
   "outputs": [],
   "source": []
  },
  {
   "cell_type": "code",
   "execution_count": 25,
   "metadata": {},
   "outputs": [
    {
     "name": "stdout",
     "output_type": "stream",
     "text": [
      "<class 'pandas.core.frame.DataFrame'>\n",
      "RangeIndex: 2420 entries, 0 to 2419\n",
      "Data columns (total 11 columns):\n",
      " #   Column                   Non-Null Count  Dtype  \n",
      "---  ------                   --------------  -----  \n",
      " 0   order_date               2420 non-null   object \n",
      " 1   requested_delivery_date  2420 non-null   object \n",
      " 2   Customer Country Code    2420 non-null   object \n",
      " 3   Product Code             2420 non-null   object \n",
      " 4   Description              2420 non-null   object \n",
      " 5   order_type               2420 non-null   object \n",
      " 6   Customer Order Code      2420 non-null   int64  \n",
      " 7   value                    2420 non-null   float64\n",
      " 8   Curr                     2420 non-null   object \n",
      " 9   items                    2420 non-null   object \n",
      " 10  Route                    2420 non-null   object \n",
      "dtypes: float64(1), int64(1), object(9)\n",
      "memory usage: 208.1+ KB\n"
     ]
    }
   ],
   "source": [
    "data.info()"
   ]
  },
  {
   "cell_type": "code",
   "execution_count": null,
   "metadata": {},
   "outputs": [],
   "source": [
    "# Convert 'order_date' and 'requested_delivery_date' to datetime\n",
    "data['order_date'] = pd.to_datetime(data['order_date'], format='%d.%m.%Y')\n",
    "data['requested_delivery_date'] = pd.to_datetime(data['requested_delivery_date'], format='%d.%m.%Y')\n",
    "\n",
    "# Encoding categorical variables\n",
    "label_encoders = {}\n",
    "categorical_columns = ['Customer Country Code', 'Product Code', 'Description', 'order_type', 'Curr', 'Route']\n",
    "for column in categorical_columns:\n",
    "    label_encoders[column] = LabelEncoder()\n",
    "    data[column] = label_encoders[column].fit_transform(data[column])\n",
    "\n",
    "# Scaling numerical variables\n",
    "scaler = MinMaxScaler()\n",
    "data['value'] = scaler.fit_transform(data[['value']])\n",
    "\n",
    "# Checking for any anomalies or unusual values\n",
    "anomaly_check = {\n",
    "    \"Descriptive Statistics\": data.describe(),\n",
    "    \"Unique Values for Categorical Columns\": {col: data[col].unique() for col in categorical_columns}\n",
    "}\n",
    "\n",
    "# Feature Engineering: Creating a new feature for the time between order and delivery\n",
    "data['delivery_time'] = (data['requested_delivery_date'] - data['order_date']).dt.days\n",
    "\n",
    "# Updated dataset preview\n",
    "updated_dataset_preview = data.head()\n",
    "\n",
    "anomaly_check, updated_dataset_preview\n",
    "\n"
   ]
  },
  {
   "cell_type": "code",
   "execution_count": null,
   "metadata": {},
   "outputs": [],
   "source": [
    "data.head()"
   ]
  },
  {
   "cell_type": "code",
   "execution_count": null,
   "metadata": {},
   "outputs": [],
   "source": [
    "data['Customer Country Code'].unique()"
   ]
  },
  {
   "cell_type": "code",
   "execution_count": null,
   "metadata": {},
   "outputs": [],
   "source": [
    "data['order_type'].unique()"
   ]
  },
  {
   "cell_type": "code",
   "execution_count": null,
   "metadata": {},
   "outputs": [],
   "source": [
    "data.head()"
   ]
  },
  {
   "cell_type": "code",
   "execution_count": null,
   "metadata": {},
   "outputs": [],
   "source": []
  }
 ],
 "metadata": {
  "kernelspec": {
   "display_name": "base",
   "language": "python",
   "name": "python3"
  },
  "language_info": {
   "codemirror_mode": {
    "name": "ipython",
    "version": 3
   },
   "file_extension": ".py",
   "mimetype": "text/x-python",
   "name": "python",
   "nbconvert_exporter": "python",
   "pygments_lexer": "ipython3",
   "version": "3.9.12"
  }
 },
 "nbformat": 4,
 "nbformat_minor": 2
}
