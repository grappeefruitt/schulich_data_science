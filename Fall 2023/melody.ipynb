{
 "cells": [
  {
   "cell_type": "code",
   "execution_count": 1,
   "metadata": {},
   "outputs": [],
   "source": [
    "import numpy as np\n",
    "from scipy.optimize import curve_fit"
   ]
  },
  {
   "cell_type": "code",
   "execution_count": 2,
   "metadata": {},
   "outputs": [],
   "source": [
    "# Define the Michaelis-Menten equation for curve fitting\n",
    "def michaelis_menten(S, Vmax, Km):\n",
    "    return (Vmax * S) / (Km + S)\n"
   ]
  },
  {
   "cell_type": "code",
   "execution_count": 3,
   "metadata": {},
   "outputs": [],
   "source": [
    "# Data provided by the user\n",
    "concentration_log = np.array([-5, -5.522878745, -6, -6.522878745, -7, -7.522878745, -8, -8.522878745, -9, -9.522878745, -10, -10.52287875])\n",
    "concentrations = 10**concentration_log  # Convert log to molar concentration\n"
   ]
  },
  {
   "cell_type": "code",
   "execution_count": 4,
   "metadata": {},
   "outputs": [],
   "source": [
    "# Responses for each compound\n",
    "responses = {\n",
    "    \"Curcumin\": np.array([138.0905146, 203.9553627, 238.1887548, 303.3554294, 321.2866613, 275.68029, 7.715198627, 11.8088607, 12.81606181, 13.96060852, 42.60861271, -7.682769803]),\n",
    "    \"Quercetin\": np.array([197.6756164, 233.953932, 246.9979494, 283.4822834, 335.196719, 299.055749, 4.560064858, 6.711812676, 7.92503219, 12.36587343, 58.87643664, -14.1341981]),\n",
    "    \"Flavone\": np.array([52.49368115, 105.7303639, 180.4387429, 245.5062235, 295.7594544, 252.060661, 6.780485479, 13.89193571, 13.05641662, 10.56130478, 73.09552196, -4.909151605])\n",
    "}\n",
    "\n"
   ]
  },
  {
   "cell_type": "code",
   "execution_count": 7,
   "metadata": {},
   "outputs": [],
   "source": [
    "def sigmoid(x, A, IC50, B):\n",
    "    return A / (1.0 + (x / IC50)**B)\n",
    "\n",
    "def calculate_ic50(concentrations, response):\n",
    "    # Initial guesses for A, IC50, and B\n",
    "    initial_guesses = [max(response), np.median(concentrations), 1.0]\n",
    "\n",
    "    # Fit the curve\n",
    "    popt, _ = curve_fit(sigmoid, concentrations, response, p0=initial_guesses)\n",
    "\n",
    "    # Extract the IC50 value\n",
    "    A_fit, IC50_fit, B_fit = popt\n",
    "    return IC50_fit\n",
    "\n",
    "# Example usage:\n",
    "# concentrations = np.array([...]) # your concentrations here\n",
    "# response = np.array([...]) # your response values here\n",
    "# ic50 = calculate_ic50(concentrations, response)\n",
    "# print(f\"Calculated IC50: {ic50}\")\n"
   ]
  },
  {
   "cell_type": "code",
   "execution_count": 8,
   "metadata": {},
   "outputs": [],
   "source": [
    "\n",
    "def michaelis_menten(concentration, Vmax, Km):\n",
    "    return (Vmax * concentration) / (Km + concentration)\n",
    "\n",
    "def calculate_km_vmax(concentrations, response):\n",
    "    try:\n",
    "        # Fit the Michaelis-Menten equation to the data\n",
    "        popt, _ = curve_fit(michaelis_menten, concentrations, response, maxfev=10000)\n",
    "        Vmax, Km = popt\n",
    "        return Vmax, Km\n",
    "    except Exception as e:\n",
    "        return str(e)\n",
    "\n",
    "# Example usage:\n",
    "# concentrations = np.array([...]) # your concentrations here\n",
    "# response = np.array([...]) # your response values here\n",
    "# Vmax, Km = calculate_km_vmax(concentrations, response)\n",
    "# print(f\"Calculated Vmax: {Vmax}, Km: {Km}\")\n"
   ]
  },
  {
   "cell_type": "code",
   "execution_count": 9,
   "metadata": {},
   "outputs": [
    {
     "name": "stderr",
     "output_type": "stream",
     "text": [
      "/var/folders/5v/b37q3lz15lq75f7xfjzshd900000gn/T/ipykernel_28818/1186883557.py:2: RuntimeWarning: invalid value encountered in power\n",
      "  return A / (1.0 + (x / IC50)**B)\n"
     ]
    }
   ],
   "source": [
    "# Calculate IC50 values for each compound and their corresponding pKi\n",
    "ic50_values = {}\n",
    "pki_values = {}\n",
    "for compound, response in responses.items():\n",
    "    ic50 = calculate_ic50(concentrations, response)\n",
    "    ic50_values[compound] = ic50\n",
    "    # Calculate pKi if IC50 is positive and valid\n",
    "    pki_values[compound] = -np.log10(ic50) if isinstance(ic50, float) and ic50 > 0 else \"N/A\"\n"
   ]
  },
  {
   "cell_type": "code",
   "execution_count": 10,
   "metadata": {},
   "outputs": [
    {
     "data": {
      "text/plain": [
       "({'Curcumin': 1.1527134738537792e-08,\n",
       "  'Quercetin': 1.1742193704502568e-08,\n",
       "  'Flavone': 1.1436883852653326e-08},\n",
       " {'Curcumin': 7.938278630422868,\n",
       "  'Quercetin': 7.93025075958238,\n",
       "  'Flavone': 7.94169228934959})"
      ]
     },
     "execution_count": 10,
     "metadata": {},
     "output_type": "execute_result"
    }
   ],
   "source": [
    "ic50_values, pki_values"
   ]
  },
  {
   "cell_type": "code",
   "execution_count": null,
   "metadata": {},
   "outputs": [],
   "source": []
  }
 ],
 "metadata": {
  "kernelspec": {
   "display_name": "base",
   "language": "python",
   "name": "python3"
  },
  "language_info": {
   "codemirror_mode": {
    "name": "ipython",
    "version": 3
   },
   "file_extension": ".py",
   "mimetype": "text/x-python",
   "name": "python",
   "nbconvert_exporter": "python",
   "pygments_lexer": "ipython3",
   "version": "3.9.12"
  }
 },
 "nbformat": 4,
 "nbformat_minor": 2
}
