{
 "cells": [
  {
   "cell_type": "code",
   "execution_count": 33,
   "metadata": {},
   "outputs": [],
   "source": [
    "import pandas as pd\n",
    "import numpy as np\n",
    "import matplotlib.pyplot as plt\n",
    "import seaborn as sns\n",
    "from sklearn.model_selection import train_test_split, cross_val_score, GridSearchCV, RandomizedSearchCV\n",
    "from sklearn.preprocessing import StandardScaler, OneHotEncoder\n",
    "from sklearn.compose import ColumnTransformer\n",
    "from sklearn.naive_bayes import GaussianNB\n",
    "from sklearn.neighbors import KNeighborsClassifier\n",
    "from sklearn.metrics import confusion_matrix, accuracy_score, precision_score, recall_score, f1_score, roc_curve, auc, precision_recall_curve\n",
    "from sklearn.pipeline import Pipeline\n",
    "from sklearn.linear_model import LogisticRegression"
   ]
  },
  {
   "cell_type": "code",
   "execution_count": 34,
   "metadata": {},
   "outputs": [],
   "source": [
    "df = pd.read_csv('/Users/youziya/OneDrive - York University/MBAN 6100 DATA SCIENCE I/Dataset/RAW_recipes.csv')"
   ]
  },
  {
   "cell_type": "code",
   "execution_count": 35,
   "metadata": {},
   "outputs": [
    {
     "name": "stdout",
     "output_type": "stream",
     "text": [
      "<class 'pandas.core.frame.DataFrame'>\n",
      "RangeIndex: 231637 entries, 0 to 231636\n",
      "Data columns (total 12 columns):\n",
      " #   Column          Non-Null Count   Dtype \n",
      "---  ------          --------------   ----- \n",
      " 0   name            231636 non-null  object\n",
      " 1   id              231637 non-null  int64 \n",
      " 2   minutes         231637 non-null  int64 \n",
      " 3   contributor_id  231637 non-null  int64 \n",
      " 4   submitted       231637 non-null  object\n",
      " 5   tags            231637 non-null  object\n",
      " 6   nutrition       231637 non-null  object\n",
      " 7   n_steps         231637 non-null  int64 \n",
      " 8   steps           231637 non-null  object\n",
      " 9   description     226658 non-null  object\n",
      " 10  ingredients     231637 non-null  object\n",
      " 11  n_ingredients   231637 non-null  int64 \n",
      "dtypes: int64(5), object(7)\n",
      "memory usage: 21.2+ MB\n"
     ]
    }
   ],
   "source": [
    "df.info()"
   ]
  },
  {
   "cell_type": "code",
   "execution_count": 36,
   "metadata": {},
   "outputs": [
    {
     "data": {
      "text/html": [
       "<div>\n",
       "<style scoped>\n",
       "    .dataframe tbody tr th:only-of-type {\n",
       "        vertical-align: middle;\n",
       "    }\n",
       "\n",
       "    .dataframe tbody tr th {\n",
       "        vertical-align: top;\n",
       "    }\n",
       "\n",
       "    .dataframe thead th {\n",
       "        text-align: right;\n",
       "    }\n",
       "</style>\n",
       "<table border=\"1\" class=\"dataframe\">\n",
       "  <thead>\n",
       "    <tr style=\"text-align: right;\">\n",
       "      <th></th>\n",
       "      <th>name</th>\n",
       "      <th>id</th>\n",
       "      <th>minutes</th>\n",
       "      <th>contributor_id</th>\n",
       "      <th>submitted</th>\n",
       "      <th>tags</th>\n",
       "      <th>nutrition</th>\n",
       "      <th>n_steps</th>\n",
       "      <th>steps</th>\n",
       "      <th>description</th>\n",
       "      <th>ingredients</th>\n",
       "      <th>n_ingredients</th>\n",
       "    </tr>\n",
       "  </thead>\n",
       "  <tbody>\n",
       "    <tr>\n",
       "      <th>count</th>\n",
       "      <td>231636</td>\n",
       "      <td>231637.000000</td>\n",
       "      <td>2.316370e+05</td>\n",
       "      <td>2.316370e+05</td>\n",
       "      <td>231637</td>\n",
       "      <td>231637</td>\n",
       "      <td>231637</td>\n",
       "      <td>231637.000000</td>\n",
       "      <td>231637</td>\n",
       "      <td>226658</td>\n",
       "      <td>231637</td>\n",
       "      <td>231637.000000</td>\n",
       "    </tr>\n",
       "    <tr>\n",
       "      <th>unique</th>\n",
       "      <td>230185</td>\n",
       "      <td>NaN</td>\n",
       "      <td>NaN</td>\n",
       "      <td>NaN</td>\n",
       "      <td>5090</td>\n",
       "      <td>209115</td>\n",
       "      <td>229318</td>\n",
       "      <td>NaN</td>\n",
       "      <td>231074</td>\n",
       "      <td>222668</td>\n",
       "      <td>230475</td>\n",
       "      <td>NaN</td>\n",
       "    </tr>\n",
       "    <tr>\n",
       "      <th>top</th>\n",
       "      <td>crock pot lemon garlic chicken</td>\n",
       "      <td>NaN</td>\n",
       "      <td>NaN</td>\n",
       "      <td>NaN</td>\n",
       "      <td>2000-03-06</td>\n",
       "      <td>['15-minutes-or-less', 'time-to-make', 'course...</td>\n",
       "      <td>[69.4, 0.0, 0.0, 0.0, 0.0, 0.0, 0.0]</td>\n",
       "      <td>NaN</td>\n",
       "      <td>['blend all ingredients until smooth']</td>\n",
       "      <td>yum</td>\n",
       "      <td>['eggs', 'water']</td>\n",
       "      <td>NaN</td>\n",
       "    </tr>\n",
       "    <tr>\n",
       "      <th>freq</th>\n",
       "      <td>3</td>\n",
       "      <td>NaN</td>\n",
       "      <td>NaN</td>\n",
       "      <td>NaN</td>\n",
       "      <td>470</td>\n",
       "      <td>397</td>\n",
       "      <td>36</td>\n",
       "      <td>NaN</td>\n",
       "      <td>20</td>\n",
       "      <td>153</td>\n",
       "      <td>10</td>\n",
       "      <td>NaN</td>\n",
       "    </tr>\n",
       "    <tr>\n",
       "      <th>mean</th>\n",
       "      <td>NaN</td>\n",
       "      <td>222014.708984</td>\n",
       "      <td>9.398546e+03</td>\n",
       "      <td>5.534885e+06</td>\n",
       "      <td>NaN</td>\n",
       "      <td>NaN</td>\n",
       "      <td>NaN</td>\n",
       "      <td>9.765499</td>\n",
       "      <td>NaN</td>\n",
       "      <td>NaN</td>\n",
       "      <td>NaN</td>\n",
       "      <td>9.051153</td>\n",
       "    </tr>\n",
       "    <tr>\n",
       "      <th>std</th>\n",
       "      <td>NaN</td>\n",
       "      <td>141206.635626</td>\n",
       "      <td>4.461963e+06</td>\n",
       "      <td>9.979141e+07</td>\n",
       "      <td>NaN</td>\n",
       "      <td>NaN</td>\n",
       "      <td>NaN</td>\n",
       "      <td>5.995128</td>\n",
       "      <td>NaN</td>\n",
       "      <td>NaN</td>\n",
       "      <td>NaN</td>\n",
       "      <td>3.734796</td>\n",
       "    </tr>\n",
       "    <tr>\n",
       "      <th>min</th>\n",
       "      <td>NaN</td>\n",
       "      <td>38.000000</td>\n",
       "      <td>0.000000e+00</td>\n",
       "      <td>2.700000e+01</td>\n",
       "      <td>NaN</td>\n",
       "      <td>NaN</td>\n",
       "      <td>NaN</td>\n",
       "      <td>0.000000</td>\n",
       "      <td>NaN</td>\n",
       "      <td>NaN</td>\n",
       "      <td>NaN</td>\n",
       "      <td>1.000000</td>\n",
       "    </tr>\n",
       "    <tr>\n",
       "      <th>25%</th>\n",
       "      <td>NaN</td>\n",
       "      <td>99944.000000</td>\n",
       "      <td>2.000000e+01</td>\n",
       "      <td>5.690500e+04</td>\n",
       "      <td>NaN</td>\n",
       "      <td>NaN</td>\n",
       "      <td>NaN</td>\n",
       "      <td>6.000000</td>\n",
       "      <td>NaN</td>\n",
       "      <td>NaN</td>\n",
       "      <td>NaN</td>\n",
       "      <td>6.000000</td>\n",
       "    </tr>\n",
       "    <tr>\n",
       "      <th>50%</th>\n",
       "      <td>NaN</td>\n",
       "      <td>207249.000000</td>\n",
       "      <td>4.000000e+01</td>\n",
       "      <td>1.736140e+05</td>\n",
       "      <td>NaN</td>\n",
       "      <td>NaN</td>\n",
       "      <td>NaN</td>\n",
       "      <td>9.000000</td>\n",
       "      <td>NaN</td>\n",
       "      <td>NaN</td>\n",
       "      <td>NaN</td>\n",
       "      <td>9.000000</td>\n",
       "    </tr>\n",
       "    <tr>\n",
       "      <th>75%</th>\n",
       "      <td>NaN</td>\n",
       "      <td>333816.000000</td>\n",
       "      <td>6.500000e+01</td>\n",
       "      <td>3.982750e+05</td>\n",
       "      <td>NaN</td>\n",
       "      <td>NaN</td>\n",
       "      <td>NaN</td>\n",
       "      <td>12.000000</td>\n",
       "      <td>NaN</td>\n",
       "      <td>NaN</td>\n",
       "      <td>NaN</td>\n",
       "      <td>11.000000</td>\n",
       "    </tr>\n",
       "    <tr>\n",
       "      <th>max</th>\n",
       "      <td>NaN</td>\n",
       "      <td>537716.000000</td>\n",
       "      <td>2.147484e+09</td>\n",
       "      <td>2.002290e+09</td>\n",
       "      <td>NaN</td>\n",
       "      <td>NaN</td>\n",
       "      <td>NaN</td>\n",
       "      <td>145.000000</td>\n",
       "      <td>NaN</td>\n",
       "      <td>NaN</td>\n",
       "      <td>NaN</td>\n",
       "      <td>43.000000</td>\n",
       "    </tr>\n",
       "  </tbody>\n",
       "</table>\n",
       "</div>"
      ],
      "text/plain": [
       "                                  name             id       minutes  \\\n",
       "count                           231636  231637.000000  2.316370e+05   \n",
       "unique                          230185            NaN           NaN   \n",
       "top     crock pot lemon garlic chicken            NaN           NaN   \n",
       "freq                                 3            NaN           NaN   \n",
       "mean                               NaN  222014.708984  9.398546e+03   \n",
       "std                                NaN  141206.635626  4.461963e+06   \n",
       "min                                NaN      38.000000  0.000000e+00   \n",
       "25%                                NaN   99944.000000  2.000000e+01   \n",
       "50%                                NaN  207249.000000  4.000000e+01   \n",
       "75%                                NaN  333816.000000  6.500000e+01   \n",
       "max                                NaN  537716.000000  2.147484e+09   \n",
       "\n",
       "        contributor_id   submitted  \\\n",
       "count     2.316370e+05      231637   \n",
       "unique             NaN        5090   \n",
       "top                NaN  2000-03-06   \n",
       "freq               NaN         470   \n",
       "mean      5.534885e+06         NaN   \n",
       "std       9.979141e+07         NaN   \n",
       "min       2.700000e+01         NaN   \n",
       "25%       5.690500e+04         NaN   \n",
       "50%       1.736140e+05         NaN   \n",
       "75%       3.982750e+05         NaN   \n",
       "max       2.002290e+09         NaN   \n",
       "\n",
       "                                                     tags  \\\n",
       "count                                              231637   \n",
       "unique                                             209115   \n",
       "top     ['15-minutes-or-less', 'time-to-make', 'course...   \n",
       "freq                                                  397   \n",
       "mean                                                  NaN   \n",
       "std                                                   NaN   \n",
       "min                                                   NaN   \n",
       "25%                                                   NaN   \n",
       "50%                                                   NaN   \n",
       "75%                                                   NaN   \n",
       "max                                                   NaN   \n",
       "\n",
       "                                   nutrition        n_steps  \\\n",
       "count                                 231637  231637.000000   \n",
       "unique                                229318            NaN   \n",
       "top     [69.4, 0.0, 0.0, 0.0, 0.0, 0.0, 0.0]            NaN   \n",
       "freq                                      36            NaN   \n",
       "mean                                     NaN       9.765499   \n",
       "std                                      NaN       5.995128   \n",
       "min                                      NaN       0.000000   \n",
       "25%                                      NaN       6.000000   \n",
       "50%                                      NaN       9.000000   \n",
       "75%                                      NaN      12.000000   \n",
       "max                                      NaN     145.000000   \n",
       "\n",
       "                                         steps description        ingredients  \\\n",
       "count                                   231637      226658             231637   \n",
       "unique                                  231074      222668             230475   \n",
       "top     ['blend all ingredients until smooth']         yum  ['eggs', 'water']   \n",
       "freq                                        20         153                 10   \n",
       "mean                                       NaN         NaN                NaN   \n",
       "std                                        NaN         NaN                NaN   \n",
       "min                                        NaN         NaN                NaN   \n",
       "25%                                        NaN         NaN                NaN   \n",
       "50%                                        NaN         NaN                NaN   \n",
       "75%                                        NaN         NaN                NaN   \n",
       "max                                        NaN         NaN                NaN   \n",
       "\n",
       "        n_ingredients  \n",
       "count   231637.000000  \n",
       "unique            NaN  \n",
       "top               NaN  \n",
       "freq              NaN  \n",
       "mean         9.051153  \n",
       "std          3.734796  \n",
       "min          1.000000  \n",
       "25%          6.000000  \n",
       "50%          9.000000  \n",
       "75%         11.000000  \n",
       "max         43.000000  "
      ]
     },
     "execution_count": 36,
     "metadata": {},
     "output_type": "execute_result"
    }
   ],
   "source": [
    "df.describe(include='all')"
   ]
  },
  {
   "cell_type": "code",
   "execution_count": 37,
   "metadata": {},
   "outputs": [],
   "source": [
    "# description, steps and submitted are not necessary for the analysis therefore we're dropping the description column.\n",
    "df.drop(['description', 'steps', 'submitted'], axis=1, inplace=True)"
   ]
  },
  {
   "cell_type": "code",
   "execution_count": 38,
   "metadata": {},
   "outputs": [
    {
     "data": {
      "text/html": [
       "<div>\n",
       "<style scoped>\n",
       "    .dataframe tbody tr th:only-of-type {\n",
       "        vertical-align: middle;\n",
       "    }\n",
       "\n",
       "    .dataframe tbody tr th {\n",
       "        vertical-align: top;\n",
       "    }\n",
       "\n",
       "    .dataframe thead th {\n",
       "        text-align: right;\n",
       "    }\n",
       "</style>\n",
       "<table border=\"1\" class=\"dataframe\">\n",
       "  <thead>\n",
       "    <tr style=\"text-align: right;\">\n",
       "      <th></th>\n",
       "      <th>name</th>\n",
       "      <th>id</th>\n",
       "      <th>minutes</th>\n",
       "      <th>contributor_id</th>\n",
       "      <th>tags</th>\n",
       "      <th>nutrition</th>\n",
       "      <th>n_steps</th>\n",
       "      <th>ingredients</th>\n",
       "      <th>n_ingredients</th>\n",
       "    </tr>\n",
       "  </thead>\n",
       "  <tbody>\n",
       "    <tr>\n",
       "      <th>0</th>\n",
       "      <td>arriba   baked winter squash mexican style</td>\n",
       "      <td>137739</td>\n",
       "      <td>55</td>\n",
       "      <td>47892</td>\n",
       "      <td>['60-minutes-or-less', 'time-to-make', 'course...</td>\n",
       "      <td>[51.5, 0.0, 13.0, 0.0, 2.0, 0.0, 4.0]</td>\n",
       "      <td>11</td>\n",
       "      <td>['winter squash', 'mexican seasoning', 'mixed ...</td>\n",
       "      <td>7</td>\n",
       "    </tr>\n",
       "    <tr>\n",
       "      <th>1</th>\n",
       "      <td>a bit different  breakfast pizza</td>\n",
       "      <td>31490</td>\n",
       "      <td>30</td>\n",
       "      <td>26278</td>\n",
       "      <td>['30-minutes-or-less', 'time-to-make', 'course...</td>\n",
       "      <td>[173.4, 18.0, 0.0, 17.0, 22.0, 35.0, 1.0]</td>\n",
       "      <td>9</td>\n",
       "      <td>['prepared pizza crust', 'sausage patty', 'egg...</td>\n",
       "      <td>6</td>\n",
       "    </tr>\n",
       "    <tr>\n",
       "      <th>2</th>\n",
       "      <td>all in the kitchen  chili</td>\n",
       "      <td>112140</td>\n",
       "      <td>130</td>\n",
       "      <td>196586</td>\n",
       "      <td>['time-to-make', 'course', 'preparation', 'mai...</td>\n",
       "      <td>[269.8, 22.0, 32.0, 48.0, 39.0, 27.0, 5.0]</td>\n",
       "      <td>6</td>\n",
       "      <td>['ground beef', 'yellow onions', 'diced tomato...</td>\n",
       "      <td>13</td>\n",
       "    </tr>\n",
       "    <tr>\n",
       "      <th>3</th>\n",
       "      <td>alouette  potatoes</td>\n",
       "      <td>59389</td>\n",
       "      <td>45</td>\n",
       "      <td>68585</td>\n",
       "      <td>['60-minutes-or-less', 'time-to-make', 'course...</td>\n",
       "      <td>[368.1, 17.0, 10.0, 2.0, 14.0, 8.0, 20.0]</td>\n",
       "      <td>11</td>\n",
       "      <td>['spreadable cheese with garlic and herbs', 'n...</td>\n",
       "      <td>11</td>\n",
       "    </tr>\n",
       "    <tr>\n",
       "      <th>4</th>\n",
       "      <td>amish  tomato ketchup  for canning</td>\n",
       "      <td>44061</td>\n",
       "      <td>190</td>\n",
       "      <td>41706</td>\n",
       "      <td>['weeknight', 'time-to-make', 'course', 'main-...</td>\n",
       "      <td>[352.9, 1.0, 337.0, 23.0, 3.0, 0.0, 28.0]</td>\n",
       "      <td>5</td>\n",
       "      <td>['tomato juice', 'apple cider vinegar', 'sugar...</td>\n",
       "      <td>8</td>\n",
       "    </tr>\n",
       "  </tbody>\n",
       "</table>\n",
       "</div>"
      ],
      "text/plain": [
       "                                         name      id  minutes  \\\n",
       "0  arriba   baked winter squash mexican style  137739       55   \n",
       "1            a bit different  breakfast pizza   31490       30   \n",
       "2                   all in the kitchen  chili  112140      130   \n",
       "3                          alouette  potatoes   59389       45   \n",
       "4          amish  tomato ketchup  for canning   44061      190   \n",
       "\n",
       "   contributor_id                                               tags  \\\n",
       "0           47892  ['60-minutes-or-less', 'time-to-make', 'course...   \n",
       "1           26278  ['30-minutes-or-less', 'time-to-make', 'course...   \n",
       "2          196586  ['time-to-make', 'course', 'preparation', 'mai...   \n",
       "3           68585  ['60-minutes-or-less', 'time-to-make', 'course...   \n",
       "4           41706  ['weeknight', 'time-to-make', 'course', 'main-...   \n",
       "\n",
       "                                    nutrition  n_steps  \\\n",
       "0       [51.5, 0.0, 13.0, 0.0, 2.0, 0.0, 4.0]       11   \n",
       "1   [173.4, 18.0, 0.0, 17.0, 22.0, 35.0, 1.0]        9   \n",
       "2  [269.8, 22.0, 32.0, 48.0, 39.0, 27.0, 5.0]        6   \n",
       "3   [368.1, 17.0, 10.0, 2.0, 14.0, 8.0, 20.0]       11   \n",
       "4   [352.9, 1.0, 337.0, 23.0, 3.0, 0.0, 28.0]        5   \n",
       "\n",
       "                                         ingredients  n_ingredients  \n",
       "0  ['winter squash', 'mexican seasoning', 'mixed ...              7  \n",
       "1  ['prepared pizza crust', 'sausage patty', 'egg...              6  \n",
       "2  ['ground beef', 'yellow onions', 'diced tomato...             13  \n",
       "3  ['spreadable cheese with garlic and herbs', 'n...             11  \n",
       "4  ['tomato juice', 'apple cider vinegar', 'sugar...              8  "
      ]
     },
     "execution_count": 38,
     "metadata": {},
     "output_type": "execute_result"
    }
   ],
   "source": [
    "# Checking and making sure the description, steps and submitted columns are gone\n",
    "df.head()"
   ]
  },
  {
   "cell_type": "code",
   "execution_count": 40,
   "metadata": {},
   "outputs": [
    {
     "data": {
      "text/html": [
       "<div>\n",
       "<style scoped>\n",
       "    .dataframe tbody tr th:only-of-type {\n",
       "        vertical-align: middle;\n",
       "    }\n",
       "\n",
       "    .dataframe tbody tr th {\n",
       "        vertical-align: top;\n",
       "    }\n",
       "\n",
       "    .dataframe thead th {\n",
       "        text-align: right;\n",
       "    }\n",
       "</style>\n",
       "<table border=\"1\" class=\"dataframe\">\n",
       "  <thead>\n",
       "    <tr style=\"text-align: right;\">\n",
       "      <th></th>\n",
       "      <th>name</th>\n",
       "      <th>id</th>\n",
       "      <th>minutes</th>\n",
       "      <th>contributor_id</th>\n",
       "      <th>tags</th>\n",
       "      <th>nutrition</th>\n",
       "      <th>n_steps</th>\n",
       "      <th>ingredients</th>\n",
       "      <th>n_ingredients</th>\n",
       "    </tr>\n",
       "  </thead>\n",
       "  <tbody>\n",
       "  </tbody>\n",
       "</table>\n",
       "</div>"
      ],
      "text/plain": [
       "Empty DataFrame\n",
       "Columns: [name, id, minutes, contributor_id, tags, nutrition, n_steps, ingredients, n_ingredients]\n",
       "Index: []"
      ]
     },
     "execution_count": 40,
     "metadata": {},
     "output_type": "execute_result"
    }
   ],
   "source": [
    "# check if any rows has all column data missing\n",
    "df[df['name'].isnull() & df['id'].isnull() & df['minutes'].isnull() & df['contributor_id'].isnull() & df['tags'].isnull() & df['nutrition'].isnull()& df['n_steps'].isnull()& df['ingredients'].isnull()& df['n_ingredients'].isnull()]"
   ]
  },
  {
   "cell_type": "code",
   "execution_count": 41,
   "metadata": {},
   "outputs": [
    {
     "data": {
      "text/plain": [
       "name              1\n",
       "id                0\n",
       "minutes           0\n",
       "contributor_id    0\n",
       "tags              0\n",
       "nutrition         0\n",
       "n_steps           0\n",
       "ingredients       0\n",
       "n_ingredients     0\n",
       "dtype: int64"
      ]
     },
     "execution_count": 41,
     "metadata": {},
     "output_type": "execute_result"
    }
   ],
   "source": [
    "df.isnull().sum()"
   ]
  },
  {
   "cell_type": "code",
   "execution_count": 42,
   "metadata": {},
   "outputs": [],
   "source": [
    "df2 = df.dropna()"
   ]
  },
  {
   "cell_type": "code",
   "execution_count": 44,
   "metadata": {},
   "outputs": [
    {
     "name": "stdout",
     "output_type": "stream",
     "text": [
      "<class 'pandas.core.frame.DataFrame'>\n",
      "Int64Index: 231636 entries, 0 to 231636\n",
      "Data columns (total 9 columns):\n",
      " #   Column          Non-Null Count   Dtype \n",
      "---  ------          --------------   ----- \n",
      " 0   name            231636 non-null  object\n",
      " 1   id              231636 non-null  int64 \n",
      " 2   minutes         231636 non-null  int64 \n",
      " 3   contributor_id  231636 non-null  int64 \n",
      " 4   tags            231636 non-null  object\n",
      " 5   nutrition       231636 non-null  object\n",
      " 6   n_steps         231636 non-null  int64 \n",
      " 7   ingredients     231636 non-null  object\n",
      " 8   n_ingredients   231636 non-null  int64 \n",
      "dtypes: int64(5), object(4)\n",
      "memory usage: 17.7+ MB\n"
     ]
    }
   ],
   "source": [
    "df2.info()"
   ]
  },
  {
   "cell_type": "code",
   "execution_count": 56,
   "metadata": {},
   "outputs": [
    {
     "data": {
      "text/html": [
       "<div>\n",
       "<style scoped>\n",
       "    .dataframe tbody tr th:only-of-type {\n",
       "        vertical-align: middle;\n",
       "    }\n",
       "\n",
       "    .dataframe tbody tr th {\n",
       "        vertical-align: top;\n",
       "    }\n",
       "\n",
       "    .dataframe thead th {\n",
       "        text-align: right;\n",
       "    }\n",
       "</style>\n",
       "<table border=\"1\" class=\"dataframe\">\n",
       "  <thead>\n",
       "    <tr style=\"text-align: right;\">\n",
       "      <th></th>\n",
       "      <th>name</th>\n",
       "      <th>id</th>\n",
       "      <th>minutes</th>\n",
       "      <th>contributor_id</th>\n",
       "      <th>tags</th>\n",
       "      <th>nutrition</th>\n",
       "      <th>n_steps</th>\n",
       "      <th>ingredients</th>\n",
       "      <th>n_ingredients</th>\n",
       "    </tr>\n",
       "  </thead>\n",
       "  <tbody>\n",
       "    <tr>\n",
       "      <th>count</th>\n",
       "      <td>231631</td>\n",
       "      <td>231631.000000</td>\n",
       "      <td>2.316310e+05</td>\n",
       "      <td>2.316310e+05</td>\n",
       "      <td>231631</td>\n",
       "      <td>231631</td>\n",
       "      <td>231631.000000</td>\n",
       "      <td>231631</td>\n",
       "      <td>231631.000000</td>\n",
       "    </tr>\n",
       "    <tr>\n",
       "      <th>unique</th>\n",
       "      <td>230180</td>\n",
       "      <td>NaN</td>\n",
       "      <td>NaN</td>\n",
       "      <td>NaN</td>\n",
       "      <td>209110</td>\n",
       "      <td>229312</td>\n",
       "      <td>NaN</td>\n",
       "      <td>230469</td>\n",
       "      <td>NaN</td>\n",
       "    </tr>\n",
       "    <tr>\n",
       "      <th>top</th>\n",
       "      <td>banana oatmeal chocolate chip cookies</td>\n",
       "      <td>NaN</td>\n",
       "      <td>NaN</td>\n",
       "      <td>NaN</td>\n",
       "      <td>['15-minutes-or-less', 'time-to-make', 'course...</td>\n",
       "      <td>[69.4, 0.0, 0.0, 0.0, 0.0, 0.0, 0.0]</td>\n",
       "      <td>NaN</td>\n",
       "      <td>['eggs', 'water']</td>\n",
       "      <td>NaN</td>\n",
       "    </tr>\n",
       "    <tr>\n",
       "      <th>freq</th>\n",
       "      <td>3</td>\n",
       "      <td>NaN</td>\n",
       "      <td>NaN</td>\n",
       "      <td>NaN</td>\n",
       "      <td>397</td>\n",
       "      <td>36</td>\n",
       "      <td>NaN</td>\n",
       "      <td>10</td>\n",
       "      <td>NaN</td>\n",
       "    </tr>\n",
       "    <tr>\n",
       "      <th>mean</th>\n",
       "      <td>NaN</td>\n",
       "      <td>222016.382397</td>\n",
       "      <td>9.398781e+03</td>\n",
       "      <td>5.535023e+06</td>\n",
       "      <td>NaN</td>\n",
       "      <td>NaN</td>\n",
       "      <td>9.763620</td>\n",
       "      <td>NaN</td>\n",
       "      <td>9.050861</td>\n",
       "    </tr>\n",
       "    <tr>\n",
       "      <th>std</th>\n",
       "      <td>NaN</td>\n",
       "      <td>141206.891801</td>\n",
       "      <td>4.462021e+06</td>\n",
       "      <td>9.979270e+07</td>\n",
       "      <td>NaN</td>\n",
       "      <td>NaN</td>\n",
       "      <td>5.977659</td>\n",
       "      <td>NaN</td>\n",
       "      <td>3.733909</td>\n",
       "    </tr>\n",
       "    <tr>\n",
       "      <th>min</th>\n",
       "      <td>NaN</td>\n",
       "      <td>38.000000</td>\n",
       "      <td>0.000000e+00</td>\n",
       "      <td>2.700000e+01</td>\n",
       "      <td>NaN</td>\n",
       "      <td>NaN</td>\n",
       "      <td>0.000000</td>\n",
       "      <td>NaN</td>\n",
       "      <td>1.000000</td>\n",
       "    </tr>\n",
       "    <tr>\n",
       "      <th>25%</th>\n",
       "      <td>NaN</td>\n",
       "      <td>99944.500000</td>\n",
       "      <td>2.000000e+01</td>\n",
       "      <td>5.690500e+04</td>\n",
       "      <td>NaN</td>\n",
       "      <td>NaN</td>\n",
       "      <td>6.000000</td>\n",
       "      <td>NaN</td>\n",
       "      <td>6.000000</td>\n",
       "    </tr>\n",
       "    <tr>\n",
       "      <th>50%</th>\n",
       "      <td>NaN</td>\n",
       "      <td>207254.000000</td>\n",
       "      <td>4.000000e+01</td>\n",
       "      <td>1.736140e+05</td>\n",
       "      <td>NaN</td>\n",
       "      <td>NaN</td>\n",
       "      <td>9.000000</td>\n",
       "      <td>NaN</td>\n",
       "      <td>9.000000</td>\n",
       "    </tr>\n",
       "    <tr>\n",
       "      <th>75%</th>\n",
       "      <td>NaN</td>\n",
       "      <td>333817.000000</td>\n",
       "      <td>6.500000e+01</td>\n",
       "      <td>3.982750e+05</td>\n",
       "      <td>NaN</td>\n",
       "      <td>NaN</td>\n",
       "      <td>12.000000</td>\n",
       "      <td>NaN</td>\n",
       "      <td>11.000000</td>\n",
       "    </tr>\n",
       "    <tr>\n",
       "      <th>max</th>\n",
       "      <td>NaN</td>\n",
       "      <td>537716.000000</td>\n",
       "      <td>2.147484e+09</td>\n",
       "      <td>2.002290e+09</td>\n",
       "      <td>NaN</td>\n",
       "      <td>NaN</td>\n",
       "      <td>100.000000</td>\n",
       "      <td>NaN</td>\n",
       "      <td>40.000000</td>\n",
       "    </tr>\n",
       "  </tbody>\n",
       "</table>\n",
       "</div>"
      ],
      "text/plain": [
       "                                         name             id       minutes  \\\n",
       "count                                  231631  231631.000000  2.316310e+05   \n",
       "unique                                 230180            NaN           NaN   \n",
       "top     banana oatmeal chocolate chip cookies            NaN           NaN   \n",
       "freq                                        3            NaN           NaN   \n",
       "mean                                      NaN  222016.382397  9.398781e+03   \n",
       "std                                       NaN  141206.891801  4.462021e+06   \n",
       "min                                       NaN      38.000000  0.000000e+00   \n",
       "25%                                       NaN   99944.500000  2.000000e+01   \n",
       "50%                                       NaN  207254.000000  4.000000e+01   \n",
       "75%                                       NaN  333817.000000  6.500000e+01   \n",
       "max                                       NaN  537716.000000  2.147484e+09   \n",
       "\n",
       "        contributor_id                                               tags  \\\n",
       "count     2.316310e+05                                             231631   \n",
       "unique             NaN                                             209110   \n",
       "top                NaN  ['15-minutes-or-less', 'time-to-make', 'course...   \n",
       "freq               NaN                                                397   \n",
       "mean      5.535023e+06                                                NaN   \n",
       "std       9.979270e+07                                                NaN   \n",
       "min       2.700000e+01                                                NaN   \n",
       "25%       5.690500e+04                                                NaN   \n",
       "50%       1.736140e+05                                                NaN   \n",
       "75%       3.982750e+05                                                NaN   \n",
       "max       2.002290e+09                                                NaN   \n",
       "\n",
       "                                   nutrition        n_steps  \\\n",
       "count                                 231631  231631.000000   \n",
       "unique                                229312            NaN   \n",
       "top     [69.4, 0.0, 0.0, 0.0, 0.0, 0.0, 0.0]            NaN   \n",
       "freq                                      36            NaN   \n",
       "mean                                     NaN       9.763620   \n",
       "std                                      NaN       5.977659   \n",
       "min                                      NaN       0.000000   \n",
       "25%                                      NaN       6.000000   \n",
       "50%                                      NaN       9.000000   \n",
       "75%                                      NaN      12.000000   \n",
       "max                                      NaN     100.000000   \n",
       "\n",
       "              ingredients  n_ingredients  \n",
       "count              231631  231631.000000  \n",
       "unique             230469            NaN  \n",
       "top     ['eggs', 'water']            NaN  \n",
       "freq                   10            NaN  \n",
       "mean                  NaN       9.050861  \n",
       "std                   NaN       3.733909  \n",
       "min                   NaN       1.000000  \n",
       "25%                   NaN       6.000000  \n",
       "50%                   NaN       9.000000  \n",
       "75%                   NaN      11.000000  \n",
       "max                   NaN      40.000000  "
      ]
     },
     "execution_count": 56,
     "metadata": {},
     "output_type": "execute_result"
    }
   ],
   "source": [
    "df2.describe(include='all')"
   ]
  },
  {
   "cell_type": "code",
   "execution_count": 57,
   "metadata": {},
   "outputs": [],
   "source": [
    "pd.set_option('display.float_format', '{:.2f}'.format)"
   ]
  },
  {
   "cell_type": "code",
   "execution_count": 59,
   "metadata": {},
   "outputs": [
    {
     "data": {
      "text/html": [
       "<div>\n",
       "<style scoped>\n",
       "    .dataframe tbody tr th:only-of-type {\n",
       "        vertical-align: middle;\n",
       "    }\n",
       "\n",
       "    .dataframe tbody tr th {\n",
       "        vertical-align: top;\n",
       "    }\n",
       "\n",
       "    .dataframe thead th {\n",
       "        text-align: right;\n",
       "    }\n",
       "</style>\n",
       "<table border=\"1\" class=\"dataframe\">\n",
       "  <thead>\n",
       "    <tr style=\"text-align: right;\">\n",
       "      <th></th>\n",
       "      <th>name</th>\n",
       "      <th>id</th>\n",
       "      <th>minutes</th>\n",
       "      <th>contributor_id</th>\n",
       "      <th>tags</th>\n",
       "      <th>nutrition</th>\n",
       "      <th>n_steps</th>\n",
       "      <th>ingredients</th>\n",
       "      <th>n_ingredients</th>\n",
       "    </tr>\n",
       "  </thead>\n",
       "  <tbody>\n",
       "    <tr>\n",
       "      <th>count</th>\n",
       "      <td>231631</td>\n",
       "      <td>231631.00</td>\n",
       "      <td>231631.00</td>\n",
       "      <td>231631.00</td>\n",
       "      <td>231631</td>\n",
       "      <td>231631</td>\n",
       "      <td>231631.00</td>\n",
       "      <td>231631</td>\n",
       "      <td>231631.00</td>\n",
       "    </tr>\n",
       "    <tr>\n",
       "      <th>unique</th>\n",
       "      <td>230180</td>\n",
       "      <td>NaN</td>\n",
       "      <td>NaN</td>\n",
       "      <td>NaN</td>\n",
       "      <td>209110</td>\n",
       "      <td>229312</td>\n",
       "      <td>NaN</td>\n",
       "      <td>230469</td>\n",
       "      <td>NaN</td>\n",
       "    </tr>\n",
       "    <tr>\n",
       "      <th>top</th>\n",
       "      <td>banana oatmeal chocolate chip cookies</td>\n",
       "      <td>NaN</td>\n",
       "      <td>NaN</td>\n",
       "      <td>NaN</td>\n",
       "      <td>['15-minutes-or-less', 'time-to-make', 'course...</td>\n",
       "      <td>[69.4, 0.0, 0.0, 0.0, 0.0, 0.0, 0.0]</td>\n",
       "      <td>NaN</td>\n",
       "      <td>['eggs', 'water']</td>\n",
       "      <td>NaN</td>\n",
       "    </tr>\n",
       "    <tr>\n",
       "      <th>freq</th>\n",
       "      <td>3</td>\n",
       "      <td>NaN</td>\n",
       "      <td>NaN</td>\n",
       "      <td>NaN</td>\n",
       "      <td>397</td>\n",
       "      <td>36</td>\n",
       "      <td>NaN</td>\n",
       "      <td>10</td>\n",
       "      <td>NaN</td>\n",
       "    </tr>\n",
       "    <tr>\n",
       "      <th>mean</th>\n",
       "      <td>NaN</td>\n",
       "      <td>222016.38</td>\n",
       "      <td>9398.78</td>\n",
       "      <td>5535022.90</td>\n",
       "      <td>NaN</td>\n",
       "      <td>NaN</td>\n",
       "      <td>9.76</td>\n",
       "      <td>NaN</td>\n",
       "      <td>9.05</td>\n",
       "    </tr>\n",
       "    <tr>\n",
       "      <th>std</th>\n",
       "      <td>NaN</td>\n",
       "      <td>141206.89</td>\n",
       "      <td>4462020.83</td>\n",
       "      <td>99792696.99</td>\n",
       "      <td>NaN</td>\n",
       "      <td>NaN</td>\n",
       "      <td>5.98</td>\n",
       "      <td>NaN</td>\n",
       "      <td>3.73</td>\n",
       "    </tr>\n",
       "    <tr>\n",
       "      <th>min</th>\n",
       "      <td>NaN</td>\n",
       "      <td>38.00</td>\n",
       "      <td>0.00</td>\n",
       "      <td>27.00</td>\n",
       "      <td>NaN</td>\n",
       "      <td>NaN</td>\n",
       "      <td>0.00</td>\n",
       "      <td>NaN</td>\n",
       "      <td>1.00</td>\n",
       "    </tr>\n",
       "    <tr>\n",
       "      <th>25%</th>\n",
       "      <td>NaN</td>\n",
       "      <td>99944.50</td>\n",
       "      <td>20.00</td>\n",
       "      <td>56905.00</td>\n",
       "      <td>NaN</td>\n",
       "      <td>NaN</td>\n",
       "      <td>6.00</td>\n",
       "      <td>NaN</td>\n",
       "      <td>6.00</td>\n",
       "    </tr>\n",
       "    <tr>\n",
       "      <th>50%</th>\n",
       "      <td>NaN</td>\n",
       "      <td>207254.00</td>\n",
       "      <td>40.00</td>\n",
       "      <td>173614.00</td>\n",
       "      <td>NaN</td>\n",
       "      <td>NaN</td>\n",
       "      <td>9.00</td>\n",
       "      <td>NaN</td>\n",
       "      <td>9.00</td>\n",
       "    </tr>\n",
       "    <tr>\n",
       "      <th>75%</th>\n",
       "      <td>NaN</td>\n",
       "      <td>333817.00</td>\n",
       "      <td>65.00</td>\n",
       "      <td>398275.00</td>\n",
       "      <td>NaN</td>\n",
       "      <td>NaN</td>\n",
       "      <td>12.00</td>\n",
       "      <td>NaN</td>\n",
       "      <td>11.00</td>\n",
       "    </tr>\n",
       "    <tr>\n",
       "      <th>max</th>\n",
       "      <td>NaN</td>\n",
       "      <td>537716.00</td>\n",
       "      <td>2147483647.00</td>\n",
       "      <td>2002289981.00</td>\n",
       "      <td>NaN</td>\n",
       "      <td>NaN</td>\n",
       "      <td>100.00</td>\n",
       "      <td>NaN</td>\n",
       "      <td>40.00</td>\n",
       "    </tr>\n",
       "  </tbody>\n",
       "</table>\n",
       "</div>"
      ],
      "text/plain": [
       "                                         name        id       minutes  \\\n",
       "count                                  231631 231631.00     231631.00   \n",
       "unique                                 230180       NaN           NaN   \n",
       "top     banana oatmeal chocolate chip cookies       NaN           NaN   \n",
       "freq                                        3       NaN           NaN   \n",
       "mean                                      NaN 222016.38       9398.78   \n",
       "std                                       NaN 141206.89    4462020.83   \n",
       "min                                       NaN     38.00          0.00   \n",
       "25%                                       NaN  99944.50         20.00   \n",
       "50%                                       NaN 207254.00         40.00   \n",
       "75%                                       NaN 333817.00         65.00   \n",
       "max                                       NaN 537716.00 2147483647.00   \n",
       "\n",
       "        contributor_id                                               tags  \\\n",
       "count        231631.00                                             231631   \n",
       "unique             NaN                                             209110   \n",
       "top                NaN  ['15-minutes-or-less', 'time-to-make', 'course...   \n",
       "freq               NaN                                                397   \n",
       "mean        5535022.90                                                NaN   \n",
       "std        99792696.99                                                NaN   \n",
       "min              27.00                                                NaN   \n",
       "25%           56905.00                                                NaN   \n",
       "50%          173614.00                                                NaN   \n",
       "75%          398275.00                                                NaN   \n",
       "max      2002289981.00                                                NaN   \n",
       "\n",
       "                                   nutrition   n_steps        ingredients  \\\n",
       "count                                 231631 231631.00             231631   \n",
       "unique                                229312       NaN             230469   \n",
       "top     [69.4, 0.0, 0.0, 0.0, 0.0, 0.0, 0.0]       NaN  ['eggs', 'water']   \n",
       "freq                                      36       NaN                 10   \n",
       "mean                                     NaN      9.76                NaN   \n",
       "std                                      NaN      5.98                NaN   \n",
       "min                                      NaN      0.00                NaN   \n",
       "25%                                      NaN      6.00                NaN   \n",
       "50%                                      NaN      9.00                NaN   \n",
       "75%                                      NaN     12.00                NaN   \n",
       "max                                      NaN    100.00                NaN   \n",
       "\n",
       "        n_ingredients  \n",
       "count       231631.00  \n",
       "unique            NaN  \n",
       "top               NaN  \n",
       "freq              NaN  \n",
       "mean             9.05  \n",
       "std              3.73  \n",
       "min              1.00  \n",
       "25%              6.00  \n",
       "50%              9.00  \n",
       "75%             11.00  \n",
       "max             40.00  "
      ]
     },
     "execution_count": 59,
     "metadata": {},
     "output_type": "execute_result"
    }
   ],
   "source": [
    "df2.describe(include='all')"
   ]
  },
  {
   "cell_type": "code",
   "execution_count": 61,
   "metadata": {},
   "outputs": [
    {
     "name": "stderr",
     "output_type": "stream",
     "text": [
      "/var/folders/5v/b37q3lz15lq75f7xfjzshd900000gn/T/ipykernel_46515/1365660285.py:1: FutureWarning: The pandas.np module is deprecated and will be removed from pandas in a future version. Import numpy directly instead.\n",
      "  df2['lg_minutes'] = df2['minutes'].apply(lambda x: pd.np.log(x))\n",
      "/var/folders/5v/b37q3lz15lq75f7xfjzshd900000gn/T/ipykernel_46515/1365660285.py:1: SettingWithCopyWarning: \n",
      "A value is trying to be set on a copy of a slice from a DataFrame.\n",
      "Try using .loc[row_indexer,col_indexer] = value instead\n",
      "\n",
      "See the caveats in the documentation: https://pandas.pydata.org/pandas-docs/stable/user_guide/indexing.html#returning-a-view-versus-a-copy\n",
      "  df2['lg_minutes'] = df2['minutes'].apply(lambda x: pd.np.log(x))\n"
     ]
    }
   ],
   "source": [
    "df2['lg_minutes'] = df2['minutes'].apply(lambda x: pd.np.log(x))\n"
   ]
  },
  {
   "cell_type": "code",
   "execution_count": 62,
   "metadata": {},
   "outputs": [
    {
     "data": {
      "text/plain": [
       "<AxesSubplot:ylabel='lg_minutes'>"
      ]
     },
     "execution_count": 62,
     "metadata": {},
     "output_type": "execute_result"
    },
    {
     "data": {
      "image/png": "[encoded data removed]",
      "text/plain": [
       "<Figure size 432x288 with 1 Axes>"
      ]
     },
     "metadata": {
      "needs_background": "light"
     },
     "output_type": "display_data"
    }
   ],
   "source": [
    "#Dropping outliers\n",
    "sns.boxplot(data=df2, y='lg_minutes')\n"
   ]
  },
  {
   "cell_type": "code",
   "execution_count": 76,
   "metadata": {},
   "outputs": [
    {
     "data": {
      "text/plain": [
       "Int64Index([    50,     58,    317,    929,   1864,   2838,   3002,   3058,\n",
       "              4384,   4425,\n",
       "            ...\n",
       "            216053, 217926, 219170, 219562, 220566, 221985, 223598, 227347,\n",
       "            228147, 229274],\n",
       "           dtype='int64', length=212)"
      ]
     },
     "execution_count": 76,
     "metadata": {},
     "output_type": "execute_result"
    }
   ],
   "source": [
    "drop_minutes_outliers = df2[df2['lg_minutes']>9].index\n",
    "drop_minutes_outliers"
   ]
  },
  {
   "cell_type": "code",
   "execution_count": 77,
   "metadata": {},
   "outputs": [
    {
     "name": "stderr",
     "output_type": "stream",
     "text": [
      "/var/folders/5v/b37q3lz15lq75f7xfjzshd900000gn/T/ipykernel_46515/1481075113.py:1: SettingWithCopyWarning: \n",
      "A value is trying to be set on a copy of a slice from a DataFrame\n",
      "\n",
      "See the caveats in the documentation: https://pandas.pydata.org/pandas-docs/stable/user_guide/indexing.html#returning-a-view-versus-a-copy\n",
      "  df2.drop(drop_minutes_outliers, inplace=True)\n"
     ]
    }
   ],
   "source": [
    "df2.drop(drop_minutes_outliers, inplace=True)"
   ]
  },
  {
   "cell_type": "code",
   "execution_count": 47,
   "metadata": {},
   "outputs": [
    {
     "data": {
      "text/plain": [
       "<AxesSubplot:ylabel='n_steps'>"
      ]
     },
     "execution_count": 47,
     "metadata": {},
     "output_type": "execute_result"
    },
    {
     "data": {
      "image/png": "[encoded data removed]",
      "text/plain": [
       "<Figure size 432x288 with 1 Axes>"
      ]
     },
     "metadata": {
      "needs_background": "light"
     },
     "output_type": "display_data"
    }
   ],
   "source": [
    "sns.boxplot(data=df2, y='n_steps')"
   ]
  },
  {
   "cell_type": "code",
   "execution_count": 52,
   "metadata": {},
   "outputs": [
    {
     "data": {
      "text/plain": [
       "Int64Index([1627, 51528, 51532], dtype='int64')"
      ]
     },
     "execution_count": 52,
     "metadata": {},
     "output_type": "execute_result"
    }
   ],
   "source": [
    "drop_n_steps_outliers = df2[df2['n_steps']>100].index\n",
    "drop_n_steps_outliers"
   ]
  },
  {
   "cell_type": "code",
   "execution_count": 53,
   "metadata": {},
   "outputs": [
    {
     "name": "stderr",
     "output_type": "stream",
     "text": [
      "/var/folders/5v/b37q3lz15lq75f7xfjzshd900000gn/T/ipykernel_46515/1548833707.py:1: SettingWithCopyWarning: \n",
      "A value is trying to be set on a copy of a slice from a DataFrame\n",
      "\n",
      "See the caveats in the documentation: https://pandas.pydata.org/pandas-docs/stable/user_guide/indexing.html#returning-a-view-versus-a-copy\n",
      "  df2.drop(drop_n_steps_outliers, inplace=True)\n"
     ]
    }
   ],
   "source": [
    "df2.drop(drop_n_steps_outliers, inplace=True)"
   ]
  },
  {
   "cell_type": "code",
   "execution_count": 51,
   "metadata": {},
   "outputs": [
    {
     "data": {
      "text/plain": [
       "<AxesSubplot:ylabel='n_ingredients'>"
      ]
     },
     "execution_count": 51,
     "metadata": {},
     "output_type": "execute_result"
    },
    {
     "data": {
      "image/png": "[encoded data removed]",
      "text/plain": [
       "<Figure size 432x288 with 1 Axes>"
      ]
     },
     "metadata": {
      "needs_background": "light"
     },
     "output_type": "display_data"
    }
   ],
   "source": [
    "sns.boxplot(data=df2, y='n_ingredients')"
   ]
  },
  {
   "cell_type": "code",
   "execution_count": 54,
   "metadata": {},
   "outputs": [
    {
     "data": {
      "text/plain": [
       "Int64Index([2162], dtype='int64')"
      ]
     },
     "execution_count": 54,
     "metadata": {},
     "output_type": "execute_result"
    }
   ],
   "source": [
    "drop_n_ingredients_outliers = df2[df2['n_ingredients']>40].index\n",
    "drop_n_ingredients_outliers"
   ]
  },
  {
   "cell_type": "code",
   "execution_count": 55,
   "metadata": {},
   "outputs": [
    {
     "name": "stderr",
     "output_type": "stream",
     "text": [
      "/var/folders/5v/b37q3lz15lq75f7xfjzshd900000gn/T/ipykernel_46515/1249253514.py:1: SettingWithCopyWarning: \n",
      "A value is trying to be set on a copy of a slice from a DataFrame\n",
      "\n",
      "See the caveats in the documentation: https://pandas.pydata.org/pandas-docs/stable/user_guide/indexing.html#returning-a-view-versus-a-copy\n",
      "  df2.drop(drop_n_ingredients_outliers, inplace=True)\n"
     ]
    }
   ],
   "source": [
    "df2.drop(drop_n_ingredients_outliers, inplace=True)"
   ]
  },
  {
   "cell_type": "code",
   "execution_count": 79,
   "metadata": {},
   "outputs": [
    {
     "name": "stdout",
     "output_type": "stream",
     "text": [
      "<class 'pandas.core.frame.DataFrame'>\n",
      "Int64Index: 199964 entries, 0 to 231636\n",
      "Data columns (total 10 columns):\n",
      " #   Column          Non-Null Count   Dtype  \n",
      "---  ------          --------------   -----  \n",
      " 0   name            199964 non-null  object \n",
      " 1   id              199964 non-null  int64  \n",
      " 2   minutes         199964 non-null  int64  \n",
      " 3   contributor_id  199964 non-null  int64  \n",
      " 4   tags            199964 non-null  object \n",
      " 5   nutrition       199964 non-null  object \n",
      " 6   n_steps         199964 non-null  int64  \n",
      " 7   ingredients     199964 non-null  object \n",
      " 8   n_ingredients   199964 non-null  int64  \n",
      " 9   lg_minutes      199964 non-null  float64\n",
      "dtypes: float64(1), int64(5), object(4)\n",
      "memory usage: 16.8+ MB\n"
     ]
    }
   ],
   "source": [
    "df2.info()"
   ]
  },
  {
   "cell_type": "code",
   "execution_count": null,
   "metadata": {},
   "outputs": [],
   "source": [
    "#check for duplicate rows"
   ]
  },
  {
   "cell_type": "code",
   "execution_count": null,
   "metadata": {},
   "outputs": [
    {
     "ename": "NameError",
     "evalue": "name 'df_cleaned' is not defined",
     "output_type": "error",
     "traceback": [
      "\u001b[0;31m---------------------------------------------------------------------------\u001b[0m",
      "\u001b[0;31mNameError\u001b[0m                                 Traceback (most recent call last)",
      "\u001b[1;32m/grappeefruitt/schulich_data_science/group.ipynb Cell 8\u001b[0m in \u001b[0;36m<cell line: 11>\u001b[0;34m()\u001b[0m\n\u001b[1;32m     <a href='vscode-notebook-cell://github/grappeefruitt/schulich_data_science/group.ipynb#W6sdnNjb2RlLXZmcw%3D%3D?line=9'>10</a>\u001b[0m columns_with_outliers \u001b[39m=\u001b[39m [\u001b[39m'\u001b[39m\u001b[39mminutes\u001b[39m\u001b[39m'\u001b[39m, \u001b[39m'\u001b[39m\u001b[39mcontributor_id\u001b[39m\u001b[39m'\u001b[39m, \u001b[39m'\u001b[39m\u001b[39mn_steps\u001b[39m\u001b[39m'\u001b[39m]\n\u001b[1;32m     <a href='vscode-notebook-cell://github/grappeefruitt/schulich_data_science/group.ipynb#W6sdnNjb2RlLXZmcw%3D%3D?line=10'>11</a>\u001b[0m \u001b[39mfor\u001b[39;00m column \u001b[39min\u001b[39;00m columns_with_outliers:\n\u001b[0;32m---> <a href='vscode-notebook-cell://github/grappeefruitt/schulich_data_science/group.ipynb#W6sdnNjb2RlLXZmcw%3D%3D?line=11'>12</a>\u001b[0m     df_cleaned \u001b[39m=\u001b[39m remove_outliers_iqr(column)\n",
      "\u001b[1;32m/grappeefruitt/schulich_data_science/group.ipynb Cell 8\u001b[0m in \u001b[0;36mremove_outliers_iqr\u001b[0;34m(column)\u001b[0m\n\u001b[1;32m      <a href='vscode-notebook-cell://github/grappeefruitt/schulich_data_science/group.ipynb#W6sdnNjb2RlLXZmcw%3D%3D?line=0'>1</a>\u001b[0m \u001b[39mdef\u001b[39;00m \u001b[39mremove_outliers_iqr\u001b[39m(column):\n\u001b[0;32m----> <a href='vscode-notebook-cell://github/grappeefruitt/schulich_data_science/group.ipynb#W6sdnNjb2RlLXZmcw%3D%3D?line=1'>2</a>\u001b[0m     Q1 \u001b[39m=\u001b[39m df_cleaned[column]\u001b[39m.\u001b[39mquantile(\u001b[39m0.25\u001b[39m)\n\u001b[1;32m      <a href='vscode-notebook-cell://github/grappeefruitt/schulich_data_science/group.ipynb#W6sdnNjb2RlLXZmcw%3D%3D?line=2'>3</a>\u001b[0m     Q3 \u001b[39m=\u001b[39m df_cleaned[column]\u001b[39m.\u001b[39mquantile(\u001b[39m0.75\u001b[39m)\n\u001b[1;32m      <a href='vscode-notebook-cell://github/grappeefruitt/schulich_data_science/group.ipynb#W6sdnNjb2RlLXZmcw%3D%3D?line=3'>4</a>\u001b[0m     IQR \u001b[39m=\u001b[39m Q3 \u001b[39m-\u001b[39m Q1\n",
      "\u001b[0;31mNameError\u001b[0m: name 'df_cleaned' is not defined"
     ]
    }
   ],
   "source": [
    "def remove_outliers_iqr(column):\n",
    "    Q1 = df_cleaned[column].quantile(0.25)\n",
    "    Q3 = df_cleaned[column].quantile(0.75)\n",
    "    IQR = Q3 - Q1\n",
    "    lower_bound = Q1 - 1.5 * IQR\n",
    "    upper_bound = Q3 + 1.5 * IQR\n",
    "    return df_cleaned[(df_cleaned[column] >= lower_bound) & (df_cleaned[column] <= upper_bound)]\n",
    "\n",
    "# Removing outliers from 'minutes', 'contributor_id', and 'n_steps' columns\n",
    "columns_with_outliers = ['minutes', 'contributor_id', 'n_steps']\n",
    "for column in columns_with_outliers:\n",
    "    df_cleaned = remove_outliers_iqr(column)\n"
   ]
  },
  {
   "cell_type": "code",
   "execution_count": null,
   "metadata": {},
   "outputs": [
    {
     "data": {
      "text/plain": [
       "<Figure size 864x576 with 0 Axes>"
      ]
     },
     "metadata": {},
     "output_type": "display_data"
    },
    {
     "data": {
      "image/png": "[encoded data removed]",
      "text/plain": [
       "<Figure size 432x288 with 6 Axes>"
      ]
     },
     "metadata": {
      "needs_background": "light"
     },
     "output_type": "display_data"
    },
    {
     "data": {
      "image/png": "[encoded data removed]",
      "text/plain": [
       "<Figure size 864x576 with 1 Axes>"
      ]
     },
     "metadata": {
      "needs_background": "light"
     },
     "output_type": "display_data"
    },
    {
     "name": "stdout",
     "output_type": "stream",
     "text": [
      "Descriptive Statistics:\n",
      "                  id        minutes  contributor_id        n_steps  \\\n",
      "count  186000.000000  186000.000000   186000.000000  186000.000000   \n",
      "mean   206101.296505      38.837231   224025.693731       8.846866   \n",
      "std    133192.765778      26.653743   214950.857448       4.400160   \n",
      "min        40.000000       0.000000       27.000000       0.000000   \n",
      "25%     93121.750000      20.000000    52377.000000       6.000000   \n",
      "50%    190510.000000      35.000000   156691.000000       8.000000   \n",
      "75%    304530.000000      55.000000   333017.000000      12.000000   \n",
      "max    537459.000000     132.000000   919690.000000      21.000000   \n",
      "\n",
      "       n_ingredients  \n",
      "count  186000.000000  \n",
      "mean        8.780527  \n",
      "std         3.529384  \n",
      "min         1.000000  \n",
      "25%         6.000000  \n",
      "50%         8.000000  \n",
      "75%        11.000000  \n",
      "max        43.000000  \n",
      "\n",
      "Correlation Matrix:\n",
      "                      id   minutes  contributor_id   n_steps  n_ingredients\n",
      "id              1.000000 -0.038564        0.600467  0.040030       0.029383\n",
      "minutes        -0.038564  1.000000       -0.028001  0.372214       0.329603\n",
      "contributor_id  0.600467 -0.028001        1.000000 -0.001338      -0.001472\n",
      "n_steps         0.040030  0.372214       -0.001338  1.000000       0.425559\n",
      "n_ingredients   0.029383  0.329603       -0.001472  0.425559       1.000000\n",
      "\n",
      "Pearson's correlation coefficient between 'minutes' and 'n_steps': 0.37221422646708346\n"
     ]
    }
   ],
   "source": [
    "import pandas as pd\n",
    "import numpy as np\n",
    "import seaborn as sns\n",
    "import matplotlib.pyplot as plt\n",
    "\n",
    "# Assuming 'df_cleaned' is the cleaned DataFrame containing numerical columns\n",
    "\n",
    "# 1. Descriptive Statistics\n",
    "descriptive_stats = df_cleaned.describe()\n",
    "\n",
    "# 2. Visualizations\n",
    "# Histograms for numerical columns\n",
    "plt.figure(figsize=(12, 8))\n",
    "df_cleaned.hist(bins=20, color='skyblue')\n",
    "plt.tight_layout()\n",
    "plt.show()\n",
    "\n",
    "# Box plots for numerical columns\n",
    "plt.figure(figsize=(12, 8))\n",
    "sns.boxplot(data=df_cleaned, orient='h', palette='Set3')\n",
    "plt.tight_layout()\n",
    "plt.show()\n",
    "\n",
    "# 3. Correlation by calculating the correlation coefficient\n",
    "correlation_matrix = df_cleaned.corr()\n",
    "\n",
    "# 4. Pearson's correlation coefficient for specific variables\n",
    "# For example, if you want to calculate the Pearson's correlation between 'minutes' and 'n_steps':\n",
    "variable1 = 'minutes'\n",
    "variable2 = 'n_steps'\n",
    "pearsons_corr = df_cleaned[variable1].corr(df_cleaned[variable2])\n",
    "\n",
    "# Display the results\n",
    "print(\"Descriptive Statistics:\")\n",
    "print(descriptive_stats)\n",
    "print(\"\\nCorrelation Matrix:\")\n",
    "print(correlation_matrix)\n",
    "print(f\"\\nPearson's correlation coefficient between '{variable1}' and '{variable2}': {pearsons_corr}\")\n"
   ]
  },
  {
   "cell_type": "code",
   "execution_count": null,
   "metadata": {},
   "outputs": [
    {
     "ename": "TypeError",
     "evalue": "ufunc 'isfinite' not supported for the input types, and the inputs could not be safely coerced to any supported types according to the casting rule ''safe''",
     "output_type": "error",
     "traceback": [
      "\u001b[0;31m---------------------------------------------------------------------------\u001b[0m",
      "\u001b[0;31mTypeError\u001b[0m                                 Traceback (most recent call last)",
      "\u001b[1;32m/grappeefruitt/schulich_data_science/group.ipynb Cell 8\u001b[0m in \u001b[0;36m<cell line: 11>\u001b[0;34m()\u001b[0m\n\u001b[1;32m      <a href='vscode-notebook-cell://github/grappeefruitt/schulich_data_science/group.ipynb#X12sdnNjb2RlLXZmcw%3D%3D?line=7'>8</a>\u001b[0m     \u001b[39mreturn\u001b[39;00m vif_data\n\u001b[1;32m     <a href='vscode-notebook-cell://github/grappeefruitt/schulich_data_science/group.ipynb#X12sdnNjb2RlLXZmcw%3D%3D?line=9'>10</a>\u001b[0m \u001b[39m# Calculate VIF scores\u001b[39;00m\n\u001b[0;32m---> <a href='vscode-notebook-cell://github/grappeefruitt/schulich_data_science/group.ipynb#X12sdnNjb2RlLXZmcw%3D%3D?line=10'>11</a>\u001b[0m vif_scores \u001b[39m=\u001b[39m calculate_vif(df_cleaned)\n\u001b[1;32m     <a href='vscode-notebook-cell://github/grappeefruitt/schulich_data_science/group.ipynb#X12sdnNjb2RlLXZmcw%3D%3D?line=12'>13</a>\u001b[0m \u001b[39m# Display VIF scores\u001b[39;00m\n\u001b[1;32m     <a href='vscode-notebook-cell://github/grappeefruitt/schulich_data_science/group.ipynb#X12sdnNjb2RlLXZmcw%3D%3D?line=13'>14</a>\u001b[0m \u001b[39mprint\u001b[39m(\u001b[39m\"\u001b[39m\u001b[39mVariance Inflation Factor (VIF) Scores:\u001b[39m\u001b[39m\"\u001b[39m)\n",
      "\u001b[1;32m/grappeefruitt/schulich_data_science/group.ipynb Cell 8\u001b[0m in \u001b[0;36mcalculate_vif\u001b[0;34m(df)\u001b[0m\n\u001b[1;32m      <a href='vscode-notebook-cell://github/grappeefruitt/schulich_data_science/group.ipynb#X12sdnNjb2RlLXZmcw%3D%3D?line=4'>5</a>\u001b[0m vif_data \u001b[39m=\u001b[39m pd\u001b[39m.\u001b[39mDataFrame()\n\u001b[1;32m      <a href='vscode-notebook-cell://github/grappeefruitt/schulich_data_science/group.ipynb#X12sdnNjb2RlLXZmcw%3D%3D?line=5'>6</a>\u001b[0m vif_data[\u001b[39m\"\u001b[39m\u001b[39mFeature\u001b[39m\u001b[39m\"\u001b[39m] \u001b[39m=\u001b[39m df\u001b[39m.\u001b[39mcolumns\n\u001b[0;32m----> <a href='vscode-notebook-cell://github/grappeefruitt/schulich_data_science/group.ipynb#X12sdnNjb2RlLXZmcw%3D%3D?line=6'>7</a>\u001b[0m vif_data[\u001b[39m\"\u001b[39m\u001b[39mVIF\u001b[39m\u001b[39m\"\u001b[39m] \u001b[39m=\u001b[39m [variance_inflation_factor(df\u001b[39m.\u001b[39mvalues, i) \u001b[39mfor\u001b[39;00m i \u001b[39min\u001b[39;00m \u001b[39mrange\u001b[39m(df\u001b[39m.\u001b[39mshape[\u001b[39m1\u001b[39m])]\n\u001b[1;32m      <a href='vscode-notebook-cell://github/grappeefruitt/schulich_data_science/group.ipynb#X12sdnNjb2RlLXZmcw%3D%3D?line=7'>8</a>\u001b[0m \u001b[39mreturn\u001b[39;00m vif_data\n",
      "\u001b[1;32m/grappeefruitt/schulich_data_science/group.ipynb Cell 8\u001b[0m in \u001b[0;36m<listcomp>\u001b[0;34m(.0)\u001b[0m\n\u001b[1;32m      <a href='vscode-notebook-cell://github/grappeefruitt/schulich_data_science/group.ipynb#X12sdnNjb2RlLXZmcw%3D%3D?line=4'>5</a>\u001b[0m vif_data \u001b[39m=\u001b[39m pd\u001b[39m.\u001b[39mDataFrame()\n\u001b[1;32m      <a href='vscode-notebook-cell://github/grappeefruitt/schulich_data_science/group.ipynb#X12sdnNjb2RlLXZmcw%3D%3D?line=5'>6</a>\u001b[0m vif_data[\u001b[39m\"\u001b[39m\u001b[39mFeature\u001b[39m\u001b[39m\"\u001b[39m] \u001b[39m=\u001b[39m df\u001b[39m.\u001b[39mcolumns\n\u001b[0;32m----> <a href='vscode-notebook-cell://github/grappeefruitt/schulich_data_science/group.ipynb#X12sdnNjb2RlLXZmcw%3D%3D?line=6'>7</a>\u001b[0m vif_data[\u001b[39m\"\u001b[39m\u001b[39mVIF\u001b[39m\u001b[39m\"\u001b[39m] \u001b[39m=\u001b[39m [variance_inflation_factor(df\u001b[39m.\u001b[39;49mvalues, i) \u001b[39mfor\u001b[39;00m i \u001b[39min\u001b[39;00m \u001b[39mrange\u001b[39m(df\u001b[39m.\u001b[39mshape[\u001b[39m1\u001b[39m])]\n\u001b[1;32m      <a href='vscode-notebook-cell://github/grappeefruitt/schulich_data_science/group.ipynb#X12sdnNjb2RlLXZmcw%3D%3D?line=7'>8</a>\u001b[0m \u001b[39mreturn\u001b[39;00m vif_data\n",
      "File \u001b[0;32m/opt/anaconda3/lib/python3.9/site-packages/statsmodels/stats/outliers_influence.py:194\u001b[0m, in \u001b[0;36mvariance_inflation_factor\u001b[0;34m(exog, exog_idx)\u001b[0m\n\u001b[1;32m    192\u001b[0m mask \u001b[39m=\u001b[39m np\u001b[39m.\u001b[39marange(k_vars) \u001b[39m!=\u001b[39m exog_idx\n\u001b[1;32m    193\u001b[0m x_noti \u001b[39m=\u001b[39m exog[:, mask]\n\u001b[0;32m--> 194\u001b[0m r_squared_i \u001b[39m=\u001b[39m OLS(x_i, x_noti)\u001b[39m.\u001b[39mfit()\u001b[39m.\u001b[39mrsquared\n\u001b[1;32m    195\u001b[0m vif \u001b[39m=\u001b[39m \u001b[39m1.\u001b[39m \u001b[39m/\u001b[39m (\u001b[39m1.\u001b[39m \u001b[39m-\u001b[39m r_squared_i)\n\u001b[1;32m    196\u001b[0m \u001b[39mreturn\u001b[39;00m vif\n",
      "File \u001b[0;32m/opt/anaconda3/lib/python3.9/site-packages/statsmodels/regression/linear_model.py:890\u001b[0m, in \u001b[0;36mOLS.__init__\u001b[0;34m(self, endog, exog, missing, hasconst, **kwargs)\u001b[0m\n\u001b[1;32m    887\u001b[0m     msg \u001b[39m=\u001b[39m (\u001b[39m\"\u001b[39m\u001b[39mWeights are not supported in OLS and will be ignored\u001b[39m\u001b[39m\"\u001b[39m\n\u001b[1;32m    888\u001b[0m            \u001b[39m\"\u001b[39m\u001b[39mAn exception will be raised in the next version.\u001b[39m\u001b[39m\"\u001b[39m)\n\u001b[1;32m    889\u001b[0m     warnings\u001b[39m.\u001b[39mwarn(msg, ValueWarning)\n\u001b[0;32m--> 890\u001b[0m \u001b[39msuper\u001b[39;49m(OLS, \u001b[39mself\u001b[39;49m)\u001b[39m.\u001b[39;49m\u001b[39m__init__\u001b[39;49m(endog, exog, missing\u001b[39m=\u001b[39;49mmissing,\n\u001b[1;32m    891\u001b[0m                           hasconst\u001b[39m=\u001b[39;49mhasconst, \u001b[39m*\u001b[39;49m\u001b[39m*\u001b[39;49mkwargs)\n\u001b[1;32m    892\u001b[0m \u001b[39mif\u001b[39;00m \u001b[39m\"\u001b[39m\u001b[39mweights\u001b[39m\u001b[39m\"\u001b[39m \u001b[39min\u001b[39;00m \u001b[39mself\u001b[39m\u001b[39m.\u001b[39m_init_keys:\n\u001b[1;32m    893\u001b[0m     \u001b[39mself\u001b[39m\u001b[39m.\u001b[39m_init_keys\u001b[39m.\u001b[39mremove(\u001b[39m\"\u001b[39m\u001b[39mweights\u001b[39m\u001b[39m\"\u001b[39m)\n",
      "File \u001b[0;32m/opt/anaconda3/lib/python3.9/site-packages/statsmodels/regression/linear_model.py:717\u001b[0m, in \u001b[0;36mWLS.__init__\u001b[0;34m(self, endog, exog, weights, missing, hasconst, **kwargs)\u001b[0m\n\u001b[1;32m    715\u001b[0m \u001b[39melse\u001b[39;00m:\n\u001b[1;32m    716\u001b[0m     weights \u001b[39m=\u001b[39m weights\u001b[39m.\u001b[39msqueeze()\n\u001b[0;32m--> 717\u001b[0m \u001b[39msuper\u001b[39;49m(WLS, \u001b[39mself\u001b[39;49m)\u001b[39m.\u001b[39;49m\u001b[39m__init__\u001b[39;49m(endog, exog, missing\u001b[39m=\u001b[39;49mmissing,\n\u001b[1;32m    718\u001b[0m                           weights\u001b[39m=\u001b[39;49mweights, hasconst\u001b[39m=\u001b[39;49mhasconst, \u001b[39m*\u001b[39;49m\u001b[39m*\u001b[39;49mkwargs)\n\u001b[1;32m    719\u001b[0m nobs \u001b[39m=\u001b[39m \u001b[39mself\u001b[39m\u001b[39m.\u001b[39mexog\u001b[39m.\u001b[39mshape[\u001b[39m0\u001b[39m]\n\u001b[1;32m    720\u001b[0m weights \u001b[39m=\u001b[39m \u001b[39mself\u001b[39m\u001b[39m.\u001b[39mweights\n",
      "File \u001b[0;32m/opt/anaconda3/lib/python3.9/site-packages/statsmodels/regression/linear_model.py:191\u001b[0m, in \u001b[0;36mRegressionModel.__init__\u001b[0;34m(self, endog, exog, **kwargs)\u001b[0m\n\u001b[1;32m    190\u001b[0m \u001b[39mdef\u001b[39;00m \u001b[39m__init__\u001b[39m(\u001b[39mself\u001b[39m, endog, exog, \u001b[39m*\u001b[39m\u001b[39m*\u001b[39mkwargs):\n\u001b[0;32m--> 191\u001b[0m     \u001b[39msuper\u001b[39;49m(RegressionModel, \u001b[39mself\u001b[39;49m)\u001b[39m.\u001b[39;49m\u001b[39m__init__\u001b[39;49m(endog, exog, \u001b[39m*\u001b[39;49m\u001b[39m*\u001b[39;49mkwargs)\n\u001b[1;32m    192\u001b[0m     \u001b[39mself\u001b[39m\u001b[39m.\u001b[39m_data_attr\u001b[39m.\u001b[39mextend([\u001b[39m'\u001b[39m\u001b[39mpinv_wexog\u001b[39m\u001b[39m'\u001b[39m, \u001b[39m'\u001b[39m\u001b[39mwendog\u001b[39m\u001b[39m'\u001b[39m, \u001b[39m'\u001b[39m\u001b[39mwexog\u001b[39m\u001b[39m'\u001b[39m, \u001b[39m'\u001b[39m\u001b[39mweights\u001b[39m\u001b[39m'\u001b[39m])\n",
      "File \u001b[0;32m/opt/anaconda3/lib/python3.9/site-packages/statsmodels/base/model.py:267\u001b[0m, in \u001b[0;36mLikelihoodModel.__init__\u001b[0;34m(self, endog, exog, **kwargs)\u001b[0m\n\u001b[1;32m    266\u001b[0m \u001b[39mdef\u001b[39;00m \u001b[39m__init__\u001b[39m(\u001b[39mself\u001b[39m, endog, exog\u001b[39m=\u001b[39m\u001b[39mNone\u001b[39;00m, \u001b[39m*\u001b[39m\u001b[39m*\u001b[39mkwargs):\n\u001b[0;32m--> 267\u001b[0m     \u001b[39msuper\u001b[39;49m()\u001b[39m.\u001b[39;49m\u001b[39m__init__\u001b[39;49m(endog, exog, \u001b[39m*\u001b[39;49m\u001b[39m*\u001b[39;49mkwargs)\n\u001b[1;32m    268\u001b[0m     \u001b[39mself\u001b[39m\u001b[39m.\u001b[39minitialize()\n",
      "File \u001b[0;32m/opt/anaconda3/lib/python3.9/site-packages/statsmodels/base/model.py:92\u001b[0m, in \u001b[0;36mModel.__init__\u001b[0;34m(self, endog, exog, **kwargs)\u001b[0m\n\u001b[1;32m     90\u001b[0m missing \u001b[39m=\u001b[39m kwargs\u001b[39m.\u001b[39mpop(\u001b[39m'\u001b[39m\u001b[39mmissing\u001b[39m\u001b[39m'\u001b[39m, \u001b[39m'\u001b[39m\u001b[39mnone\u001b[39m\u001b[39m'\u001b[39m)\n\u001b[1;32m     91\u001b[0m hasconst \u001b[39m=\u001b[39m kwargs\u001b[39m.\u001b[39mpop(\u001b[39m'\u001b[39m\u001b[39mhasconst\u001b[39m\u001b[39m'\u001b[39m, \u001b[39mNone\u001b[39;00m)\n\u001b[0;32m---> 92\u001b[0m \u001b[39mself\u001b[39m\u001b[39m.\u001b[39mdata \u001b[39m=\u001b[39m \u001b[39mself\u001b[39;49m\u001b[39m.\u001b[39;49m_handle_data(endog, exog, missing, hasconst,\n\u001b[1;32m     93\u001b[0m                               \u001b[39m*\u001b[39;49m\u001b[39m*\u001b[39;49mkwargs)\n\u001b[1;32m     94\u001b[0m \u001b[39mself\u001b[39m\u001b[39m.\u001b[39mk_constant \u001b[39m=\u001b[39m \u001b[39mself\u001b[39m\u001b[39m.\u001b[39mdata\u001b[39m.\u001b[39mk_constant\n\u001b[1;32m     95\u001b[0m \u001b[39mself\u001b[39m\u001b[39m.\u001b[39mexog \u001b[39m=\u001b[39m \u001b[39mself\u001b[39m\u001b[39m.\u001b[39mdata\u001b[39m.\u001b[39mexog\n",
      "File \u001b[0;32m/opt/anaconda3/lib/python3.9/site-packages/statsmodels/base/model.py:132\u001b[0m, in \u001b[0;36mModel._handle_data\u001b[0;34m(self, endog, exog, missing, hasconst, **kwargs)\u001b[0m\n\u001b[1;32m    131\u001b[0m \u001b[39mdef\u001b[39;00m \u001b[39m_handle_data\u001b[39m(\u001b[39mself\u001b[39m, endog, exog, missing, hasconst, \u001b[39m*\u001b[39m\u001b[39m*\u001b[39mkwargs):\n\u001b[0;32m--> 132\u001b[0m     data \u001b[39m=\u001b[39m handle_data(endog, exog, missing, hasconst, \u001b[39m*\u001b[39;49m\u001b[39m*\u001b[39;49mkwargs)\n\u001b[1;32m    133\u001b[0m     \u001b[39m# kwargs arrays could have changed, easier to just attach here\u001b[39;00m\n\u001b[1;32m    134\u001b[0m     \u001b[39mfor\u001b[39;00m key \u001b[39min\u001b[39;00m kwargs:\n",
      "File \u001b[0;32m/opt/anaconda3/lib/python3.9/site-packages/statsmodels/base/data.py:673\u001b[0m, in \u001b[0;36mhandle_data\u001b[0;34m(endog, exog, missing, hasconst, **kwargs)\u001b[0m\n\u001b[1;32m    670\u001b[0m     exog \u001b[39m=\u001b[39m np\u001b[39m.\u001b[39masarray(exog)\n\u001b[1;32m    672\u001b[0m klass \u001b[39m=\u001b[39m handle_data_class_factory(endog, exog)\n\u001b[0;32m--> 673\u001b[0m \u001b[39mreturn\u001b[39;00m klass(endog, exog\u001b[39m=\u001b[39;49mexog, missing\u001b[39m=\u001b[39;49mmissing, hasconst\u001b[39m=\u001b[39;49mhasconst,\n\u001b[1;32m    674\u001b[0m              \u001b[39m*\u001b[39;49m\u001b[39m*\u001b[39;49mkwargs)\n",
      "File \u001b[0;32m/opt/anaconda3/lib/python3.9/site-packages/statsmodels/base/data.py:86\u001b[0m, in \u001b[0;36mModelData.__init__\u001b[0;34m(self, endog, exog, missing, hasconst, **kwargs)\u001b[0m\n\u001b[1;32m     84\u001b[0m \u001b[39mself\u001b[39m\u001b[39m.\u001b[39mconst_idx \u001b[39m=\u001b[39m \u001b[39mNone\u001b[39;00m\n\u001b[1;32m     85\u001b[0m \u001b[39mself\u001b[39m\u001b[39m.\u001b[39mk_constant \u001b[39m=\u001b[39m \u001b[39m0\u001b[39m\n\u001b[0;32m---> 86\u001b[0m \u001b[39mself\u001b[39;49m\u001b[39m.\u001b[39;49m_handle_constant(hasconst)\n\u001b[1;32m     87\u001b[0m \u001b[39mself\u001b[39m\u001b[39m.\u001b[39m_check_integrity()\n\u001b[1;32m     88\u001b[0m \u001b[39mself\u001b[39m\u001b[39m.\u001b[39m_cache \u001b[39m=\u001b[39m {}\n",
      "File \u001b[0;32m/opt/anaconda3/lib/python3.9/site-packages/statsmodels/base/data.py:131\u001b[0m, in \u001b[0;36mModelData._handle_constant\u001b[0;34m(self, hasconst)\u001b[0m\n\u001b[1;32m    129\u001b[0m check_implicit \u001b[39m=\u001b[39m \u001b[39mFalse\u001b[39;00m\n\u001b[1;32m    130\u001b[0m exog_max \u001b[39m=\u001b[39m np\u001b[39m.\u001b[39mmax(\u001b[39mself\u001b[39m\u001b[39m.\u001b[39mexog, axis\u001b[39m=\u001b[39m\u001b[39m0\u001b[39m)\n\u001b[0;32m--> 131\u001b[0m \u001b[39mif\u001b[39;00m \u001b[39mnot\u001b[39;00m np\u001b[39m.\u001b[39;49misfinite(exog_max)\u001b[39m.\u001b[39mall():\n\u001b[1;32m    132\u001b[0m     \u001b[39mraise\u001b[39;00m MissingDataError(\u001b[39m'\u001b[39m\u001b[39mexog contains inf or nans\u001b[39m\u001b[39m'\u001b[39m)\n\u001b[1;32m    133\u001b[0m exog_min \u001b[39m=\u001b[39m np\u001b[39m.\u001b[39mmin(\u001b[39mself\u001b[39m\u001b[39m.\u001b[39mexog, axis\u001b[39m=\u001b[39m\u001b[39m0\u001b[39m)\n",
      "\u001b[0;31mTypeError\u001b[0m: ufunc 'isfinite' not supported for the input types, and the inputs could not be safely coerced to any supported types according to the casting rule ''safe''"
     ]
    }
   ],
   "source": [
    "# Assuming 'df_cleaned' is the cleaned DataFrame containing numerical columns\n",
    "\n",
    "# Function to calculate VIF scores\n",
    "def calculate_vif(df):\n",
    "    vif_data = pd.DataFrame()\n",
    "    vif_data[\"Feature\"] = df.columns\n",
    "    vif_data[\"VIF\"] = [variance_inflation_factor(df.values, i) for i in range(df.shape[1])]\n",
    "    return vif_data\n",
    "\n",
    "# Calculate VIF scores\n",
    "vif_scores = calculate_vif(df_cleaned)\n",
    "\n",
    "# Display VIF scores\n",
    "print(\"Variance Inflation Factor (VIF) Scores:\")\n",
    "print(vif_scores)\n"
   ]
  },
  {
   "cell_type": "code",
   "execution_count": null,
   "metadata": {},
   "outputs": [
    {
     "name": "stdout",
     "output_type": "stream",
     "text": [
      "Pearson's correlation coefficient between 'minutes' and 'n_steps': 0.3722142264670832\n",
      "P-value: 0.0\n"
     ]
    }
   ],
   "source": [
    "import pandas as pd\n",
    "import numpy as np\n",
    "from scipy.stats import pearsonr\n",
    "\n",
    "# Assuming 'df_cleaned' is the cleaned DataFrame containing numerical columns\n",
    "\n",
    "# For example, if you want to calculate the correlation and p-value between 'variable1' and 'variable2':\n",
    "variable1 = 'minutes'\n",
    "variable2 = 'n_steps'\n",
    "\n",
    "# Calculate Pearson correlation coefficient and p-value\n",
    "correlation_coef, p_value = pearsonr(df_cleaned[variable1], df_cleaned[variable2])\n",
    "\n",
    "# Display the results\n",
    "print(f\"Pearson's correlation coefficient between '{variable1}' and '{variable2}': {correlation_coef}\")\n",
    "print(f\"P-value: {p_value}\")\n"
   ]
  },
  {
   "cell_type": "code",
   "execution_count": null,
   "metadata": {},
   "outputs": [],
   "source": []
  }
 ],
 "metadata": {
  "kernelspec": {
   "display_name": "base",
   "language": "python",
   "name": "python3"
  },
  "language_info": {
   "codemirror_mode": {
    "name": "ipython",
    "version": 3
   },
   "file_extension": ".py",
   "mimetype": "text/x-python",
   "name": "python",
   "nbconvert_exporter": "python",
   "pygments_lexer": "ipython3",
   "version": "3.9.12"
  },
  "orig_nbformat": 4
 },
 "nbformat": 4,
 "nbformat_minor": 2
}
